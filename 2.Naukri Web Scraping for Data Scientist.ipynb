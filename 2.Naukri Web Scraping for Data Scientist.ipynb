{
 "cells": [
  {
   "cell_type": "code",
   "execution_count": 1,
   "metadata": {},
   "outputs": [],
   "source": [
    "#importing required libraries.\n",
    "import pandas as pd\n",
    "import selenium\n",
    "from selenium import webdriver"
   ]
  },
  {
   "cell_type": "code",
   "execution_count": 2,
   "metadata": {},
   "outputs": [],
   "source": [
    "#connecting the web driver.\n",
    "driver = webdriver.Firefox(executable_path=r'C:\\Program Files (x86)\\geckodriver-v0.29.0-win64\\geckodriver.exe')"
   ]
  },
  {
   "cell_type": "code",
   "execution_count": 3,
   "metadata": {},
   "outputs": [],
   "source": [
    "driver.get('https://www.naukri.com/')"
   ]
  },
  {
   "cell_type": "code",
   "execution_count": 4,
   "metadata": {},
   "outputs": [],
   "source": [
    "#finding and filling the title and location of the required job using automation.\n",
    "search_job = driver.find_element_by_id('qsb-keyword-sugg')\n",
    "search_job.send_keys('Data Scientist')\n",
    "search_loc = driver.find_element_by_xpath('//input[@id=\"qsb-location-sugg\"]')\n",
    "search_loc.send_keys('Bangalore')"
   ]
  },
  {
   "cell_type": "code",
   "execution_count": 5,
   "metadata": {},
   "outputs": [],
   "source": [
    "#finding and clicking the search button using automation.\n",
    "search_btn = driver.find_element_by_xpath(\"//div[@class='search-btn']\")\n",
    "search_btn.click()"
   ]
  },
  {
   "cell_type": "code",
   "execution_count": 6,
   "metadata": {},
   "outputs": [],
   "source": [
    "#creating the list.\n",
    "Job_title=[]\n",
    "Job_location=[]\n",
    "Comapany_name=[]\n",
    "Job_discription=[]"
   ]
  },
  {
   "cell_type": "code",
   "execution_count": 7,
   "metadata": {
    "scrolled": true
   },
   "outputs": [
    {
     "data": {
      "text/plain": [
       "[<selenium.webdriver.firefox.webelement.FirefoxWebElement (session=\"dc621fa9-21fe-4829-b42f-c55f3c1bfbf5\", element=\"b71114a1-909e-4327-b0e4-0eb87e6b0d36\")>,\n",
       " <selenium.webdriver.firefox.webelement.FirefoxWebElement (session=\"dc621fa9-21fe-4829-b42f-c55f3c1bfbf5\", element=\"5f11b890-f5aa-4726-b788-a720fc7116d3\")>,\n",
       " <selenium.webdriver.firefox.webelement.FirefoxWebElement (session=\"dc621fa9-21fe-4829-b42f-c55f3c1bfbf5\", element=\"41ced38a-34c7-4b24-bb96-67ffc02e6af0\")>,\n",
       " <selenium.webdriver.firefox.webelement.FirefoxWebElement (session=\"dc621fa9-21fe-4829-b42f-c55f3c1bfbf5\", element=\"a1c7f27a-9ff4-49d1-8e33-b591ddff2710\")>,\n",
       " <selenium.webdriver.firefox.webelement.FirefoxWebElement (session=\"dc621fa9-21fe-4829-b42f-c55f3c1bfbf5\", element=\"e943ead3-05cd-408a-98f7-9bda8a2b5112\")>,\n",
       " <selenium.webdriver.firefox.webelement.FirefoxWebElement (session=\"dc621fa9-21fe-4829-b42f-c55f3c1bfbf5\", element=\"255aeed2-6c48-4a43-9ae1-a91df140cf6b\")>,\n",
       " <selenium.webdriver.firefox.webelement.FirefoxWebElement (session=\"dc621fa9-21fe-4829-b42f-c55f3c1bfbf5\", element=\"82f7f4e3-dd72-40f9-9223-5ff85c03d969\")>,\n",
       " <selenium.webdriver.firefox.webelement.FirefoxWebElement (session=\"dc621fa9-21fe-4829-b42f-c55f3c1bfbf5\", element=\"7e85d578-f938-4bd3-b910-d305c5cfd46f\")>,\n",
       " <selenium.webdriver.firefox.webelement.FirefoxWebElement (session=\"dc621fa9-21fe-4829-b42f-c55f3c1bfbf5\", element=\"2b3dcb30-c816-468c-8ea9-86ce32d02b5a\")>,\n",
       " <selenium.webdriver.firefox.webelement.FirefoxWebElement (session=\"dc621fa9-21fe-4829-b42f-c55f3c1bfbf5\", element=\"33501c5a-c513-4047-8fce-3588aeebde61\")>,\n",
       " <selenium.webdriver.firefox.webelement.FirefoxWebElement (session=\"dc621fa9-21fe-4829-b42f-c55f3c1bfbf5\", element=\"dec21e88-3662-411b-9ff4-0a83c95c7f17\")>,\n",
       " <selenium.webdriver.firefox.webelement.FirefoxWebElement (session=\"dc621fa9-21fe-4829-b42f-c55f3c1bfbf5\", element=\"3aedff45-540b-41df-9bed-dc355b69f71b\")>,\n",
       " <selenium.webdriver.firefox.webelement.FirefoxWebElement (session=\"dc621fa9-21fe-4829-b42f-c55f3c1bfbf5\", element=\"d45b4636-1448-4fa9-9726-087964860d89\")>,\n",
       " <selenium.webdriver.firefox.webelement.FirefoxWebElement (session=\"dc621fa9-21fe-4829-b42f-c55f3c1bfbf5\", element=\"60e99109-7458-4192-adf0-8f80a3773acb\")>,\n",
       " <selenium.webdriver.firefox.webelement.FirefoxWebElement (session=\"dc621fa9-21fe-4829-b42f-c55f3c1bfbf5\", element=\"b7e5665c-1e80-4d39-b892-93679fb8c691\")>,\n",
       " <selenium.webdriver.firefox.webelement.FirefoxWebElement (session=\"dc621fa9-21fe-4829-b42f-c55f3c1bfbf5\", element=\"edff1f18-e35e-4139-b7c1-473a38bfbd5c\")>,\n",
       " <selenium.webdriver.firefox.webelement.FirefoxWebElement (session=\"dc621fa9-21fe-4829-b42f-c55f3c1bfbf5\", element=\"ecd3e058-3c62-428f-acfb-428ca23d0a63\")>,\n",
       " <selenium.webdriver.firefox.webelement.FirefoxWebElement (session=\"dc621fa9-21fe-4829-b42f-c55f3c1bfbf5\", element=\"63016919-272a-4512-8282-7372391b44f7\")>,\n",
       " <selenium.webdriver.firefox.webelement.FirefoxWebElement (session=\"dc621fa9-21fe-4829-b42f-c55f3c1bfbf5\", element=\"7f82f3bd-6f34-4a49-9146-4b414082851d\")>,\n",
       " <selenium.webdriver.firefox.webelement.FirefoxWebElement (session=\"dc621fa9-21fe-4829-b42f-c55f3c1bfbf5\", element=\"3d5cd34e-e75e-4fb0-b20f-7b764786ee9d\")>]"
      ]
     },
     "execution_count": 7,
     "metadata": {},
     "output_type": "execute_result"
    }
   ],
   "source": [
    "#extracting job title.\n",
    "title_tags = driver.find_elements_by_xpath(\"//a[@class='title fw500 ellipsis']\")\n",
    "title_tags"
   ]
  },
  {
   "cell_type": "code",
   "execution_count": 8,
   "metadata": {
    "scrolled": true
   },
   "outputs": [
    {
     "data": {
      "text/plain": [
       "['Data Scientist',\n",
       " 'Data Scientist - Machine Learning',\n",
       " 'GAMMA Lead Data Scientist',\n",
       " 'DBCG IND - GAMMA Senior Data Scientist',\n",
       " 'Data Scientist/Senior Data Scientist',\n",
       " 'Senior Data Scientist | CES IT LTD | CMMI Level 5',\n",
       " 'Data Scientist',\n",
       " 'Associate Data Scientist - CRM & Loyalty',\n",
       " 'Data Scientist - Business Analytics',\n",
       " 'Data Scientist',\n",
       " 'Data Scientist',\n",
       " 'Data Scientist',\n",
       " 'Jr. Data Scientist',\n",
       " 'Data Scientist',\n",
       " 'Job Opening For the Position Data Scientist',\n",
       " 'Data Scientist - BFSI',\n",
       " 'Senior Data Scientist/Manager Data Scientist',\n",
       " 'Excellent Opportunity Of Data Scientist For CMMI Level 5 Company',\n",
       " 'Data Scientist',\n",
       " 'Job Opening For the Position Data Scientist']"
      ]
     },
     "execution_count": 8,
     "metadata": {},
     "output_type": "execute_result"
    }
   ],
   "source": [
    "for i in title_tags:\n",
    "    title=i.text\n",
    "    Job_title.append(title)\n",
    "Job_title"
   ]
  },
  {
   "cell_type": "code",
   "execution_count": 9,
   "metadata": {
    "scrolled": true
   },
   "outputs": [
    {
     "data": {
      "text/plain": [
       "[<selenium.webdriver.firefox.webelement.FirefoxWebElement (session=\"dc621fa9-21fe-4829-b42f-c55f3c1bfbf5\", element=\"89c99596-af1a-4a3d-98bf-9ad2a565b8d9\")>,\n",
       " <selenium.webdriver.firefox.webelement.FirefoxWebElement (session=\"dc621fa9-21fe-4829-b42f-c55f3c1bfbf5\", element=\"66589c20-13da-47da-a95d-d0c9b346cf11\")>,\n",
       " <selenium.webdriver.firefox.webelement.FirefoxWebElement (session=\"dc621fa9-21fe-4829-b42f-c55f3c1bfbf5\", element=\"b515a7e3-89c8-4ccb-b15d-3e03df5aa907\")>,\n",
       " <selenium.webdriver.firefox.webelement.FirefoxWebElement (session=\"dc621fa9-21fe-4829-b42f-c55f3c1bfbf5\", element=\"3e1f8668-00f8-4e2f-8387-df1cea52c129\")>,\n",
       " <selenium.webdriver.firefox.webelement.FirefoxWebElement (session=\"dc621fa9-21fe-4829-b42f-c55f3c1bfbf5\", element=\"f8b72031-a402-4f01-9bb4-32d074ac8df9\")>,\n",
       " <selenium.webdriver.firefox.webelement.FirefoxWebElement (session=\"dc621fa9-21fe-4829-b42f-c55f3c1bfbf5\", element=\"a4bf7015-2c4a-4d58-8888-9d3a6e2a9da6\")>,\n",
       " <selenium.webdriver.firefox.webelement.FirefoxWebElement (session=\"dc621fa9-21fe-4829-b42f-c55f3c1bfbf5\", element=\"478bb4d5-5028-4665-b7e7-7b9c65bc4da9\")>,\n",
       " <selenium.webdriver.firefox.webelement.FirefoxWebElement (session=\"dc621fa9-21fe-4829-b42f-c55f3c1bfbf5\", element=\"c08613f0-d88d-4b60-9c14-b3f72bdcb130\")>,\n",
       " <selenium.webdriver.firefox.webelement.FirefoxWebElement (session=\"dc621fa9-21fe-4829-b42f-c55f3c1bfbf5\", element=\"b7166119-303b-48e9-b6ab-d1c2f8500cce\")>,\n",
       " <selenium.webdriver.firefox.webelement.FirefoxWebElement (session=\"dc621fa9-21fe-4829-b42f-c55f3c1bfbf5\", element=\"b671272c-5d85-470b-b71d-4e3f8515b415\")>,\n",
       " <selenium.webdriver.firefox.webelement.FirefoxWebElement (session=\"dc621fa9-21fe-4829-b42f-c55f3c1bfbf5\", element=\"38221977-3208-4310-8aeb-0d952a2e6672\")>,\n",
       " <selenium.webdriver.firefox.webelement.FirefoxWebElement (session=\"dc621fa9-21fe-4829-b42f-c55f3c1bfbf5\", element=\"b9e147cc-dd75-4f0c-a246-3863b4f09595\")>,\n",
       " <selenium.webdriver.firefox.webelement.FirefoxWebElement (session=\"dc621fa9-21fe-4829-b42f-c55f3c1bfbf5\", element=\"2b123b32-d906-4820-b9fd-9573be971d32\")>,\n",
       " <selenium.webdriver.firefox.webelement.FirefoxWebElement (session=\"dc621fa9-21fe-4829-b42f-c55f3c1bfbf5\", element=\"68a76fe8-66ed-4d0e-8105-e67635ac392a\")>,\n",
       " <selenium.webdriver.firefox.webelement.FirefoxWebElement (session=\"dc621fa9-21fe-4829-b42f-c55f3c1bfbf5\", element=\"b3ba5a0d-60e5-4495-a3be-47feffac61c3\")>,\n",
       " <selenium.webdriver.firefox.webelement.FirefoxWebElement (session=\"dc621fa9-21fe-4829-b42f-c55f3c1bfbf5\", element=\"49f0e1bf-52b7-4623-872b-4d105f1a7be8\")>,\n",
       " <selenium.webdriver.firefox.webelement.FirefoxWebElement (session=\"dc621fa9-21fe-4829-b42f-c55f3c1bfbf5\", element=\"27e9b7be-7171-41d8-8d3a-2b9b2210d31a\")>,\n",
       " <selenium.webdriver.firefox.webelement.FirefoxWebElement (session=\"dc621fa9-21fe-4829-b42f-c55f3c1bfbf5\", element=\"e71acecf-6570-4add-869d-f8744c83455b\")>,\n",
       " <selenium.webdriver.firefox.webelement.FirefoxWebElement (session=\"dc621fa9-21fe-4829-b42f-c55f3c1bfbf5\", element=\"e112b913-3f6a-41ff-a378-5764c0e87ff1\")>,\n",
       " <selenium.webdriver.firefox.webelement.FirefoxWebElement (session=\"dc621fa9-21fe-4829-b42f-c55f3c1bfbf5\", element=\"44a500b0-777c-4c5a-86da-be4a42498744\")>]"
      ]
     },
     "execution_count": 9,
     "metadata": {},
     "output_type": "execute_result"
    }
   ],
   "source": [
    "#extracting the location tags.\n",
    "location_tags=driver.find_elements_by_xpath(\"//li[@class='fleft grey-text br2 placeHolderLi location']/span\")\n",
    "location_tags"
   ]
  },
  {
   "cell_type": "code",
   "execution_count": 10,
   "metadata": {
    "scrolled": true
   },
   "outputs": [
    {
     "data": {
      "text/plain": [
       "['Bangalore/Bengaluru',\n",
       " 'Bangalore/Bengaluru',\n",
       " 'Mumbai, New Delhi, Chennai, Bangalore/Bengaluru',\n",
       " 'Mumbai, New Delhi, Chennai, Bangalore/Bengaluru',\n",
       " 'Hyderabad/Secunderabad, Pune, Chennai, Bangalore/Bengaluru, Mumbai (All Areas)',\n",
       " 'Kolkata, Mumbai, Hyderabad/Secunderabad, Pune, Chennai, Bangalore/Bengaluru, Delhi / NCR',\n",
       " 'Bangalore/Bengaluru',\n",
       " 'Bangalore/Bengaluru',\n",
       " 'Bangalore/Bengaluru',\n",
       " 'Bangalore/Bengaluru',\n",
       " 'Bangalore/Bengaluru',\n",
       " 'Bangalore/Bengaluru(Sector 1 HSR Layout)',\n",
       " 'Bangalore/Bengaluru',\n",
       " 'Bangalore/Bengaluru',\n",
       " 'Bangalore/Bengaluru',\n",
       " 'Pune, Chennai, Bangalore/Bengaluru, Delhi / NCR',\n",
       " 'Noida, Gurgaon/Gurugram, Bangalore/Bengaluru',\n",
       " 'Hyderabad/Secunderabad, Pune, Bangalore/Bengaluru, Delhi / NCR, Mumbai (All Areas)',\n",
       " 'Bangalore/Bengaluru',\n",
       " 'Bangalore/Bengaluru']"
      ]
     },
     "execution_count": 10,
     "metadata": {},
     "output_type": "execute_result"
    }
   ],
   "source": [
    "for i in location_tags:\n",
    "    location=i.text\n",
    "    Job_location.append(location)\n",
    "Job_location"
   ]
  },
  {
   "cell_type": "code",
   "execution_count": 11,
   "metadata": {
    "scrolled": true
   },
   "outputs": [
    {
     "data": {
      "text/plain": [
       "[<selenium.webdriver.firefox.webelement.FirefoxWebElement (session=\"dc621fa9-21fe-4829-b42f-c55f3c1bfbf5\", element=\"09cfc9c7-59dd-441f-8bef-a486c22f42c2\")>,\n",
       " <selenium.webdriver.firefox.webelement.FirefoxWebElement (session=\"dc621fa9-21fe-4829-b42f-c55f3c1bfbf5\", element=\"13e016a0-fd64-412c-9acc-b95e56834790\")>,\n",
       " <selenium.webdriver.firefox.webelement.FirefoxWebElement (session=\"dc621fa9-21fe-4829-b42f-c55f3c1bfbf5\", element=\"f7039647-fbec-4486-9cd0-056c3cdcd03a\")>,\n",
       " <selenium.webdriver.firefox.webelement.FirefoxWebElement (session=\"dc621fa9-21fe-4829-b42f-c55f3c1bfbf5\", element=\"0a4ec701-ef1e-4104-ac5f-2edc664b6abd\")>,\n",
       " <selenium.webdriver.firefox.webelement.FirefoxWebElement (session=\"dc621fa9-21fe-4829-b42f-c55f3c1bfbf5\", element=\"31854347-1798-4330-9da1-a109cff5b1c2\")>,\n",
       " <selenium.webdriver.firefox.webelement.FirefoxWebElement (session=\"dc621fa9-21fe-4829-b42f-c55f3c1bfbf5\", element=\"7e7aaaec-4fd1-4ee0-9881-cb4c22be9e80\")>,\n",
       " <selenium.webdriver.firefox.webelement.FirefoxWebElement (session=\"dc621fa9-21fe-4829-b42f-c55f3c1bfbf5\", element=\"574c8755-8f07-489a-8a88-e17fca5c564b\")>,\n",
       " <selenium.webdriver.firefox.webelement.FirefoxWebElement (session=\"dc621fa9-21fe-4829-b42f-c55f3c1bfbf5\", element=\"fc619cea-8313-4950-8d79-e7de1385b45c\")>,\n",
       " <selenium.webdriver.firefox.webelement.FirefoxWebElement (session=\"dc621fa9-21fe-4829-b42f-c55f3c1bfbf5\", element=\"4c37faf0-4bf5-46ab-9b67-a8d443f59a15\")>,\n",
       " <selenium.webdriver.firefox.webelement.FirefoxWebElement (session=\"dc621fa9-21fe-4829-b42f-c55f3c1bfbf5\", element=\"732f9b09-3d3b-4eff-8f0e-ed77f43bdff6\")>,\n",
       " <selenium.webdriver.firefox.webelement.FirefoxWebElement (session=\"dc621fa9-21fe-4829-b42f-c55f3c1bfbf5\", element=\"763d2567-0cd3-445f-ac96-6dce0bccde45\")>,\n",
       " <selenium.webdriver.firefox.webelement.FirefoxWebElement (session=\"dc621fa9-21fe-4829-b42f-c55f3c1bfbf5\", element=\"b50d9160-9e62-46dd-88a9-e39567e369bb\")>,\n",
       " <selenium.webdriver.firefox.webelement.FirefoxWebElement (session=\"dc621fa9-21fe-4829-b42f-c55f3c1bfbf5\", element=\"ceb09a20-4def-4add-9c33-95250940577b\")>,\n",
       " <selenium.webdriver.firefox.webelement.FirefoxWebElement (session=\"dc621fa9-21fe-4829-b42f-c55f3c1bfbf5\", element=\"94a8ed3d-4d2b-4385-9f5b-235d176ce747\")>,\n",
       " <selenium.webdriver.firefox.webelement.FirefoxWebElement (session=\"dc621fa9-21fe-4829-b42f-c55f3c1bfbf5\", element=\"2c0d3588-0768-490a-8343-7f53ee8516c7\")>,\n",
       " <selenium.webdriver.firefox.webelement.FirefoxWebElement (session=\"dc621fa9-21fe-4829-b42f-c55f3c1bfbf5\", element=\"8e80a607-ef26-4c2b-8029-f07308278ddc\")>,\n",
       " <selenium.webdriver.firefox.webelement.FirefoxWebElement (session=\"dc621fa9-21fe-4829-b42f-c55f3c1bfbf5\", element=\"aef8456e-6f24-474f-a59f-b4c65aafb446\")>,\n",
       " <selenium.webdriver.firefox.webelement.FirefoxWebElement (session=\"dc621fa9-21fe-4829-b42f-c55f3c1bfbf5\", element=\"b50e6101-aa48-449b-828e-e433ff148c11\")>,\n",
       " <selenium.webdriver.firefox.webelement.FirefoxWebElement (session=\"dc621fa9-21fe-4829-b42f-c55f3c1bfbf5\", element=\"5cb0b561-e19d-450b-9df6-8fea3bee46d7\")>,\n",
       " <selenium.webdriver.firefox.webelement.FirefoxWebElement (session=\"dc621fa9-21fe-4829-b42f-c55f3c1bfbf5\", element=\"e8a1f14a-23b7-43e6-af59-4d5e310dba81\")>]"
      ]
     },
     "execution_count": 11,
     "metadata": {},
     "output_type": "execute_result"
    }
   ],
   "source": [
    "#extracting the comapany names.\n",
    "company_tags= driver.find_elements_by_xpath(\"//a[@class='subTitle ellipsis fleft']\")\n",
    "company_tags"
   ]
  },
  {
   "cell_type": "code",
   "execution_count": 12,
   "metadata": {},
   "outputs": [
    {
     "data": {
      "text/plain": [
       "['CronJ IT Technologies Private Limited',\n",
       " 'AugmatrixGo',\n",
       " 'Boston Consulting Group',\n",
       " 'Boston Consulting Group',\n",
       " 'GANIT BUSINESS SOLUTIONS PRIVATE LIMITED',\n",
       " 'CES Ltd.',\n",
       " 'Schneider Electric India Pvt. Ltd.',\n",
       " 'Shell India Markets Private Limited',\n",
       " 'Philips India Limited',\n",
       " 'IBM India Pvt. Limited',\n",
       " 'NetApp',\n",
       " 'Redcan IT Services LLP',\n",
       " 'Multi Recruit',\n",
       " 'DUN & BRADSTREET INFORMATION SERVICES INDIA PRIVATE LIMITED',\n",
       " 'Pluto seven business solutions (p) limited',\n",
       " 'Black Turtle India Pvt Ltd',\n",
       " 'Novitas Infotech',\n",
       " 'Skyleaf Consultants',\n",
       " 'Walmart Labs',\n",
       " 'Pluto seven business solutions (p) limited']"
      ]
     },
     "execution_count": 12,
     "metadata": {},
     "output_type": "execute_result"
    }
   ],
   "source": [
    "for i in company_tags:\n",
    "    company=i.text\n",
    "    Comapany_name.append(company)\n",
    "Comapany_name"
   ]
  },
  {
   "cell_type": "code",
   "execution_count": null,
   "metadata": {},
   "outputs": [],
   "source": [
    "#extracting the comapany names.\n",
    "full_dis= driver.find_elements_by_xpath(\"//a[@class='title fw500 ellipsis']\")\n",
    "full_dis.click()"
   ]
  },
  {
   "cell_type": "code",
   "execution_count": null,
   "metadata": {},
   "outputs": [],
   "source": [
    "for i in full_dis:\n",
    "    fulldis=i.text\n",
    "    Job_discription.append(fulldis)\n",
    "Job_discription"
   ]
  },
  {
   "cell_type": "code",
   "execution_count": 17,
   "metadata": {},
   "outputs": [],
   "source": [
    "#creating a data frame.\n",
    "Data_Scientist=pd.DataFrame({})\n",
    "Data_Scientist['Job_title'] = Job_title[0:10]\n",
    "Data_Scientist['Job_location'] = Job_location[0:10]\n",
    "Data_Scientist['Comapany_name'] = Comapany_name[0:10]\n",
    "Data_Scientist['Job_discription'] = Job_discription[0:10]"
   ]
  },
  {
   "cell_type": "code",
   "execution_count": 18,
   "metadata": {},
   "outputs": [
    {
     "data": {
      "text/html": [
       "<div>\n",
       "<style scoped>\n",
       "    .dataframe tbody tr th:only-of-type {\n",
       "        vertical-align: middle;\n",
       "    }\n",
       "\n",
       "    .dataframe tbody tr th {\n",
       "        vertical-align: top;\n",
       "    }\n",
       "\n",
       "    .dataframe thead th {\n",
       "        text-align: right;\n",
       "    }\n",
       "</style>\n",
       "<table border=\"1\" class=\"dataframe\">\n",
       "  <thead>\n",
       "    <tr style=\"text-align: right;\">\n",
       "      <th></th>\n",
       "      <th>Job_title</th>\n",
       "      <th>Job_location</th>\n",
       "      <th>Comapany_name</th>\n",
       "      <th>Job_discription</th>\n",
       "    </tr>\n",
       "  </thead>\n",
       "  <tbody>\n",
       "    <tr>\n",
       "      <th>0</th>\n",
       "      <td>Data Scientist</td>\n",
       "      <td>Bangalore/Bengaluru</td>\n",
       "      <td>CronJ IT Technologies Private Limited</td>\n",
       "      <td>Data Scientist</td>\n",
       "    </tr>\n",
       "    <tr>\n",
       "      <th>1</th>\n",
       "      <td>Data Scientist - Machine Learning</td>\n",
       "      <td>Bangalore/Bengaluru</td>\n",
       "      <td>AugmatrixGo</td>\n",
       "      <td>Data Scientist - Machine Learning</td>\n",
       "    </tr>\n",
       "    <tr>\n",
       "      <th>2</th>\n",
       "      <td>GAMMA Lead Data Scientist</td>\n",
       "      <td>Mumbai, New Delhi, Chennai, Bangalore/Bengaluru</td>\n",
       "      <td>Boston Consulting Group</td>\n",
       "      <td>GAMMA Lead Data Scientist</td>\n",
       "    </tr>\n",
       "    <tr>\n",
       "      <th>3</th>\n",
       "      <td>DBCG IND - GAMMA Senior Data Scientist</td>\n",
       "      <td>Mumbai, New Delhi, Chennai, Bangalore/Bengaluru</td>\n",
       "      <td>Boston Consulting Group</td>\n",
       "      <td>DBCG IND - GAMMA Senior Data Scientist</td>\n",
       "    </tr>\n",
       "    <tr>\n",
       "      <th>4</th>\n",
       "      <td>Data Scientist/Senior Data Scientist</td>\n",
       "      <td>Hyderabad/Secunderabad, Pune, Chennai, Bangalo...</td>\n",
       "      <td>GANIT BUSINESS SOLUTIONS PRIVATE LIMITED</td>\n",
       "      <td>Data Scientist/Senior Data Scientist</td>\n",
       "    </tr>\n",
       "    <tr>\n",
       "      <th>5</th>\n",
       "      <td>Senior Data Scientist | CES IT LTD | CMMI Level 5</td>\n",
       "      <td>Kolkata, Mumbai, Hyderabad/Secunderabad, Pune,...</td>\n",
       "      <td>CES Ltd.</td>\n",
       "      <td>Senior Data Scientist | CES IT LTD | CMMI Level 5</td>\n",
       "    </tr>\n",
       "    <tr>\n",
       "      <th>6</th>\n",
       "      <td>Data Scientist</td>\n",
       "      <td>Bangalore/Bengaluru</td>\n",
       "      <td>Schneider Electric India Pvt. Ltd.</td>\n",
       "      <td>Data Scientist</td>\n",
       "    </tr>\n",
       "    <tr>\n",
       "      <th>7</th>\n",
       "      <td>Associate Data Scientist - CRM &amp; Loyalty</td>\n",
       "      <td>Bangalore/Bengaluru</td>\n",
       "      <td>Shell India Markets Private Limited</td>\n",
       "      <td>Associate Data Scientist - CRM &amp; Loyalty</td>\n",
       "    </tr>\n",
       "    <tr>\n",
       "      <th>8</th>\n",
       "      <td>Data Scientist - Business Analytics</td>\n",
       "      <td>Bangalore/Bengaluru</td>\n",
       "      <td>Philips India Limited</td>\n",
       "      <td>Data Scientist - Business Analytics</td>\n",
       "    </tr>\n",
       "    <tr>\n",
       "      <th>9</th>\n",
       "      <td>Data Scientist</td>\n",
       "      <td>Bangalore/Bengaluru</td>\n",
       "      <td>IBM India Pvt. Limited</td>\n",
       "      <td>Data Scientist</td>\n",
       "    </tr>\n",
       "  </tbody>\n",
       "</table>\n",
       "</div>"
      ],
      "text/plain": [
       "                                           Job_title  \\\n",
       "0                                     Data Scientist   \n",
       "1                  Data Scientist - Machine Learning   \n",
       "2                          GAMMA Lead Data Scientist   \n",
       "3             DBCG IND - GAMMA Senior Data Scientist   \n",
       "4               Data Scientist/Senior Data Scientist   \n",
       "5  Senior Data Scientist | CES IT LTD | CMMI Level 5   \n",
       "6                                     Data Scientist   \n",
       "7           Associate Data Scientist - CRM & Loyalty   \n",
       "8                Data Scientist - Business Analytics   \n",
       "9                                     Data Scientist   \n",
       "\n",
       "                                        Job_location  \\\n",
       "0                                Bangalore/Bengaluru   \n",
       "1                                Bangalore/Bengaluru   \n",
       "2    Mumbai, New Delhi, Chennai, Bangalore/Bengaluru   \n",
       "3    Mumbai, New Delhi, Chennai, Bangalore/Bengaluru   \n",
       "4  Hyderabad/Secunderabad, Pune, Chennai, Bangalo...   \n",
       "5  Kolkata, Mumbai, Hyderabad/Secunderabad, Pune,...   \n",
       "6                                Bangalore/Bengaluru   \n",
       "7                                Bangalore/Bengaluru   \n",
       "8                                Bangalore/Bengaluru   \n",
       "9                                Bangalore/Bengaluru   \n",
       "\n",
       "                              Comapany_name  \\\n",
       "0     CronJ IT Technologies Private Limited   \n",
       "1                               AugmatrixGo   \n",
       "2                   Boston Consulting Group   \n",
       "3                   Boston Consulting Group   \n",
       "4  GANIT BUSINESS SOLUTIONS PRIVATE LIMITED   \n",
       "5                                  CES Ltd.   \n",
       "6        Schneider Electric India Pvt. Ltd.   \n",
       "7       Shell India Markets Private Limited   \n",
       "8                     Philips India Limited   \n",
       "9                    IBM India Pvt. Limited   \n",
       "\n",
       "                                     Job_discription  \n",
       "0                                     Data Scientist  \n",
       "1                  Data Scientist - Machine Learning  \n",
       "2                          GAMMA Lead Data Scientist  \n",
       "3             DBCG IND - GAMMA Senior Data Scientist  \n",
       "4               Data Scientist/Senior Data Scientist  \n",
       "5  Senior Data Scientist | CES IT LTD | CMMI Level 5  \n",
       "6                                     Data Scientist  \n",
       "7           Associate Data Scientist - CRM & Loyalty  \n",
       "8                Data Scientist - Business Analytics  \n",
       "9                                     Data Scientist  "
      ]
     },
     "execution_count": 18,
     "metadata": {},
     "output_type": "execute_result"
    }
   ],
   "source": [
    "Data_Scientist"
   ]
  },
  {
   "cell_type": "code",
   "execution_count": null,
   "metadata": {},
   "outputs": [],
   "source": []
  }
 ],
 "metadata": {
  "kernelspec": {
   "display_name": "Python 3",
   "language": "python",
   "name": "python3"
  },
  "language_info": {
   "codemirror_mode": {
    "name": "ipython",
    "version": 3
   },
   "file_extension": ".py",
   "mimetype": "text/x-python",
   "name": "python",
   "nbconvert_exporter": "python",
   "pygments_lexer": "ipython3",
   "version": "3.8.3"
  }
 },
 "nbformat": 4,
 "nbformat_minor": 4
}
