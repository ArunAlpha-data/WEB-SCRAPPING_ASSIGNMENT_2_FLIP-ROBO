{
 "cells": [
  {
   "cell_type": "markdown",
   "metadata": {},
   "source": [
    "# PROBLEM DEFINITION : \n",
    "    To write a python program to scrape the salary data for Data Scientist designation in Noida location.\n",
    "    We have to scrape Company name, Number of salaries, Average salary, Min salary, Max Salary."
   ]
  },
  {
   "cell_type": "code",
   "execution_count": 1,
   "metadata": {},
   "outputs": [],
   "source": [
    "# importing required libraries.\n",
    "import pandas as pd\n",
    "import selenium\n",
    "from selenium import webdriver"
   ]
  },
  {
   "cell_type": "code",
   "execution_count": 2,
   "metadata": {},
   "outputs": [],
   "source": [
    "#connecting the web driver.\n",
    "driver=webdriver.Chrome(r'C:\\Program Files (x86)\\chromedriver_win32\\chromedriver.exe')"
   ]
  },
  {
   "cell_type": "code",
   "execution_count": 3,
   "metadata": {},
   "outputs": [],
   "source": [
    "driver.get('https://www.glassdoor.co.in/Salaries/index.htm')"
   ]
  },
  {
   "cell_type": "code",
   "execution_count": 4,
   "metadata": {},
   "outputs": [],
   "source": [
    "#finding and filling the title and location of the required job using automation.\n",
    "search_job = driver.find_element_by_id('KeywordSearch')\n",
    "search_job.send_keys('Data Scientist')"
   ]
  },
  {
   "cell_type": "code",
   "execution_count": 5,
   "metadata": {},
   "outputs": [],
   "source": [
    "search_loc = driver.find_element_by_id('LocationSearch')\n",
    "search_loc.send_keys('Noida')"
   ]
  },
  {
   "cell_type": "code",
   "execution_count": 6,
   "metadata": {},
   "outputs": [],
   "source": [
    "#finding and clicking the search button using automation.\n",
    "search_btn = driver.find_element_by_id('HeroSearchButton')\n",
    "search_btn.click()"
   ]
  },
  {
   "cell_type": "code",
   "execution_count": 20,
   "metadata": {},
   "outputs": [],
   "source": [
    "#creating the list.\n",
    "Comapany_name=[]\n",
    "No_of_salary=[]\n",
    "Avg_salary=[]\n",
    "Min_salary=[]\n",
    "Max_salary=[]"
   ]
  },
  {
   "cell_type": "code",
   "execution_count": 21,
   "metadata": {},
   "outputs": [
    {
     "data": {
      "text/plain": [
       "[<selenium.webdriver.remote.webelement.WebElement (session=\"087d83754875b3f7f450d6942696a6c3\", element=\"2425625f-4ce6-44e1-8a52-a624ca180aa2\")>,\n",
       " <selenium.webdriver.remote.webelement.WebElement (session=\"087d83754875b3f7f450d6942696a6c3\", element=\"e9bb4c63-1d05-494a-8f94-2cdb017bfd39\")>,\n",
       " <selenium.webdriver.remote.webelement.WebElement (session=\"087d83754875b3f7f450d6942696a6c3\", element=\"d33eb57e-5131-4e30-8078-e084e191b795\")>,\n",
       " <selenium.webdriver.remote.webelement.WebElement (session=\"087d83754875b3f7f450d6942696a6c3\", element=\"8bc64eb5-943a-4440-b3a2-d0845e3b1610\")>,\n",
       " <selenium.webdriver.remote.webelement.WebElement (session=\"087d83754875b3f7f450d6942696a6c3\", element=\"969dce03-4deb-49b7-89c0-fd4fc2c1b466\")>,\n",
       " <selenium.webdriver.remote.webelement.WebElement (session=\"087d83754875b3f7f450d6942696a6c3\", element=\"3d514421-72d2-4149-9262-16d104ec37b4\")>,\n",
       " <selenium.webdriver.remote.webelement.WebElement (session=\"087d83754875b3f7f450d6942696a6c3\", element=\"93753190-595a-4132-817e-4168f39a3ad6\")>,\n",
       " <selenium.webdriver.remote.webelement.WebElement (session=\"087d83754875b3f7f450d6942696a6c3\", element=\"bce1d629-1549-46f0-96f4-d9cb97b308f9\")>,\n",
       " <selenium.webdriver.remote.webelement.WebElement (session=\"087d83754875b3f7f450d6942696a6c3\", element=\"704940e3-0fd0-4704-9963-10623de2ef5c\")>,\n",
       " <selenium.webdriver.remote.webelement.WebElement (session=\"087d83754875b3f7f450d6942696a6c3\", element=\"f5b09f72-4816-47ad-95cb-6d2ea16f5da6\")>,\n",
       " <selenium.webdriver.remote.webelement.WebElement (session=\"087d83754875b3f7f450d6942696a6c3\", element=\"f8a44ff7-09a9-4d40-88d1-5b23078152af\")>,\n",
       " <selenium.webdriver.remote.webelement.WebElement (session=\"087d83754875b3f7f450d6942696a6c3\", element=\"10aa58b1-06d8-45a3-aff5-759c8c6ff157\")>,\n",
       " <selenium.webdriver.remote.webelement.WebElement (session=\"087d83754875b3f7f450d6942696a6c3\", element=\"a7986a64-b9da-4cb2-b888-7c99c51e35ab\")>,\n",
       " <selenium.webdriver.remote.webelement.WebElement (session=\"087d83754875b3f7f450d6942696a6c3\", element=\"029bb5b8-ca85-4b46-b840-0d985aefbb04\")>,\n",
       " <selenium.webdriver.remote.webelement.WebElement (session=\"087d83754875b3f7f450d6942696a6c3\", element=\"8c20e985-468a-4b13-b68e-eafe27f2937a\")>,\n",
       " <selenium.webdriver.remote.webelement.WebElement (session=\"087d83754875b3f7f450d6942696a6c3\", element=\"fb5492e5-7932-4eab-b0b0-ae0fe9cd2c8c\")>,\n",
       " <selenium.webdriver.remote.webelement.WebElement (session=\"087d83754875b3f7f450d6942696a6c3\", element=\"ce2f9aec-6b18-425c-8045-ecc82a11305b\")>,\n",
       " <selenium.webdriver.remote.webelement.WebElement (session=\"087d83754875b3f7f450d6942696a6c3\", element=\"44fef7f0-461c-4098-9812-e17522934e26\")>,\n",
       " <selenium.webdriver.remote.webelement.WebElement (session=\"087d83754875b3f7f450d6942696a6c3\", element=\"b1f59b2a-5458-45e9-9d9e-de431f4bcada\")>,\n",
       " <selenium.webdriver.remote.webelement.WebElement (session=\"087d83754875b3f7f450d6942696a6c3\", element=\"9a2026f6-1ba3-4a68-bfae-ad360b052a6b\")>]"
      ]
     },
     "execution_count": 21,
     "metadata": {},
     "output_type": "execute_result"
    }
   ],
   "source": [
    "#extracting the comapany names.\n",
    "company_tags= driver.find_elements_by_xpath(\"//p[@class='m-0 ']\")\n",
    "company_tags"
   ]
  },
  {
   "cell_type": "code",
   "execution_count": 22,
   "metadata": {},
   "outputs": [
    {
     "data": {
      "text/plain": [
       "['Tata Consultancy Services',\n",
       " 'Accenture',\n",
       " 'Delhivery',\n",
       " 'IBM',\n",
       " 'Ericsson-Worldwide',\n",
       " 'UnitedHealth Group',\n",
       " 'Valiance Solutions',\n",
       " 'Innovaccer',\n",
       " 'ZS Associates',\n",
       " 'EXL Service',\n",
       " 'Cognizant Technology Solutions',\n",
       " 'Optum',\n",
       " 'Tech Mahindra',\n",
       " 'OYO',\n",
       " 'Optum Global Solutions',\n",
       " 'Vidooly Media Tech',\n",
       " 'Algo8.ai',\n",
       " 'Genpact',\n",
       " 'Bharti Airtel',\n",
       " 'Nagarro']"
      ]
     },
     "execution_count": 22,
     "metadata": {},
     "output_type": "execute_result"
    }
   ],
   "source": [
    "for i in company_tags:\n",
    "    company=i.text\n",
    "    Comapany_name.append(company)\n",
    "Comapany_name"
   ]
  },
  {
   "cell_type": "code",
   "execution_count": 23,
   "metadata": {},
   "outputs": [
    {
     "data": {
      "text/plain": [
       "[<selenium.webdriver.remote.webelement.WebElement (session=\"087d83754875b3f7f450d6942696a6c3\", element=\"53314bf7-098e-4879-9f34-dde777847d3e\")>,\n",
       " <selenium.webdriver.remote.webelement.WebElement (session=\"087d83754875b3f7f450d6942696a6c3\", element=\"82136370-b407-408b-8172-bda8f75c89d6\")>,\n",
       " <selenium.webdriver.remote.webelement.WebElement (session=\"087d83754875b3f7f450d6942696a6c3\", element=\"91c7cd54-289e-4c42-b3b5-899ba98a2e97\")>,\n",
       " <selenium.webdriver.remote.webelement.WebElement (session=\"087d83754875b3f7f450d6942696a6c3\", element=\"cf22bb86-5254-46e7-b200-7c737df58432\")>,\n",
       " <selenium.webdriver.remote.webelement.WebElement (session=\"087d83754875b3f7f450d6942696a6c3\", element=\"d31bff30-df2c-4856-bfaa-0b687f76a2bf\")>,\n",
       " <selenium.webdriver.remote.webelement.WebElement (session=\"087d83754875b3f7f450d6942696a6c3\", element=\"dca4d97e-b379-4855-b2f9-4f2dae539788\")>,\n",
       " <selenium.webdriver.remote.webelement.WebElement (session=\"087d83754875b3f7f450d6942696a6c3\", element=\"e0fa589a-e312-427d-8bff-cfa0b681f094\")>,\n",
       " <selenium.webdriver.remote.webelement.WebElement (session=\"087d83754875b3f7f450d6942696a6c3\", element=\"1e34d121-b0cc-484a-8e94-f26125e86e6a\")>,\n",
       " <selenium.webdriver.remote.webelement.WebElement (session=\"087d83754875b3f7f450d6942696a6c3\", element=\"f4c05792-f608-4e55-8fb6-05e9864de7e4\")>,\n",
       " <selenium.webdriver.remote.webelement.WebElement (session=\"087d83754875b3f7f450d6942696a6c3\", element=\"79fc53ff-1e8a-42ef-94d5-093b04153915\")>,\n",
       " <selenium.webdriver.remote.webelement.WebElement (session=\"087d83754875b3f7f450d6942696a6c3\", element=\"2a375ab9-8cdd-46a3-934b-99ebd3033ace\")>,\n",
       " <selenium.webdriver.remote.webelement.WebElement (session=\"087d83754875b3f7f450d6942696a6c3\", element=\"db1007ac-4fdc-4c3e-8a3a-9d48d2e3e964\")>,\n",
       " <selenium.webdriver.remote.webelement.WebElement (session=\"087d83754875b3f7f450d6942696a6c3\", element=\"88f44662-85cd-46ae-b3f9-89cc153dd2b4\")>,\n",
       " <selenium.webdriver.remote.webelement.WebElement (session=\"087d83754875b3f7f450d6942696a6c3\", element=\"eb96e478-641c-44d8-8ffc-55f087c48f72\")>,\n",
       " <selenium.webdriver.remote.webelement.WebElement (session=\"087d83754875b3f7f450d6942696a6c3\", element=\"4bdc8463-e238-4246-9425-fe05bfc42028\")>,\n",
       " <selenium.webdriver.remote.webelement.WebElement (session=\"087d83754875b3f7f450d6942696a6c3\", element=\"c5cff7db-add2-4daa-8856-b4d7585aef1b\")>,\n",
       " <selenium.webdriver.remote.webelement.WebElement (session=\"087d83754875b3f7f450d6942696a6c3\", element=\"d9424e21-4411-4271-8eb0-be86116dfa78\")>,\n",
       " <selenium.webdriver.remote.webelement.WebElement (session=\"087d83754875b3f7f450d6942696a6c3\", element=\"8e6c1afb-e6c0-4137-8764-3273b480d738\")>,\n",
       " <selenium.webdriver.remote.webelement.WebElement (session=\"087d83754875b3f7f450d6942696a6c3\", element=\"fb003918-4559-44d8-bad7-0a8a3bdc5cf0\")>,\n",
       " <selenium.webdriver.remote.webelement.WebElement (session=\"087d83754875b3f7f450d6942696a6c3\", element=\"23a64c7b-58c6-4a65-841f-cf5708321aa2\")>]"
      ]
     },
     "execution_count": 23,
     "metadata": {},
     "output_type": "execute_result"
    }
   ],
   "source": [
    "#extracting the No_of_salary.\n",
    "salary= driver.find_elements_by_xpath(\"//p[@class='css-1uyte9r css-1kuy7z7 m-0 ']\")\n",
    "salary"
   ]
  },
  {
   "cell_type": "code",
   "execution_count": 24,
   "metadata": {},
   "outputs": [
    {
     "data": {
      "text/plain": [
       "['14 salaries',\n",
       " '14 salaries',\n",
       " '14 salaries',\n",
       " '13 salaries',\n",
       " '12 salaries',\n",
       " '10 salaries',\n",
       " '9 salaries',\n",
       " '8 salaries',\n",
       " '7 salaries',\n",
       " '7 salaries',\n",
       " '6 salaries',\n",
       " '6 salaries',\n",
       " '5 salaries',\n",
       " '5 salaries',\n",
       " '5 salaries',\n",
       " '5 salaries',\n",
       " '5 salaries',\n",
       " '4 salaries',\n",
       " '4 salaries',\n",
       " '4 salaries']"
      ]
     },
     "execution_count": 24,
     "metadata": {},
     "output_type": "execute_result"
    }
   ],
   "source": [
    "for i in salary:\n",
    "    sal=i.text\n",
    "    No_of_salary.append(sal)\n",
    "No_of_salary"
   ]
  },
  {
   "cell_type": "code",
   "execution_count": 25,
   "metadata": {},
   "outputs": [
    {
     "data": {
      "text/plain": [
       "[<selenium.webdriver.remote.webelement.WebElement (session=\"087d83754875b3f7f450d6942696a6c3\", element=\"ff96dab6-ba9d-4c10-ad9c-b112dadcf7f1\")>,\n",
       " <selenium.webdriver.remote.webelement.WebElement (session=\"087d83754875b3f7f450d6942696a6c3\", element=\"cf96688d-232f-4fa5-8ad6-c76a8fc31101\")>,\n",
       " <selenium.webdriver.remote.webelement.WebElement (session=\"087d83754875b3f7f450d6942696a6c3\", element=\"45f5ca4e-4e06-4778-a931-0e262eced55b\")>,\n",
       " <selenium.webdriver.remote.webelement.WebElement (session=\"087d83754875b3f7f450d6942696a6c3\", element=\"e8c0ce63-0e77-4a39-bf52-b52bc86ddceb\")>,\n",
       " <selenium.webdriver.remote.webelement.WebElement (session=\"087d83754875b3f7f450d6942696a6c3\", element=\"3f91212b-be87-4d0d-8547-4016b85911c8\")>,\n",
       " <selenium.webdriver.remote.webelement.WebElement (session=\"087d83754875b3f7f450d6942696a6c3\", element=\"aae0c598-1e42-483c-8468-379cbb83d00e\")>,\n",
       " <selenium.webdriver.remote.webelement.WebElement (session=\"087d83754875b3f7f450d6942696a6c3\", element=\"458344db-0fab-4637-8472-b94bc6d6dc2f\")>,\n",
       " <selenium.webdriver.remote.webelement.WebElement (session=\"087d83754875b3f7f450d6942696a6c3\", element=\"66bb05e4-fc1a-49a5-9bd3-a3e3850e8f6c\")>,\n",
       " <selenium.webdriver.remote.webelement.WebElement (session=\"087d83754875b3f7f450d6942696a6c3\", element=\"e1b7930c-7aaa-4507-8733-7e80e094e7f8\")>,\n",
       " <selenium.webdriver.remote.webelement.WebElement (session=\"087d83754875b3f7f450d6942696a6c3\", element=\"67bcf4ed-0736-4b5c-9d03-843a54db2d70\")>,\n",
       " <selenium.webdriver.remote.webelement.WebElement (session=\"087d83754875b3f7f450d6942696a6c3\", element=\"a3e67235-1c71-4982-92f0-358c07b5811d\")>,\n",
       " <selenium.webdriver.remote.webelement.WebElement (session=\"087d83754875b3f7f450d6942696a6c3\", element=\"67fdc133-2c76-461e-9366-1fc544d05b51\")>,\n",
       " <selenium.webdriver.remote.webelement.WebElement (session=\"087d83754875b3f7f450d6942696a6c3\", element=\"561aa5b5-e3f4-41cf-9943-c397eebc8deb\")>,\n",
       " <selenium.webdriver.remote.webelement.WebElement (session=\"087d83754875b3f7f450d6942696a6c3\", element=\"6f57f273-4a14-4165-a36b-c0e150a59298\")>,\n",
       " <selenium.webdriver.remote.webelement.WebElement (session=\"087d83754875b3f7f450d6942696a6c3\", element=\"17132da0-1321-4673-81f2-4dafd2ce5abd\")>,\n",
       " <selenium.webdriver.remote.webelement.WebElement (session=\"087d83754875b3f7f450d6942696a6c3\", element=\"0c99b483-4097-4d0c-b6fd-f0eb94955caf\")>,\n",
       " <selenium.webdriver.remote.webelement.WebElement (session=\"087d83754875b3f7f450d6942696a6c3\", element=\"dc648b9b-62dc-41c5-bb48-2ab99a1539c1\")>,\n",
       " <selenium.webdriver.remote.webelement.WebElement (session=\"087d83754875b3f7f450d6942696a6c3\", element=\"85d6bdf3-75d5-41c7-bb21-2fd307d9b1df\")>,\n",
       " <selenium.webdriver.remote.webelement.WebElement (session=\"087d83754875b3f7f450d6942696a6c3\", element=\"21f1bb71-6b74-4ecc-9fc3-0ed1e426ef68\")>,\n",
       " <selenium.webdriver.remote.webelement.WebElement (session=\"087d83754875b3f7f450d6942696a6c3\", element=\"b91b4ea6-a369-48a9-a6fd-caf6b765b5bf\")>]"
      ]
     },
     "execution_count": 25,
     "metadata": {},
     "output_type": "execute_result"
    }
   ],
   "source": [
    "#extracting the Min_salary.\n",
    "Min_sal= driver.find_elements_by_xpath(\"//div[@class='common__RangeBarStyle__values d-flex justify-content-between ']/span[1]\")\n",
    "Min_sal"
   ]
  },
  {
   "cell_type": "code",
   "execution_count": 26,
   "metadata": {},
   "outputs": [
    {
     "data": {
      "text/plain": [
       "['₹333K',\n",
       " '₹560K',\n",
       " '₹436K',\n",
       " '₹569K',\n",
       " '₹350K',\n",
       " '₹1,037K',\n",
       " '₹487K',\n",
       " '₹602K',\n",
       " '₹196K',\n",
       " '₹558K',\n",
       " '₹769K',\n",
       " '₹783K',\n",
       " '₹400K',\n",
       " '₹942K',\n",
       " '₹1,000K',\n",
       " '₹12K',\n",
       " '₹83K',\n",
       " '₹160K',\n",
       " '₹705K',\n",
       " '₹613K']"
      ]
     },
     "execution_count": 26,
     "metadata": {},
     "output_type": "execute_result"
    }
   ],
   "source": [
    "for i in Min_sal:\n",
    "    Minsal=i.text\n",
    "    Min_salary.append(Minsal)\n",
    "Min_salary"
   ]
  },
  {
   "cell_type": "code",
   "execution_count": 27,
   "metadata": {},
   "outputs": [
    {
     "data": {
      "text/plain": [
       "[<selenium.webdriver.remote.webelement.WebElement (session=\"087d83754875b3f7f450d6942696a6c3\", element=\"a65d22a5-adfe-4ac5-bc65-4cb4b27969c6\")>,\n",
       " <selenium.webdriver.remote.webelement.WebElement (session=\"087d83754875b3f7f450d6942696a6c3\", element=\"7fe1b000-2af8-4159-829c-5e8c9a47411b\")>,\n",
       " <selenium.webdriver.remote.webelement.WebElement (session=\"087d83754875b3f7f450d6942696a6c3\", element=\"3608bf54-3d3f-48b0-871d-a7c372383eb4\")>,\n",
       " <selenium.webdriver.remote.webelement.WebElement (session=\"087d83754875b3f7f450d6942696a6c3\", element=\"71c42692-a1d3-49bd-b8db-a162989a3b74\")>,\n",
       " <selenium.webdriver.remote.webelement.WebElement (session=\"087d83754875b3f7f450d6942696a6c3\", element=\"eb97549e-8d01-4a43-a303-29a6dda13243\")>,\n",
       " <selenium.webdriver.remote.webelement.WebElement (session=\"087d83754875b3f7f450d6942696a6c3\", element=\"ad14d057-236a-4633-8b0f-95ba80462b7b\")>,\n",
       " <selenium.webdriver.remote.webelement.WebElement (session=\"087d83754875b3f7f450d6942696a6c3\", element=\"1a8e215f-b747-4ee1-894c-4f66dfc1a2a3\")>,\n",
       " <selenium.webdriver.remote.webelement.WebElement (session=\"087d83754875b3f7f450d6942696a6c3\", element=\"d4864c62-f6ec-457b-8737-ca5824bbd4ee\")>,\n",
       " <selenium.webdriver.remote.webelement.WebElement (session=\"087d83754875b3f7f450d6942696a6c3\", element=\"41d52bc7-4206-4a47-8721-ee59c29ab2e4\")>,\n",
       " <selenium.webdriver.remote.webelement.WebElement (session=\"087d83754875b3f7f450d6942696a6c3\", element=\"6226aa8b-6253-4fa9-96be-18ace95e3a96\")>,\n",
       " <selenium.webdriver.remote.webelement.WebElement (session=\"087d83754875b3f7f450d6942696a6c3\", element=\"df943e26-0b55-45f3-8d2d-b576c7501524\")>,\n",
       " <selenium.webdriver.remote.webelement.WebElement (session=\"087d83754875b3f7f450d6942696a6c3\", element=\"6a6cb502-2e5a-43c1-96d1-243c01293a48\")>,\n",
       " <selenium.webdriver.remote.webelement.WebElement (session=\"087d83754875b3f7f450d6942696a6c3\", element=\"873de5dd-c44e-45f5-80bd-7df1f5ddaae9\")>,\n",
       " <selenium.webdriver.remote.webelement.WebElement (session=\"087d83754875b3f7f450d6942696a6c3\", element=\"0dfd6191-6cff-4397-861c-f181a75f8a4f\")>,\n",
       " <selenium.webdriver.remote.webelement.WebElement (session=\"087d83754875b3f7f450d6942696a6c3\", element=\"388deaab-2b07-4d6a-8804-0bb1230d7eaf\")>,\n",
       " <selenium.webdriver.remote.webelement.WebElement (session=\"087d83754875b3f7f450d6942696a6c3\", element=\"2c3898b4-77c3-42ce-a0c0-ebeaf18ca3b7\")>,\n",
       " <selenium.webdriver.remote.webelement.WebElement (session=\"087d83754875b3f7f450d6942696a6c3\", element=\"28ad8e73-e97a-4c0a-93cd-5121dd8722f9\")>,\n",
       " <selenium.webdriver.remote.webelement.WebElement (session=\"087d83754875b3f7f450d6942696a6c3\", element=\"5208f256-336f-418c-ac36-dbeca2840038\")>,\n",
       " <selenium.webdriver.remote.webelement.WebElement (session=\"087d83754875b3f7f450d6942696a6c3\", element=\"3551c19e-c22b-4259-a66b-9f079f29625b\")>,\n",
       " <selenium.webdriver.remote.webelement.WebElement (session=\"087d83754875b3f7f450d6942696a6c3\", element=\"ebbb58c0-dee0-4177-aa6c-089a368585ea\")>]"
      ]
     },
     "execution_count": 27,
     "metadata": {},
     "output_type": "execute_result"
    }
   ],
   "source": [
    "#extracting the Max_salary.\n",
    "Max_sal= driver.find_elements_by_xpath(\"//div[@class='common__RangeBarStyle__values d-flex justify-content-between ']/span[2]\")\n",
    "Max_sal"
   ]
  },
  {
   "cell_type": "code",
   "execution_count": 28,
   "metadata": {},
   "outputs": [
    {
     "data": {
      "text/plain": [
       "['₹1,080K',\n",
       " '₹2,147K',\n",
       " '₹11,274K',\n",
       " '₹2,648K',\n",
       " '₹1,565K',\n",
       " '₹1,500K',\n",
       " '₹1,421K',\n",
       " '₹1,644K',\n",
       " '₹1,755K',\n",
       " '₹1,500K',\n",
       " '₹1,225K',\n",
       " '₹1,959K',\n",
       " '₹1,680K',\n",
       " '₹1,827K',\n",
       " '₹2,085K',\n",
       " '₹61K',\n",
       " '₹1,317K',\n",
       " '₹2,178K',\n",
       " '₹2,030K',\n",
       " '₹1,091K']"
      ]
     },
     "execution_count": 28,
     "metadata": {},
     "output_type": "execute_result"
    }
   ],
   "source": [
    "for i in Max_sal:\n",
    "    Maxsal=i.text\n",
    "    Max_salary.append(Maxsal)\n",
    "Max_salary"
   ]
  },
  {
   "cell_type": "code",
   "execution_count": 29,
   "metadata": {},
   "outputs": [
    {
     "data": {
      "text/plain": [
       "[<selenium.webdriver.remote.webelement.WebElement (session=\"087d83754875b3f7f450d6942696a6c3\", element=\"4e8a699c-2125-4ea4-99ed-e71f22d9a740\")>,\n",
       " <selenium.webdriver.remote.webelement.WebElement (session=\"087d83754875b3f7f450d6942696a6c3\", element=\"f373cf89-fa97-49c5-8b70-5c163c2dbd14\")>,\n",
       " <selenium.webdriver.remote.webelement.WebElement (session=\"087d83754875b3f7f450d6942696a6c3\", element=\"f7b137e3-e375-4c99-b43a-a547371bd508\")>,\n",
       " <selenium.webdriver.remote.webelement.WebElement (session=\"087d83754875b3f7f450d6942696a6c3\", element=\"17979bfd-5dfe-4bbb-8a79-298c31763417\")>,\n",
       " <selenium.webdriver.remote.webelement.WebElement (session=\"087d83754875b3f7f450d6942696a6c3\", element=\"1ded0c9e-c498-44e4-b92a-17cc47b398f1\")>,\n",
       " <selenium.webdriver.remote.webelement.WebElement (session=\"087d83754875b3f7f450d6942696a6c3\", element=\"595f3dec-2a2b-444e-bb2e-25d96573a2fd\")>,\n",
       " <selenium.webdriver.remote.webelement.WebElement (session=\"087d83754875b3f7f450d6942696a6c3\", element=\"3ad6d7fc-ff21-474b-bc9c-c7df08a5961c\")>,\n",
       " <selenium.webdriver.remote.webelement.WebElement (session=\"087d83754875b3f7f450d6942696a6c3\", element=\"7a3b7dba-31bf-483a-b69c-010cfc1fac00\")>,\n",
       " <selenium.webdriver.remote.webelement.WebElement (session=\"087d83754875b3f7f450d6942696a6c3\", element=\"ca5c6832-06df-4e91-9c70-21d498806837\")>,\n",
       " <selenium.webdriver.remote.webelement.WebElement (session=\"087d83754875b3f7f450d6942696a6c3\", element=\"83508fd1-b3c9-4fe2-bb1e-760bb1c3158a\")>,\n",
       " <selenium.webdriver.remote.webelement.WebElement (session=\"087d83754875b3f7f450d6942696a6c3\", element=\"aec4cdee-66d8-44d8-ad30-06b09bb5ebaf\")>,\n",
       " <selenium.webdriver.remote.webelement.WebElement (session=\"087d83754875b3f7f450d6942696a6c3\", element=\"6ecdd427-02f7-4b8f-b8bf-880f20131289\")>,\n",
       " <selenium.webdriver.remote.webelement.WebElement (session=\"087d83754875b3f7f450d6942696a6c3\", element=\"185eff1d-ec70-410a-a269-971e170cf0b0\")>,\n",
       " <selenium.webdriver.remote.webelement.WebElement (session=\"087d83754875b3f7f450d6942696a6c3\", element=\"dc27d3ed-62bc-4f5a-a466-697de478a8e8\")>,\n",
       " <selenium.webdriver.remote.webelement.WebElement (session=\"087d83754875b3f7f450d6942696a6c3\", element=\"913322df-2ff1-41b6-bd6c-884b4e7558ba\")>,\n",
       " <selenium.webdriver.remote.webelement.WebElement (session=\"087d83754875b3f7f450d6942696a6c3\", element=\"efb69ead-2948-465c-8c4e-4d363eed08d7\")>,\n",
       " <selenium.webdriver.remote.webelement.WebElement (session=\"087d83754875b3f7f450d6942696a6c3\", element=\"820c0401-32e7-4194-a4d5-6d6ddd0345b1\")>,\n",
       " <selenium.webdriver.remote.webelement.WebElement (session=\"087d83754875b3f7f450d6942696a6c3\", element=\"8abdc784-e86f-4556-b023-47fe997f50de\")>,\n",
       " <selenium.webdriver.remote.webelement.WebElement (session=\"087d83754875b3f7f450d6942696a6c3\", element=\"d0e2102f-c185-493c-b196-8ecf76514f48\")>,\n",
       " <selenium.webdriver.remote.webelement.WebElement (session=\"087d83754875b3f7f450d6942696a6c3\", element=\"fa953d0b-9243-468d-8843-1792d62646a7\")>]"
      ]
     },
     "execution_count": 29,
     "metadata": {},
     "output_type": "execute_result"
    }
   ],
   "source": [
    "#extracting the Avg_salary.\n",
    "Avg_sal= driver.find_elements_by_xpath(\"//div[@class='col-2 d-none d-md-flex flex-row justify-content-end']\")\n",
    "Avg_sal"
   ]
  },
  {
   "cell_type": "code",
   "execution_count": 30,
   "metadata": {},
   "outputs": [
    {
     "data": {
      "text/plain": [
       "['₹ 5,97,967/yr',\n",
       " '₹ 11,12,243/yr',\n",
       " '₹ 12,12,741/yr',\n",
       " '₹ 7,37,972/yr',\n",
       " '₹ 7,15,984/yr',\n",
       " '₹ 13,41,900/yr',\n",
       " '₹ 7,90,812/yr',\n",
       " '₹ 11,81,047/yr',\n",
       " '₹ 9,89,924/yr',\n",
       " '₹ 11,73,127/yr',\n",
       " '₹ 9,77,281/yr',\n",
       " '₹ 12,89,447/yr',\n",
       " '₹ 10,21,234/yr',\n",
       " '₹ 13,70,817/yr',\n",
       " '₹ 12,86,901/yr',\n",
       " '₹ 15,412/mo',\n",
       " '₹ 6,75,000/yr',\n",
       " '₹ 5,58,295/yr',\n",
       " '₹ 12,50,000/yr',\n",
       " '₹ 9,61,408/yr']"
      ]
     },
     "execution_count": 30,
     "metadata": {},
     "output_type": "execute_result"
    }
   ],
   "source": [
    "for i in Avg_sal:\n",
    "    Avgsal=i.text.replace(\"\\n\",\"\")\n",
    "    Avg_salary.append(Avgsal)\n",
    "Avg_salary"
   ]
  },
  {
   "cell_type": "code",
   "execution_count": 31,
   "metadata": {},
   "outputs": [],
   "source": [
    "#creating a data frame.\n",
    "Data_Scientist=pd.DataFrame({})\n",
    "Data_Scientist['Comapany_name'] = Comapany_name[0:10]\n",
    "Data_Scientist['No_of_salary'] = No_of_salary[0:10]\n",
    "Data_Scientist['Avg_salary'] = Avg_salary[0:10]\n",
    "Data_Scientist['Min_salary'] = Min_salary[0:10]\n",
    "Data_Scientist['Max_salary'] = Max_salary[0:10]"
   ]
  },
  {
   "cell_type": "code",
   "execution_count": 32,
   "metadata": {},
   "outputs": [
    {
     "data": {
      "text/html": [
       "<div>\n",
       "<style scoped>\n",
       "    .dataframe tbody tr th:only-of-type {\n",
       "        vertical-align: middle;\n",
       "    }\n",
       "\n",
       "    .dataframe tbody tr th {\n",
       "        vertical-align: top;\n",
       "    }\n",
       "\n",
       "    .dataframe thead th {\n",
       "        text-align: right;\n",
       "    }\n",
       "</style>\n",
       "<table border=\"1\" class=\"dataframe\">\n",
       "  <thead>\n",
       "    <tr style=\"text-align: right;\">\n",
       "      <th></th>\n",
       "      <th>Comapany_name</th>\n",
       "      <th>No_of_salary</th>\n",
       "      <th>Avg_salary</th>\n",
       "      <th>Min_salary</th>\n",
       "      <th>Max_salary</th>\n",
       "    </tr>\n",
       "  </thead>\n",
       "  <tbody>\n",
       "    <tr>\n",
       "      <th>0</th>\n",
       "      <td>Tata Consultancy Services</td>\n",
       "      <td>14 salaries</td>\n",
       "      <td>₹ 5,97,967/yr</td>\n",
       "      <td>₹333K</td>\n",
       "      <td>₹1,080K</td>\n",
       "    </tr>\n",
       "    <tr>\n",
       "      <th>1</th>\n",
       "      <td>Accenture</td>\n",
       "      <td>14 salaries</td>\n",
       "      <td>₹ 11,12,243/yr</td>\n",
       "      <td>₹560K</td>\n",
       "      <td>₹2,147K</td>\n",
       "    </tr>\n",
       "    <tr>\n",
       "      <th>2</th>\n",
       "      <td>Delhivery</td>\n",
       "      <td>14 salaries</td>\n",
       "      <td>₹ 12,12,741/yr</td>\n",
       "      <td>₹436K</td>\n",
       "      <td>₹11,274K</td>\n",
       "    </tr>\n",
       "    <tr>\n",
       "      <th>3</th>\n",
       "      <td>IBM</td>\n",
       "      <td>13 salaries</td>\n",
       "      <td>₹ 7,37,972/yr</td>\n",
       "      <td>₹569K</td>\n",
       "      <td>₹2,648K</td>\n",
       "    </tr>\n",
       "    <tr>\n",
       "      <th>4</th>\n",
       "      <td>Ericsson-Worldwide</td>\n",
       "      <td>12 salaries</td>\n",
       "      <td>₹ 7,15,984/yr</td>\n",
       "      <td>₹350K</td>\n",
       "      <td>₹1,565K</td>\n",
       "    </tr>\n",
       "    <tr>\n",
       "      <th>5</th>\n",
       "      <td>UnitedHealth Group</td>\n",
       "      <td>10 salaries</td>\n",
       "      <td>₹ 13,41,900/yr</td>\n",
       "      <td>₹1,037K</td>\n",
       "      <td>₹1,500K</td>\n",
       "    </tr>\n",
       "    <tr>\n",
       "      <th>6</th>\n",
       "      <td>Valiance Solutions</td>\n",
       "      <td>9 salaries</td>\n",
       "      <td>₹ 7,90,812/yr</td>\n",
       "      <td>₹487K</td>\n",
       "      <td>₹1,421K</td>\n",
       "    </tr>\n",
       "    <tr>\n",
       "      <th>7</th>\n",
       "      <td>Innovaccer</td>\n",
       "      <td>8 salaries</td>\n",
       "      <td>₹ 11,81,047/yr</td>\n",
       "      <td>₹602K</td>\n",
       "      <td>₹1,644K</td>\n",
       "    </tr>\n",
       "    <tr>\n",
       "      <th>8</th>\n",
       "      <td>ZS Associates</td>\n",
       "      <td>7 salaries</td>\n",
       "      <td>₹ 9,89,924/yr</td>\n",
       "      <td>₹196K</td>\n",
       "      <td>₹1,755K</td>\n",
       "    </tr>\n",
       "    <tr>\n",
       "      <th>9</th>\n",
       "      <td>EXL Service</td>\n",
       "      <td>7 salaries</td>\n",
       "      <td>₹ 11,73,127/yr</td>\n",
       "      <td>₹558K</td>\n",
       "      <td>₹1,500K</td>\n",
       "    </tr>\n",
       "  </tbody>\n",
       "</table>\n",
       "</div>"
      ],
      "text/plain": [
       "               Comapany_name No_of_salary      Avg_salary Min_salary  \\\n",
       "0  Tata Consultancy Services  14 salaries   ₹ 5,97,967/yr      ₹333K   \n",
       "1                  Accenture  14 salaries  ₹ 11,12,243/yr      ₹560K   \n",
       "2                  Delhivery  14 salaries  ₹ 12,12,741/yr      ₹436K   \n",
       "3                        IBM  13 salaries   ₹ 7,37,972/yr      ₹569K   \n",
       "4         Ericsson-Worldwide  12 salaries   ₹ 7,15,984/yr      ₹350K   \n",
       "5         UnitedHealth Group  10 salaries  ₹ 13,41,900/yr    ₹1,037K   \n",
       "6         Valiance Solutions   9 salaries   ₹ 7,90,812/yr      ₹487K   \n",
       "7                 Innovaccer   8 salaries  ₹ 11,81,047/yr      ₹602K   \n",
       "8              ZS Associates   7 salaries   ₹ 9,89,924/yr      ₹196K   \n",
       "9                EXL Service   7 salaries  ₹ 11,73,127/yr      ₹558K   \n",
       "\n",
       "  Max_salary  \n",
       "0    ₹1,080K  \n",
       "1    ₹2,147K  \n",
       "2   ₹11,274K  \n",
       "3    ₹2,648K  \n",
       "4    ₹1,565K  \n",
       "5    ₹1,500K  \n",
       "6    ₹1,421K  \n",
       "7    ₹1,644K  \n",
       "8    ₹1,755K  \n",
       "9    ₹1,500K  "
      ]
     },
     "execution_count": 32,
     "metadata": {},
     "output_type": "execute_result"
    }
   ],
   "source": [
    "Data_Scientist"
   ]
  },
  {
   "cell_type": "code",
   "execution_count": null,
   "metadata": {},
   "outputs": [],
   "source": []
  }
 ],
 "metadata": {
  "kernelspec": {
   "display_name": "Python 3",
   "language": "python",
   "name": "python3"
  },
  "language_info": {
   "codemirror_mode": {
    "name": "ipython",
    "version": 3
   },
   "file_extension": ".py",
   "mimetype": "text/x-python",
   "name": "python",
   "nbconvert_exporter": "python",
   "pygments_lexer": "ipython3",
   "version": "3.8.3"
  }
 },
 "nbformat": 4,
 "nbformat_minor": 4
}
