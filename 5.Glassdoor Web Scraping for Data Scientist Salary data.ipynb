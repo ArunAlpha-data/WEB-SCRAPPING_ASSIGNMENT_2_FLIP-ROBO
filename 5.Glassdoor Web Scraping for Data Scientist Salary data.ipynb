{
 "cells": [
  {
   "cell_type": "markdown",
   "metadata": {},
   "source": [
    "# PROBLEM DEFINITION : \n",
    "    To write a python program to scrape the salary data for Data Scientist designation in Noida location.\n",
    "    We have to scrape Company name, Number of salaries, Average salary, Min salary, Max Salary."
   ]
  },
  {
   "cell_type": "code",
   "execution_count": null,
   "metadata": {},
   "outputs": [],
   "source": [
    "# importing required libraries.\n",
    "import pandas as pd\n",
    "import selenium\n",
    "from selenium import webdriver"
   ]
  },
  {
   "cell_type": "code",
   "execution_count": 4,
   "metadata": {},
   "outputs": [],
   "source": [
    "#connecting the web driver.\n",
    "driver=webdriver.Chrome(r'C:\\Program Files (x86)\\chromedriver_win32\\chromedriver.exe')"
   ]
  },
  {
   "cell_type": "code",
   "execution_count": 5,
   "metadata": {},
   "outputs": [],
   "source": [
    "driver.get('https://www.glassdoor.co.in/Salaries/index.htm')"
   ]
  },
  {
   "cell_type": "code",
   "execution_count": 6,
   "metadata": {},
   "outputs": [],
   "source": [
    "#finding and filling the title and location of the required job using automation.\n",
    "search_job = driver.find_element_by_id('KeywordSearch')\n",
    "search_job.send_keys('Data Scientist')"
   ]
  },
  {
   "cell_type": "code",
   "execution_count": 7,
   "metadata": {},
   "outputs": [],
   "source": [
    "search_loc = driver.find_element_by_id('LocationSearch')\n",
    "search_loc.send_keys('Noida')"
   ]
  },
  {
   "cell_type": "code",
   "execution_count": 8,
   "metadata": {},
   "outputs": [],
   "source": [
    "#finding and clicking the search button using automation.\n",
    "search_btn = driver.find_element_by_id('HeroSearchButton')\n",
    "search_btn.click()"
   ]
  },
  {
   "cell_type": "code",
   "execution_count": 9,
   "metadata": {},
   "outputs": [],
   "source": [
    "#creating the list.\n",
    "Comapany_name=[]\n",
    "No_of_salary=[]\n",
    "Avg_salary=[]\n",
    "Min_salary=[]\n",
    "Max_salary=[]"
   ]
  },
  {
   "cell_type": "code",
   "execution_count": 10,
   "metadata": {},
   "outputs": [
    {
     "data": {
      "text/plain": [
       "[<selenium.webdriver.remote.webelement.WebElement (session=\"1b0d903e86cf19d956e7e7a92f452a51\", element=\"ae6f2296-6ff5-4368-ae06-0c3107bb75c0\")>,\n",
       " <selenium.webdriver.remote.webelement.WebElement (session=\"1b0d903e86cf19d956e7e7a92f452a51\", element=\"621a52f4-58f2-4b12-b8b9-0be74c59baee\")>,\n",
       " <selenium.webdriver.remote.webelement.WebElement (session=\"1b0d903e86cf19d956e7e7a92f452a51\", element=\"d0313179-b905-4578-9ab6-36c8c3ebce1e\")>,\n",
       " <selenium.webdriver.remote.webelement.WebElement (session=\"1b0d903e86cf19d956e7e7a92f452a51\", element=\"1743f505-7fa0-44d8-867a-021278ed31fd\")>,\n",
       " <selenium.webdriver.remote.webelement.WebElement (session=\"1b0d903e86cf19d956e7e7a92f452a51\", element=\"14aba4e2-5261-4098-b158-909dadfc6e08\")>,\n",
       " <selenium.webdriver.remote.webelement.WebElement (session=\"1b0d903e86cf19d956e7e7a92f452a51\", element=\"d1bd1b45-6e49-4626-a4ea-092a0a9bfdff\")>,\n",
       " <selenium.webdriver.remote.webelement.WebElement (session=\"1b0d903e86cf19d956e7e7a92f452a51\", element=\"8888df63-7ac5-4326-9ea7-45a7e96cc395\")>,\n",
       " <selenium.webdriver.remote.webelement.WebElement (session=\"1b0d903e86cf19d956e7e7a92f452a51\", element=\"b44d9c4b-6def-4f7d-a8ae-5b434f05a8df\")>,\n",
       " <selenium.webdriver.remote.webelement.WebElement (session=\"1b0d903e86cf19d956e7e7a92f452a51\", element=\"7f102c0e-1691-4dfd-8115-646c24ed0171\")>,\n",
       " <selenium.webdriver.remote.webelement.WebElement (session=\"1b0d903e86cf19d956e7e7a92f452a51\", element=\"577d380e-b6c4-4e2c-9d74-206bfdbbeb01\")>,\n",
       " <selenium.webdriver.remote.webelement.WebElement (session=\"1b0d903e86cf19d956e7e7a92f452a51\", element=\"d780aecd-cdb3-49ab-988b-d43eaeb4c02b\")>,\n",
       " <selenium.webdriver.remote.webelement.WebElement (session=\"1b0d903e86cf19d956e7e7a92f452a51\", element=\"393794fd-691e-4ced-881b-e78f76c4a9e8\")>,\n",
       " <selenium.webdriver.remote.webelement.WebElement (session=\"1b0d903e86cf19d956e7e7a92f452a51\", element=\"a8004d4e-6919-4e2d-91e3-675a93d82474\")>,\n",
       " <selenium.webdriver.remote.webelement.WebElement (session=\"1b0d903e86cf19d956e7e7a92f452a51\", element=\"8af63e42-4a9b-4433-8357-378ef1040444\")>,\n",
       " <selenium.webdriver.remote.webelement.WebElement (session=\"1b0d903e86cf19d956e7e7a92f452a51\", element=\"de1a3bc3-8a25-47ff-bbac-5323624b4c9b\")>,\n",
       " <selenium.webdriver.remote.webelement.WebElement (session=\"1b0d903e86cf19d956e7e7a92f452a51\", element=\"28cfbfef-6a05-447a-a995-1d2959e85a26\")>,\n",
       " <selenium.webdriver.remote.webelement.WebElement (session=\"1b0d903e86cf19d956e7e7a92f452a51\", element=\"0bc3a46f-940d-4c66-9a15-4dbac13729c1\")>,\n",
       " <selenium.webdriver.remote.webelement.WebElement (session=\"1b0d903e86cf19d956e7e7a92f452a51\", element=\"4d1b5279-e830-48f9-9d65-625e33ed0553\")>,\n",
       " <selenium.webdriver.remote.webelement.WebElement (session=\"1b0d903e86cf19d956e7e7a92f452a51\", element=\"c21f3486-c53b-4638-b324-5521045be76c\")>,\n",
       " <selenium.webdriver.remote.webelement.WebElement (session=\"1b0d903e86cf19d956e7e7a92f452a51\", element=\"e8962591-7d3f-47d7-aa9a-1f4a3fc849bf\")>]"
      ]
     },
     "execution_count": 10,
     "metadata": {},
     "output_type": "execute_result"
    }
   ],
   "source": [
    "#extracting the comapany names.\n",
    "company_tags= driver.find_elements_by_xpath(\"//p[@class='m-0 ']\")\n",
    "company_tags"
   ]
  },
  {
   "cell_type": "code",
   "execution_count": 11,
   "metadata": {},
   "outputs": [
    {
     "data": {
      "text/plain": [
       "['Tata Consultancy Services',\n",
       " 'Accenture',\n",
       " 'Delhivery',\n",
       " 'IBM',\n",
       " 'Ericsson-Worldwide',\n",
       " 'UnitedHealth Group',\n",
       " 'Valiance Solutions',\n",
       " 'Innovaccer',\n",
       " 'ZS Associates',\n",
       " 'EXL Service',\n",
       " 'Cognizant Technology Solutions',\n",
       " 'Optum',\n",
       " 'Tech Mahindra',\n",
       " 'OYO',\n",
       " 'Optum Global Solutions',\n",
       " 'Vidooly Media Tech',\n",
       " 'Algo8.ai',\n",
       " 'Genpact',\n",
       " 'Bharti Airtel',\n",
       " 'Nagarro']"
      ]
     },
     "execution_count": 11,
     "metadata": {},
     "output_type": "execute_result"
    }
   ],
   "source": [
    "for i in company_tags:\n",
    "    company=i.text\n",
    "    Comapany_name.append(company)\n",
    "Comapany_name"
   ]
  },
  {
   "cell_type": "code",
   "execution_count": 12,
   "metadata": {},
   "outputs": [
    {
     "data": {
      "text/plain": [
       "[<selenium.webdriver.remote.webelement.WebElement (session=\"1b0d903e86cf19d956e7e7a92f452a51\", element=\"0226da1f-5a3c-4f27-afeb-4fdbcd755232\")>,\n",
       " <selenium.webdriver.remote.webelement.WebElement (session=\"1b0d903e86cf19d956e7e7a92f452a51\", element=\"a4569530-ebce-4b34-846b-11820d1e4161\")>,\n",
       " <selenium.webdriver.remote.webelement.WebElement (session=\"1b0d903e86cf19d956e7e7a92f452a51\", element=\"baa1c417-a402-4b8f-934a-27f229c444b6\")>,\n",
       " <selenium.webdriver.remote.webelement.WebElement (session=\"1b0d903e86cf19d956e7e7a92f452a51\", element=\"7e81367d-d5e8-433a-b453-5b257798c9df\")>,\n",
       " <selenium.webdriver.remote.webelement.WebElement (session=\"1b0d903e86cf19d956e7e7a92f452a51\", element=\"ded5f127-ea8b-4321-a367-228a0ad9cb1a\")>,\n",
       " <selenium.webdriver.remote.webelement.WebElement (session=\"1b0d903e86cf19d956e7e7a92f452a51\", element=\"37e277d6-ec27-4cd8-a967-f64a9e619347\")>,\n",
       " <selenium.webdriver.remote.webelement.WebElement (session=\"1b0d903e86cf19d956e7e7a92f452a51\", element=\"28575976-759a-48c1-a6ad-98e8088e172f\")>,\n",
       " <selenium.webdriver.remote.webelement.WebElement (session=\"1b0d903e86cf19d956e7e7a92f452a51\", element=\"ad086a92-4901-422a-8d61-408f06e535c1\")>,\n",
       " <selenium.webdriver.remote.webelement.WebElement (session=\"1b0d903e86cf19d956e7e7a92f452a51\", element=\"64e27ae3-b75b-4bf8-b7f4-cc3960b866a6\")>,\n",
       " <selenium.webdriver.remote.webelement.WebElement (session=\"1b0d903e86cf19d956e7e7a92f452a51\", element=\"7bbe5114-9061-4893-a587-d3f8819b7474\")>,\n",
       " <selenium.webdriver.remote.webelement.WebElement (session=\"1b0d903e86cf19d956e7e7a92f452a51\", element=\"c7e987a6-1308-4383-9f15-163ab5fcbd5b\")>,\n",
       " <selenium.webdriver.remote.webelement.WebElement (session=\"1b0d903e86cf19d956e7e7a92f452a51\", element=\"8dfd3d50-33b5-4971-ae21-d7625f301723\")>,\n",
       " <selenium.webdriver.remote.webelement.WebElement (session=\"1b0d903e86cf19d956e7e7a92f452a51\", element=\"11a6e3fb-adc0-4754-a04f-43c7d6f8eeb8\")>,\n",
       " <selenium.webdriver.remote.webelement.WebElement (session=\"1b0d903e86cf19d956e7e7a92f452a51\", element=\"672fef80-bed9-4c29-8ea6-0f6f15013c1c\")>,\n",
       " <selenium.webdriver.remote.webelement.WebElement (session=\"1b0d903e86cf19d956e7e7a92f452a51\", element=\"163a8094-e52b-4405-bca9-ca4e24aa27f3\")>,\n",
       " <selenium.webdriver.remote.webelement.WebElement (session=\"1b0d903e86cf19d956e7e7a92f452a51\", element=\"6e7f8dbe-d82b-4586-9900-7a3628ef8b4f\")>,\n",
       " <selenium.webdriver.remote.webelement.WebElement (session=\"1b0d903e86cf19d956e7e7a92f452a51\", element=\"a98c5c2f-615a-4b3b-80df-650837c04c21\")>,\n",
       " <selenium.webdriver.remote.webelement.WebElement (session=\"1b0d903e86cf19d956e7e7a92f452a51\", element=\"1dc4bf7c-3a4b-4631-ada6-38984e13ba1c\")>,\n",
       " <selenium.webdriver.remote.webelement.WebElement (session=\"1b0d903e86cf19d956e7e7a92f452a51\", element=\"17a4657f-946f-4bf3-8654-c81bbfe8e718\")>,\n",
       " <selenium.webdriver.remote.webelement.WebElement (session=\"1b0d903e86cf19d956e7e7a92f452a51\", element=\"78ecad75-683b-46fc-8f8f-49310921a84f\")>]"
      ]
     },
     "execution_count": 12,
     "metadata": {},
     "output_type": "execute_result"
    }
   ],
   "source": [
    "#extracting the No_of_salary.\n",
    "salary= driver.find_elements_by_xpath(\"//p[@class='css-1uyte9r css-1kuy7z7 m-0 ']\")\n",
    "salary"
   ]
  },
  {
   "cell_type": "code",
   "execution_count": 13,
   "metadata": {},
   "outputs": [
    {
     "data": {
      "text/plain": [
       "['14 salaries',\n",
       " '14 salaries',\n",
       " '14 salaries',\n",
       " '13 salaries',\n",
       " '12 salaries',\n",
       " '10 salaries',\n",
       " '9 salaries',\n",
       " '8 salaries',\n",
       " '7 salaries',\n",
       " '7 salaries',\n",
       " '6 salaries',\n",
       " '6 salaries',\n",
       " '5 salaries',\n",
       " '5 salaries',\n",
       " '5 salaries',\n",
       " '5 salaries',\n",
       " '5 salaries',\n",
       " '4 salaries',\n",
       " '4 salaries',\n",
       " '4 salaries']"
      ]
     },
     "execution_count": 13,
     "metadata": {},
     "output_type": "execute_result"
    }
   ],
   "source": [
    "for i in salary:\n",
    "    sal=i.text\n",
    "    No_of_salary.append(sal)\n",
    "No_of_salary"
   ]
  },
  {
   "cell_type": "code",
   "execution_count": 14,
   "metadata": {},
   "outputs": [
    {
     "data": {
      "text/plain": [
       "[<selenium.webdriver.remote.webelement.WebElement (session=\"1b0d903e86cf19d956e7e7a92f452a51\", element=\"4603d208-2bca-48e0-b142-7afffef0245a\")>,\n",
       " <selenium.webdriver.remote.webelement.WebElement (session=\"1b0d903e86cf19d956e7e7a92f452a51\", element=\"778988b7-673e-4cad-8563-2cca11569011\")>,\n",
       " <selenium.webdriver.remote.webelement.WebElement (session=\"1b0d903e86cf19d956e7e7a92f452a51\", element=\"50e18d86-d92f-4a55-90ec-8d9318b589b6\")>,\n",
       " <selenium.webdriver.remote.webelement.WebElement (session=\"1b0d903e86cf19d956e7e7a92f452a51\", element=\"09d64ef8-8987-419b-8468-8696e79e529f\")>,\n",
       " <selenium.webdriver.remote.webelement.WebElement (session=\"1b0d903e86cf19d956e7e7a92f452a51\", element=\"f8f4ae8d-476c-4c02-bf9e-144f19501b91\")>,\n",
       " <selenium.webdriver.remote.webelement.WebElement (session=\"1b0d903e86cf19d956e7e7a92f452a51\", element=\"c444bae9-e184-414c-91a8-ed04eac77366\")>,\n",
       " <selenium.webdriver.remote.webelement.WebElement (session=\"1b0d903e86cf19d956e7e7a92f452a51\", element=\"88d15bcc-ab7b-4e9c-9a76-dcf56a01c020\")>,\n",
       " <selenium.webdriver.remote.webelement.WebElement (session=\"1b0d903e86cf19d956e7e7a92f452a51\", element=\"52ddba7a-9e02-4337-b811-56948719b146\")>,\n",
       " <selenium.webdriver.remote.webelement.WebElement (session=\"1b0d903e86cf19d956e7e7a92f452a51\", element=\"fafb1a4f-3df3-412f-b697-d690643398ca\")>,\n",
       " <selenium.webdriver.remote.webelement.WebElement (session=\"1b0d903e86cf19d956e7e7a92f452a51\", element=\"c0b74ccc-6b1e-495d-84f0-e72bc8c1a2fb\")>,\n",
       " <selenium.webdriver.remote.webelement.WebElement (session=\"1b0d903e86cf19d956e7e7a92f452a51\", element=\"bdce579b-72f4-49fc-87bb-8e964eceb92f\")>,\n",
       " <selenium.webdriver.remote.webelement.WebElement (session=\"1b0d903e86cf19d956e7e7a92f452a51\", element=\"956f87bf-23dc-4c0e-8a50-88e2e10e77e7\")>,\n",
       " <selenium.webdriver.remote.webelement.WebElement (session=\"1b0d903e86cf19d956e7e7a92f452a51\", element=\"b704b397-5d7c-4e77-b76b-8e689d738ead\")>,\n",
       " <selenium.webdriver.remote.webelement.WebElement (session=\"1b0d903e86cf19d956e7e7a92f452a51\", element=\"f416766d-a44e-42f7-bd57-13e3a75fa0c5\")>,\n",
       " <selenium.webdriver.remote.webelement.WebElement (session=\"1b0d903e86cf19d956e7e7a92f452a51\", element=\"f7eda391-cca5-408d-a49a-64b0115e1353\")>,\n",
       " <selenium.webdriver.remote.webelement.WebElement (session=\"1b0d903e86cf19d956e7e7a92f452a51\", element=\"a4da7bdc-0637-445d-8702-65f18a8a77a9\")>,\n",
       " <selenium.webdriver.remote.webelement.WebElement (session=\"1b0d903e86cf19d956e7e7a92f452a51\", element=\"669c2ac4-69f0-4ebe-a2d5-f946e7458e86\")>,\n",
       " <selenium.webdriver.remote.webelement.WebElement (session=\"1b0d903e86cf19d956e7e7a92f452a51\", element=\"231a06f4-8813-4b91-aca6-84d5812e4a45\")>,\n",
       " <selenium.webdriver.remote.webelement.WebElement (session=\"1b0d903e86cf19d956e7e7a92f452a51\", element=\"5d8151b8-a94c-40cf-bf28-9424d156dd28\")>,\n",
       " <selenium.webdriver.remote.webelement.WebElement (session=\"1b0d903e86cf19d956e7e7a92f452a51\", element=\"1707b0b5-262f-4e4f-be26-d65766c6be47\")>]"
      ]
     },
     "execution_count": 14,
     "metadata": {},
     "output_type": "execute_result"
    }
   ],
   "source": [
    "#extracting the Min_salary.\n",
    "Min_sal= driver.find_elements_by_xpath(\"//div[@class='common__RangeBarStyle__values d-flex justify-content-between ']/span[1]\")\n",
    "Min_sal"
   ]
  },
  {
   "cell_type": "code",
   "execution_count": 15,
   "metadata": {},
   "outputs": [
    {
     "data": {
      "text/plain": [
       "['₹333K',\n",
       " '₹560K',\n",
       " '₹436K',\n",
       " '₹569K',\n",
       " '₹350K',\n",
       " '₹1,037K',\n",
       " '₹487K',\n",
       " '₹602K',\n",
       " '₹196K',\n",
       " '₹558K',\n",
       " '₹769K',\n",
       " '₹783K',\n",
       " '₹400K',\n",
       " '₹942K',\n",
       " '₹1,000K',\n",
       " '₹12K',\n",
       " '₹83K',\n",
       " '₹160K',\n",
       " '₹705K',\n",
       " '₹613K']"
      ]
     },
     "execution_count": 15,
     "metadata": {},
     "output_type": "execute_result"
    }
   ],
   "source": [
    "for i in Min_sal:\n",
    "    Minsal=i.text\n",
    "    Min_salary.append(Minsal)\n",
    "Min_salary"
   ]
  },
  {
   "cell_type": "code",
   "execution_count": 16,
   "metadata": {},
   "outputs": [
    {
     "data": {
      "text/plain": [
       "[<selenium.webdriver.remote.webelement.WebElement (session=\"1b0d903e86cf19d956e7e7a92f452a51\", element=\"80e6125b-5a3e-4af2-8899-0baf8274017b\")>,\n",
       " <selenium.webdriver.remote.webelement.WebElement (session=\"1b0d903e86cf19d956e7e7a92f452a51\", element=\"a15173bf-8570-4332-9331-2dc4406f752b\")>,\n",
       " <selenium.webdriver.remote.webelement.WebElement (session=\"1b0d903e86cf19d956e7e7a92f452a51\", element=\"2023f4ab-b387-4369-8263-2fa06ae31af1\")>,\n",
       " <selenium.webdriver.remote.webelement.WebElement (session=\"1b0d903e86cf19d956e7e7a92f452a51\", element=\"f0789509-dc4d-44b9-9684-c51b6b914e78\")>,\n",
       " <selenium.webdriver.remote.webelement.WebElement (session=\"1b0d903e86cf19d956e7e7a92f452a51\", element=\"4be84cc7-b495-49b8-938d-acaca28d8406\")>,\n",
       " <selenium.webdriver.remote.webelement.WebElement (session=\"1b0d903e86cf19d956e7e7a92f452a51\", element=\"40fc413a-99a4-4c4e-a3c0-44cd0f7a079d\")>,\n",
       " <selenium.webdriver.remote.webelement.WebElement (session=\"1b0d903e86cf19d956e7e7a92f452a51\", element=\"61228e36-971f-4c50-b6c7-e7ab2a278ae7\")>,\n",
       " <selenium.webdriver.remote.webelement.WebElement (session=\"1b0d903e86cf19d956e7e7a92f452a51\", element=\"f588b8f2-df3c-4b49-ae62-1e584eecaf73\")>,\n",
       " <selenium.webdriver.remote.webelement.WebElement (session=\"1b0d903e86cf19d956e7e7a92f452a51\", element=\"c6a2729f-3e9a-45e0-b1af-db0bbc093419\")>,\n",
       " <selenium.webdriver.remote.webelement.WebElement (session=\"1b0d903e86cf19d956e7e7a92f452a51\", element=\"276d9340-343d-43e4-aa8d-6f0b7cde5d2c\")>,\n",
       " <selenium.webdriver.remote.webelement.WebElement (session=\"1b0d903e86cf19d956e7e7a92f452a51\", element=\"ffc58711-9ead-4726-a47d-f322700e74dc\")>,\n",
       " <selenium.webdriver.remote.webelement.WebElement (session=\"1b0d903e86cf19d956e7e7a92f452a51\", element=\"0ade8790-15f7-4dab-b221-89894ff32038\")>,\n",
       " <selenium.webdriver.remote.webelement.WebElement (session=\"1b0d903e86cf19d956e7e7a92f452a51\", element=\"3cd146c4-72b8-48ea-8aca-787ee58dba44\")>,\n",
       " <selenium.webdriver.remote.webelement.WebElement (session=\"1b0d903e86cf19d956e7e7a92f452a51\", element=\"fbe134c5-72fc-4911-8263-d7d835b76b09\")>,\n",
       " <selenium.webdriver.remote.webelement.WebElement (session=\"1b0d903e86cf19d956e7e7a92f452a51\", element=\"fda147b5-7250-4490-a52a-fb40c0703c14\")>,\n",
       " <selenium.webdriver.remote.webelement.WebElement (session=\"1b0d903e86cf19d956e7e7a92f452a51\", element=\"392fe265-b2dc-4b90-8832-24443825c381\")>,\n",
       " <selenium.webdriver.remote.webelement.WebElement (session=\"1b0d903e86cf19d956e7e7a92f452a51\", element=\"494e5614-00c2-48eb-9500-af0740316f76\")>,\n",
       " <selenium.webdriver.remote.webelement.WebElement (session=\"1b0d903e86cf19d956e7e7a92f452a51\", element=\"88f31eee-00a6-427e-a46a-ab7ef8e113ae\")>,\n",
       " <selenium.webdriver.remote.webelement.WebElement (session=\"1b0d903e86cf19d956e7e7a92f452a51\", element=\"4a68bf19-67ff-4640-aa89-0868299288f9\")>,\n",
       " <selenium.webdriver.remote.webelement.WebElement (session=\"1b0d903e86cf19d956e7e7a92f452a51\", element=\"5b658a30-fd39-4533-8cc1-ff7ce89a4c17\")>]"
      ]
     },
     "execution_count": 16,
     "metadata": {},
     "output_type": "execute_result"
    }
   ],
   "source": [
    "#extracting the Max_salary.\n",
    "Max_sal= driver.find_elements_by_xpath(\"//div[@class='common__RangeBarStyle__values d-flex justify-content-between ']/span[2]\")\n",
    "Max_sal"
   ]
  },
  {
   "cell_type": "code",
   "execution_count": 17,
   "metadata": {},
   "outputs": [
    {
     "data": {
      "text/plain": [
       "['₹1,080K',\n",
       " '₹2,147K',\n",
       " '₹11,274K',\n",
       " '₹2,648K',\n",
       " '₹1,565K',\n",
       " '₹1,500K',\n",
       " '₹1,421K',\n",
       " '₹1,644K',\n",
       " '₹1,755K',\n",
       " '₹1,500K',\n",
       " '₹1,225K',\n",
       " '₹1,959K',\n",
       " '₹1,680K',\n",
       " '₹1,827K',\n",
       " '₹2,085K',\n",
       " '₹61K',\n",
       " '₹1,317K',\n",
       " '₹2,178K',\n",
       " '₹2,030K',\n",
       " '₹1,091K']"
      ]
     },
     "execution_count": 17,
     "metadata": {},
     "output_type": "execute_result"
    }
   ],
   "source": [
    "for i in Max_sal:\n",
    "    Maxsal=i.text\n",
    "    Max_salary.append(Maxsal)\n",
    "Max_salary"
   ]
  },
  {
   "cell_type": "code",
   "execution_count": 18,
   "metadata": {},
   "outputs": [
    {
     "data": {
      "text/plain": [
       "[<selenium.webdriver.remote.webelement.WebElement (session=\"1b0d903e86cf19d956e7e7a92f452a51\", element=\"8aa024f1-78dd-4346-9d9e-184cd1c775f7\")>,\n",
       " <selenium.webdriver.remote.webelement.WebElement (session=\"1b0d903e86cf19d956e7e7a92f452a51\", element=\"9be8b92a-aa47-4d0b-b580-ba770357cbfc\")>,\n",
       " <selenium.webdriver.remote.webelement.WebElement (session=\"1b0d903e86cf19d956e7e7a92f452a51\", element=\"48a991bd-baf4-4fb5-b994-de595c0b2127\")>,\n",
       " <selenium.webdriver.remote.webelement.WebElement (session=\"1b0d903e86cf19d956e7e7a92f452a51\", element=\"8a486613-4264-44fe-ae75-f519c0a83130\")>,\n",
       " <selenium.webdriver.remote.webelement.WebElement (session=\"1b0d903e86cf19d956e7e7a92f452a51\", element=\"3ec233a6-8d53-4d0b-8c36-a93f24c87341\")>,\n",
       " <selenium.webdriver.remote.webelement.WebElement (session=\"1b0d903e86cf19d956e7e7a92f452a51\", element=\"a2fa6997-147e-4ee7-b5de-d80fa6c283a1\")>,\n",
       " <selenium.webdriver.remote.webelement.WebElement (session=\"1b0d903e86cf19d956e7e7a92f452a51\", element=\"7b48535a-0bc7-40de-8a86-6710c91a2cec\")>,\n",
       " <selenium.webdriver.remote.webelement.WebElement (session=\"1b0d903e86cf19d956e7e7a92f452a51\", element=\"88498407-d725-4685-b9d9-0eedea051c49\")>,\n",
       " <selenium.webdriver.remote.webelement.WebElement (session=\"1b0d903e86cf19d956e7e7a92f452a51\", element=\"2e8ce73e-4f24-411f-8879-955d3169c260\")>,\n",
       " <selenium.webdriver.remote.webelement.WebElement (session=\"1b0d903e86cf19d956e7e7a92f452a51\", element=\"2a92cf5e-98c3-43a2-b5ce-727cc556fbc3\")>,\n",
       " <selenium.webdriver.remote.webelement.WebElement (session=\"1b0d903e86cf19d956e7e7a92f452a51\", element=\"82f9b257-f391-420b-856d-da72661a49c8\")>,\n",
       " <selenium.webdriver.remote.webelement.WebElement (session=\"1b0d903e86cf19d956e7e7a92f452a51\", element=\"df99bda4-e063-4ac2-bbdf-bfc20a4a36ce\")>,\n",
       " <selenium.webdriver.remote.webelement.WebElement (session=\"1b0d903e86cf19d956e7e7a92f452a51\", element=\"4b57d16b-18b0-48d3-bf11-00d9cb2e277e\")>,\n",
       " <selenium.webdriver.remote.webelement.WebElement (session=\"1b0d903e86cf19d956e7e7a92f452a51\", element=\"ddccd296-e5da-478d-a1cf-1826673cbc2a\")>,\n",
       " <selenium.webdriver.remote.webelement.WebElement (session=\"1b0d903e86cf19d956e7e7a92f452a51\", element=\"1bd72522-7750-4ff2-a748-56d46263e044\")>,\n",
       " <selenium.webdriver.remote.webelement.WebElement (session=\"1b0d903e86cf19d956e7e7a92f452a51\", element=\"969fae3c-0cae-4c20-beb9-b7c061a42720\")>,\n",
       " <selenium.webdriver.remote.webelement.WebElement (session=\"1b0d903e86cf19d956e7e7a92f452a51\", element=\"89d99ae2-3f0d-49ff-838f-545ad92f047a\")>,\n",
       " <selenium.webdriver.remote.webelement.WebElement (session=\"1b0d903e86cf19d956e7e7a92f452a51\", element=\"7d5f927d-c0cd-4b83-85bf-1d4d90f75f77\")>,\n",
       " <selenium.webdriver.remote.webelement.WebElement (session=\"1b0d903e86cf19d956e7e7a92f452a51\", element=\"8a49211c-88e4-4823-98d6-f6fe5bf9e36b\")>,\n",
       " <selenium.webdriver.remote.webelement.WebElement (session=\"1b0d903e86cf19d956e7e7a92f452a51\", element=\"55fe5ff1-b136-4180-84f6-e049c32a875a\")>]"
      ]
     },
     "execution_count": 18,
     "metadata": {},
     "output_type": "execute_result"
    }
   ],
   "source": [
    "#extracting the Avg_salary.\n",
    "Avg_sal= driver.find_elements_by_xpath(\"//div[@class='col-2 d-none d-md-flex flex-row justify-content-end']\")\n",
    "Avg_sal"
   ]
  },
  {
   "cell_type": "code",
   "execution_count": 19,
   "metadata": {},
   "outputs": [
    {
     "data": {
      "text/plain": [
       "['₹ 5,97,967\\n/yr',\n",
       " '₹ 11,12,243\\n/yr',\n",
       " '₹ 12,12,741\\n/yr',\n",
       " '₹ 7,37,972\\n/yr',\n",
       " '₹ 7,15,984\\n/yr',\n",
       " '₹ 13,41,900\\n/yr',\n",
       " '₹ 7,90,812\\n/yr',\n",
       " '₹ 11,81,047\\n/yr',\n",
       " '₹ 9,89,924\\n/yr',\n",
       " '₹ 11,73,127\\n/yr',\n",
       " '₹ 9,77,281\\n/yr',\n",
       " '₹ 12,89,447\\n/yr',\n",
       " '₹ 10,21,234\\n/yr',\n",
       " '₹ 13,70,817\\n/yr',\n",
       " '₹ 12,86,901\\n/yr',\n",
       " '₹ 15,412\\n/mo',\n",
       " '₹ 6,75,000\\n/yr',\n",
       " '₹ 5,58,295\\n/yr',\n",
       " '₹ 12,50,000\\n/yr',\n",
       " '₹ 9,61,408\\n/yr']"
      ]
     },
     "execution_count": 19,
     "metadata": {},
     "output_type": "execute_result"
    }
   ],
   "source": [
    "for i in Avg_sal:\n",
    "    Avgsal=i.text\n",
    "    Avg_salary.append(Avgsal)\n",
    "Avg_salary"
   ]
  },
  {
   "cell_type": "code",
   "execution_count": 20,
   "metadata": {},
   "outputs": [],
   "source": [
    "#creating a data frame.\n",
    "Data_Scientist=pd.DataFrame({})\n",
    "Data_Scientist['Comapany_name'] = Comapany_name[0:10]\n",
    "Data_Scientist['No_of_salary'] = No_of_salary[0:10]\n",
    "Data_Scientist['Avg_salary'] = Avg_salary[0:10]\n",
    "Data_Scientist['Min_salary'] = Min_salary[0:10]\n",
    "Data_Scientist['Max_salary'] = Max_salary[0:10]"
   ]
  },
  {
   "cell_type": "code",
   "execution_count": 21,
   "metadata": {},
   "outputs": [
    {
     "data": {
      "text/html": [
       "<div>\n",
       "<style scoped>\n",
       "    .dataframe tbody tr th:only-of-type {\n",
       "        vertical-align: middle;\n",
       "    }\n",
       "\n",
       "    .dataframe tbody tr th {\n",
       "        vertical-align: top;\n",
       "    }\n",
       "\n",
       "    .dataframe thead th {\n",
       "        text-align: right;\n",
       "    }\n",
       "</style>\n",
       "<table border=\"1\" class=\"dataframe\">\n",
       "  <thead>\n",
       "    <tr style=\"text-align: right;\">\n",
       "      <th></th>\n",
       "      <th>Comapany_name</th>\n",
       "      <th>No_of_salary</th>\n",
       "      <th>Avg_salary</th>\n",
       "      <th>Min_salary</th>\n",
       "      <th>Max_salary</th>\n",
       "    </tr>\n",
       "  </thead>\n",
       "  <tbody>\n",
       "    <tr>\n",
       "      <th>0</th>\n",
       "      <td>Tata Consultancy Services</td>\n",
       "      <td>14 salaries</td>\n",
       "      <td>₹ 5,97,967\\n/yr</td>\n",
       "      <td>₹333K</td>\n",
       "      <td>₹1,080K</td>\n",
       "    </tr>\n",
       "    <tr>\n",
       "      <th>1</th>\n",
       "      <td>Accenture</td>\n",
       "      <td>14 salaries</td>\n",
       "      <td>₹ 11,12,243\\n/yr</td>\n",
       "      <td>₹560K</td>\n",
       "      <td>₹2,147K</td>\n",
       "    </tr>\n",
       "    <tr>\n",
       "      <th>2</th>\n",
       "      <td>Delhivery</td>\n",
       "      <td>14 salaries</td>\n",
       "      <td>₹ 12,12,741\\n/yr</td>\n",
       "      <td>₹436K</td>\n",
       "      <td>₹11,274K</td>\n",
       "    </tr>\n",
       "    <tr>\n",
       "      <th>3</th>\n",
       "      <td>IBM</td>\n",
       "      <td>13 salaries</td>\n",
       "      <td>₹ 7,37,972\\n/yr</td>\n",
       "      <td>₹569K</td>\n",
       "      <td>₹2,648K</td>\n",
       "    </tr>\n",
       "    <tr>\n",
       "      <th>4</th>\n",
       "      <td>Ericsson-Worldwide</td>\n",
       "      <td>12 salaries</td>\n",
       "      <td>₹ 7,15,984\\n/yr</td>\n",
       "      <td>₹350K</td>\n",
       "      <td>₹1,565K</td>\n",
       "    </tr>\n",
       "    <tr>\n",
       "      <th>5</th>\n",
       "      <td>UnitedHealth Group</td>\n",
       "      <td>10 salaries</td>\n",
       "      <td>₹ 13,41,900\\n/yr</td>\n",
       "      <td>₹1,037K</td>\n",
       "      <td>₹1,500K</td>\n",
       "    </tr>\n",
       "    <tr>\n",
       "      <th>6</th>\n",
       "      <td>Valiance Solutions</td>\n",
       "      <td>9 salaries</td>\n",
       "      <td>₹ 7,90,812\\n/yr</td>\n",
       "      <td>₹487K</td>\n",
       "      <td>₹1,421K</td>\n",
       "    </tr>\n",
       "    <tr>\n",
       "      <th>7</th>\n",
       "      <td>Innovaccer</td>\n",
       "      <td>8 salaries</td>\n",
       "      <td>₹ 11,81,047\\n/yr</td>\n",
       "      <td>₹602K</td>\n",
       "      <td>₹1,644K</td>\n",
       "    </tr>\n",
       "    <tr>\n",
       "      <th>8</th>\n",
       "      <td>ZS Associates</td>\n",
       "      <td>7 salaries</td>\n",
       "      <td>₹ 9,89,924\\n/yr</td>\n",
       "      <td>₹196K</td>\n",
       "      <td>₹1,755K</td>\n",
       "    </tr>\n",
       "    <tr>\n",
       "      <th>9</th>\n",
       "      <td>EXL Service</td>\n",
       "      <td>7 salaries</td>\n",
       "      <td>₹ 11,73,127\\n/yr</td>\n",
       "      <td>₹558K</td>\n",
       "      <td>₹1,500K</td>\n",
       "    </tr>\n",
       "  </tbody>\n",
       "</table>\n",
       "</div>"
      ],
      "text/plain": [
       "               Comapany_name No_of_salary        Avg_salary Min_salary  \\\n",
       "0  Tata Consultancy Services  14 salaries   ₹ 5,97,967\\n/yr      ₹333K   \n",
       "1                  Accenture  14 salaries  ₹ 11,12,243\\n/yr      ₹560K   \n",
       "2                  Delhivery  14 salaries  ₹ 12,12,741\\n/yr      ₹436K   \n",
       "3                        IBM  13 salaries   ₹ 7,37,972\\n/yr      ₹569K   \n",
       "4         Ericsson-Worldwide  12 salaries   ₹ 7,15,984\\n/yr      ₹350K   \n",
       "5         UnitedHealth Group  10 salaries  ₹ 13,41,900\\n/yr    ₹1,037K   \n",
       "6         Valiance Solutions   9 salaries   ₹ 7,90,812\\n/yr      ₹487K   \n",
       "7                 Innovaccer   8 salaries  ₹ 11,81,047\\n/yr      ₹602K   \n",
       "8              ZS Associates   7 salaries   ₹ 9,89,924\\n/yr      ₹196K   \n",
       "9                EXL Service   7 salaries  ₹ 11,73,127\\n/yr      ₹558K   \n",
       "\n",
       "  Max_salary  \n",
       "0    ₹1,080K  \n",
       "1    ₹2,147K  \n",
       "2   ₹11,274K  \n",
       "3    ₹2,648K  \n",
       "4    ₹1,565K  \n",
       "5    ₹1,500K  \n",
       "6    ₹1,421K  \n",
       "7    ₹1,644K  \n",
       "8    ₹1,755K  \n",
       "9    ₹1,500K  "
      ]
     },
     "execution_count": 21,
     "metadata": {},
     "output_type": "execute_result"
    }
   ],
   "source": [
    "Data_Scientist"
   ]
  },
  {
   "cell_type": "code",
   "execution_count": null,
   "metadata": {},
   "outputs": [],
   "source": []
  }
 ],
 "metadata": {
  "kernelspec": {
   "display_name": "Python 3",
   "language": "python",
   "name": "python3"
  },
  "language_info": {
   "codemirror_mode": {
    "name": "ipython",
    "version": 3
   },
   "file_extension": ".py",
   "mimetype": "text/x-python",
   "name": "python",
   "nbconvert_exporter": "python",
   "pygments_lexer": "ipython3",
   "version": "3.8.3"
  }
 },
 "nbformat": 4,
 "nbformat_minor": 4
}
