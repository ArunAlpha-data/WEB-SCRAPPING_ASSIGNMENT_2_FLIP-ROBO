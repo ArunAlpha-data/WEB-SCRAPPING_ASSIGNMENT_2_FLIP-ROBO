{
 "cells": [
  {
   "cell_type": "markdown",
   "metadata": {},
   "source": [
    "# OBJECTIVE : \n",
    "\n",
    "        To Scrape data of first 100 sunglasses listings on flipkart.com. You have to scrape four attributes:\n",
    "        1. Brand\n",
    "        2. Product Description\n",
    "        3. Price\n",
    "        4. Discount %"
   ]
  },
  {
   "cell_type": "code",
   "execution_count": 1,
   "metadata": {},
   "outputs": [],
   "source": [
    "# importing required libraries.\n",
    "import pandas as pd\n",
    "import selenium\n",
    "from selenium import webdriver"
   ]
  },
  {
   "cell_type": "code",
   "execution_count": 2,
   "metadata": {},
   "outputs": [],
   "source": [
    "#connecting the web driver.\n",
    "driver=webdriver.Chrome(r'C:\\Program Files (x86)\\chromedriver_win32\\chromedriver.exe')"
   ]
  },
  {
   "cell_type": "code",
   "execution_count": 3,
   "metadata": {},
   "outputs": [],
   "source": [
    "driver.get('https://www.flipkart.com/')"
   ]
  },
  {
   "cell_type": "code",
   "execution_count": 4,
   "metadata": {},
   "outputs": [],
   "source": [
    "#Closing the popup \n",
    "popup_close=driver.find_element_by_xpath(\"//button[@class='_2KpZ6l _2doB4z']\")\n",
    "popup_close.click()"
   ]
  },
  {
   "cell_type": "code",
   "execution_count": 5,
   "metadata": {},
   "outputs": [],
   "source": [
    "#finding and filling the product and searching using automation.\n",
    "search_product = driver.find_element_by_xpath(\"//input[@class='_3704LK']\")\n",
    "search_product.send_keys('sunglasses')"
   ]
  },
  {
   "cell_type": "code",
   "execution_count": 6,
   "metadata": {},
   "outputs": [],
   "source": [
    "search_button=driver.find_element_by_xpath(\"//button[@class='L0Z3Pu']\")\n",
    "search_button.click()"
   ]
  },
  {
   "cell_type": "code",
   "execution_count": 19,
   "metadata": {},
   "outputs": [],
   "source": [
    "#creating the list\n",
    "Brand=[]\n",
    "Product_Discription=[]\n",
    "Price=[]\n",
    "Discount=[]"
   ]
  },
  {
   "cell_type": "code",
   "execution_count": 20,
   "metadata": {
    "scrolled": true
   },
   "outputs": [
    {
     "data": {
      "text/plain": [
       "[<selenium.webdriver.remote.webelement.WebElement (session=\"b1acfd4c3d27fd227d9c3db0f6e6a7c4\", element=\"b9794008-3244-4f78-ab8a-51a3aeaf90e6\")>,\n",
       " <selenium.webdriver.remote.webelement.WebElement (session=\"b1acfd4c3d27fd227d9c3db0f6e6a7c4\", element=\"063af5e6-1243-4000-b0a3-91c4e42a4af0\")>,\n",
       " <selenium.webdriver.remote.webelement.WebElement (session=\"b1acfd4c3d27fd227d9c3db0f6e6a7c4\", element=\"ba431b96-3dc9-46c5-8dbd-0ba26b864ad0\")>,\n",
       " <selenium.webdriver.remote.webelement.WebElement (session=\"b1acfd4c3d27fd227d9c3db0f6e6a7c4\", element=\"05af22af-dcf7-4d42-b6f0-a38baba8961b\")>,\n",
       " <selenium.webdriver.remote.webelement.WebElement (session=\"b1acfd4c3d27fd227d9c3db0f6e6a7c4\", element=\"22cf1fb2-bb20-4b3b-b115-db769a8ee903\")>,\n",
       " <selenium.webdriver.remote.webelement.WebElement (session=\"b1acfd4c3d27fd227d9c3db0f6e6a7c4\", element=\"14be0114-6a53-451e-bd46-52da5a72d604\")>,\n",
       " <selenium.webdriver.remote.webelement.WebElement (session=\"b1acfd4c3d27fd227d9c3db0f6e6a7c4\", element=\"3cbe8ff0-cdc1-47e1-af26-9191ab614df2\")>,\n",
       " <selenium.webdriver.remote.webelement.WebElement (session=\"b1acfd4c3d27fd227d9c3db0f6e6a7c4\", element=\"c6bdb963-7194-41db-91e8-2dc00d7187eb\")>,\n",
       " <selenium.webdriver.remote.webelement.WebElement (session=\"b1acfd4c3d27fd227d9c3db0f6e6a7c4\", element=\"7fa2b1d6-c543-4fbf-a8af-129fdd4b9dae\")>,\n",
       " <selenium.webdriver.remote.webelement.WebElement (session=\"b1acfd4c3d27fd227d9c3db0f6e6a7c4\", element=\"c83b414d-c6a9-468c-8c9b-df0f6a184e2f\")>,\n",
       " <selenium.webdriver.remote.webelement.WebElement (session=\"b1acfd4c3d27fd227d9c3db0f6e6a7c4\", element=\"dd80a30d-757b-4e08-9e0d-c3e5b594b175\")>,\n",
       " <selenium.webdriver.remote.webelement.WebElement (session=\"b1acfd4c3d27fd227d9c3db0f6e6a7c4\", element=\"11bb4e97-fabc-4ac0-96dd-8daaf4f1432b\")>,\n",
       " <selenium.webdriver.remote.webelement.WebElement (session=\"b1acfd4c3d27fd227d9c3db0f6e6a7c4\", element=\"18095a34-4590-4ebb-9f50-f39d3513ffc0\")>,\n",
       " <selenium.webdriver.remote.webelement.WebElement (session=\"b1acfd4c3d27fd227d9c3db0f6e6a7c4\", element=\"f9aa9994-ed9b-4062-965d-b1b769f2c7d4\")>,\n",
       " <selenium.webdriver.remote.webelement.WebElement (session=\"b1acfd4c3d27fd227d9c3db0f6e6a7c4\", element=\"7769f4d7-1985-466e-81a6-6593f1a552f4\")>,\n",
       " <selenium.webdriver.remote.webelement.WebElement (session=\"b1acfd4c3d27fd227d9c3db0f6e6a7c4\", element=\"82b7526d-de79-45fe-b339-27a439583753\")>,\n",
       " <selenium.webdriver.remote.webelement.WebElement (session=\"b1acfd4c3d27fd227d9c3db0f6e6a7c4\", element=\"f3134cbc-2cc0-420e-9275-fbed92992cd5\")>,\n",
       " <selenium.webdriver.remote.webelement.WebElement (session=\"b1acfd4c3d27fd227d9c3db0f6e6a7c4\", element=\"de62b7ef-d582-49af-8a84-fb2dbd412194\")>,\n",
       " <selenium.webdriver.remote.webelement.WebElement (session=\"b1acfd4c3d27fd227d9c3db0f6e6a7c4\", element=\"fe72fcc6-3267-4f30-8e98-4691e07e364a\")>,\n",
       " <selenium.webdriver.remote.webelement.WebElement (session=\"b1acfd4c3d27fd227d9c3db0f6e6a7c4\", element=\"e7bac0ad-97ce-4042-bcea-d8b00c9bd0f1\")>,\n",
       " <selenium.webdriver.remote.webelement.WebElement (session=\"b1acfd4c3d27fd227d9c3db0f6e6a7c4\", element=\"6ca1905b-2168-4b5b-b18f-730fa9cb891d\")>,\n",
       " <selenium.webdriver.remote.webelement.WebElement (session=\"b1acfd4c3d27fd227d9c3db0f6e6a7c4\", element=\"7e1c327f-d06e-4d4c-bd0f-970fa5efdcd6\")>,\n",
       " <selenium.webdriver.remote.webelement.WebElement (session=\"b1acfd4c3d27fd227d9c3db0f6e6a7c4\", element=\"96a49100-aba7-421c-905d-14aa24ce9a77\")>,\n",
       " <selenium.webdriver.remote.webelement.WebElement (session=\"b1acfd4c3d27fd227d9c3db0f6e6a7c4\", element=\"187c8de7-a083-4115-a609-8f72550f62b4\")>,\n",
       " <selenium.webdriver.remote.webelement.WebElement (session=\"b1acfd4c3d27fd227d9c3db0f6e6a7c4\", element=\"400b6bab-feab-43e8-9b14-6164237a343c\")>,\n",
       " <selenium.webdriver.remote.webelement.WebElement (session=\"b1acfd4c3d27fd227d9c3db0f6e6a7c4\", element=\"adcb2234-cf12-4529-94a0-75195fc5a56b\")>,\n",
       " <selenium.webdriver.remote.webelement.WebElement (session=\"b1acfd4c3d27fd227d9c3db0f6e6a7c4\", element=\"1ca18390-0013-49f8-845a-6d9444a52bbd\")>,\n",
       " <selenium.webdriver.remote.webelement.WebElement (session=\"b1acfd4c3d27fd227d9c3db0f6e6a7c4\", element=\"b4b03ae1-7474-4bce-8857-63be7f4b5a01\")>,\n",
       " <selenium.webdriver.remote.webelement.WebElement (session=\"b1acfd4c3d27fd227d9c3db0f6e6a7c4\", element=\"3525f530-be5d-47d2-b9e4-5684818a950a\")>,\n",
       " <selenium.webdriver.remote.webelement.WebElement (session=\"b1acfd4c3d27fd227d9c3db0f6e6a7c4\", element=\"d7ea3aae-86c2-4357-a749-23c6f38c0484\")>,\n",
       " <selenium.webdriver.remote.webelement.WebElement (session=\"b1acfd4c3d27fd227d9c3db0f6e6a7c4\", element=\"70af8b54-1b37-45e1-b0dc-09952fe07a8f\")>,\n",
       " <selenium.webdriver.remote.webelement.WebElement (session=\"b1acfd4c3d27fd227d9c3db0f6e6a7c4\", element=\"b19e0717-91a0-48d5-9c5d-f29e33c9d388\")>,\n",
       " <selenium.webdriver.remote.webelement.WebElement (session=\"b1acfd4c3d27fd227d9c3db0f6e6a7c4\", element=\"6582c612-ea5b-4540-9578-f5cb4f8c3741\")>,\n",
       " <selenium.webdriver.remote.webelement.WebElement (session=\"b1acfd4c3d27fd227d9c3db0f6e6a7c4\", element=\"e59f9404-b317-4985-bea6-9b96c6a7cb7e\")>,\n",
       " <selenium.webdriver.remote.webelement.WebElement (session=\"b1acfd4c3d27fd227d9c3db0f6e6a7c4\", element=\"c19e69a1-39ce-4108-9793-a787d9f2aa7e\")>,\n",
       " <selenium.webdriver.remote.webelement.WebElement (session=\"b1acfd4c3d27fd227d9c3db0f6e6a7c4\", element=\"6cb71773-9d92-4ab7-9cc0-fee672bb9045\")>,\n",
       " <selenium.webdriver.remote.webelement.WebElement (session=\"b1acfd4c3d27fd227d9c3db0f6e6a7c4\", element=\"ee8ae51b-2be2-4a71-9180-5e95a7c38f7f\")>,\n",
       " <selenium.webdriver.remote.webelement.WebElement (session=\"b1acfd4c3d27fd227d9c3db0f6e6a7c4\", element=\"e6304dad-e43c-4739-ab36-4386a21f5cbd\")>,\n",
       " <selenium.webdriver.remote.webelement.WebElement (session=\"b1acfd4c3d27fd227d9c3db0f6e6a7c4\", element=\"7ed8fc66-7412-456e-b9e9-28231cfc0384\")>,\n",
       " <selenium.webdriver.remote.webelement.WebElement (session=\"b1acfd4c3d27fd227d9c3db0f6e6a7c4\", element=\"bce97d83-ccde-4d5f-a4a4-2fb8714f2967\")>]"
      ]
     },
     "execution_count": 20,
     "metadata": {},
     "output_type": "execute_result"
    }
   ],
   "source": [
    "Brand_tag1=driver.find_elements_by_xpath(\"//div[@class='_2WkVRV']\")\n",
    "Brand_tag1"
   ]
  },
  {
   "cell_type": "code",
   "execution_count": 21,
   "metadata": {
    "scrolled": true
   },
   "outputs": [
    {
     "data": {
      "text/plain": [
       "['NuVew',\n",
       " 'ROYAL SON',\n",
       " 'Fastrack',\n",
       " 'Fastrack',\n",
       " 'Silver Kartz',\n",
       " 'PIRASO',\n",
       " 'Fastrack',\n",
       " 'PIRASO',\n",
       " 'ROZZETTA CRAFT',\n",
       " 'ROZZETTA CRAFT',\n",
       " 'phenomenal',\n",
       " 'phenomenal',\n",
       " 'Singco India',\n",
       " 'ROYAL SON',\n",
       " 'Fastrack',\n",
       " 'Fastrack',\n",
       " 'Singco India',\n",
       " 'Fastrack',\n",
       " 'HIPPON',\n",
       " 'ROYAL SON',\n",
       " 'Fastrack',\n",
       " 'Fastrack',\n",
       " 'NuVew',\n",
       " 'Aislin',\n",
       " 'ROZZETTA CRAFT',\n",
       " 'Singco India',\n",
       " 'Fastrack',\n",
       " 'phenomenal',\n",
       " 'Fastrack',\n",
       " 'ROYAL SON',\n",
       " 'Singco India',\n",
       " 'ROZZETTA CRAFT',\n",
       " 'PIRASO',\n",
       " 'ROYAL SON',\n",
       " 'phenomenal',\n",
       " 'DEIXELS',\n",
       " 'Fastrack',\n",
       " 'Fastrack',\n",
       " 'Villain',\n",
       " 'Aislin']"
      ]
     },
     "execution_count": 21,
     "metadata": {},
     "output_type": "execute_result"
    }
   ],
   "source": [
    "Brand_1=[]\n",
    "for i in Brand_tag1:\n",
    "    brandtag=i.text\n",
    "    Brand_1.append(brandtag)\n",
    "Brand_1"
   ]
  },
  {
   "cell_type": "code",
   "execution_count": 22,
   "metadata": {
    "scrolled": true
   },
   "outputs": [
    {
     "data": {
      "text/plain": [
       "[<selenium.webdriver.remote.webelement.WebElement (session=\"b1acfd4c3d27fd227d9c3db0f6e6a7c4\", element=\"0f6f3399-da2e-4525-bf8b-36d871c52b8f\")>,\n",
       " <selenium.webdriver.remote.webelement.WebElement (session=\"b1acfd4c3d27fd227d9c3db0f6e6a7c4\", element=\"23df6353-ffa6-4d53-a8c2-25e160432c29\")>,\n",
       " <selenium.webdriver.remote.webelement.WebElement (session=\"b1acfd4c3d27fd227d9c3db0f6e6a7c4\", element=\"38e6a0b8-14c3-46a0-a9fb-d12f45a387ab\")>,\n",
       " <selenium.webdriver.remote.webelement.WebElement (session=\"b1acfd4c3d27fd227d9c3db0f6e6a7c4\", element=\"3af6e6cb-d403-416d-9fb7-9a3b2aac3651\")>,\n",
       " <selenium.webdriver.remote.webelement.WebElement (session=\"b1acfd4c3d27fd227d9c3db0f6e6a7c4\", element=\"2058085b-2cb0-4354-b4dd-7508b39d9547\")>,\n",
       " <selenium.webdriver.remote.webelement.WebElement (session=\"b1acfd4c3d27fd227d9c3db0f6e6a7c4\", element=\"bf3411cd-e80f-4133-beaa-a9bb66fbbf41\")>,\n",
       " <selenium.webdriver.remote.webelement.WebElement (session=\"b1acfd4c3d27fd227d9c3db0f6e6a7c4\", element=\"af4d1f39-4e76-417d-9f35-f8ca93655a6e\")>,\n",
       " <selenium.webdriver.remote.webelement.WebElement (session=\"b1acfd4c3d27fd227d9c3db0f6e6a7c4\", element=\"b45a1e0e-3cf1-4dfd-a064-def31b89436a\")>,\n",
       " <selenium.webdriver.remote.webelement.WebElement (session=\"b1acfd4c3d27fd227d9c3db0f6e6a7c4\", element=\"8bbc9a26-9a0e-4567-a9c6-3659cc8d6b51\")>,\n",
       " <selenium.webdriver.remote.webelement.WebElement (session=\"b1acfd4c3d27fd227d9c3db0f6e6a7c4\", element=\"55c63dcd-e45a-4656-992d-5c3f895eae50\")>,\n",
       " <selenium.webdriver.remote.webelement.WebElement (session=\"b1acfd4c3d27fd227d9c3db0f6e6a7c4\", element=\"4e72b6de-9fc9-4efc-ae16-dff846b90a8c\")>,\n",
       " <selenium.webdriver.remote.webelement.WebElement (session=\"b1acfd4c3d27fd227d9c3db0f6e6a7c4\", element=\"4721fe5e-8d4e-402f-8d75-88ccedb34b4e\")>,\n",
       " <selenium.webdriver.remote.webelement.WebElement (session=\"b1acfd4c3d27fd227d9c3db0f6e6a7c4\", element=\"962fb518-6b79-46d5-8c01-aa7bee87668c\")>,\n",
       " <selenium.webdriver.remote.webelement.WebElement (session=\"b1acfd4c3d27fd227d9c3db0f6e6a7c4\", element=\"15a1e7d9-c14d-4a9d-b9cd-2f1133c616d0\")>,\n",
       " <selenium.webdriver.remote.webelement.WebElement (session=\"b1acfd4c3d27fd227d9c3db0f6e6a7c4\", element=\"3c2ad62c-a0fb-4af6-942b-9ef2517d6b09\")>,\n",
       " <selenium.webdriver.remote.webelement.WebElement (session=\"b1acfd4c3d27fd227d9c3db0f6e6a7c4\", element=\"fe3005d2-0600-45dd-9b71-417aeddfb5f2\")>,\n",
       " <selenium.webdriver.remote.webelement.WebElement (session=\"b1acfd4c3d27fd227d9c3db0f6e6a7c4\", element=\"3162458a-9c44-45b0-91d5-93088530d403\")>,\n",
       " <selenium.webdriver.remote.webelement.WebElement (session=\"b1acfd4c3d27fd227d9c3db0f6e6a7c4\", element=\"57885ea7-96b0-49d1-82a9-f755eae31d57\")>,\n",
       " <selenium.webdriver.remote.webelement.WebElement (session=\"b1acfd4c3d27fd227d9c3db0f6e6a7c4\", element=\"60ef110d-677b-4d30-ad8c-27ef03b6198e\")>,\n",
       " <selenium.webdriver.remote.webelement.WebElement (session=\"b1acfd4c3d27fd227d9c3db0f6e6a7c4\", element=\"3ffd82a3-cbcf-4f07-a96b-f974c024db8f\")>,\n",
       " <selenium.webdriver.remote.webelement.WebElement (session=\"b1acfd4c3d27fd227d9c3db0f6e6a7c4\", element=\"385428c7-5faf-4ef9-91ee-8ce9ce37c328\")>,\n",
       " <selenium.webdriver.remote.webelement.WebElement (session=\"b1acfd4c3d27fd227d9c3db0f6e6a7c4\", element=\"3933a985-722e-42b1-933e-667707d39e0d\")>,\n",
       " <selenium.webdriver.remote.webelement.WebElement (session=\"b1acfd4c3d27fd227d9c3db0f6e6a7c4\", element=\"2b06ac8d-ba8f-458c-834f-c2c743b844ea\")>,\n",
       " <selenium.webdriver.remote.webelement.WebElement (session=\"b1acfd4c3d27fd227d9c3db0f6e6a7c4\", element=\"a4d6f66b-c4f4-40a8-9a80-0f04bc528252\")>,\n",
       " <selenium.webdriver.remote.webelement.WebElement (session=\"b1acfd4c3d27fd227d9c3db0f6e6a7c4\", element=\"408ed349-c11b-4f86-95a7-a9d73dee4c40\")>,\n",
       " <selenium.webdriver.remote.webelement.WebElement (session=\"b1acfd4c3d27fd227d9c3db0f6e6a7c4\", element=\"fe2b2317-e484-4e14-a92b-3e1db1dee7d0\")>,\n",
       " <selenium.webdriver.remote.webelement.WebElement (session=\"b1acfd4c3d27fd227d9c3db0f6e6a7c4\", element=\"7f809cd8-b040-44e4-a627-1468bf056070\")>,\n",
       " <selenium.webdriver.remote.webelement.WebElement (session=\"b1acfd4c3d27fd227d9c3db0f6e6a7c4\", element=\"f1e3cfad-6ddc-44ab-a8fb-889633e1f6b3\")>,\n",
       " <selenium.webdriver.remote.webelement.WebElement (session=\"b1acfd4c3d27fd227d9c3db0f6e6a7c4\", element=\"8531ad34-de1d-47ff-bb42-f94b8153d385\")>,\n",
       " <selenium.webdriver.remote.webelement.WebElement (session=\"b1acfd4c3d27fd227d9c3db0f6e6a7c4\", element=\"b723957b-7992-422a-92f0-4f0e63cf331a\")>,\n",
       " <selenium.webdriver.remote.webelement.WebElement (session=\"b1acfd4c3d27fd227d9c3db0f6e6a7c4\", element=\"dd5ffd2d-c304-4ac0-8c5f-5e57cfda0b01\")>,\n",
       " <selenium.webdriver.remote.webelement.WebElement (session=\"b1acfd4c3d27fd227d9c3db0f6e6a7c4\", element=\"bf97e35d-892e-408b-944e-6404f829584f\")>,\n",
       " <selenium.webdriver.remote.webelement.WebElement (session=\"b1acfd4c3d27fd227d9c3db0f6e6a7c4\", element=\"06026174-63d3-4175-bdb6-4282bb4d84c3\")>,\n",
       " <selenium.webdriver.remote.webelement.WebElement (session=\"b1acfd4c3d27fd227d9c3db0f6e6a7c4\", element=\"54230016-23cd-4cef-a57c-d33c39c0abad\")>,\n",
       " <selenium.webdriver.remote.webelement.WebElement (session=\"b1acfd4c3d27fd227d9c3db0f6e6a7c4\", element=\"4b00a09c-214d-497a-b3ac-32b5b5545ee8\")>,\n",
       " <selenium.webdriver.remote.webelement.WebElement (session=\"b1acfd4c3d27fd227d9c3db0f6e6a7c4\", element=\"4eb313ff-7fd6-48ce-9451-03f01c9b55d1\")>,\n",
       " <selenium.webdriver.remote.webelement.WebElement (session=\"b1acfd4c3d27fd227d9c3db0f6e6a7c4\", element=\"40d4d974-e74d-4b23-ba64-135aaa5737b0\")>,\n",
       " <selenium.webdriver.remote.webelement.WebElement (session=\"b1acfd4c3d27fd227d9c3db0f6e6a7c4\", element=\"33353431-b001-479b-80ce-e836ef779eb3\")>,\n",
       " <selenium.webdriver.remote.webelement.WebElement (session=\"b1acfd4c3d27fd227d9c3db0f6e6a7c4\", element=\"7fa444c2-6d64-4b62-a06b-16e2b83f7e65\")>]"
      ]
     },
     "execution_count": 22,
     "metadata": {},
     "output_type": "execute_result"
    }
   ],
   "source": [
    "Prod_dis1=driver.find_elements_by_xpath(\"//a[@class='IRpwTa']\")\n",
    "Prod_dis1"
   ]
  },
  {
   "cell_type": "code",
   "execution_count": 23,
   "metadata": {
    "scrolled": true
   },
   "outputs": [
    {
     "data": {
      "text/plain": [
       "['UV Protection, Gradient Cat-eye Sunglasses (63)',\n",
       " 'UV Protection Retro Square Sunglasses (88)',\n",
       " 'UV Protection Wayfarer Sunglasses (Free Size)',\n",
       " 'Mirrored, UV Protection Wayfarer Sunglasses (Free Size)',\n",
       " 'UV Protection Wayfarer Sunglasses (Free Size)',\n",
       " 'UV Protection Aviator Sunglasses (Free Size)',\n",
       " 'UV Protection Wayfarer Sunglasses (Free Size)',\n",
       " 'UV Protection Aviator Sunglasses (54)',\n",
       " 'UV Protection Retro Square Sunglasses (Free Size)',\n",
       " 'UV Protection, Gradient Rectangular Sunglasses (Free Si...',\n",
       " 'UV Protection, Mirrored Retro Square Sunglasses (53)',\n",
       " 'UV Protection Retro Square Sunglasses (Free Size)',\n",
       " 'UV Protection, Polarized Aviator Sunglasses (Free Size)',\n",
       " 'Polarized, UV Protection Round Sunglasses (49)',\n",
       " 'UV Protection Aviator Sunglasses (58)',\n",
       " 'UV Protection Aviator Sunglasses (58)',\n",
       " 'UV Protection Round Sunglasses (Free Size)',\n",
       " 'UV Protection Shield Sunglasses (Free Size)',\n",
       " 'UV Protection Wayfarer Sunglasses (55)',\n",
       " 'Polarized Retro Square Sunglasses (52)',\n",
       " 'UV Protection Wayfarer Sunglasses (Free Size)',\n",
       " 'UV Protection Aviator Sunglasses (Free Size)',\n",
       " 'UV Protection Aviator Sunglasses (57)',\n",
       " 'UV Protection Retro Square Sunglasses (Free Size)',\n",
       " 'Mirrored, Riding Glasses, Others Sports Sunglasses (50)',\n",
       " 'UV Protection Wayfarer Sunglasses (56)',\n",
       " 'UV Protection, Mirrored Clubmaster Sunglasses (Free Siz...',\n",
       " 'Gradient, UV Protection Wayfarer Sunglasses (Free Size)',\n",
       " 'UV Protection Wayfarer Sunglasses (55)',\n",
       " 'UV Protection Aviator Sunglasses (Free Size)',\n",
       " 'UV Protection, Riding Glasses Rectangular Sunglasses (F...',\n",
       " 'UV Protection Wayfarer Sunglasses (32)',\n",
       " 'Polarized, UV Protection Rectangular Sunglasses (59)',\n",
       " 'UV Protection Clubmaster Sunglasses (Free Size)',\n",
       " 'UV Protection Wayfarer Sunglasses (Free Size)',\n",
       " 'UV Protection Aviator Sunglasses (58)',\n",
       " 'UV Protection Wayfarer Sunglasses (Free Size)',\n",
       " 'Others Retro Square Sunglasses (Free Size)',\n",
       " 'UV Protection, Gradient Wayfarer Sunglasses (57)']"
      ]
     },
     "execution_count": 23,
     "metadata": {},
     "output_type": "execute_result"
    }
   ],
   "source": [
    "Prod_dis_1=[]\n",
    "for i in Prod_dis1:\n",
    "    Proddis=i.text\n",
    "    Prod_dis_1.append(Proddis)\n",
    "Prod_dis_1"
   ]
  },
  {
   "cell_type": "code",
   "execution_count": 24,
   "metadata": {
    "scrolled": true
   },
   "outputs": [
    {
     "data": {
      "text/plain": [
       "[<selenium.webdriver.remote.webelement.WebElement (session=\"b1acfd4c3d27fd227d9c3db0f6e6a7c4\", element=\"c9cdb026-ab3b-4902-89cb-7dfce21284c6\")>,\n",
       " <selenium.webdriver.remote.webelement.WebElement (session=\"b1acfd4c3d27fd227d9c3db0f6e6a7c4\", element=\"1bdff6db-31c3-493c-a310-8a306cdaa951\")>,\n",
       " <selenium.webdriver.remote.webelement.WebElement (session=\"b1acfd4c3d27fd227d9c3db0f6e6a7c4\", element=\"03833a43-e1bd-4a0b-bf4a-2c78dd35b60c\")>,\n",
       " <selenium.webdriver.remote.webelement.WebElement (session=\"b1acfd4c3d27fd227d9c3db0f6e6a7c4\", element=\"2c8d78a7-ef4f-4b70-b039-5d650e15957a\")>,\n",
       " <selenium.webdriver.remote.webelement.WebElement (session=\"b1acfd4c3d27fd227d9c3db0f6e6a7c4\", element=\"9f13bbe6-413f-4177-bd16-70c0487a8a64\")>,\n",
       " <selenium.webdriver.remote.webelement.WebElement (session=\"b1acfd4c3d27fd227d9c3db0f6e6a7c4\", element=\"1d41c090-ef95-4716-9117-77e8019e8072\")>,\n",
       " <selenium.webdriver.remote.webelement.WebElement (session=\"b1acfd4c3d27fd227d9c3db0f6e6a7c4\", element=\"ab3173ad-3ac7-43a3-b253-47679b1cb37e\")>,\n",
       " <selenium.webdriver.remote.webelement.WebElement (session=\"b1acfd4c3d27fd227d9c3db0f6e6a7c4\", element=\"df017733-2179-4fa3-a7b2-fca7394078a1\")>,\n",
       " <selenium.webdriver.remote.webelement.WebElement (session=\"b1acfd4c3d27fd227d9c3db0f6e6a7c4\", element=\"4adbbaae-165e-4362-80cd-c58ce95a4bd8\")>,\n",
       " <selenium.webdriver.remote.webelement.WebElement (session=\"b1acfd4c3d27fd227d9c3db0f6e6a7c4\", element=\"5aa1515c-ffe7-4d96-b0c1-5b80670b10d0\")>,\n",
       " <selenium.webdriver.remote.webelement.WebElement (session=\"b1acfd4c3d27fd227d9c3db0f6e6a7c4\", element=\"316a886d-25cb-4974-9f0b-9f87ec610982\")>,\n",
       " <selenium.webdriver.remote.webelement.WebElement (session=\"b1acfd4c3d27fd227d9c3db0f6e6a7c4\", element=\"005a359c-4fa3-4077-8bd1-5225efa99496\")>,\n",
       " <selenium.webdriver.remote.webelement.WebElement (session=\"b1acfd4c3d27fd227d9c3db0f6e6a7c4\", element=\"1dd603bd-6b69-46bc-b95b-a1b8dd720a56\")>,\n",
       " <selenium.webdriver.remote.webelement.WebElement (session=\"b1acfd4c3d27fd227d9c3db0f6e6a7c4\", element=\"538fa5eb-06cb-4034-8670-b3c30129cd46\")>,\n",
       " <selenium.webdriver.remote.webelement.WebElement (session=\"b1acfd4c3d27fd227d9c3db0f6e6a7c4\", element=\"b0ceab35-c53d-4d77-9c21-e8a37e23728b\")>,\n",
       " <selenium.webdriver.remote.webelement.WebElement (session=\"b1acfd4c3d27fd227d9c3db0f6e6a7c4\", element=\"ae49fdd4-2246-4599-b48d-3611c572a7c6\")>,\n",
       " <selenium.webdriver.remote.webelement.WebElement (session=\"b1acfd4c3d27fd227d9c3db0f6e6a7c4\", element=\"d227b828-56c7-4e26-9dba-50d54f7ffe10\")>,\n",
       " <selenium.webdriver.remote.webelement.WebElement (session=\"b1acfd4c3d27fd227d9c3db0f6e6a7c4\", element=\"bee2967f-39dc-4a24-9ada-47a1acc10dd3\")>,\n",
       " <selenium.webdriver.remote.webelement.WebElement (session=\"b1acfd4c3d27fd227d9c3db0f6e6a7c4\", element=\"8a2c5db8-ed8d-48ac-b2a7-8ed75d079fb3\")>,\n",
       " <selenium.webdriver.remote.webelement.WebElement (session=\"b1acfd4c3d27fd227d9c3db0f6e6a7c4\", element=\"1f97b877-b118-4767-84bb-ef6c92c5cb61\")>,\n",
       " <selenium.webdriver.remote.webelement.WebElement (session=\"b1acfd4c3d27fd227d9c3db0f6e6a7c4\", element=\"f78e4ba6-37da-455b-8872-471fb3a8d436\")>,\n",
       " <selenium.webdriver.remote.webelement.WebElement (session=\"b1acfd4c3d27fd227d9c3db0f6e6a7c4\", element=\"bb587a9b-fddb-4d8d-89e3-ed2ba794f3cd\")>,\n",
       " <selenium.webdriver.remote.webelement.WebElement (session=\"b1acfd4c3d27fd227d9c3db0f6e6a7c4\", element=\"b2a1311a-93b5-4586-8ded-3d8e24ef1943\")>,\n",
       " <selenium.webdriver.remote.webelement.WebElement (session=\"b1acfd4c3d27fd227d9c3db0f6e6a7c4\", element=\"6e75865c-e674-4e2c-b0d5-bdb8b8f514a1\")>,\n",
       " <selenium.webdriver.remote.webelement.WebElement (session=\"b1acfd4c3d27fd227d9c3db0f6e6a7c4\", element=\"43dd635c-9a19-4af5-9f7f-78aba22df9e2\")>,\n",
       " <selenium.webdriver.remote.webelement.WebElement (session=\"b1acfd4c3d27fd227d9c3db0f6e6a7c4\", element=\"56d97a64-e6df-42fc-9dd5-0ce43a5b8c43\")>,\n",
       " <selenium.webdriver.remote.webelement.WebElement (session=\"b1acfd4c3d27fd227d9c3db0f6e6a7c4\", element=\"58d7ae45-16b6-4b37-a1f6-1dc2a478ce06\")>,\n",
       " <selenium.webdriver.remote.webelement.WebElement (session=\"b1acfd4c3d27fd227d9c3db0f6e6a7c4\", element=\"8ea3a745-716a-4deb-a452-63b176c7db5b\")>,\n",
       " <selenium.webdriver.remote.webelement.WebElement (session=\"b1acfd4c3d27fd227d9c3db0f6e6a7c4\", element=\"0aac9b5a-641e-4817-8a3d-3f1bce42c219\")>,\n",
       " <selenium.webdriver.remote.webelement.WebElement (session=\"b1acfd4c3d27fd227d9c3db0f6e6a7c4\", element=\"562cdb6b-fe70-4224-88f9-bd2d22bac515\")>,\n",
       " <selenium.webdriver.remote.webelement.WebElement (session=\"b1acfd4c3d27fd227d9c3db0f6e6a7c4\", element=\"cc785796-f6f6-463e-aa8a-adf233440358\")>,\n",
       " <selenium.webdriver.remote.webelement.WebElement (session=\"b1acfd4c3d27fd227d9c3db0f6e6a7c4\", element=\"565adbe6-116c-49a8-abea-9acb5f616705\")>,\n",
       " <selenium.webdriver.remote.webelement.WebElement (session=\"b1acfd4c3d27fd227d9c3db0f6e6a7c4\", element=\"18c30415-f18f-4435-9c58-79223c0ea49f\")>,\n",
       " <selenium.webdriver.remote.webelement.WebElement (session=\"b1acfd4c3d27fd227d9c3db0f6e6a7c4\", element=\"8eb3ac98-81da-4775-b808-b2ed30620e70\")>,\n",
       " <selenium.webdriver.remote.webelement.WebElement (session=\"b1acfd4c3d27fd227d9c3db0f6e6a7c4\", element=\"56c3cd72-48c6-40b4-9b76-2968525b2532\")>,\n",
       " <selenium.webdriver.remote.webelement.WebElement (session=\"b1acfd4c3d27fd227d9c3db0f6e6a7c4\", element=\"4c893948-f689-49b9-a973-c92cce0f558c\")>,\n",
       " <selenium.webdriver.remote.webelement.WebElement (session=\"b1acfd4c3d27fd227d9c3db0f6e6a7c4\", element=\"6215071d-87e8-44fd-ab6b-4abf5aa8a872\")>,\n",
       " <selenium.webdriver.remote.webelement.WebElement (session=\"b1acfd4c3d27fd227d9c3db0f6e6a7c4\", element=\"2c263065-6021-47bf-8740-36a44dbaaa42\")>,\n",
       " <selenium.webdriver.remote.webelement.WebElement (session=\"b1acfd4c3d27fd227d9c3db0f6e6a7c4\", element=\"d3beff1d-3c6e-4bb0-a002-0632c7f287a7\")>,\n",
       " <selenium.webdriver.remote.webelement.WebElement (session=\"b1acfd4c3d27fd227d9c3db0f6e6a7c4\", element=\"607ba692-842f-4e99-8a6e-924d10f5eb67\")>]"
      ]
     },
     "execution_count": 24,
     "metadata": {},
     "output_type": "execute_result"
    }
   ],
   "source": [
    "Price1=driver.find_elements_by_xpath(\"//div[@class='_30jeq3']\")\n",
    "Price1"
   ]
  },
  {
   "cell_type": "code",
   "execution_count": 25,
   "metadata": {
    "scrolled": true
   },
   "outputs": [
    {
     "data": {
      "text/plain": [
       "['₹296',\n",
       " '₹509',\n",
       " '₹683',\n",
       " '₹469',\n",
       " '₹233',\n",
       " '₹296',\n",
       " '₹685',\n",
       " '₹212',\n",
       " '₹499',\n",
       " '₹404',\n",
       " '₹399',\n",
       " '₹399',\n",
       " '₹202',\n",
       " '₹594',\n",
       " '₹951',\n",
       " '₹987',\n",
       " '₹199',\n",
       " '₹685',\n",
       " '₹251',\n",
       " '₹509',\n",
       " '₹684',\n",
       " '₹725',\n",
       " '₹183',\n",
       " '₹916',\n",
       " '₹499',\n",
       " '₹236',\n",
       " '₹685',\n",
       " '₹299',\n",
       " '₹609',\n",
       " '₹237',\n",
       " '₹329',\n",
       " '₹426',\n",
       " '₹212',\n",
       " '₹594',\n",
       " '₹299',\n",
       " '₹200',\n",
       " '₹990',\n",
       " '₹608',\n",
       " '₹599',\n",
       " '₹592']"
      ]
     },
     "execution_count": 25,
     "metadata": {},
     "output_type": "execute_result"
    }
   ],
   "source": [
    "Price_1=[]\n",
    "for i in Price1:\n",
    "    Prices1=i.text\n",
    "    Price_1.append(Prices1)\n",
    "Price_1"
   ]
  },
  {
   "cell_type": "code",
   "execution_count": 26,
   "metadata": {
    "scrolled": true
   },
   "outputs": [
    {
     "data": {
      "text/plain": [
       "[<selenium.webdriver.remote.webelement.WebElement (session=\"b1acfd4c3d27fd227d9c3db0f6e6a7c4\", element=\"73557943-4c5c-4918-aa38-0e4fd621b857\")>,\n",
       " <selenium.webdriver.remote.webelement.WebElement (session=\"b1acfd4c3d27fd227d9c3db0f6e6a7c4\", element=\"55e62418-b7e1-47d9-82d3-e12b8cfc8f4d\")>,\n",
       " <selenium.webdriver.remote.webelement.WebElement (session=\"b1acfd4c3d27fd227d9c3db0f6e6a7c4\", element=\"e4ab4c4e-09e9-453f-9bfe-cbb5b71265e8\")>,\n",
       " <selenium.webdriver.remote.webelement.WebElement (session=\"b1acfd4c3d27fd227d9c3db0f6e6a7c4\", element=\"e931df29-6268-4cf0-b899-4c3c1f92471f\")>,\n",
       " <selenium.webdriver.remote.webelement.WebElement (session=\"b1acfd4c3d27fd227d9c3db0f6e6a7c4\", element=\"dd5a70e7-34db-4597-bd9e-7dc7c03fe7fa\")>,\n",
       " <selenium.webdriver.remote.webelement.WebElement (session=\"b1acfd4c3d27fd227d9c3db0f6e6a7c4\", element=\"71d661b9-695a-4175-b737-5e1c21844a44\")>,\n",
       " <selenium.webdriver.remote.webelement.WebElement (session=\"b1acfd4c3d27fd227d9c3db0f6e6a7c4\", element=\"601814a4-b8a8-4ac8-9502-4099f483f192\")>,\n",
       " <selenium.webdriver.remote.webelement.WebElement (session=\"b1acfd4c3d27fd227d9c3db0f6e6a7c4\", element=\"d9d18060-ef02-4525-84b1-6fecbebdccc9\")>,\n",
       " <selenium.webdriver.remote.webelement.WebElement (session=\"b1acfd4c3d27fd227d9c3db0f6e6a7c4\", element=\"c9c6768c-7d1e-4a77-83ad-6975eb1dc747\")>,\n",
       " <selenium.webdriver.remote.webelement.WebElement (session=\"b1acfd4c3d27fd227d9c3db0f6e6a7c4\", element=\"85194f7a-bfc8-4833-88fc-0e3d4fe3d790\")>,\n",
       " <selenium.webdriver.remote.webelement.WebElement (session=\"b1acfd4c3d27fd227d9c3db0f6e6a7c4\", element=\"b59d71ca-71f4-40f3-b501-56288262fc16\")>,\n",
       " <selenium.webdriver.remote.webelement.WebElement (session=\"b1acfd4c3d27fd227d9c3db0f6e6a7c4\", element=\"25e3653f-2972-4954-a69e-f47d0bfadf85\")>,\n",
       " <selenium.webdriver.remote.webelement.WebElement (session=\"b1acfd4c3d27fd227d9c3db0f6e6a7c4\", element=\"c5f74673-7f40-4ea3-92ed-368f05714964\")>,\n",
       " <selenium.webdriver.remote.webelement.WebElement (session=\"b1acfd4c3d27fd227d9c3db0f6e6a7c4\", element=\"7bc21bb6-06ff-438d-be7d-13810d9309bc\")>,\n",
       " <selenium.webdriver.remote.webelement.WebElement (session=\"b1acfd4c3d27fd227d9c3db0f6e6a7c4\", element=\"631260a9-0a22-4c7e-bc47-37cc44fbbf00\")>,\n",
       " <selenium.webdriver.remote.webelement.WebElement (session=\"b1acfd4c3d27fd227d9c3db0f6e6a7c4\", element=\"5e2b940e-886e-4b78-9962-ad0405eec14b\")>,\n",
       " <selenium.webdriver.remote.webelement.WebElement (session=\"b1acfd4c3d27fd227d9c3db0f6e6a7c4\", element=\"e40617eb-f6a1-4f5b-b074-2b4718c2e936\")>,\n",
       " <selenium.webdriver.remote.webelement.WebElement (session=\"b1acfd4c3d27fd227d9c3db0f6e6a7c4\", element=\"e0b07ddc-d8de-41d6-93a4-6bd80c5076e5\")>,\n",
       " <selenium.webdriver.remote.webelement.WebElement (session=\"b1acfd4c3d27fd227d9c3db0f6e6a7c4\", element=\"3271a14d-acf2-4f03-9cc5-5771bed8f6d7\")>,\n",
       " <selenium.webdriver.remote.webelement.WebElement (session=\"b1acfd4c3d27fd227d9c3db0f6e6a7c4\", element=\"e779e2b0-12da-45f2-8e6c-ce9cee39194e\")>,\n",
       " <selenium.webdriver.remote.webelement.WebElement (session=\"b1acfd4c3d27fd227d9c3db0f6e6a7c4\", element=\"1e8e70f6-771f-4a2e-862c-fcc45b26a877\")>,\n",
       " <selenium.webdriver.remote.webelement.WebElement (session=\"b1acfd4c3d27fd227d9c3db0f6e6a7c4\", element=\"2e959502-7112-4427-973b-0b6027ef16c9\")>,\n",
       " <selenium.webdriver.remote.webelement.WebElement (session=\"b1acfd4c3d27fd227d9c3db0f6e6a7c4\", element=\"c1d9dc8f-ecb9-440b-9f6c-de31d7a03006\")>,\n",
       " <selenium.webdriver.remote.webelement.WebElement (session=\"b1acfd4c3d27fd227d9c3db0f6e6a7c4\", element=\"583b2de7-6593-4b23-8786-7c97c7275417\")>,\n",
       " <selenium.webdriver.remote.webelement.WebElement (session=\"b1acfd4c3d27fd227d9c3db0f6e6a7c4\", element=\"56044cb7-0f03-47a3-af2e-2036ec1be923\")>,\n",
       " <selenium.webdriver.remote.webelement.WebElement (session=\"b1acfd4c3d27fd227d9c3db0f6e6a7c4\", element=\"0b65e952-4bb4-4a46-8e7b-1dd400e1f2f8\")>,\n",
       " <selenium.webdriver.remote.webelement.WebElement (session=\"b1acfd4c3d27fd227d9c3db0f6e6a7c4\", element=\"ba39b21f-b265-4d72-a73e-c638dbc369f1\")>,\n",
       " <selenium.webdriver.remote.webelement.WebElement (session=\"b1acfd4c3d27fd227d9c3db0f6e6a7c4\", element=\"6b5f7d76-2d2c-4891-b07c-556352a4c7ce\")>,\n",
       " <selenium.webdriver.remote.webelement.WebElement (session=\"b1acfd4c3d27fd227d9c3db0f6e6a7c4\", element=\"58702591-2dc8-42bb-99f2-b6c9b84c5374\")>,\n",
       " <selenium.webdriver.remote.webelement.WebElement (session=\"b1acfd4c3d27fd227d9c3db0f6e6a7c4\", element=\"5e5e1b3f-9f92-4d1f-88d7-95ae05277317\")>,\n",
       " <selenium.webdriver.remote.webelement.WebElement (session=\"b1acfd4c3d27fd227d9c3db0f6e6a7c4\", element=\"16cfb95d-13b8-4c63-acca-57ca58661064\")>,\n",
       " <selenium.webdriver.remote.webelement.WebElement (session=\"b1acfd4c3d27fd227d9c3db0f6e6a7c4\", element=\"0998cff9-4bc7-4214-a2eb-5f2eb7669710\")>,\n",
       " <selenium.webdriver.remote.webelement.WebElement (session=\"b1acfd4c3d27fd227d9c3db0f6e6a7c4\", element=\"6ff679c6-294c-4f01-b04d-cac57165c69d\")>,\n",
       " <selenium.webdriver.remote.webelement.WebElement (session=\"b1acfd4c3d27fd227d9c3db0f6e6a7c4\", element=\"83d2c6ac-9480-41e4-b6ce-761fc23aafb4\")>,\n",
       " <selenium.webdriver.remote.webelement.WebElement (session=\"b1acfd4c3d27fd227d9c3db0f6e6a7c4\", element=\"aea5be91-3c40-4709-9087-ed3487b35493\")>,\n",
       " <selenium.webdriver.remote.webelement.WebElement (session=\"b1acfd4c3d27fd227d9c3db0f6e6a7c4\", element=\"061f97b1-d1ed-4d51-a5dc-c665dede1e26\")>,\n",
       " <selenium.webdriver.remote.webelement.WebElement (session=\"b1acfd4c3d27fd227d9c3db0f6e6a7c4\", element=\"07533552-5158-46b6-955e-af23c6b8d73c\")>,\n",
       " <selenium.webdriver.remote.webelement.WebElement (session=\"b1acfd4c3d27fd227d9c3db0f6e6a7c4\", element=\"50519a09-e2df-415b-b0a5-085d8a49a72d\")>,\n",
       " <selenium.webdriver.remote.webelement.WebElement (session=\"b1acfd4c3d27fd227d9c3db0f6e6a7c4\", element=\"84d331d4-7c2c-407e-931f-ddba31610157\")>,\n",
       " <selenium.webdriver.remote.webelement.WebElement (session=\"b1acfd4c3d27fd227d9c3db0f6e6a7c4\", element=\"7f2164cf-05f2-4507-833b-0186205256bd\")>]"
      ]
     },
     "execution_count": 26,
     "metadata": {},
     "output_type": "execute_result"
    }
   ],
   "source": [
    "Dis1=driver.find_elements_by_xpath(\"//div[@class='_3Ay6Sb']\")\n",
    "Dis1"
   ]
  },
  {
   "cell_type": "code",
   "execution_count": 27,
   "metadata": {
    "scrolled": true
   },
   "outputs": [
    {
     "data": {
      "text/plain": [
       "['80% off',\n",
       " '74% off',\n",
       " '24% off',\n",
       " '53% off',\n",
       " '84% off',\n",
       " '81% off',\n",
       " '23% off',\n",
       " '86% off',\n",
       " '77% off',\n",
       " '79% off',\n",
       " '80% off',\n",
       " '80% off',\n",
       " '71% off',\n",
       " '70% off',\n",
       " '26% off',\n",
       " '24% off',\n",
       " '80% off',\n",
       " '23% off',\n",
       " '79% off',\n",
       " '66% off',\n",
       " '23% off',\n",
       " '9% off',\n",
       " '76% off',\n",
       " '77% off',\n",
       " '77% off',\n",
       " '84% off',\n",
       " '23% off',\n",
       " '85% off',\n",
       " '23% off',\n",
       " '81% off',\n",
       " '72% off',\n",
       " '80% off',\n",
       " '86% off',\n",
       " '60% off',\n",
       " '85% off',\n",
       " '59% off',\n",
       " '23% off',\n",
       " '23% off',\n",
       " '20% off',\n",
       " '72% off']"
      ]
     },
     "execution_count": 27,
     "metadata": {},
     "output_type": "execute_result"
    }
   ],
   "source": [
    "Dis_1=[]\n",
    "for i in Dis1:\n",
    "    disc1=i.text\n",
    "    Dis_1.append(disc1)\n",
    "Dis_1"
   ]
  },
  {
   "cell_type": "code",
   "execution_count": 28,
   "metadata": {},
   "outputs": [],
   "source": [
    "#clicking on the next page\n",
    "Next_page2=driver.find_element_by_xpath(\"//a[@class='_1LKTO3']\")\n",
    "Next_page2.click()"
   ]
  },
  {
   "cell_type": "code",
   "execution_count": 29,
   "metadata": {
    "scrolled": true
   },
   "outputs": [
    {
     "data": {
      "text/plain": [
       "[<selenium.webdriver.remote.webelement.WebElement (session=\"b1acfd4c3d27fd227d9c3db0f6e6a7c4\", element=\"1ac668c3-b133-4603-8131-dc646dba409e\")>,\n",
       " <selenium.webdriver.remote.webelement.WebElement (session=\"b1acfd4c3d27fd227d9c3db0f6e6a7c4\", element=\"bb02e354-1c63-4940-aee6-dbc2dd70132e\")>,\n",
       " <selenium.webdriver.remote.webelement.WebElement (session=\"b1acfd4c3d27fd227d9c3db0f6e6a7c4\", element=\"425adc41-fef3-43ea-92ca-65eebc6ffbee\")>,\n",
       " <selenium.webdriver.remote.webelement.WebElement (session=\"b1acfd4c3d27fd227d9c3db0f6e6a7c4\", element=\"6b36ff96-752e-4c1a-a214-c19fe8698036\")>,\n",
       " <selenium.webdriver.remote.webelement.WebElement (session=\"b1acfd4c3d27fd227d9c3db0f6e6a7c4\", element=\"b8c8f564-be14-47ee-bbd2-fdd08189e02a\")>,\n",
       " <selenium.webdriver.remote.webelement.WebElement (session=\"b1acfd4c3d27fd227d9c3db0f6e6a7c4\", element=\"62834438-f992-4b42-8aec-8661948f8591\")>,\n",
       " <selenium.webdriver.remote.webelement.WebElement (session=\"b1acfd4c3d27fd227d9c3db0f6e6a7c4\", element=\"1ded0c19-3905-4dc5-9191-a1392b777b5a\")>,\n",
       " <selenium.webdriver.remote.webelement.WebElement (session=\"b1acfd4c3d27fd227d9c3db0f6e6a7c4\", element=\"d66a4644-09a7-4fbf-9112-6ce3e34a6bd6\")>,\n",
       " <selenium.webdriver.remote.webelement.WebElement (session=\"b1acfd4c3d27fd227d9c3db0f6e6a7c4\", element=\"0ee90ff5-7c83-4633-a696-a02bbcfd7ee5\")>,\n",
       " <selenium.webdriver.remote.webelement.WebElement (session=\"b1acfd4c3d27fd227d9c3db0f6e6a7c4\", element=\"7ec18a35-79d1-45e9-b9b4-592e4ed1a05a\")>,\n",
       " <selenium.webdriver.remote.webelement.WebElement (session=\"b1acfd4c3d27fd227d9c3db0f6e6a7c4\", element=\"ef59bd86-48e1-4eeb-80e6-65688ff04ae7\")>,\n",
       " <selenium.webdriver.remote.webelement.WebElement (session=\"b1acfd4c3d27fd227d9c3db0f6e6a7c4\", element=\"217aabd9-cafd-4590-bb51-44b399aa1c49\")>,\n",
       " <selenium.webdriver.remote.webelement.WebElement (session=\"b1acfd4c3d27fd227d9c3db0f6e6a7c4\", element=\"8886bcb6-93bc-436e-8424-b7f32ee62cc4\")>,\n",
       " <selenium.webdriver.remote.webelement.WebElement (session=\"b1acfd4c3d27fd227d9c3db0f6e6a7c4\", element=\"2ef57fa7-5180-4a42-b588-7af6e5596fcd\")>,\n",
       " <selenium.webdriver.remote.webelement.WebElement (session=\"b1acfd4c3d27fd227d9c3db0f6e6a7c4\", element=\"2b7fb812-e6db-4b42-8860-0a52e8363ffa\")>,\n",
       " <selenium.webdriver.remote.webelement.WebElement (session=\"b1acfd4c3d27fd227d9c3db0f6e6a7c4\", element=\"ba246b77-cc47-4dc7-80e3-94c0a4b08122\")>,\n",
       " <selenium.webdriver.remote.webelement.WebElement (session=\"b1acfd4c3d27fd227d9c3db0f6e6a7c4\", element=\"e30a1547-d5ab-4f01-b7d3-63c998aae4c8\")>,\n",
       " <selenium.webdriver.remote.webelement.WebElement (session=\"b1acfd4c3d27fd227d9c3db0f6e6a7c4\", element=\"744a5f47-aa0c-41a3-b3fb-35c3db648eb5\")>,\n",
       " <selenium.webdriver.remote.webelement.WebElement (session=\"b1acfd4c3d27fd227d9c3db0f6e6a7c4\", element=\"c14ca74c-0916-45fa-9925-d49246ebac72\")>,\n",
       " <selenium.webdriver.remote.webelement.WebElement (session=\"b1acfd4c3d27fd227d9c3db0f6e6a7c4\", element=\"2b23ae14-13bb-476b-a96e-ba679a71fe5c\")>,\n",
       " <selenium.webdriver.remote.webelement.WebElement (session=\"b1acfd4c3d27fd227d9c3db0f6e6a7c4\", element=\"32d2b25b-4fb2-405c-ae6a-11fe261bf94a\")>,\n",
       " <selenium.webdriver.remote.webelement.WebElement (session=\"b1acfd4c3d27fd227d9c3db0f6e6a7c4\", element=\"023318ef-c263-4ea6-b9a1-c72dc7c9f7ca\")>,\n",
       " <selenium.webdriver.remote.webelement.WebElement (session=\"b1acfd4c3d27fd227d9c3db0f6e6a7c4\", element=\"5648b56f-3164-45b1-8f6b-a451b1085fa1\")>,\n",
       " <selenium.webdriver.remote.webelement.WebElement (session=\"b1acfd4c3d27fd227d9c3db0f6e6a7c4\", element=\"2d501be7-1093-479c-b848-5a50573e6980\")>,\n",
       " <selenium.webdriver.remote.webelement.WebElement (session=\"b1acfd4c3d27fd227d9c3db0f6e6a7c4\", element=\"bbff75be-7588-4e5b-a062-31215e04e212\")>,\n",
       " <selenium.webdriver.remote.webelement.WebElement (session=\"b1acfd4c3d27fd227d9c3db0f6e6a7c4\", element=\"0ca025da-4169-4af2-9321-a1e3c4bf3a2d\")>,\n",
       " <selenium.webdriver.remote.webelement.WebElement (session=\"b1acfd4c3d27fd227d9c3db0f6e6a7c4\", element=\"07f922c7-7778-4657-9b51-90631011e3c2\")>,\n",
       " <selenium.webdriver.remote.webelement.WebElement (session=\"b1acfd4c3d27fd227d9c3db0f6e6a7c4\", element=\"0680d4e3-8f9b-4e3b-9ad3-a81c2b2130f2\")>,\n",
       " <selenium.webdriver.remote.webelement.WebElement (session=\"b1acfd4c3d27fd227d9c3db0f6e6a7c4\", element=\"352fd068-c27f-46bd-bc8b-05dc6507ddc7\")>,\n",
       " <selenium.webdriver.remote.webelement.WebElement (session=\"b1acfd4c3d27fd227d9c3db0f6e6a7c4\", element=\"a030807a-9d0e-45f0-a497-247c809ea2d7\")>,\n",
       " <selenium.webdriver.remote.webelement.WebElement (session=\"b1acfd4c3d27fd227d9c3db0f6e6a7c4\", element=\"9ec518fd-6d08-4e6b-9c2c-813d6973e3bc\")>,\n",
       " <selenium.webdriver.remote.webelement.WebElement (session=\"b1acfd4c3d27fd227d9c3db0f6e6a7c4\", element=\"82427c80-98c5-48ce-be2d-10f78b47ca47\")>,\n",
       " <selenium.webdriver.remote.webelement.WebElement (session=\"b1acfd4c3d27fd227d9c3db0f6e6a7c4\", element=\"62de04be-057a-41e3-bbb8-76e581161a50\")>,\n",
       " <selenium.webdriver.remote.webelement.WebElement (session=\"b1acfd4c3d27fd227d9c3db0f6e6a7c4\", element=\"ee5a42bf-b2f3-4df9-adfe-e52672687fd1\")>,\n",
       " <selenium.webdriver.remote.webelement.WebElement (session=\"b1acfd4c3d27fd227d9c3db0f6e6a7c4\", element=\"7e8787a3-d7af-48f5-9964-6924e8770471\")>,\n",
       " <selenium.webdriver.remote.webelement.WebElement (session=\"b1acfd4c3d27fd227d9c3db0f6e6a7c4\", element=\"c03bcb74-7673-4496-861c-fd09d9aef9d4\")>,\n",
       " <selenium.webdriver.remote.webelement.WebElement (session=\"b1acfd4c3d27fd227d9c3db0f6e6a7c4\", element=\"f7bbbddc-d607-43f0-b33c-73e6921821ec\")>,\n",
       " <selenium.webdriver.remote.webelement.WebElement (session=\"b1acfd4c3d27fd227d9c3db0f6e6a7c4\", element=\"4bfd1a46-111e-4d32-a5ab-5bb0094193b1\")>,\n",
       " <selenium.webdriver.remote.webelement.WebElement (session=\"b1acfd4c3d27fd227d9c3db0f6e6a7c4\", element=\"1f35be4c-8d40-4144-ac1f-ca515264fe39\")>,\n",
       " <selenium.webdriver.remote.webelement.WebElement (session=\"b1acfd4c3d27fd227d9c3db0f6e6a7c4\", element=\"13f26e9e-342f-4d45-b3df-3e4e7918f568\")>]"
      ]
     },
     "execution_count": 29,
     "metadata": {},
     "output_type": "execute_result"
    }
   ],
   "source": [
    "Brand_tag2=driver.find_elements_by_xpath(\"//div[@class='_2WkVRV']\")\n",
    "Brand_tag2"
   ]
  },
  {
   "cell_type": "code",
   "execution_count": 30,
   "metadata": {
    "scrolled": true
   },
   "outputs": [
    {
     "data": {
      "text/plain": [
       "['ROYAL SON',\n",
       " 'PIRASO',\n",
       " 'NuVew',\n",
       " 'ROZZETTA CRAFT',\n",
       " 'Fastrack',\n",
       " 'Fastrack',\n",
       " 'phenomenal',\n",
       " 'DEIXELS',\n",
       " 'ROYAL SON',\n",
       " 'NuVew',\n",
       " 'Fastrack',\n",
       " 'Fastrack',\n",
       " 'NuVew',\n",
       " 'NuVew',\n",
       " 'ROYAL SON',\n",
       " 'Fastrack',\n",
       " 'ROZZETTA CRAFT',\n",
       " 'NuVew',\n",
       " 'GANSTA',\n",
       " 'ROYAL SON',\n",
       " 'Singco',\n",
       " 'Fastrack',\n",
       " 'Fastrack',\n",
       " 'Aislin',\n",
       " 'ROZZETTA CRAFT',\n",
       " 'Silver Kartz',\n",
       " 'ROYAL SON',\n",
       " 'Fravy',\n",
       " 'Aislin',\n",
       " 'ROYAL SON',\n",
       " 'Fastrack',\n",
       " 'Fastrack',\n",
       " 'Fastrack',\n",
       " 'NuVew',\n",
       " 'Fastrack',\n",
       " 'ROYAL SON',\n",
       " 'GANSTA',\n",
       " 'Fastrack',\n",
       " 'ROZZETTA CRAFT',\n",
       " 'NuVew']"
      ]
     },
     "execution_count": 30,
     "metadata": {},
     "output_type": "execute_result"
    }
   ],
   "source": [
    "Brand_2=[]\n",
    "for i in Brand_tag2:\n",
    "    brandtag2=i.text\n",
    "    Brand_2.append(brandtag2)\n",
    "Brand_2"
   ]
  },
  {
   "cell_type": "code",
   "execution_count": 31,
   "metadata": {
    "scrolled": true
   },
   "outputs": [
    {
     "data": {
      "text/plain": [
       "[<selenium.webdriver.remote.webelement.WebElement (session=\"b1acfd4c3d27fd227d9c3db0f6e6a7c4\", element=\"8296eca0-ecc0-40b7-a73c-c2fa246774cb\")>,\n",
       " <selenium.webdriver.remote.webelement.WebElement (session=\"b1acfd4c3d27fd227d9c3db0f6e6a7c4\", element=\"871f9988-d012-40eb-b785-c448fbdfa18a\")>,\n",
       " <selenium.webdriver.remote.webelement.WebElement (session=\"b1acfd4c3d27fd227d9c3db0f6e6a7c4\", element=\"42d93e78-b7a5-4c99-8550-7b8a9bbdaa00\")>,\n",
       " <selenium.webdriver.remote.webelement.WebElement (session=\"b1acfd4c3d27fd227d9c3db0f6e6a7c4\", element=\"8f0dff75-db6d-469a-ac61-771a9a6ca660\")>,\n",
       " <selenium.webdriver.remote.webelement.WebElement (session=\"b1acfd4c3d27fd227d9c3db0f6e6a7c4\", element=\"8ddc1736-04ee-490a-b216-35e599bbc404\")>,\n",
       " <selenium.webdriver.remote.webelement.WebElement (session=\"b1acfd4c3d27fd227d9c3db0f6e6a7c4\", element=\"a57d7636-9cfb-43f2-93c9-5c832cd317d8\")>,\n",
       " <selenium.webdriver.remote.webelement.WebElement (session=\"b1acfd4c3d27fd227d9c3db0f6e6a7c4\", element=\"64445ae7-7fdc-43a7-970b-c9b0130139d9\")>,\n",
       " <selenium.webdriver.remote.webelement.WebElement (session=\"b1acfd4c3d27fd227d9c3db0f6e6a7c4\", element=\"0f52b174-07c3-429d-9cc2-894b5fbda998\")>,\n",
       " <selenium.webdriver.remote.webelement.WebElement (session=\"b1acfd4c3d27fd227d9c3db0f6e6a7c4\", element=\"d0916682-e676-4e20-9b82-994ae1973b94\")>,\n",
       " <selenium.webdriver.remote.webelement.WebElement (session=\"b1acfd4c3d27fd227d9c3db0f6e6a7c4\", element=\"3adeecd9-a0d0-4c50-a0a9-8b6bddf4a84c\")>,\n",
       " <selenium.webdriver.remote.webelement.WebElement (session=\"b1acfd4c3d27fd227d9c3db0f6e6a7c4\", element=\"c50c1206-217c-405d-ba08-57e0d88d3cc7\")>,\n",
       " <selenium.webdriver.remote.webelement.WebElement (session=\"b1acfd4c3d27fd227d9c3db0f6e6a7c4\", element=\"f53ff82c-ddc6-4692-95f0-337c82ea15e7\")>,\n",
       " <selenium.webdriver.remote.webelement.WebElement (session=\"b1acfd4c3d27fd227d9c3db0f6e6a7c4\", element=\"eb6235fe-54a6-421f-bf29-b2b45b0a1b85\")>,\n",
       " <selenium.webdriver.remote.webelement.WebElement (session=\"b1acfd4c3d27fd227d9c3db0f6e6a7c4\", element=\"8fd4cd5a-ca5a-4a49-a49d-4df32dc822ac\")>,\n",
       " <selenium.webdriver.remote.webelement.WebElement (session=\"b1acfd4c3d27fd227d9c3db0f6e6a7c4\", element=\"33a13d40-791a-4494-b1d0-d0a0acf51d59\")>,\n",
       " <selenium.webdriver.remote.webelement.WebElement (session=\"b1acfd4c3d27fd227d9c3db0f6e6a7c4\", element=\"5ec4e1b8-e151-4a32-85fd-f57c6d108006\")>,\n",
       " <selenium.webdriver.remote.webelement.WebElement (session=\"b1acfd4c3d27fd227d9c3db0f6e6a7c4\", element=\"a408694f-ca96-471c-8eb5-d0c484bd3983\")>,\n",
       " <selenium.webdriver.remote.webelement.WebElement (session=\"b1acfd4c3d27fd227d9c3db0f6e6a7c4\", element=\"f800cb0a-93f7-4f96-bbfe-343bf26c34fd\")>,\n",
       " <selenium.webdriver.remote.webelement.WebElement (session=\"b1acfd4c3d27fd227d9c3db0f6e6a7c4\", element=\"72469cd2-34b9-481f-9c5c-f3a4e2a6b53a\")>,\n",
       " <selenium.webdriver.remote.webelement.WebElement (session=\"b1acfd4c3d27fd227d9c3db0f6e6a7c4\", element=\"ed1d2191-1dd4-492b-9dd4-d042b0094ca8\")>,\n",
       " <selenium.webdriver.remote.webelement.WebElement (session=\"b1acfd4c3d27fd227d9c3db0f6e6a7c4\", element=\"01b6a213-18ce-4072-b393-f942df0045c8\")>,\n",
       " <selenium.webdriver.remote.webelement.WebElement (session=\"b1acfd4c3d27fd227d9c3db0f6e6a7c4\", element=\"6029f1e1-2b22-4525-a766-fc8b8c96fe1d\")>,\n",
       " <selenium.webdriver.remote.webelement.WebElement (session=\"b1acfd4c3d27fd227d9c3db0f6e6a7c4\", element=\"aa06fd85-b7e3-43b6-8c0f-ddfd411c95c4\")>,\n",
       " <selenium.webdriver.remote.webelement.WebElement (session=\"b1acfd4c3d27fd227d9c3db0f6e6a7c4\", element=\"b183cb13-d8cb-45d5-b9f3-b7f146816bb7\")>,\n",
       " <selenium.webdriver.remote.webelement.WebElement (session=\"b1acfd4c3d27fd227d9c3db0f6e6a7c4\", element=\"3fbdf029-f4ea-4a19-aa05-90c74ff9ffff\")>,\n",
       " <selenium.webdriver.remote.webelement.WebElement (session=\"b1acfd4c3d27fd227d9c3db0f6e6a7c4\", element=\"c277e7ff-5f2e-447e-9ef6-f7a786e5cbbd\")>,\n",
       " <selenium.webdriver.remote.webelement.WebElement (session=\"b1acfd4c3d27fd227d9c3db0f6e6a7c4\", element=\"c33b6ca6-0442-4b0b-991f-1c809b577a5f\")>,\n",
       " <selenium.webdriver.remote.webelement.WebElement (session=\"b1acfd4c3d27fd227d9c3db0f6e6a7c4\", element=\"836e4410-b33c-4f79-abe9-5c56d1947c67\")>,\n",
       " <selenium.webdriver.remote.webelement.WebElement (session=\"b1acfd4c3d27fd227d9c3db0f6e6a7c4\", element=\"6625c4dc-0245-4e91-ae8f-86badf7d0829\")>,\n",
       " <selenium.webdriver.remote.webelement.WebElement (session=\"b1acfd4c3d27fd227d9c3db0f6e6a7c4\", element=\"408b404a-3ff4-4490-a334-d418482a152d\")>,\n",
       " <selenium.webdriver.remote.webelement.WebElement (session=\"b1acfd4c3d27fd227d9c3db0f6e6a7c4\", element=\"f376d939-9501-498d-bf71-0bf777e12c56\")>,\n",
       " <selenium.webdriver.remote.webelement.WebElement (session=\"b1acfd4c3d27fd227d9c3db0f6e6a7c4\", element=\"e1b94605-e435-4e99-868f-99fa553532ac\")>,\n",
       " <selenium.webdriver.remote.webelement.WebElement (session=\"b1acfd4c3d27fd227d9c3db0f6e6a7c4\", element=\"f07c3dc4-c963-4d1b-9316-e651d38eeda5\")>,\n",
       " <selenium.webdriver.remote.webelement.WebElement (session=\"b1acfd4c3d27fd227d9c3db0f6e6a7c4\", element=\"9352287d-fda2-4e78-b15d-a2d7837f6cef\")>,\n",
       " <selenium.webdriver.remote.webelement.WebElement (session=\"b1acfd4c3d27fd227d9c3db0f6e6a7c4\", element=\"488bcae8-56ca-4759-8d57-329b53e845c1\")>,\n",
       " <selenium.webdriver.remote.webelement.WebElement (session=\"b1acfd4c3d27fd227d9c3db0f6e6a7c4\", element=\"427b8895-0f65-46eb-a768-27c9555685dc\")>,\n",
       " <selenium.webdriver.remote.webelement.WebElement (session=\"b1acfd4c3d27fd227d9c3db0f6e6a7c4\", element=\"fb6b192e-344e-4d3b-9d95-56e470631906\")>,\n",
       " <selenium.webdriver.remote.webelement.WebElement (session=\"b1acfd4c3d27fd227d9c3db0f6e6a7c4\", element=\"73dd8834-d3d9-4060-9ebd-bdc162bae92b\")>,\n",
       " <selenium.webdriver.remote.webelement.WebElement (session=\"b1acfd4c3d27fd227d9c3db0f6e6a7c4\", element=\"7bd8d4b2-6e60-402f-b9cf-20aad2b8f36e\")>,\n",
       " <selenium.webdriver.remote.webelement.WebElement (session=\"b1acfd4c3d27fd227d9c3db0f6e6a7c4\", element=\"c5dde53a-50aa-4ea0-a2b4-dc0d7692a9fb\")>]"
      ]
     },
     "execution_count": 31,
     "metadata": {},
     "output_type": "execute_result"
    }
   ],
   "source": [
    "Prod_dis2=driver.find_elements_by_xpath(\"//a[@class='IRpwTa']\")\n",
    "Prod_dis2"
   ]
  },
  {
   "cell_type": "code",
   "execution_count": 32,
   "metadata": {
    "scrolled": true
   },
   "outputs": [
    {
     "data": {
      "text/plain": [
       "['Polarized Aviator Sunglasses (58)',\n",
       " 'UV Protection Aviator Sunglasses (54)',\n",
       " 'UV Protection, Mirrored Aviator Sunglasses (58)',\n",
       " 'UV Protection, Riding Glasses Rectangular Sunglasses (F...',\n",
       " 'UV Protection Shield Sunglasses (Free Size)',\n",
       " 'UV Protection Wayfarer Sunglasses (Free Size)',\n",
       " 'UV Protection, Mirrored Retro Square Sunglasses (Free S...',\n",
       " 'UV Protection Aviator, Wayfarer Sunglasses (Free Size)',\n",
       " 'Polarized Sports Sunglasses (68)',\n",
       " 'UV Protection, Mirrored Wayfarer, Retro Square Sunglass...',\n",
       " 'UV Protection Aviator Sunglasses (61)',\n",
       " 'UV Protection Rectangular Sunglasses (56)',\n",
       " 'UV Protection Aviator Sunglasses (58)',\n",
       " 'UV Protection, Gradient, Night Vision, Mirrored Aviator...',\n",
       " 'UV Protection, Gradient Wayfarer Sunglasses (55)',\n",
       " 'UV Protection Aviator Sunglasses (Free Size)',\n",
       " 'UV Protection, Gradient Rectangular Sunglasses (Free Si...',\n",
       " 'UV Protection, Night Vision, Riding Glasses Sports Sung...',\n",
       " 'UV Protection Aviator Sunglasses (57)',\n",
       " 'UV Protection Rectangular Sunglasses (Free Size)',\n",
       " 'UV Protection, Others Aviator Sunglasses (32)',\n",
       " 'UV Protection Wayfarer Sunglasses (57)',\n",
       " 'Gradient, UV Protection Wayfarer Sunglasses (Free Size)',\n",
       " 'UV Protection Aviator, Shield Sunglasses (58)',\n",
       " 'UV Protection, Gradient Round Sunglasses (Free Size)',\n",
       " 'UV Protection Oval Sunglasses (56)',\n",
       " 'UV Protection Rectangular Sunglasses (55)',\n",
       " 'UV Protection, Gradient, Night Vision Retro Square Sung...',\n",
       " 'UV Protection Round Sunglasses (55)',\n",
       " 'Polarized Retro Square Sunglasses (58)',\n",
       " 'UV Protection Wayfarer Sunglasses (Free Size)',\n",
       " 'Gradient, UV Protection Wayfarer Sunglasses (Free Size)',\n",
       " 'UV Protection Aviator Sunglasses (Free Size)',\n",
       " 'UV Protection Cat-eye Sunglasses (60)',\n",
       " 'UV Protection Wayfarer Sunglasses (55)',\n",
       " 'Mirrored Aviator Sunglasses (58)',\n",
       " 'UV Protection, Gradient Wayfarer Sunglasses (53)',\n",
       " 'UV Protection, Polarized Wayfarer Sunglasses (56)',\n",
       " 'UV Protection Rectangular Sunglasses (Free Size)',\n",
       " 'UV Protection, Mirrored Wayfarer, Rectangular Sunglasse...']"
      ]
     },
     "execution_count": 32,
     "metadata": {},
     "output_type": "execute_result"
    }
   ],
   "source": [
    "Prod_dis_2=[]\n",
    "for i in Prod_dis2:\n",
    "    Proddis2=i.text\n",
    "    Prod_dis_2.append(Proddis2)\n",
    "Prod_dis_2"
   ]
  },
  {
   "cell_type": "code",
   "execution_count": 33,
   "metadata": {
    "scrolled": true
   },
   "outputs": [
    {
     "data": {
      "text/plain": [
       "[<selenium.webdriver.remote.webelement.WebElement (session=\"b1acfd4c3d27fd227d9c3db0f6e6a7c4\", element=\"38a815aa-4a5d-4aca-b4f1-e401431c7c57\")>,\n",
       " <selenium.webdriver.remote.webelement.WebElement (session=\"b1acfd4c3d27fd227d9c3db0f6e6a7c4\", element=\"f02c7b93-b885-432e-95a4-dcb83ab40895\")>,\n",
       " <selenium.webdriver.remote.webelement.WebElement (session=\"b1acfd4c3d27fd227d9c3db0f6e6a7c4\", element=\"27bc20e5-a16f-40cf-b43e-ef7abe394a2c\")>,\n",
       " <selenium.webdriver.remote.webelement.WebElement (session=\"b1acfd4c3d27fd227d9c3db0f6e6a7c4\", element=\"afcd9826-6b60-4b24-a4a6-6c011f9c495c\")>,\n",
       " <selenium.webdriver.remote.webelement.WebElement (session=\"b1acfd4c3d27fd227d9c3db0f6e6a7c4\", element=\"d3ac4a23-ddc9-4639-897e-95252387b0fe\")>,\n",
       " <selenium.webdriver.remote.webelement.WebElement (session=\"b1acfd4c3d27fd227d9c3db0f6e6a7c4\", element=\"f88b7356-c50f-4bca-bd83-ed315bb1e349\")>,\n",
       " <selenium.webdriver.remote.webelement.WebElement (session=\"b1acfd4c3d27fd227d9c3db0f6e6a7c4\", element=\"085171a4-126e-41e2-a8a8-dfd8956c2d51\")>,\n",
       " <selenium.webdriver.remote.webelement.WebElement (session=\"b1acfd4c3d27fd227d9c3db0f6e6a7c4\", element=\"dae4a3ba-7a11-4183-821f-fc66d7cd00d0\")>,\n",
       " <selenium.webdriver.remote.webelement.WebElement (session=\"b1acfd4c3d27fd227d9c3db0f6e6a7c4\", element=\"9f7942a2-f2ce-4d92-9d4c-5943be57efe8\")>,\n",
       " <selenium.webdriver.remote.webelement.WebElement (session=\"b1acfd4c3d27fd227d9c3db0f6e6a7c4\", element=\"768fbff8-dc3f-4ec8-9f5b-9693fc602983\")>,\n",
       " <selenium.webdriver.remote.webelement.WebElement (session=\"b1acfd4c3d27fd227d9c3db0f6e6a7c4\", element=\"2fdcd587-9038-4c41-bc1f-e6aefc61cba1\")>,\n",
       " <selenium.webdriver.remote.webelement.WebElement (session=\"b1acfd4c3d27fd227d9c3db0f6e6a7c4\", element=\"7c033aa3-f5af-4dac-b93e-10feeef0bfb0\")>,\n",
       " <selenium.webdriver.remote.webelement.WebElement (session=\"b1acfd4c3d27fd227d9c3db0f6e6a7c4\", element=\"b64285e7-e3f6-46e8-ba52-5f58e2a64ac6\")>,\n",
       " <selenium.webdriver.remote.webelement.WebElement (session=\"b1acfd4c3d27fd227d9c3db0f6e6a7c4\", element=\"40c74dc9-b0a2-43d7-8d99-53dd08497513\")>,\n",
       " <selenium.webdriver.remote.webelement.WebElement (session=\"b1acfd4c3d27fd227d9c3db0f6e6a7c4\", element=\"9a4b3c7a-b790-4492-bb7d-20bbadcc82a3\")>,\n",
       " <selenium.webdriver.remote.webelement.WebElement (session=\"b1acfd4c3d27fd227d9c3db0f6e6a7c4\", element=\"4d240ace-c49c-4ac3-a58a-c0d980398202\")>,\n",
       " <selenium.webdriver.remote.webelement.WebElement (session=\"b1acfd4c3d27fd227d9c3db0f6e6a7c4\", element=\"51d72960-8ef9-4115-8305-dfb0b69f4c6c\")>,\n",
       " <selenium.webdriver.remote.webelement.WebElement (session=\"b1acfd4c3d27fd227d9c3db0f6e6a7c4\", element=\"c6342643-d625-4ced-a970-4b0df0d04944\")>,\n",
       " <selenium.webdriver.remote.webelement.WebElement (session=\"b1acfd4c3d27fd227d9c3db0f6e6a7c4\", element=\"35d5ce94-60c5-43d1-8a25-3f172b307644\")>,\n",
       " <selenium.webdriver.remote.webelement.WebElement (session=\"b1acfd4c3d27fd227d9c3db0f6e6a7c4\", element=\"e881b778-8060-4ddf-8593-b47ffe7aba4d\")>,\n",
       " <selenium.webdriver.remote.webelement.WebElement (session=\"b1acfd4c3d27fd227d9c3db0f6e6a7c4\", element=\"a9451a16-e8ce-4bf9-94bd-3595c5c1816e\")>,\n",
       " <selenium.webdriver.remote.webelement.WebElement (session=\"b1acfd4c3d27fd227d9c3db0f6e6a7c4\", element=\"24f1101b-e482-491f-8464-f5e8e51dcc41\")>,\n",
       " <selenium.webdriver.remote.webelement.WebElement (session=\"b1acfd4c3d27fd227d9c3db0f6e6a7c4\", element=\"5688fa1a-62f9-4946-81e9-1b45362f31d0\")>,\n",
       " <selenium.webdriver.remote.webelement.WebElement (session=\"b1acfd4c3d27fd227d9c3db0f6e6a7c4\", element=\"d2f4a37c-3904-4f70-80fa-1766493963ec\")>,\n",
       " <selenium.webdriver.remote.webelement.WebElement (session=\"b1acfd4c3d27fd227d9c3db0f6e6a7c4\", element=\"9b997424-cf05-4daa-835e-7beebebcafb9\")>,\n",
       " <selenium.webdriver.remote.webelement.WebElement (session=\"b1acfd4c3d27fd227d9c3db0f6e6a7c4\", element=\"0f2a1f97-7aa1-498f-858a-eb80e726781f\")>,\n",
       " <selenium.webdriver.remote.webelement.WebElement (session=\"b1acfd4c3d27fd227d9c3db0f6e6a7c4\", element=\"11a07ae4-5ecc-44e4-8ee5-8cf469ac8e48\")>,\n",
       " <selenium.webdriver.remote.webelement.WebElement (session=\"b1acfd4c3d27fd227d9c3db0f6e6a7c4\", element=\"306c7668-a5b4-46cd-8e8a-8aa31580e916\")>,\n",
       " <selenium.webdriver.remote.webelement.WebElement (session=\"b1acfd4c3d27fd227d9c3db0f6e6a7c4\", element=\"5c4065c8-c1b9-4aa7-a03d-0e2f0d0e6533\")>,\n",
       " <selenium.webdriver.remote.webelement.WebElement (session=\"b1acfd4c3d27fd227d9c3db0f6e6a7c4\", element=\"136eb12e-ee8b-477d-b290-195309febead\")>,\n",
       " <selenium.webdriver.remote.webelement.WebElement (session=\"b1acfd4c3d27fd227d9c3db0f6e6a7c4\", element=\"76fc063b-ac31-4a14-841b-3910b53cd7ac\")>,\n",
       " <selenium.webdriver.remote.webelement.WebElement (session=\"b1acfd4c3d27fd227d9c3db0f6e6a7c4\", element=\"d3dbd71b-c5ca-4edd-93b5-c3269d4b9782\")>,\n",
       " <selenium.webdriver.remote.webelement.WebElement (session=\"b1acfd4c3d27fd227d9c3db0f6e6a7c4\", element=\"87576134-fc2b-4c9e-a7ff-30c5dd86977e\")>,\n",
       " <selenium.webdriver.remote.webelement.WebElement (session=\"b1acfd4c3d27fd227d9c3db0f6e6a7c4\", element=\"71cf1af2-ed69-4d68-a20c-9f3f039e75a3\")>,\n",
       " <selenium.webdriver.remote.webelement.WebElement (session=\"b1acfd4c3d27fd227d9c3db0f6e6a7c4\", element=\"f4b920c6-83c4-4af3-8774-4e4678c71f28\")>,\n",
       " <selenium.webdriver.remote.webelement.WebElement (session=\"b1acfd4c3d27fd227d9c3db0f6e6a7c4\", element=\"87d65c34-3f04-4072-a63b-691c8fcb09d9\")>,\n",
       " <selenium.webdriver.remote.webelement.WebElement (session=\"b1acfd4c3d27fd227d9c3db0f6e6a7c4\", element=\"91b09dd3-6e66-457b-9ea8-6439590d8825\")>,\n",
       " <selenium.webdriver.remote.webelement.WebElement (session=\"b1acfd4c3d27fd227d9c3db0f6e6a7c4\", element=\"82a09b2a-b6e5-4681-86e3-f479992fbd8b\")>,\n",
       " <selenium.webdriver.remote.webelement.WebElement (session=\"b1acfd4c3d27fd227d9c3db0f6e6a7c4\", element=\"851d96f7-421b-44f5-8b3e-8a416d6dab2d\")>,\n",
       " <selenium.webdriver.remote.webelement.WebElement (session=\"b1acfd4c3d27fd227d9c3db0f6e6a7c4\", element=\"094c745a-ce9d-46c9-97ec-5b65e0b034df\")>]"
      ]
     },
     "execution_count": 33,
     "metadata": {},
     "output_type": "execute_result"
    }
   ],
   "source": [
    "Price2=driver.find_elements_by_xpath(\"//div[@class='_30jeq3']\")\n",
    "Price2"
   ]
  },
  {
   "cell_type": "code",
   "execution_count": 34,
   "metadata": {
    "scrolled": true
   },
   "outputs": [
    {
     "data": {
      "text/plain": [
       "['₹636',\n",
       " '₹212',\n",
       " '₹167',\n",
       " '₹426',\n",
       " '₹685',\n",
       " '₹539',\n",
       " '₹399',\n",
       " '₹202',\n",
       " '₹1,104',\n",
       " '₹261',\n",
       " '₹685',\n",
       " '₹607',\n",
       " '₹209',\n",
       " '₹295',\n",
       " '₹194',\n",
       " '₹685',\n",
       " '₹449',\n",
       " '₹177',\n",
       " '₹284',\n",
       " '₹424',\n",
       " '₹345',\n",
       " '₹609',\n",
       " '₹567',\n",
       " '₹434',\n",
       " '₹426',\n",
       " '₹299',\n",
       " '₹636',\n",
       " '₹329',\n",
       " '₹614',\n",
       " '₹764',\n",
       " '₹602',\n",
       " '₹609',\n",
       " '₹609',\n",
       " '₹358',\n",
       " '₹559',\n",
       " '₹339',\n",
       " '₹349',\n",
       " '₹685',\n",
       " '₹398',\n",
       " '₹233']"
      ]
     },
     "execution_count": 34,
     "metadata": {},
     "output_type": "execute_result"
    }
   ],
   "source": [
    "Price_2=[]\n",
    "for i in Price2:\n",
    "    Prices2=i.text\n",
    "    Price_2.append(Prices2)\n",
    "Price_2"
   ]
  },
  {
   "cell_type": "code",
   "execution_count": 35,
   "metadata": {
    "scrolled": true
   },
   "outputs": [
    {
     "data": {
      "text/plain": [
       "[<selenium.webdriver.remote.webelement.WebElement (session=\"b1acfd4c3d27fd227d9c3db0f6e6a7c4\", element=\"0af7e491-618c-4871-8f78-d5c01e2e4f99\")>,\n",
       " <selenium.webdriver.remote.webelement.WebElement (session=\"b1acfd4c3d27fd227d9c3db0f6e6a7c4\", element=\"2adf22c9-db07-44e1-84c2-215552eb83a3\")>,\n",
       " <selenium.webdriver.remote.webelement.WebElement (session=\"b1acfd4c3d27fd227d9c3db0f6e6a7c4\", element=\"e4ff2e5e-23a1-4fee-8d59-127bcb79d568\")>,\n",
       " <selenium.webdriver.remote.webelement.WebElement (session=\"b1acfd4c3d27fd227d9c3db0f6e6a7c4\", element=\"aca11ead-9c3e-4fc0-b6d5-1b5e896529fa\")>,\n",
       " <selenium.webdriver.remote.webelement.WebElement (session=\"b1acfd4c3d27fd227d9c3db0f6e6a7c4\", element=\"a7b8d4ae-0ce9-4689-bde3-9fa93fa82d10\")>,\n",
       " <selenium.webdriver.remote.webelement.WebElement (session=\"b1acfd4c3d27fd227d9c3db0f6e6a7c4\", element=\"81820bd4-b158-4133-aedd-53a58c2b15ee\")>,\n",
       " <selenium.webdriver.remote.webelement.WebElement (session=\"b1acfd4c3d27fd227d9c3db0f6e6a7c4\", element=\"0c8e637a-3485-4802-9e7e-a77fccd8820c\")>,\n",
       " <selenium.webdriver.remote.webelement.WebElement (session=\"b1acfd4c3d27fd227d9c3db0f6e6a7c4\", element=\"d2491042-3fd3-49f1-8fcb-5b1d1f040666\")>,\n",
       " <selenium.webdriver.remote.webelement.WebElement (session=\"b1acfd4c3d27fd227d9c3db0f6e6a7c4\", element=\"2194a1da-7185-4b46-b10b-3f1353aadc5c\")>,\n",
       " <selenium.webdriver.remote.webelement.WebElement (session=\"b1acfd4c3d27fd227d9c3db0f6e6a7c4\", element=\"50b3850d-bc75-4664-9d5a-e947f54e2d1a\")>,\n",
       " <selenium.webdriver.remote.webelement.WebElement (session=\"b1acfd4c3d27fd227d9c3db0f6e6a7c4\", element=\"ddc5fd00-05b3-48ba-9041-6495e7e1d3e2\")>,\n",
       " <selenium.webdriver.remote.webelement.WebElement (session=\"b1acfd4c3d27fd227d9c3db0f6e6a7c4\", element=\"e6d28154-fc42-4099-8820-297b63ac3863\")>,\n",
       " <selenium.webdriver.remote.webelement.WebElement (session=\"b1acfd4c3d27fd227d9c3db0f6e6a7c4\", element=\"96df0bd4-e376-415b-8cbc-f7cae99f1070\")>,\n",
       " <selenium.webdriver.remote.webelement.WebElement (session=\"b1acfd4c3d27fd227d9c3db0f6e6a7c4\", element=\"6dda6fd2-8905-4504-859f-d1340c41ada8\")>,\n",
       " <selenium.webdriver.remote.webelement.WebElement (session=\"b1acfd4c3d27fd227d9c3db0f6e6a7c4\", element=\"329e4717-5bf4-43cc-ab24-8c429bdda71d\")>,\n",
       " <selenium.webdriver.remote.webelement.WebElement (session=\"b1acfd4c3d27fd227d9c3db0f6e6a7c4\", element=\"545a3e21-0d1c-4cf6-bf7e-c14d17b882c1\")>,\n",
       " <selenium.webdriver.remote.webelement.WebElement (session=\"b1acfd4c3d27fd227d9c3db0f6e6a7c4\", element=\"6f6ef679-5558-4b67-b5cf-9a96f83447a2\")>,\n",
       " <selenium.webdriver.remote.webelement.WebElement (session=\"b1acfd4c3d27fd227d9c3db0f6e6a7c4\", element=\"dc154715-2282-4c88-93e2-fd546bddbe9e\")>,\n",
       " <selenium.webdriver.remote.webelement.WebElement (session=\"b1acfd4c3d27fd227d9c3db0f6e6a7c4\", element=\"ff4ebaa0-3d58-439f-918d-50c6faa1d24f\")>,\n",
       " <selenium.webdriver.remote.webelement.WebElement (session=\"b1acfd4c3d27fd227d9c3db0f6e6a7c4\", element=\"757ec819-1c64-4535-9391-3038b873c599\")>,\n",
       " <selenium.webdriver.remote.webelement.WebElement (session=\"b1acfd4c3d27fd227d9c3db0f6e6a7c4\", element=\"a93aac96-fe22-4ff2-8f1b-1f57e155ce5c\")>,\n",
       " <selenium.webdriver.remote.webelement.WebElement (session=\"b1acfd4c3d27fd227d9c3db0f6e6a7c4\", element=\"ca26bfdb-5f1f-4e13-bfb9-c0c36253cf62\")>,\n",
       " <selenium.webdriver.remote.webelement.WebElement (session=\"b1acfd4c3d27fd227d9c3db0f6e6a7c4\", element=\"6e0d142f-d03c-4b26-97d7-5543bb900c72\")>,\n",
       " <selenium.webdriver.remote.webelement.WebElement (session=\"b1acfd4c3d27fd227d9c3db0f6e6a7c4\", element=\"0348d0b0-8817-4e72-8fa7-59e5fb1cbcc3\")>,\n",
       " <selenium.webdriver.remote.webelement.WebElement (session=\"b1acfd4c3d27fd227d9c3db0f6e6a7c4\", element=\"03a18645-112e-4408-a9dc-7577c83fbccc\")>,\n",
       " <selenium.webdriver.remote.webelement.WebElement (session=\"b1acfd4c3d27fd227d9c3db0f6e6a7c4\", element=\"ec75f104-400c-4f81-a41a-0e0badf80473\")>,\n",
       " <selenium.webdriver.remote.webelement.WebElement (session=\"b1acfd4c3d27fd227d9c3db0f6e6a7c4\", element=\"99a9e35e-0538-4e91-a02b-1c7ab6fd9c2e\")>,\n",
       " <selenium.webdriver.remote.webelement.WebElement (session=\"b1acfd4c3d27fd227d9c3db0f6e6a7c4\", element=\"48a05adb-5514-4ea9-ba72-da5f787e7d79\")>,\n",
       " <selenium.webdriver.remote.webelement.WebElement (session=\"b1acfd4c3d27fd227d9c3db0f6e6a7c4\", element=\"4bb01fbc-1080-4aa8-96dd-8851abe5f112\")>,\n",
       " <selenium.webdriver.remote.webelement.WebElement (session=\"b1acfd4c3d27fd227d9c3db0f6e6a7c4\", element=\"607afca5-f8eb-4f1b-8d8e-1a342e379544\")>,\n",
       " <selenium.webdriver.remote.webelement.WebElement (session=\"b1acfd4c3d27fd227d9c3db0f6e6a7c4\", element=\"c125c727-bf57-4dbd-b630-222da31a92bb\")>,\n",
       " <selenium.webdriver.remote.webelement.WebElement (session=\"b1acfd4c3d27fd227d9c3db0f6e6a7c4\", element=\"d191ee33-a311-450d-8d55-759ebfbcf200\")>,\n",
       " <selenium.webdriver.remote.webelement.WebElement (session=\"b1acfd4c3d27fd227d9c3db0f6e6a7c4\", element=\"1365ac45-b807-4803-87d9-4cf78936f5b5\")>,\n",
       " <selenium.webdriver.remote.webelement.WebElement (session=\"b1acfd4c3d27fd227d9c3db0f6e6a7c4\", element=\"5b7a6277-999f-47ba-a3ac-7e84d1e3eac5\")>,\n",
       " <selenium.webdriver.remote.webelement.WebElement (session=\"b1acfd4c3d27fd227d9c3db0f6e6a7c4\", element=\"ef22da88-69b7-458d-86d5-455a4201a72d\")>,\n",
       " <selenium.webdriver.remote.webelement.WebElement (session=\"b1acfd4c3d27fd227d9c3db0f6e6a7c4\", element=\"93c1d75a-36cd-43ef-8f94-bb0d4afeb33e\")>,\n",
       " <selenium.webdriver.remote.webelement.WebElement (session=\"b1acfd4c3d27fd227d9c3db0f6e6a7c4\", element=\"a73a68b6-e858-4c58-89e5-fc827d55fa89\")>,\n",
       " <selenium.webdriver.remote.webelement.WebElement (session=\"b1acfd4c3d27fd227d9c3db0f6e6a7c4\", element=\"2b256d8e-ad2e-4814-b95d-2c4a660cc6bf\")>,\n",
       " <selenium.webdriver.remote.webelement.WebElement (session=\"b1acfd4c3d27fd227d9c3db0f6e6a7c4\", element=\"47ae0bcb-6bbd-441f-8065-5c71b16c83f9\")>,\n",
       " <selenium.webdriver.remote.webelement.WebElement (session=\"b1acfd4c3d27fd227d9c3db0f6e6a7c4\", element=\"b56ecbdc-5cad-4e4e-96cb-1cc9265d2579\")>]"
      ]
     },
     "execution_count": 35,
     "metadata": {},
     "output_type": "execute_result"
    }
   ],
   "source": [
    "Dis2=driver.find_elements_by_xpath(\"//div[@class='_3Ay6Sb']\")\n",
    "Dis2"
   ]
  },
  {
   "cell_type": "code",
   "execution_count": 36,
   "metadata": {
    "scrolled": true
   },
   "outputs": [
    {
     "data": {
      "text/plain": [
       "['68% off',\n",
       " '86% off',\n",
       " '80% off',\n",
       " '80% off',\n",
       " '23% off',\n",
       " '32% off',\n",
       " '80% off',\n",
       " '83% off',\n",
       " '55% off',\n",
       " '78% off',\n",
       " '23% off',\n",
       " '24% off',\n",
       " '73% off',\n",
       " '70% off',\n",
       " '80% off',\n",
       " '23% off',\n",
       " '80% off',\n",
       " '81% off',\n",
       " '85% off',\n",
       " '71% off',\n",
       " '82% off',\n",
       " '23% off',\n",
       " '43% off',\n",
       " '73% off',\n",
       " '78% off',\n",
       " '75% off',\n",
       " '68% off',\n",
       " '83% off',\n",
       " '71% off',\n",
       " '61% off',\n",
       " '33% off',\n",
       " '23% off',\n",
       " '23% off',\n",
       " '75% off',\n",
       " '37% off',\n",
       " '77% off',\n",
       " '82% off',\n",
       " '23% off',\n",
       " '73% off',\n",
       " '77% off']"
      ]
     },
     "execution_count": 36,
     "metadata": {},
     "output_type": "execute_result"
    }
   ],
   "source": [
    "Dis_2=[]\n",
    "for i in Dis2:\n",
    "    disc2=i.text\n",
    "    Dis_2.append(disc2)\n",
    "Dis_2"
   ]
  },
  {
   "cell_type": "code",
   "execution_count": 39,
   "metadata": {},
   "outputs": [],
   "source": [
    "#clicking on the next page\n",
    "Next_page3=driver.find_element_by_xpath(\"//a [@href='/search?q=sunglasses&otracker=search&otracker1=search&marketplace=FLIPKART&as-show=on&as=off&page=3']\")\n",
    "Next_page3.click()"
   ]
  },
  {
   "cell_type": "code",
   "execution_count": 40,
   "metadata": {
    "scrolled": true
   },
   "outputs": [
    {
     "data": {
      "text/plain": [
       "[<selenium.webdriver.remote.webelement.WebElement (session=\"b1acfd4c3d27fd227d9c3db0f6e6a7c4\", element=\"8f1b53d7-70c1-43bd-9b89-a47539d50e0b\")>,\n",
       " <selenium.webdriver.remote.webelement.WebElement (session=\"b1acfd4c3d27fd227d9c3db0f6e6a7c4\", element=\"316a8316-c318-49bf-9188-e620af9c400f\")>,\n",
       " <selenium.webdriver.remote.webelement.WebElement (session=\"b1acfd4c3d27fd227d9c3db0f6e6a7c4\", element=\"2faad7ed-4459-4140-b5bb-35f7f9f75190\")>,\n",
       " <selenium.webdriver.remote.webelement.WebElement (session=\"b1acfd4c3d27fd227d9c3db0f6e6a7c4\", element=\"2ac80a26-5079-4335-bbdc-6fafd6da18b4\")>,\n",
       " <selenium.webdriver.remote.webelement.WebElement (session=\"b1acfd4c3d27fd227d9c3db0f6e6a7c4\", element=\"c3a77c2e-1b5a-4f42-b675-3560983e15c1\")>,\n",
       " <selenium.webdriver.remote.webelement.WebElement (session=\"b1acfd4c3d27fd227d9c3db0f6e6a7c4\", element=\"1a211e24-2321-4ed3-903a-cc9afa9b5250\")>,\n",
       " <selenium.webdriver.remote.webelement.WebElement (session=\"b1acfd4c3d27fd227d9c3db0f6e6a7c4\", element=\"2dd5f365-9e71-4b09-a251-f6433812ee41\")>,\n",
       " <selenium.webdriver.remote.webelement.WebElement (session=\"b1acfd4c3d27fd227d9c3db0f6e6a7c4\", element=\"4ce282a9-3594-4c71-a101-bc435ff73cf1\")>,\n",
       " <selenium.webdriver.remote.webelement.WebElement (session=\"b1acfd4c3d27fd227d9c3db0f6e6a7c4\", element=\"a1593ea9-11a5-458e-84b5-22f813714125\")>,\n",
       " <selenium.webdriver.remote.webelement.WebElement (session=\"b1acfd4c3d27fd227d9c3db0f6e6a7c4\", element=\"1a7e37f5-50b2-4204-a9a1-04ba6656f2f0\")>,\n",
       " <selenium.webdriver.remote.webelement.WebElement (session=\"b1acfd4c3d27fd227d9c3db0f6e6a7c4\", element=\"9d729ce8-2f40-41d2-a5a1-d7b46fc3bd9d\")>,\n",
       " <selenium.webdriver.remote.webelement.WebElement (session=\"b1acfd4c3d27fd227d9c3db0f6e6a7c4\", element=\"62fc4bd2-f1a3-44ac-ba94-0adbc9843873\")>,\n",
       " <selenium.webdriver.remote.webelement.WebElement (session=\"b1acfd4c3d27fd227d9c3db0f6e6a7c4\", element=\"d3ee9e8b-5ebb-4fa6-8c60-190d4b76f661\")>,\n",
       " <selenium.webdriver.remote.webelement.WebElement (session=\"b1acfd4c3d27fd227d9c3db0f6e6a7c4\", element=\"baa38024-a918-4f9d-843e-d06f33239483\")>,\n",
       " <selenium.webdriver.remote.webelement.WebElement (session=\"b1acfd4c3d27fd227d9c3db0f6e6a7c4\", element=\"f99687ef-e7ed-41e1-aef7-d9cd60caf968\")>,\n",
       " <selenium.webdriver.remote.webelement.WebElement (session=\"b1acfd4c3d27fd227d9c3db0f6e6a7c4\", element=\"510f7ed0-4a4e-4d74-92e2-03e39134d23c\")>,\n",
       " <selenium.webdriver.remote.webelement.WebElement (session=\"b1acfd4c3d27fd227d9c3db0f6e6a7c4\", element=\"d3b53802-42e3-49ba-9bef-9db772ac539e\")>,\n",
       " <selenium.webdriver.remote.webelement.WebElement (session=\"b1acfd4c3d27fd227d9c3db0f6e6a7c4\", element=\"8eaa6442-1ce9-45b0-9746-ebe7316cfd2d\")>,\n",
       " <selenium.webdriver.remote.webelement.WebElement (session=\"b1acfd4c3d27fd227d9c3db0f6e6a7c4\", element=\"37a2c5fd-8b65-450c-a0e8-4b3ca7b318d8\")>,\n",
       " <selenium.webdriver.remote.webelement.WebElement (session=\"b1acfd4c3d27fd227d9c3db0f6e6a7c4\", element=\"4b29da5a-dc86-4548-817c-f7436f5367cd\")>,\n",
       " <selenium.webdriver.remote.webelement.WebElement (session=\"b1acfd4c3d27fd227d9c3db0f6e6a7c4\", element=\"65ac6c8f-5ea7-4cf7-afc8-0609c5b71e6f\")>,\n",
       " <selenium.webdriver.remote.webelement.WebElement (session=\"b1acfd4c3d27fd227d9c3db0f6e6a7c4\", element=\"253f7b8d-45c9-444d-81b0-addcde50aaaa\")>,\n",
       " <selenium.webdriver.remote.webelement.WebElement (session=\"b1acfd4c3d27fd227d9c3db0f6e6a7c4\", element=\"fca1399d-af2b-45de-ad1e-bbfdc9d42df9\")>,\n",
       " <selenium.webdriver.remote.webelement.WebElement (session=\"b1acfd4c3d27fd227d9c3db0f6e6a7c4\", element=\"85c5b4ee-2230-452e-aa8e-14cae907bdf4\")>,\n",
       " <selenium.webdriver.remote.webelement.WebElement (session=\"b1acfd4c3d27fd227d9c3db0f6e6a7c4\", element=\"cdaeeab5-34ad-42ae-8378-24c913ffc8e6\")>,\n",
       " <selenium.webdriver.remote.webelement.WebElement (session=\"b1acfd4c3d27fd227d9c3db0f6e6a7c4\", element=\"5054115d-23d1-4e9c-816f-6ff299429f2f\")>,\n",
       " <selenium.webdriver.remote.webelement.WebElement (session=\"b1acfd4c3d27fd227d9c3db0f6e6a7c4\", element=\"2a09d44a-448b-4221-83ec-2a4190a6c042\")>,\n",
       " <selenium.webdriver.remote.webelement.WebElement (session=\"b1acfd4c3d27fd227d9c3db0f6e6a7c4\", element=\"fd899e3b-d464-4b02-b61f-4b2c63c47233\")>,\n",
       " <selenium.webdriver.remote.webelement.WebElement (session=\"b1acfd4c3d27fd227d9c3db0f6e6a7c4\", element=\"52cdf4f6-88fc-4302-ac41-738959d977a0\")>,\n",
       " <selenium.webdriver.remote.webelement.WebElement (session=\"b1acfd4c3d27fd227d9c3db0f6e6a7c4\", element=\"247926ab-6917-46d6-8044-e005e6a0b30f\")>,\n",
       " <selenium.webdriver.remote.webelement.WebElement (session=\"b1acfd4c3d27fd227d9c3db0f6e6a7c4\", element=\"38ec5bf4-7203-4414-90ea-8ccc1fc719ad\")>,\n",
       " <selenium.webdriver.remote.webelement.WebElement (session=\"b1acfd4c3d27fd227d9c3db0f6e6a7c4\", element=\"b2f09fb1-8c02-440c-afd7-d301c5867239\")>,\n",
       " <selenium.webdriver.remote.webelement.WebElement (session=\"b1acfd4c3d27fd227d9c3db0f6e6a7c4\", element=\"62e9a3bc-53eb-4c61-8ffb-74817fd9e188\")>,\n",
       " <selenium.webdriver.remote.webelement.WebElement (session=\"b1acfd4c3d27fd227d9c3db0f6e6a7c4\", element=\"9e46bc2f-215f-4193-bfc6-2dff7042dcba\")>,\n",
       " <selenium.webdriver.remote.webelement.WebElement (session=\"b1acfd4c3d27fd227d9c3db0f6e6a7c4\", element=\"96c14da5-8440-4352-a728-7e351fa3d111\")>,\n",
       " <selenium.webdriver.remote.webelement.WebElement (session=\"b1acfd4c3d27fd227d9c3db0f6e6a7c4\", element=\"daf60537-ee3d-44cb-ae8d-9970cac70940\")>,\n",
       " <selenium.webdriver.remote.webelement.WebElement (session=\"b1acfd4c3d27fd227d9c3db0f6e6a7c4\", element=\"37d8343a-e06c-4414-8a41-4eaf0e1ba90d\")>,\n",
       " <selenium.webdriver.remote.webelement.WebElement (session=\"b1acfd4c3d27fd227d9c3db0f6e6a7c4\", element=\"552a36db-158e-450a-999f-b9c3a5c7d775\")>,\n",
       " <selenium.webdriver.remote.webelement.WebElement (session=\"b1acfd4c3d27fd227d9c3db0f6e6a7c4\", element=\"d64be0cf-7ec4-4bc0-9dad-30750c973ec3\")>,\n",
       " <selenium.webdriver.remote.webelement.WebElement (session=\"b1acfd4c3d27fd227d9c3db0f6e6a7c4\", element=\"d3aa8a7e-7422-4d23-b5cb-71d4e5eb8549\")>]"
      ]
     },
     "execution_count": 40,
     "metadata": {},
     "output_type": "execute_result"
    }
   ],
   "source": [
    "Brand_tag3=driver.find_elements_by_xpath(\"//div[@class='_2WkVRV']\")\n",
    "Brand_tag3"
   ]
  },
  {
   "cell_type": "code",
   "execution_count": 41,
   "metadata": {
    "scrolled": true
   },
   "outputs": [
    {
     "data": {
      "text/plain": [
       "['GANSTA',\n",
       " 'Aislin',\n",
       " 'Fastrack',\n",
       " 'ROZZETTA CRAFT',\n",
       " 'ROYAL SON',\n",
       " 'Wrogn',\n",
       " 'PIRASO',\n",
       " 'Fastrack',\n",
       " 'Badfella',\n",
       " 'NuVew',\n",
       " 'Fastrack',\n",
       " 'Flizz',\n",
       " 'Aislin',\n",
       " 'NuVew',\n",
       " 'ROZZETTA CRAFT',\n",
       " 'hipe',\n",
       " 'Fastrack',\n",
       " 'Aislin',\n",
       " 'phenomenal',\n",
       " 'ROYAL SON',\n",
       " 'PIRASO',\n",
       " 'ROZZETTA CRAFT',\n",
       " 'ROYAL SON',\n",
       " 'ROYAL SON',\n",
       " 'Fastrack',\n",
       " 'ROZZETTA CRAFT',\n",
       " 'Aislin',\n",
       " 'NuVew',\n",
       " 'PIRASO',\n",
       " 'Aislin',\n",
       " 'Fastrack',\n",
       " 'BKGE',\n",
       " 'NuVew',\n",
       " 'Aislin',\n",
       " 'Aislin',\n",
       " 'ROZZETTA CRAFT',\n",
       " 'NuVew',\n",
       " 'ROYAL SON',\n",
       " 'ROYAL SON',\n",
       " 'NuVew']"
      ]
     },
     "execution_count": 41,
     "metadata": {},
     "output_type": "execute_result"
    }
   ],
   "source": [
    "Brand_3=[]\n",
    "for i in Brand_tag3:\n",
    "    brandtag3=i.text\n",
    "    Brand_3.append(brandtag3)\n",
    "Brand_3"
   ]
  },
  {
   "cell_type": "code",
   "execution_count": 42,
   "metadata": {
    "scrolled": true
   },
   "outputs": [
    {
     "data": {
      "text/plain": [
       "[<selenium.webdriver.remote.webelement.WebElement (session=\"b1acfd4c3d27fd227d9c3db0f6e6a7c4\", element=\"c2757048-74ee-4a31-8a57-e0c42cccc86c\")>,\n",
       " <selenium.webdriver.remote.webelement.WebElement (session=\"b1acfd4c3d27fd227d9c3db0f6e6a7c4\", element=\"7aef0a30-7982-4b4a-be90-fccbcae0f5d8\")>,\n",
       " <selenium.webdriver.remote.webelement.WebElement (session=\"b1acfd4c3d27fd227d9c3db0f6e6a7c4\", element=\"37f0c811-64ca-4374-98f4-431884c43031\")>,\n",
       " <selenium.webdriver.remote.webelement.WebElement (session=\"b1acfd4c3d27fd227d9c3db0f6e6a7c4\", element=\"5b51187d-8ee6-4519-a8f5-ff46c4554268\")>,\n",
       " <selenium.webdriver.remote.webelement.WebElement (session=\"b1acfd4c3d27fd227d9c3db0f6e6a7c4\", element=\"e77b88c6-41cb-4b3f-8b26-0d6d791a31c4\")>,\n",
       " <selenium.webdriver.remote.webelement.WebElement (session=\"b1acfd4c3d27fd227d9c3db0f6e6a7c4\", element=\"77148a2a-414a-42c4-bb44-bc57c89ee5c5\")>,\n",
       " <selenium.webdriver.remote.webelement.WebElement (session=\"b1acfd4c3d27fd227d9c3db0f6e6a7c4\", element=\"bf1b4f74-4737-46ca-80a9-fbef71303109\")>,\n",
       " <selenium.webdriver.remote.webelement.WebElement (session=\"b1acfd4c3d27fd227d9c3db0f6e6a7c4\", element=\"412153af-d28d-45c8-8fd1-b4df19d70336\")>,\n",
       " <selenium.webdriver.remote.webelement.WebElement (session=\"b1acfd4c3d27fd227d9c3db0f6e6a7c4\", element=\"367637b8-e682-42bb-8a47-78b71f777373\")>,\n",
       " <selenium.webdriver.remote.webelement.WebElement (session=\"b1acfd4c3d27fd227d9c3db0f6e6a7c4\", element=\"7f9abe9d-cd58-46d0-82a7-e36ecb653cbd\")>,\n",
       " <selenium.webdriver.remote.webelement.WebElement (session=\"b1acfd4c3d27fd227d9c3db0f6e6a7c4\", element=\"ddd83912-45da-463b-ad93-82fd38538c5b\")>,\n",
       " <selenium.webdriver.remote.webelement.WebElement (session=\"b1acfd4c3d27fd227d9c3db0f6e6a7c4\", element=\"5cbe171c-385e-4c20-b968-0fbf5a494f1b\")>,\n",
       " <selenium.webdriver.remote.webelement.WebElement (session=\"b1acfd4c3d27fd227d9c3db0f6e6a7c4\", element=\"ff33fd70-19fe-4932-844f-d79a6b1723a3\")>,\n",
       " <selenium.webdriver.remote.webelement.WebElement (session=\"b1acfd4c3d27fd227d9c3db0f6e6a7c4\", element=\"95ea342f-6012-43a1-9204-97d1c267037a\")>,\n",
       " <selenium.webdriver.remote.webelement.WebElement (session=\"b1acfd4c3d27fd227d9c3db0f6e6a7c4\", element=\"0a69de99-0df2-4bc7-94ae-43992bf91003\")>,\n",
       " <selenium.webdriver.remote.webelement.WebElement (session=\"b1acfd4c3d27fd227d9c3db0f6e6a7c4\", element=\"ef552905-8c6b-4203-867d-def29bf98ddb\")>,\n",
       " <selenium.webdriver.remote.webelement.WebElement (session=\"b1acfd4c3d27fd227d9c3db0f6e6a7c4\", element=\"2a2fa22a-102e-4067-a25c-b16d76d39e03\")>,\n",
       " <selenium.webdriver.remote.webelement.WebElement (session=\"b1acfd4c3d27fd227d9c3db0f6e6a7c4\", element=\"75a0d864-bca6-45ea-8005-c84f062ad4c3\")>,\n",
       " <selenium.webdriver.remote.webelement.WebElement (session=\"b1acfd4c3d27fd227d9c3db0f6e6a7c4\", element=\"09ad2cd1-f5c2-4fa5-99fa-7c20b84bff1a\")>,\n",
       " <selenium.webdriver.remote.webelement.WebElement (session=\"b1acfd4c3d27fd227d9c3db0f6e6a7c4\", element=\"4188062d-ae9c-4630-8094-fc22b7342c25\")>,\n",
       " <selenium.webdriver.remote.webelement.WebElement (session=\"b1acfd4c3d27fd227d9c3db0f6e6a7c4\", element=\"5c53eb5d-4241-4ea1-a9a8-6bcec843cae5\")>,\n",
       " <selenium.webdriver.remote.webelement.WebElement (session=\"b1acfd4c3d27fd227d9c3db0f6e6a7c4\", element=\"391334e7-9e65-471a-87b3-d0ca6e671fe2\")>,\n",
       " <selenium.webdriver.remote.webelement.WebElement (session=\"b1acfd4c3d27fd227d9c3db0f6e6a7c4\", element=\"38af9f5f-9668-4eca-9217-2575c896bd49\")>,\n",
       " <selenium.webdriver.remote.webelement.WebElement (session=\"b1acfd4c3d27fd227d9c3db0f6e6a7c4\", element=\"95eb7e85-eafe-4364-8799-dbbe26bcf84f\")>,\n",
       " <selenium.webdriver.remote.webelement.WebElement (session=\"b1acfd4c3d27fd227d9c3db0f6e6a7c4\", element=\"a94adeb5-1ceb-474b-afa6-bcd082bf9bca\")>,\n",
       " <selenium.webdriver.remote.webelement.WebElement (session=\"b1acfd4c3d27fd227d9c3db0f6e6a7c4\", element=\"dc03a2f7-d00a-4f0e-9d47-4045de56ddbc\")>,\n",
       " <selenium.webdriver.remote.webelement.WebElement (session=\"b1acfd4c3d27fd227d9c3db0f6e6a7c4\", element=\"b62c65c1-b594-4bf5-a58d-b02a5f0d41d9\")>,\n",
       " <selenium.webdriver.remote.webelement.WebElement (session=\"b1acfd4c3d27fd227d9c3db0f6e6a7c4\", element=\"747e6db4-51ca-426b-bbdf-870552959a55\")>,\n",
       " <selenium.webdriver.remote.webelement.WebElement (session=\"b1acfd4c3d27fd227d9c3db0f6e6a7c4\", element=\"d86a1d61-3b5e-4f78-bd8a-a5283c9917bb\")>,\n",
       " <selenium.webdriver.remote.webelement.WebElement (session=\"b1acfd4c3d27fd227d9c3db0f6e6a7c4\", element=\"fa43f4e1-19e6-41ab-b635-c80d3775d390\")>,\n",
       " <selenium.webdriver.remote.webelement.WebElement (session=\"b1acfd4c3d27fd227d9c3db0f6e6a7c4\", element=\"e20ff5cd-4597-4cdf-af94-bf11542a82c5\")>,\n",
       " <selenium.webdriver.remote.webelement.WebElement (session=\"b1acfd4c3d27fd227d9c3db0f6e6a7c4\", element=\"6669c2b0-bd5c-468e-901a-837a511fbbd0\")>,\n",
       " <selenium.webdriver.remote.webelement.WebElement (session=\"b1acfd4c3d27fd227d9c3db0f6e6a7c4\", element=\"a1ae8422-ff4d-463d-99c5-a4b6bb44cb3f\")>,\n",
       " <selenium.webdriver.remote.webelement.WebElement (session=\"b1acfd4c3d27fd227d9c3db0f6e6a7c4\", element=\"5a831bb9-83f2-4095-811b-10d2a11fc713\")>,\n",
       " <selenium.webdriver.remote.webelement.WebElement (session=\"b1acfd4c3d27fd227d9c3db0f6e6a7c4\", element=\"a7264a77-c556-41fe-984b-913fc4b86b65\")>,\n",
       " <selenium.webdriver.remote.webelement.WebElement (session=\"b1acfd4c3d27fd227d9c3db0f6e6a7c4\", element=\"5ef66639-bf3a-4a11-9d50-ad6bf9f57515\")>,\n",
       " <selenium.webdriver.remote.webelement.WebElement (session=\"b1acfd4c3d27fd227d9c3db0f6e6a7c4\", element=\"88413c0e-157e-4dc4-a716-26ebd101a712\")>,\n",
       " <selenium.webdriver.remote.webelement.WebElement (session=\"b1acfd4c3d27fd227d9c3db0f6e6a7c4\", element=\"44d8673d-f094-4182-bbb9-247a27b1b36d\")>,\n",
       " <selenium.webdriver.remote.webelement.WebElement (session=\"b1acfd4c3d27fd227d9c3db0f6e6a7c4\", element=\"23e93ec5-ddbb-416f-a755-a083464f2350\")>]"
      ]
     },
     "execution_count": 42,
     "metadata": {},
     "output_type": "execute_result"
    }
   ],
   "source": [
    "Prod_dis3=driver.find_elements_by_xpath(\"//a[@class='IRpwTa']\")\n",
    "Prod_dis3"
   ]
  },
  {
   "cell_type": "code",
   "execution_count": 43,
   "metadata": {
    "scrolled": true
   },
   "outputs": [
    {
     "data": {
      "text/plain": [
       "['UV Protection, Mirrored Wayfarer Sunglasses (53)',\n",
       " 'UV Protection Rectangular, Cat-eye Sunglasses (58)',\n",
       " 'UV Protection Aviator Sunglasses (61)',\n",
       " 'UV Protection, Riding Glasses Rectangular Sunglasses (F...',\n",
       " 'UV Protection Wayfarer Sunglasses (55)',\n",
       " 'UV Protection Aviator Sunglasses (57)',\n",
       " 'UV Protection Aviator Sunglasses (54)',\n",
       " 'UV Protection Wayfarer Sunglasses (54)',\n",
       " 'Polarized, UV Protection Retro Square Sunglasses (53)',\n",
       " 'UV Protection, Mirrored Wayfarer, Retro Square Sunglass...',\n",
       " 'UV Protection Aviator Sunglasses (Free Size)',\n",
       " 'UV Protection, Polarized Rectangular Sunglasses (Free S...',\n",
       " 'UV Protection, Gradient Butterfly, Over-sized Sunglasse...',\n",
       " 'UV Protection, Gradient Cat-eye Sunglasses (63)',\n",
       " 'Polarized, UV Protection Aviator Sunglasses (Free Size)',\n",
       " 'Mirrored Wayfarer Sunglasses (55)',\n",
       " 'UV Protection Rectangular Sunglasses (59)',\n",
       " 'UV Protection, Gradient Oval Sunglasses (58)',\n",
       " 'UV Protection, Mirrored, Gradient Retro Square Sunglass...',\n",
       " 'Polarized, UV Protection Round Sunglasses (49)',\n",
       " 'UV Protection Aviator Sunglasses (50)',\n",
       " 'UV Protection, Gradient Round Sunglasses (Free Size)',\n",
       " 'Mirrored Aviator Sunglasses (Free Size)',\n",
       " 'Polarized Retro Square Sunglasses (52)',\n",
       " 'UV Protection Wayfarer Sunglasses (53)',\n",
       " 'UV Protection, Gradient Round Sunglasses (Free Size)',\n",
       " 'UV Protection, Gradient Round, Cat-eye Sunglasses (60)',\n",
       " 'UV Protection, Night Vision, Riding Glasses Sports Sung...',\n",
       " 'UV Protection Aviator Sunglasses (54)',\n",
       " 'UV Protection Aviator Sunglasses (Free Size)',\n",
       " 'UV Protection, Polarized Rectangular Sunglasses (53)',\n",
       " 'UV Protection, Mirrored Sports Sunglasses (73)',\n",
       " 'UV Protection, Gradient Wayfarer Sunglasses (57)',\n",
       " 'UV Protection Oval Sunglasses (60)',\n",
       " 'UV Protection Retro Square Sunglasses (Free Size)',\n",
       " 'UV Protection, Mirrored, Riding Glasses Round Sunglasse...',\n",
       " 'Polarized, UV Protection Rectangular Sunglasses (59)',\n",
       " 'UV Protection Rectangular Sunglasses (55)',\n",
       " 'UV Protection, Gradient, Night Vision, Mirrored Aviator...']"
      ]
     },
     "execution_count": 43,
     "metadata": {},
     "output_type": "execute_result"
    }
   ],
   "source": [
    "Prod_dis_3=[]\n",
    "for i in Prod_dis3:\n",
    "    Proddis3=i.text\n",
    "    Prod_dis_3.append(Proddis3)\n",
    "Prod_dis_3"
   ]
  },
  {
   "cell_type": "code",
   "execution_count": 44,
   "metadata": {
    "scrolled": true
   },
   "outputs": [
    {
     "data": {
      "text/plain": [
       "[<selenium.webdriver.remote.webelement.WebElement (session=\"b1acfd4c3d27fd227d9c3db0f6e6a7c4\", element=\"65b2e199-454f-4aa1-9371-ffd2c022ed11\")>,\n",
       " <selenium.webdriver.remote.webelement.WebElement (session=\"b1acfd4c3d27fd227d9c3db0f6e6a7c4\", element=\"88e81c34-2501-425d-bee3-48663013f8e7\")>,\n",
       " <selenium.webdriver.remote.webelement.WebElement (session=\"b1acfd4c3d27fd227d9c3db0f6e6a7c4\", element=\"2994f6f2-b014-4339-9194-e671af572763\")>,\n",
       " <selenium.webdriver.remote.webelement.WebElement (session=\"b1acfd4c3d27fd227d9c3db0f6e6a7c4\", element=\"24acb3dc-7f24-4226-8c32-c599e1fdd387\")>,\n",
       " <selenium.webdriver.remote.webelement.WebElement (session=\"b1acfd4c3d27fd227d9c3db0f6e6a7c4\", element=\"f9e5c78e-dda0-403d-afa9-cd5df5ed6d92\")>,\n",
       " <selenium.webdriver.remote.webelement.WebElement (session=\"b1acfd4c3d27fd227d9c3db0f6e6a7c4\", element=\"b2a42b57-348a-4c6e-a7e4-f621b8e679ff\")>,\n",
       " <selenium.webdriver.remote.webelement.WebElement (session=\"b1acfd4c3d27fd227d9c3db0f6e6a7c4\", element=\"e3d58fd2-5ff2-4d17-aeaf-c061a31981fa\")>,\n",
       " <selenium.webdriver.remote.webelement.WebElement (session=\"b1acfd4c3d27fd227d9c3db0f6e6a7c4\", element=\"b0c09bfb-d5b3-46c8-a3fe-5656c92d82da\")>,\n",
       " <selenium.webdriver.remote.webelement.WebElement (session=\"b1acfd4c3d27fd227d9c3db0f6e6a7c4\", element=\"32f31c42-b53a-4e89-ba8e-53e8b7b0a5d3\")>,\n",
       " <selenium.webdriver.remote.webelement.WebElement (session=\"b1acfd4c3d27fd227d9c3db0f6e6a7c4\", element=\"7527b83f-e2c7-4109-97dc-188875785056\")>,\n",
       " <selenium.webdriver.remote.webelement.WebElement (session=\"b1acfd4c3d27fd227d9c3db0f6e6a7c4\", element=\"50b3b16f-a52b-4fd3-b07b-879e9c55ee9e\")>,\n",
       " <selenium.webdriver.remote.webelement.WebElement (session=\"b1acfd4c3d27fd227d9c3db0f6e6a7c4\", element=\"8141d2d7-4a23-4d80-975b-a45951d03bce\")>,\n",
       " <selenium.webdriver.remote.webelement.WebElement (session=\"b1acfd4c3d27fd227d9c3db0f6e6a7c4\", element=\"4df4d857-ce16-4b8e-87a1-9cda7365793c\")>,\n",
       " <selenium.webdriver.remote.webelement.WebElement (session=\"b1acfd4c3d27fd227d9c3db0f6e6a7c4\", element=\"86c0e176-dae1-4017-9c64-3983e30cc33b\")>,\n",
       " <selenium.webdriver.remote.webelement.WebElement (session=\"b1acfd4c3d27fd227d9c3db0f6e6a7c4\", element=\"890bbee0-25cc-4ca7-863d-242e4b530c3a\")>,\n",
       " <selenium.webdriver.remote.webelement.WebElement (session=\"b1acfd4c3d27fd227d9c3db0f6e6a7c4\", element=\"457231a3-2aca-4098-ae81-0d0007dec988\")>,\n",
       " <selenium.webdriver.remote.webelement.WebElement (session=\"b1acfd4c3d27fd227d9c3db0f6e6a7c4\", element=\"80cbc803-c5c4-451c-bb57-76853b9d699a\")>,\n",
       " <selenium.webdriver.remote.webelement.WebElement (session=\"b1acfd4c3d27fd227d9c3db0f6e6a7c4\", element=\"4b7a7503-7c18-4225-9412-840dbe63935b\")>,\n",
       " <selenium.webdriver.remote.webelement.WebElement (session=\"b1acfd4c3d27fd227d9c3db0f6e6a7c4\", element=\"7dfde909-0c25-414d-99f6-478e9ee7b096\")>,\n",
       " <selenium.webdriver.remote.webelement.WebElement (session=\"b1acfd4c3d27fd227d9c3db0f6e6a7c4\", element=\"0382d9cb-751c-4455-b7b6-55810d7ef119\")>,\n",
       " <selenium.webdriver.remote.webelement.WebElement (session=\"b1acfd4c3d27fd227d9c3db0f6e6a7c4\", element=\"102eb556-8971-42af-a55d-4794f838962d\")>,\n",
       " <selenium.webdriver.remote.webelement.WebElement (session=\"b1acfd4c3d27fd227d9c3db0f6e6a7c4\", element=\"99afb1ca-5739-4d52-87a7-439bfc07134a\")>,\n",
       " <selenium.webdriver.remote.webelement.WebElement (session=\"b1acfd4c3d27fd227d9c3db0f6e6a7c4\", element=\"82d1358b-0846-4ce5-9e4c-26148f0b788d\")>,\n",
       " <selenium.webdriver.remote.webelement.WebElement (session=\"b1acfd4c3d27fd227d9c3db0f6e6a7c4\", element=\"7e0a39d5-cf50-4103-a696-ec22e0bbb303\")>,\n",
       " <selenium.webdriver.remote.webelement.WebElement (session=\"b1acfd4c3d27fd227d9c3db0f6e6a7c4\", element=\"d3ae690b-1243-4002-9e86-373a6133728b\")>,\n",
       " <selenium.webdriver.remote.webelement.WebElement (session=\"b1acfd4c3d27fd227d9c3db0f6e6a7c4\", element=\"a3e7e77f-0327-492f-9239-ad84dd0af229\")>,\n",
       " <selenium.webdriver.remote.webelement.WebElement (session=\"b1acfd4c3d27fd227d9c3db0f6e6a7c4\", element=\"0f2c2d9a-9e8c-4959-b319-4e57b400b047\")>,\n",
       " <selenium.webdriver.remote.webelement.WebElement (session=\"b1acfd4c3d27fd227d9c3db0f6e6a7c4\", element=\"9e8e0797-35ae-4123-8ed6-85c5399221db\")>,\n",
       " <selenium.webdriver.remote.webelement.WebElement (session=\"b1acfd4c3d27fd227d9c3db0f6e6a7c4\", element=\"17217559-b84c-4c61-869e-e415eb6cad93\")>,\n",
       " <selenium.webdriver.remote.webelement.WebElement (session=\"b1acfd4c3d27fd227d9c3db0f6e6a7c4\", element=\"36c8fc11-3da6-4535-89b9-f07ac3b6f036\")>,\n",
       " <selenium.webdriver.remote.webelement.WebElement (session=\"b1acfd4c3d27fd227d9c3db0f6e6a7c4\", element=\"b46f9c10-10ac-431a-aa3d-2b056155a87f\")>,\n",
       " <selenium.webdriver.remote.webelement.WebElement (session=\"b1acfd4c3d27fd227d9c3db0f6e6a7c4\", element=\"d4d5c82a-3177-4b6b-881e-367c1e5fa70b\")>,\n",
       " <selenium.webdriver.remote.webelement.WebElement (session=\"b1acfd4c3d27fd227d9c3db0f6e6a7c4\", element=\"07eef769-7263-4d8b-b557-24d303b72c59\")>,\n",
       " <selenium.webdriver.remote.webelement.WebElement (session=\"b1acfd4c3d27fd227d9c3db0f6e6a7c4\", element=\"14324632-8d81-4d75-b0b4-47f1d5724a2b\")>,\n",
       " <selenium.webdriver.remote.webelement.WebElement (session=\"b1acfd4c3d27fd227d9c3db0f6e6a7c4\", element=\"3dd1fc0c-159e-4968-a527-406a32466704\")>,\n",
       " <selenium.webdriver.remote.webelement.WebElement (session=\"b1acfd4c3d27fd227d9c3db0f6e6a7c4\", element=\"d2a2d22d-b3fe-4564-8769-bfd9e2213d0a\")>,\n",
       " <selenium.webdriver.remote.webelement.WebElement (session=\"b1acfd4c3d27fd227d9c3db0f6e6a7c4\", element=\"4eb7d818-adf8-40be-ae03-59233f299bcd\")>,\n",
       " <selenium.webdriver.remote.webelement.WebElement (session=\"b1acfd4c3d27fd227d9c3db0f6e6a7c4\", element=\"bd5fc64b-1da2-4521-b6c5-0ce0a8bd0b7d\")>,\n",
       " <selenium.webdriver.remote.webelement.WebElement (session=\"b1acfd4c3d27fd227d9c3db0f6e6a7c4\", element=\"ff565b74-5f03-484d-8422-c30a0e674767\")>,\n",
       " <selenium.webdriver.remote.webelement.WebElement (session=\"b1acfd4c3d27fd227d9c3db0f6e6a7c4\", element=\"1cff7c76-838e-4f64-b381-0d194da05caa\")>]"
      ]
     },
     "execution_count": 44,
     "metadata": {},
     "output_type": "execute_result"
    }
   ],
   "source": [
    "Price3=driver.find_elements_by_xpath(\"//div[@class='_30jeq3']\")\n",
    "Price3"
   ]
  },
  {
   "cell_type": "code",
   "execution_count": 45,
   "metadata": {
    "scrolled": true
   },
   "outputs": [
    {
     "data": {
      "text/plain": [
       "['₹199',\n",
       " '₹523',\n",
       " '₹685',\n",
       " '₹426',\n",
       " '₹237',\n",
       " '₹874',\n",
       " '₹186',\n",
       " '₹559',\n",
       " '₹269',\n",
       " '₹261',\n",
       " '₹657',\n",
       " '₹279',\n",
       " '₹526',\n",
       " '₹296',\n",
       " '₹426',\n",
       " '₹219',\n",
       " '₹990',\n",
       " '₹472',\n",
       " '₹259',\n",
       " '₹594',\n",
       " '₹261',\n",
       " '₹426',\n",
       " '₹339',\n",
       " '₹509',\n",
       " '₹685',\n",
       " '₹426',\n",
       " '₹400',\n",
       " '₹255',\n",
       " '₹212',\n",
       " '₹916',\n",
       " '₹681',\n",
       " '₹389',\n",
       " '₹316',\n",
       " '₹592',\n",
       " '₹630',\n",
       " '₹401',\n",
       " '₹386',\n",
       " '₹594',\n",
       " '₹424',\n",
       " '₹295']"
      ]
     },
     "execution_count": 45,
     "metadata": {},
     "output_type": "execute_result"
    }
   ],
   "source": [
    "Price_3=[]\n",
    "for i in Price3:\n",
    "    Prices3=i.text\n",
    "    Price_3.append(Prices3)\n",
    "Price_3"
   ]
  },
  {
   "cell_type": "code",
   "execution_count": 46,
   "metadata": {
    "scrolled": true
   },
   "outputs": [
    {
     "data": {
      "text/plain": [
       "[<selenium.webdriver.remote.webelement.WebElement (session=\"b1acfd4c3d27fd227d9c3db0f6e6a7c4\", element=\"1c6adc5b-b0a0-48b7-ad37-7ab2ea3cfeda\")>,\n",
       " <selenium.webdriver.remote.webelement.WebElement (session=\"b1acfd4c3d27fd227d9c3db0f6e6a7c4\", element=\"881fbbb5-89aa-4508-bf32-8cdc763e434a\")>,\n",
       " <selenium.webdriver.remote.webelement.WebElement (session=\"b1acfd4c3d27fd227d9c3db0f6e6a7c4\", element=\"a39a9ee3-3620-4390-a61a-561606208555\")>,\n",
       " <selenium.webdriver.remote.webelement.WebElement (session=\"b1acfd4c3d27fd227d9c3db0f6e6a7c4\", element=\"5d4eecf6-8a00-42c5-b688-6fc29f502982\")>,\n",
       " <selenium.webdriver.remote.webelement.WebElement (session=\"b1acfd4c3d27fd227d9c3db0f6e6a7c4\", element=\"f18e630b-b045-4c65-81dd-80b8f0092d71\")>,\n",
       " <selenium.webdriver.remote.webelement.WebElement (session=\"b1acfd4c3d27fd227d9c3db0f6e6a7c4\", element=\"742005a8-265d-4873-8eec-5b32c7cc22e2\")>,\n",
       " <selenium.webdriver.remote.webelement.WebElement (session=\"b1acfd4c3d27fd227d9c3db0f6e6a7c4\", element=\"3f84a2d0-d1f0-4741-9ecf-162932568a42\")>,\n",
       " <selenium.webdriver.remote.webelement.WebElement (session=\"b1acfd4c3d27fd227d9c3db0f6e6a7c4\", element=\"61d66731-7c39-4daf-b0f1-521b1b0fb31c\")>,\n",
       " <selenium.webdriver.remote.webelement.WebElement (session=\"b1acfd4c3d27fd227d9c3db0f6e6a7c4\", element=\"68d679b7-9518-4eb1-8573-f097b89fd206\")>,\n",
       " <selenium.webdriver.remote.webelement.WebElement (session=\"b1acfd4c3d27fd227d9c3db0f6e6a7c4\", element=\"5235910f-643e-46db-b87b-462f4565cb82\")>,\n",
       " <selenium.webdriver.remote.webelement.WebElement (session=\"b1acfd4c3d27fd227d9c3db0f6e6a7c4\", element=\"4aa28c5d-ead4-4fee-aacf-3456db7b86de\")>,\n",
       " <selenium.webdriver.remote.webelement.WebElement (session=\"b1acfd4c3d27fd227d9c3db0f6e6a7c4\", element=\"28d9a7b8-2d6c-42b5-8464-54e152a271ef\")>,\n",
       " <selenium.webdriver.remote.webelement.WebElement (session=\"b1acfd4c3d27fd227d9c3db0f6e6a7c4\", element=\"f256de5e-ea58-4931-ac63-9eacd511a52b\")>,\n",
       " <selenium.webdriver.remote.webelement.WebElement (session=\"b1acfd4c3d27fd227d9c3db0f6e6a7c4\", element=\"0b559b41-c622-4c6c-abfa-d1aab2ce1bfd\")>,\n",
       " <selenium.webdriver.remote.webelement.WebElement (session=\"b1acfd4c3d27fd227d9c3db0f6e6a7c4\", element=\"1e2e0baa-a5ba-4f69-a666-a9fe7b23ee75\")>,\n",
       " <selenium.webdriver.remote.webelement.WebElement (session=\"b1acfd4c3d27fd227d9c3db0f6e6a7c4\", element=\"a6afaa86-c3ac-4780-86e9-82b6e3581ea6\")>,\n",
       " <selenium.webdriver.remote.webelement.WebElement (session=\"b1acfd4c3d27fd227d9c3db0f6e6a7c4\", element=\"5fc580a1-e71c-4b39-bfa2-048f856120f1\")>,\n",
       " <selenium.webdriver.remote.webelement.WebElement (session=\"b1acfd4c3d27fd227d9c3db0f6e6a7c4\", element=\"0fd142c1-a650-4e6b-b935-1f0958a08142\")>,\n",
       " <selenium.webdriver.remote.webelement.WebElement (session=\"b1acfd4c3d27fd227d9c3db0f6e6a7c4\", element=\"32b13bbd-925b-4eeb-bd70-a8da97012a54\")>,\n",
       " <selenium.webdriver.remote.webelement.WebElement (session=\"b1acfd4c3d27fd227d9c3db0f6e6a7c4\", element=\"de3b63e5-c168-4b10-b00d-bc66240ff973\")>,\n",
       " <selenium.webdriver.remote.webelement.WebElement (session=\"b1acfd4c3d27fd227d9c3db0f6e6a7c4\", element=\"678181fe-70db-43fa-8e52-5cd33249db39\")>,\n",
       " <selenium.webdriver.remote.webelement.WebElement (session=\"b1acfd4c3d27fd227d9c3db0f6e6a7c4\", element=\"3b848ab0-20fa-4c87-b1db-6ec896cc6a76\")>,\n",
       " <selenium.webdriver.remote.webelement.WebElement (session=\"b1acfd4c3d27fd227d9c3db0f6e6a7c4\", element=\"5de0e534-cb72-4210-b7e5-a4e39537c063\")>,\n",
       " <selenium.webdriver.remote.webelement.WebElement (session=\"b1acfd4c3d27fd227d9c3db0f6e6a7c4\", element=\"75bbff93-a051-48e7-be1b-79e03b251b13\")>,\n",
       " <selenium.webdriver.remote.webelement.WebElement (session=\"b1acfd4c3d27fd227d9c3db0f6e6a7c4\", element=\"05afe7a2-fe51-4191-9023-65eca7053fbf\")>,\n",
       " <selenium.webdriver.remote.webelement.WebElement (session=\"b1acfd4c3d27fd227d9c3db0f6e6a7c4\", element=\"970f3890-c58f-4d62-8eb7-a424120ba3c7\")>,\n",
       " <selenium.webdriver.remote.webelement.WebElement (session=\"b1acfd4c3d27fd227d9c3db0f6e6a7c4\", element=\"90f9820a-ffae-4cc0-bd6a-e9da023d8f3b\")>,\n",
       " <selenium.webdriver.remote.webelement.WebElement (session=\"b1acfd4c3d27fd227d9c3db0f6e6a7c4\", element=\"b8994373-6bdb-446e-aa43-ac258ec91ce9\")>,\n",
       " <selenium.webdriver.remote.webelement.WebElement (session=\"b1acfd4c3d27fd227d9c3db0f6e6a7c4\", element=\"9a3e6566-09d1-42de-8760-9f9712fb3f38\")>,\n",
       " <selenium.webdriver.remote.webelement.WebElement (session=\"b1acfd4c3d27fd227d9c3db0f6e6a7c4\", element=\"615b57a4-1f9b-4a20-8ff3-0fd0e11095bc\")>,\n",
       " <selenium.webdriver.remote.webelement.WebElement (session=\"b1acfd4c3d27fd227d9c3db0f6e6a7c4\", element=\"4c0c322b-051b-4458-a92b-5544ca193db7\")>,\n",
       " <selenium.webdriver.remote.webelement.WebElement (session=\"b1acfd4c3d27fd227d9c3db0f6e6a7c4\", element=\"f875cf34-ff4c-44cf-a6e3-e36c5a409f72\")>,\n",
       " <selenium.webdriver.remote.webelement.WebElement (session=\"b1acfd4c3d27fd227d9c3db0f6e6a7c4\", element=\"c6a47159-6819-4435-ab8b-814762ff4c4c\")>,\n",
       " <selenium.webdriver.remote.webelement.WebElement (session=\"b1acfd4c3d27fd227d9c3db0f6e6a7c4\", element=\"d98b4b30-d971-4479-a591-1bb561eafee5\")>,\n",
       " <selenium.webdriver.remote.webelement.WebElement (session=\"b1acfd4c3d27fd227d9c3db0f6e6a7c4\", element=\"09d0a167-60c7-4727-b068-26276bd44f32\")>,\n",
       " <selenium.webdriver.remote.webelement.WebElement (session=\"b1acfd4c3d27fd227d9c3db0f6e6a7c4\", element=\"41f22d3a-493b-4213-a109-6abfbbc13671\")>,\n",
       " <selenium.webdriver.remote.webelement.WebElement (session=\"b1acfd4c3d27fd227d9c3db0f6e6a7c4\", element=\"80778027-7f24-4864-95e2-95e8721286c5\")>,\n",
       " <selenium.webdriver.remote.webelement.WebElement (session=\"b1acfd4c3d27fd227d9c3db0f6e6a7c4\", element=\"398f02b7-6452-4395-8827-eeb06bf11a4d\")>,\n",
       " <selenium.webdriver.remote.webelement.WebElement (session=\"b1acfd4c3d27fd227d9c3db0f6e6a7c4\", element=\"d0615c41-f718-4c4c-9f55-e7202192e483\")>,\n",
       " <selenium.webdriver.remote.webelement.WebElement (session=\"b1acfd4c3d27fd227d9c3db0f6e6a7c4\", element=\"1ad4fd63-3799-4903-9fc3-67af5fa34c3d\")>]"
      ]
     },
     "execution_count": 46,
     "metadata": {},
     "output_type": "execute_result"
    }
   ],
   "source": [
    "Dis3=driver.find_elements_by_xpath(\"//div[@class='_3Ay6Sb']\")\n",
    "Dis3"
   ]
  },
  {
   "cell_type": "code",
   "execution_count": 47,
   "metadata": {
    "scrolled": true
   },
   "outputs": [
    {
     "data": {
      "text/plain": [
       "['80% off',\n",
       " '78% off',\n",
       " '23% off',\n",
       " '80% off',\n",
       " '81% off',\n",
       " '65% off',\n",
       " '88% off',\n",
       " '37% off',\n",
       " '73% off',\n",
       " '78% off',\n",
       " '26% off',\n",
       " '81% off',\n",
       " '75% off',\n",
       " '80% off',\n",
       " '78% off',\n",
       " '78% off',\n",
       " '23% off',\n",
       " '69% off',\n",
       " '87% off',\n",
       " '70% off',\n",
       " '83% off',\n",
       " '88% off',\n",
       " '77% off',\n",
       " '66% off',\n",
       " '23% off',\n",
       " '84% off',\n",
       " '76% off',\n",
       " '67% off',\n",
       " '86% off',\n",
       " '77% off',\n",
       " '24% off',\n",
       " '80% off',\n",
       " '74% off',\n",
       " '72% off',\n",
       " '74% off',\n",
       " '75% off',\n",
       " '77% off',\n",
       " '60% off',\n",
       " '71% off',\n",
       " '70% off']"
      ]
     },
     "execution_count": 47,
     "metadata": {},
     "output_type": "execute_result"
    }
   ],
   "source": [
    "Dis_3=[]\n",
    "for i in Dis3:\n",
    "    disc3=i.text\n",
    "    Dis_3.append(disc3)\n",
    "Dis_3"
   ]
  },
  {
   "cell_type": "code",
   "execution_count": 48,
   "metadata": {},
   "outputs": [],
   "source": [
    "Brand=Brand_1+Brand_2+Brand_3\n",
    "Product_Discription=Prod_dis_1+Prod_dis_2+Prod_dis_3\n",
    "Price=Price_1+Price_2+Price_3\n",
    "Discount=Dis_1+Dis_2+Dis_3"
   ]
  },
  {
   "cell_type": "code",
   "execution_count": 51,
   "metadata": {},
   "outputs": [],
   "source": [
    "#creating a data frame.\n",
    "sunglasses_listings=pd.DataFrame({})\n",
    "sunglasses_listings['Brand'] = Brand[0:100]\n",
    "sunglasses_listings['Product_Discription'] = Product_Discription[0:100]\n",
    "sunglasses_listings['Price'] = Price[0:100]\n",
    "sunglasses_listings['Discount'] = Discount[0:100]"
   ]
  },
  {
   "cell_type": "code",
   "execution_count": 52,
   "metadata": {},
   "outputs": [
    {
     "data": {
      "text/html": [
       "<div>\n",
       "<style scoped>\n",
       "    .dataframe tbody tr th:only-of-type {\n",
       "        vertical-align: middle;\n",
       "    }\n",
       "\n",
       "    .dataframe tbody tr th {\n",
       "        vertical-align: top;\n",
       "    }\n",
       "\n",
       "    .dataframe thead th {\n",
       "        text-align: right;\n",
       "    }\n",
       "</style>\n",
       "<table border=\"1\" class=\"dataframe\">\n",
       "  <thead>\n",
       "    <tr style=\"text-align: right;\">\n",
       "      <th></th>\n",
       "      <th>Brand</th>\n",
       "      <th>Product_Discription</th>\n",
       "      <th>Price</th>\n",
       "      <th>Discount</th>\n",
       "    </tr>\n",
       "  </thead>\n",
       "  <tbody>\n",
       "    <tr>\n",
       "      <th>0</th>\n",
       "      <td>NuVew</td>\n",
       "      <td>UV Protection, Gradient Cat-eye Sunglasses (63)</td>\n",
       "      <td>₹296</td>\n",
       "      <td>80% off</td>\n",
       "    </tr>\n",
       "    <tr>\n",
       "      <th>1</th>\n",
       "      <td>ROYAL SON</td>\n",
       "      <td>UV Protection Retro Square Sunglasses (88)</td>\n",
       "      <td>₹509</td>\n",
       "      <td>74% off</td>\n",
       "    </tr>\n",
       "    <tr>\n",
       "      <th>2</th>\n",
       "      <td>Fastrack</td>\n",
       "      <td>UV Protection Wayfarer Sunglasses (Free Size)</td>\n",
       "      <td>₹683</td>\n",
       "      <td>24% off</td>\n",
       "    </tr>\n",
       "    <tr>\n",
       "      <th>3</th>\n",
       "      <td>Fastrack</td>\n",
       "      <td>Mirrored, UV Protection Wayfarer Sunglasses (F...</td>\n",
       "      <td>₹469</td>\n",
       "      <td>53% off</td>\n",
       "    </tr>\n",
       "    <tr>\n",
       "      <th>4</th>\n",
       "      <td>Silver Kartz</td>\n",
       "      <td>UV Protection Wayfarer Sunglasses (Free Size)</td>\n",
       "      <td>₹233</td>\n",
       "      <td>84% off</td>\n",
       "    </tr>\n",
       "    <tr>\n",
       "      <th>...</th>\n",
       "      <td>...</td>\n",
       "      <td>...</td>\n",
       "      <td>...</td>\n",
       "      <td>...</td>\n",
       "    </tr>\n",
       "    <tr>\n",
       "      <th>95</th>\n",
       "      <td>hipe</td>\n",
       "      <td>UV Protection Rectangular Sunglasses (59)</td>\n",
       "      <td>₹219</td>\n",
       "      <td>78% off</td>\n",
       "    </tr>\n",
       "    <tr>\n",
       "      <th>96</th>\n",
       "      <td>Fastrack</td>\n",
       "      <td>UV Protection, Gradient Oval Sunglasses (58)</td>\n",
       "      <td>₹990</td>\n",
       "      <td>23% off</td>\n",
       "    </tr>\n",
       "    <tr>\n",
       "      <th>97</th>\n",
       "      <td>Aislin</td>\n",
       "      <td>UV Protection, Mirrored, Gradient Retro Square...</td>\n",
       "      <td>₹472</td>\n",
       "      <td>69% off</td>\n",
       "    </tr>\n",
       "    <tr>\n",
       "      <th>98</th>\n",
       "      <td>phenomenal</td>\n",
       "      <td>Polarized, UV Protection Round Sunglasses (49)</td>\n",
       "      <td>₹259</td>\n",
       "      <td>87% off</td>\n",
       "    </tr>\n",
       "    <tr>\n",
       "      <th>99</th>\n",
       "      <td>ROYAL SON</td>\n",
       "      <td>UV Protection Aviator Sunglasses (50)</td>\n",
       "      <td>₹594</td>\n",
       "      <td>70% off</td>\n",
       "    </tr>\n",
       "  </tbody>\n",
       "</table>\n",
       "<p>100 rows × 4 columns</p>\n",
       "</div>"
      ],
      "text/plain": [
       "           Brand                                Product_Discription Price  \\\n",
       "0          NuVew    UV Protection, Gradient Cat-eye Sunglasses (63)  ₹296   \n",
       "1      ROYAL SON         UV Protection Retro Square Sunglasses (88)  ₹509   \n",
       "2       Fastrack      UV Protection Wayfarer Sunglasses (Free Size)  ₹683   \n",
       "3       Fastrack  Mirrored, UV Protection Wayfarer Sunglasses (F...  ₹469   \n",
       "4   Silver Kartz      UV Protection Wayfarer Sunglasses (Free Size)  ₹233   \n",
       "..           ...                                                ...   ...   \n",
       "95          hipe          UV Protection Rectangular Sunglasses (59)  ₹219   \n",
       "96      Fastrack       UV Protection, Gradient Oval Sunglasses (58)  ₹990   \n",
       "97        Aislin  UV Protection, Mirrored, Gradient Retro Square...  ₹472   \n",
       "98    phenomenal     Polarized, UV Protection Round Sunglasses (49)  ₹259   \n",
       "99     ROYAL SON              UV Protection Aviator Sunglasses (50)  ₹594   \n",
       "\n",
       "   Discount  \n",
       "0   80% off  \n",
       "1   74% off  \n",
       "2   24% off  \n",
       "3   53% off  \n",
       "4   84% off  \n",
       "..      ...  \n",
       "95  78% off  \n",
       "96  23% off  \n",
       "97  69% off  \n",
       "98  87% off  \n",
       "99  70% off  \n",
       "\n",
       "[100 rows x 4 columns]"
      ]
     },
     "execution_count": 52,
     "metadata": {},
     "output_type": "execute_result"
    }
   ],
   "source": [
    "sunglasses_listings"
   ]
  },
  {
   "cell_type": "code",
   "execution_count": null,
   "metadata": {},
   "outputs": [],
   "source": []
  }
 ],
 "metadata": {
  "kernelspec": {
   "display_name": "Python 3",
   "language": "python",
   "name": "python3"
  },
  "language_info": {
   "codemirror_mode": {
    "name": "ipython",
    "version": 3
   },
   "file_extension": ".py",
   "mimetype": "text/x-python",
   "name": "python",
   "nbconvert_exporter": "python",
   "pygments_lexer": "ipython3",
   "version": "3.8.3"
  }
 },
 "nbformat": 4,
 "nbformat_minor": 4
}
