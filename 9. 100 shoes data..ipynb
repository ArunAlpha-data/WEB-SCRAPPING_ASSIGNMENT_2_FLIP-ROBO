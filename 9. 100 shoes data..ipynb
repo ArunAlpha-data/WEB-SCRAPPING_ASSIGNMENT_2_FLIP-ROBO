{
 "cells": [
  {
   "cell_type": "markdown",
   "metadata": {},
   "source": [
    "# OBJECTIVE : \n",
    "    \n",
    "    To scrape First 100 shoes data you get. The data should include “Brand” of the shoes , Short Shoe description, price of the shoe."
   ]
  },
  {
   "cell_type": "code",
   "execution_count": 1,
   "metadata": {},
   "outputs": [],
   "source": [
    "# importing required libraries.\n",
    "import pandas as pd\n",
    "import selenium\n",
    "from selenium import webdriver"
   ]
  },
  {
   "cell_type": "code",
   "execution_count": 2,
   "metadata": {},
   "outputs": [],
   "source": [
    "#connecting the web driver.\n",
    "driver=webdriver.Chrome(r'C:\\Program Files (x86)\\chromedriver_win32\\chromedriver.exe')"
   ]
  },
  {
   "cell_type": "code",
   "execution_count": 3,
   "metadata": {},
   "outputs": [],
   "source": [
    "driver.get('https://www.myntra.com/shoes')"
   ]
  },
  {
   "cell_type": "code",
   "execution_count": 11,
   "metadata": {},
   "outputs": [],
   "source": [
    "#applying the required filters\n",
    "price_filter=driver.find_element_by_xpath(\"//*[@id='mountRoot']/div/div[1]/main/div[3]/div[1]/section/div/div[5]/ul/li[2]/label\")\n",
    "price_filter.click()"
   ]
  },
  {
   "cell_type": "code",
   "execution_count": 12,
   "metadata": {},
   "outputs": [],
   "source": [
    "color_filter=driver.find_element_by_xpath(\"//*[@id='mountRoot']/div/div[1]/main/div[3]/div[1]/section/div/div[6]/ul/li[1]/label\")\n",
    "color_filter.click()"
   ]
  },
  {
   "cell_type": "code",
   "execution_count": 18,
   "metadata": {},
   "outputs": [],
   "source": [
    "#fetching the BRAND,Product_Discription,Price from page 1 and checking the output\n",
    "Brand_tag1=driver.find_elements_by_xpath(\"//h3[@class='product-brand']\")\n",
    "Brand_1=[]\n",
    "for i in Brand_tag1:\n",
    "    brandtag1=i.text\n",
    "    Brand_1.append(brandtag1)"
   ]
  },
  {
   "cell_type": "code",
   "execution_count": 27,
   "metadata": {},
   "outputs": [],
   "source": [
    "Prod_dis1=driver.find_elements_by_xpath(\"//h4[@class='product-product']\")\n",
    "Prod_dis_1=[]\n",
    "for i in Prod_dis1:\n",
    "    Proddis1=i.text\n",
    "    Prod_dis_1.append(Proddis1)"
   ]
  },
  {
   "cell_type": "code",
   "execution_count": 28,
   "metadata": {},
   "outputs": [],
   "source": [
    "Price1=driver.find_elements_by_xpath(\"//div[@class='product-price']\")\n",
    "Price_1=[]\n",
    "for i in Price1:\n",
    "    Prices1=i.text\n",
    "    Price_1.append(Prices1)"
   ]
  },
  {
   "cell_type": "code",
   "execution_count": 25,
   "metadata": {},
   "outputs": [],
   "source": [
    "page_button=driver.find_element_by_xpath(\"//a[@href='https://www.myntra.com/shoes?f=Color%3ABlack_36454f&plaEnabled=false&rf=Price%3A6612.0_13075.0_6612.0%20TO%2013075.0&p=2']\")\n",
    "page_button.click()"
   ]
  },
  {
   "cell_type": "code",
   "execution_count": 26,
   "metadata": {},
   "outputs": [],
   "source": [
    "Brand_tag2=driver.find_elements_by_xpath(\"//h3[@class='product-brand']\")\n",
    "Brand_2=[]\n",
    "for i in Brand_tag2:\n",
    "    brandtag2=i.text\n",
    "    Brand_2.append(brandtag2)\n",
    "    \n",
    "Prod_dis2=driver.find_elements_by_xpath(\"//h4[@class='product-product']\")\n",
    "Prod_dis_2=[]\n",
    "for i in Prod_dis2:\n",
    "    Proddis2=i.text\n",
    "    Prod_dis_2.append(Proddis2)\n",
    "\n",
    "Price2=driver.find_elements_by_xpath(\"//div[@class='product-price']\")\n",
    "Price_2=[]\n",
    "for i in Price2:\n",
    "    Prices2=i.text\n",
    "    Price_2.append(Prices2)"
   ]
  },
  {
   "cell_type": "code",
   "execution_count": 29,
   "metadata": {},
   "outputs": [],
   "source": [
    "page_button=driver.find_element_by_xpath(\"//a[@href='https://www.myntra.com/shoes?f=Color%3ABlack_36454f&plaEnabled=false&rf=Price%3A6612.0_13075.0_6612.0%20TO%2013075.0&p=3']\")\n",
    "page_button.click()"
   ]
  },
  {
   "cell_type": "code",
   "execution_count": 30,
   "metadata": {},
   "outputs": [],
   "source": [
    "Brand_tag3=driver.find_elements_by_xpath(\"//h3[@class='product-brand']\")\n",
    "Brand_3=[]\n",
    "for i in Brand_tag3:\n",
    "    brandtag3=i.text\n",
    "    Brand_3.append(brandtag3)\n",
    "    \n",
    "Prod_dis3=driver.find_elements_by_xpath(\"//h4[@class='product-product']\")\n",
    "Prod_dis_3=[]\n",
    "for i in Prod_dis3:\n",
    "    Proddis3=i.text\n",
    "    Prod_dis_3.append(Proddis3)\n",
    "\n",
    "Price3=driver.find_elements_by_xpath(\"//div[@class='product-price']\")\n",
    "Price_3=[]\n",
    "for i in Price3:\n",
    "    Prices3=i.text\n",
    "    Price_3.append(Prices3)"
   ]
  },
  {
   "cell_type": "code",
   "execution_count": 31,
   "metadata": {},
   "outputs": [],
   "source": [
    "Brand=Brand_1+Brand_2+Brand_3\n",
    "Product_Discription=Prod_dis_1+Prod_dis_2+Prod_dis_3\n",
    "Price=Price_1+Price_2+Price_3"
   ]
  },
  {
   "cell_type": "code",
   "execution_count": 32,
   "metadata": {},
   "outputs": [],
   "source": [
    "#creating a data frame.\n",
    "shoes_data=pd.DataFrame({})\n",
    "shoes_data['Brand'] = Brand[0:100]\n",
    "shoes_data['Product_Discription'] = Product_Discription[0:100]\n",
    "shoes_data['Price'] = Price[0:100]"
   ]
  },
  {
   "cell_type": "code",
   "execution_count": 33,
   "metadata": {},
   "outputs": [
    {
     "data": {
      "text/html": [
       "<div>\n",
       "<style scoped>\n",
       "    .dataframe tbody tr th:only-of-type {\n",
       "        vertical-align: middle;\n",
       "    }\n",
       "\n",
       "    .dataframe tbody tr th {\n",
       "        vertical-align: top;\n",
       "    }\n",
       "\n",
       "    .dataframe thead th {\n",
       "        text-align: right;\n",
       "    }\n",
       "</style>\n",
       "<table border=\"1\" class=\"dataframe\">\n",
       "  <thead>\n",
       "    <tr style=\"text-align: right;\">\n",
       "      <th></th>\n",
       "      <th>Brand</th>\n",
       "      <th>Product_Discription</th>\n",
       "      <th>Price</th>\n",
       "    </tr>\n",
       "  </thead>\n",
       "  <tbody>\n",
       "    <tr>\n",
       "      <th>0</th>\n",
       "      <td>ALDO</td>\n",
       "      <td>Women Liquify Rebel Running</td>\n",
       "      <td>Rs. 8999</td>\n",
       "    </tr>\n",
       "    <tr>\n",
       "      <th>1</th>\n",
       "      <td>PUMA Motorsport</td>\n",
       "      <td>Women Solid Sneakers</td>\n",
       "      <td>Rs. 6999</td>\n",
       "    </tr>\n",
       "    <tr>\n",
       "      <th>2</th>\n",
       "      <td>Nike</td>\n",
       "      <td>Men Solid Leather Formal Derbys</td>\n",
       "      <td>Rs. 9999</td>\n",
       "    </tr>\n",
       "    <tr>\n",
       "      <th>3</th>\n",
       "      <td>Nike</td>\n",
       "      <td>Men Running Shoes</td>\n",
       "      <td>Rs. 8499</td>\n",
       "    </tr>\n",
       "    <tr>\n",
       "      <th>4</th>\n",
       "      <td>Nike</td>\n",
       "      <td>Men Leather Driving Shoes</td>\n",
       "      <td>Rs. 7499Rs. 9999(25% OFF)</td>\n",
       "    </tr>\n",
       "    <tr>\n",
       "      <th>...</th>\n",
       "      <td>...</td>\n",
       "      <td>...</td>\n",
       "      <td>...</td>\n",
       "    </tr>\n",
       "    <tr>\n",
       "      <th>95</th>\n",
       "      <td>Ruosh</td>\n",
       "      <td>Men Formal Leather Brogues</td>\n",
       "      <td>Rs. 7490</td>\n",
       "    </tr>\n",
       "    <tr>\n",
       "      <th>96</th>\n",
       "      <td>Geox</td>\n",
       "      <td>Men Leather Formal Oxfords</td>\n",
       "      <td>Rs. 7867Rs. 10490(25% OFF)</td>\n",
       "    </tr>\n",
       "    <tr>\n",
       "      <th>97</th>\n",
       "      <td>Nike</td>\n",
       "      <td>Men PG 5 EP Basketball Shoes</td>\n",
       "      <td>Rs. 7436Rs. 9295(20% OFF)</td>\n",
       "    </tr>\n",
       "    <tr>\n",
       "      <th>98</th>\n",
       "      <td>Geox</td>\n",
       "      <td>Men Leather Formal Oxfords</td>\n",
       "      <td>Rs. 9367Rs. 12490(25% OFF)</td>\n",
       "    </tr>\n",
       "    <tr>\n",
       "      <th>99</th>\n",
       "      <td>Ruosh</td>\n",
       "      <td>Men Solid Leather Formal Monks</td>\n",
       "      <td>Rs. 8990</td>\n",
       "    </tr>\n",
       "  </tbody>\n",
       "</table>\n",
       "<p>100 rows × 3 columns</p>\n",
       "</div>"
      ],
      "text/plain": [
       "              Brand              Product_Discription  \\\n",
       "0              ALDO      Women Liquify Rebel Running   \n",
       "1   PUMA Motorsport             Women Solid Sneakers   \n",
       "2              Nike  Men Solid Leather Formal Derbys   \n",
       "3              Nike                Men Running Shoes   \n",
       "4              Nike        Men Leather Driving Shoes   \n",
       "..              ...                              ...   \n",
       "95            Ruosh       Men Formal Leather Brogues   \n",
       "96             Geox       Men Leather Formal Oxfords   \n",
       "97             Nike     Men PG 5 EP Basketball Shoes   \n",
       "98             Geox       Men Leather Formal Oxfords   \n",
       "99            Ruosh   Men Solid Leather Formal Monks   \n",
       "\n",
       "                         Price  \n",
       "0                     Rs. 8999  \n",
       "1                     Rs. 6999  \n",
       "2                     Rs. 9999  \n",
       "3                     Rs. 8499  \n",
       "4    Rs. 7499Rs. 9999(25% OFF)  \n",
       "..                         ...  \n",
       "95                    Rs. 7490  \n",
       "96  Rs. 7867Rs. 10490(25% OFF)  \n",
       "97   Rs. 7436Rs. 9295(20% OFF)  \n",
       "98  Rs. 9367Rs. 12490(25% OFF)  \n",
       "99                    Rs. 8990  \n",
       "\n",
       "[100 rows x 3 columns]"
      ]
     },
     "execution_count": 33,
     "metadata": {},
     "output_type": "execute_result"
    }
   ],
   "source": [
    "shoes_data"
   ]
  },
  {
   "cell_type": "code",
   "execution_count": null,
   "metadata": {},
   "outputs": [],
   "source": []
  }
 ],
 "metadata": {
  "kernelspec": {
   "display_name": "Python 3",
   "language": "python",
   "name": "python3"
  },
  "language_info": {
   "codemirror_mode": {
    "name": "ipython",
    "version": 3
   },
   "file_extension": ".py",
   "mimetype": "text/x-python",
   "name": "python",
   "nbconvert_exporter": "python",
   "pygments_lexer": "ipython3",
   "version": "3.8.3"
  }
 },
 "nbformat": 4,
 "nbformat_minor": 4
}
