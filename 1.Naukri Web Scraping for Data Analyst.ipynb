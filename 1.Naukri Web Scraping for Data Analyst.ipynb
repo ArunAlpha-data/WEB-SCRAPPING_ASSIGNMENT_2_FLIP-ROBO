{
 "cells": [
  {
   "cell_type": "markdown",
   "metadata": {},
   "source": [
    "# OBJECTIVE : \n",
    "    To write a python program to scrape data for “Data Analyst” Job position in “Bangalore” location. You have to scrape the job-title, job-location, company_name, experience_required. You have to scrape first 10 jobs data.\n",
    "    This task will be done in following steps:\n",
    "    1. first get the webpage https://www.naukri.com/\n",
    "    2. Enter “Data Analyst” in “Skill,Designations,Companies” field and enter “Bangalore” in “enter the location”   field.\n",
    "    3. Then click the search button.\n",
    "    4. Then scrape the data for the first 10 jobs results you get.\n",
    "    5. Finally create a dataframe of the scraped data.\n",
    "    Note- All of the above steps have to be done in code. No step is to be done manually."
   ]
  },
  {
   "cell_type": "code",
   "execution_count": 1,
   "metadata": {},
   "outputs": [],
   "source": [
    "#importing required libraries.\n",
    "import pandas as pd\n",
    "import selenium\n",
    "from selenium import webdriver"
   ]
  },
  {
   "cell_type": "code",
   "execution_count": 2,
   "metadata": {},
   "outputs": [],
   "source": [
    "#connecting the web driver.\n",
    "driver = webdriver.Firefox(executable_path=r'C:\\Program Files (x86)\\geckodriver-v0.29.0-win64\\geckodriver.exe')"
   ]
  },
  {
   "cell_type": "code",
   "execution_count": 3,
   "metadata": {},
   "outputs": [],
   "source": [
    "driver.get('https://www.naukri.com/')"
   ]
  },
  {
   "cell_type": "code",
   "execution_count": 4,
   "metadata": {},
   "outputs": [],
   "source": [
    "#finding and filling the title and location of the required job using automation.\n",
    "search_job = driver.find_element_by_id('qsb-keyword-sugg')\n",
    "search_job.send_keys('Data Analyst')\n",
    "search_loc = driver.find_element_by_xpath('//input[@id=\"qsb-location-sugg\"]')\n",
    "search_loc.send_keys('Banglore')"
   ]
  },
  {
   "cell_type": "code",
   "execution_count": 5,
   "metadata": {},
   "outputs": [],
   "source": [
    "#finding and clicking the search button using automation.\n",
    "search_btn = driver.find_element_by_xpath(\"//div[@class='search-btn']\")\n",
    "search_btn.click()"
   ]
  },
  {
   "cell_type": "code",
   "execution_count": 6,
   "metadata": {},
   "outputs": [],
   "source": [
    "#creating the list.\n",
    "Job_title=[]\n",
    "Job_location=[]\n",
    "Comapany_name=[]\n",
    "Experience_required=[]"
   ]
  },
  {
   "cell_type": "code",
   "execution_count": 20,
   "metadata": {},
   "outputs": [],
   "source": [
    "#extracting job title.\n",
    "title_tags = driver.find_elements_by_xpath(\"//a[@class='title fw500 ellipsis']\")"
   ]
  },
  {
   "cell_type": "code",
   "execution_count": 21,
   "metadata": {},
   "outputs": [
    {
     "data": {
      "text/plain": [
       "[<selenium.webdriver.firefox.webelement.FirefoxWebElement (session=\"a475a031-b7dc-4c8e-ba15-21fd65e18ba2\", element=\"80efc5ff-78fb-49cf-b7c9-accd13c98481\")>,\n",
       " <selenium.webdriver.firefox.webelement.FirefoxWebElement (session=\"a475a031-b7dc-4c8e-ba15-21fd65e18ba2\", element=\"0d20f6b8-3bf4-48bf-a472-0eddac8b9e46\")>,\n",
       " <selenium.webdriver.firefox.webelement.FirefoxWebElement (session=\"a475a031-b7dc-4c8e-ba15-21fd65e18ba2\", element=\"f8e2d055-46e3-40ca-af58-2a005ea4318b\")>,\n",
       " <selenium.webdriver.firefox.webelement.FirefoxWebElement (session=\"a475a031-b7dc-4c8e-ba15-21fd65e18ba2\", element=\"9ae62229-3cca-49e3-8f60-9dfe4051d4a8\")>,\n",
       " <selenium.webdriver.firefox.webelement.FirefoxWebElement (session=\"a475a031-b7dc-4c8e-ba15-21fd65e18ba2\", element=\"417dcaf0-44d1-4bb2-950b-43ad4986f8af\")>,\n",
       " <selenium.webdriver.firefox.webelement.FirefoxWebElement (session=\"a475a031-b7dc-4c8e-ba15-21fd65e18ba2\", element=\"ba905d25-7cb9-4180-b46f-0937dd4fb2df\")>,\n",
       " <selenium.webdriver.firefox.webelement.FirefoxWebElement (session=\"a475a031-b7dc-4c8e-ba15-21fd65e18ba2\", element=\"5b6179ad-f586-43a4-868b-0438446ca013\")>,\n",
       " <selenium.webdriver.firefox.webelement.FirefoxWebElement (session=\"a475a031-b7dc-4c8e-ba15-21fd65e18ba2\", element=\"f4bb7c50-bdf4-4edc-b919-2f14b4662a4f\")>,\n",
       " <selenium.webdriver.firefox.webelement.FirefoxWebElement (session=\"a475a031-b7dc-4c8e-ba15-21fd65e18ba2\", element=\"a2850a41-86c2-431c-aa24-a3503b816cb0\")>,\n",
       " <selenium.webdriver.firefox.webelement.FirefoxWebElement (session=\"a475a031-b7dc-4c8e-ba15-21fd65e18ba2\", element=\"3ad55674-0160-4553-aa8c-1cb51c760a44\")>,\n",
       " <selenium.webdriver.firefox.webelement.FirefoxWebElement (session=\"a475a031-b7dc-4c8e-ba15-21fd65e18ba2\", element=\"1bb78530-dedc-404a-82ed-7e5e655a6ba9\")>,\n",
       " <selenium.webdriver.firefox.webelement.FirefoxWebElement (session=\"a475a031-b7dc-4c8e-ba15-21fd65e18ba2\", element=\"bc05921b-db2a-487b-9b9a-7585a89a9d20\")>,\n",
       " <selenium.webdriver.firefox.webelement.FirefoxWebElement (session=\"a475a031-b7dc-4c8e-ba15-21fd65e18ba2\", element=\"973073cd-a823-4b86-ac5b-06c1116d6da5\")>,\n",
       " <selenium.webdriver.firefox.webelement.FirefoxWebElement (session=\"a475a031-b7dc-4c8e-ba15-21fd65e18ba2\", element=\"055d3325-b165-4c38-ba5a-98be8d55558f\")>,\n",
       " <selenium.webdriver.firefox.webelement.FirefoxWebElement (session=\"a475a031-b7dc-4c8e-ba15-21fd65e18ba2\", element=\"75df37fd-5e40-401e-bc6b-478498703b5a\")>,\n",
       " <selenium.webdriver.firefox.webelement.FirefoxWebElement (session=\"a475a031-b7dc-4c8e-ba15-21fd65e18ba2\", element=\"dd083500-3c95-44b8-a547-f3ee1417d73d\")>,\n",
       " <selenium.webdriver.firefox.webelement.FirefoxWebElement (session=\"a475a031-b7dc-4c8e-ba15-21fd65e18ba2\", element=\"55b54f38-624c-423d-b62c-07976708dec1\")>,\n",
       " <selenium.webdriver.firefox.webelement.FirefoxWebElement (session=\"a475a031-b7dc-4c8e-ba15-21fd65e18ba2\", element=\"f15c5130-7f8f-4f17-aaf8-9b0c83f5bea9\")>,\n",
       " <selenium.webdriver.firefox.webelement.FirefoxWebElement (session=\"a475a031-b7dc-4c8e-ba15-21fd65e18ba2\", element=\"08ebcb9a-8843-45f5-a242-ae2df22ac87c\")>,\n",
       " <selenium.webdriver.firefox.webelement.FirefoxWebElement (session=\"a475a031-b7dc-4c8e-ba15-21fd65e18ba2\", element=\"fac8ebf5-b1af-48b0-8b90-716a07f47911\")>]"
      ]
     },
     "execution_count": 21,
     "metadata": {},
     "output_type": "execute_result"
    }
   ],
   "source": [
    "title_tags"
   ]
  },
  {
   "cell_type": "code",
   "execution_count": 22,
   "metadata": {},
   "outputs": [
    {
     "data": {
      "text/plain": [
       "['Data Analyst',\n",
       " 'Data Analyst',\n",
       " 'Data Analyst',\n",
       " 'Data Analyst',\n",
       " 'Data Analyst',\n",
       " 'Data Analyst',\n",
       " 'Data Analyst',\n",
       " 'Data Analyst',\n",
       " 'Data Analyst',\n",
       " 'Data Analyst',\n",
       " 'Senior Data Analyst',\n",
       " 'Senior Data Analyst',\n",
       " 'Sr Manager I - Data Analyst (MINT)',\n",
       " 'Data Analyst (SQL, Excel, R/Python, Dashboards, PowerBI) - Contract',\n",
       " 'Specialist I / II Data Analyst',\n",
       " 'Data Analyst with Marketing Analytics-Capco',\n",
       " 'Inviting Business Analyst –Data Science and Insights Bangalore',\n",
       " 'Junior Data Analyst',\n",
       " 'Associate - Data Analyst ( Growth)',\n",
       " 'Associate - Data Analyst - Category Solutions']"
      ]
     },
     "execution_count": 22,
     "metadata": {},
     "output_type": "execute_result"
    }
   ],
   "source": [
    "for i in title_tags:\n",
    "    title=i.text\n",
    "    Job_title.append(title)\n",
    "Job_title"
   ]
  },
  {
   "cell_type": "code",
   "execution_count": 23,
   "metadata": {},
   "outputs": [
    {
     "data": {
      "text/plain": [
       "[<selenium.webdriver.firefox.webelement.FirefoxWebElement (session=\"a475a031-b7dc-4c8e-ba15-21fd65e18ba2\", element=\"42604a16-b02e-429a-9482-5d62cb92b423\")>,\n",
       " <selenium.webdriver.firefox.webelement.FirefoxWebElement (session=\"a475a031-b7dc-4c8e-ba15-21fd65e18ba2\", element=\"a9317075-c9a8-43ac-ade4-60bf842f6bca\")>,\n",
       " <selenium.webdriver.firefox.webelement.FirefoxWebElement (session=\"a475a031-b7dc-4c8e-ba15-21fd65e18ba2\", element=\"7bd2752a-14c9-4177-b373-9f1e6e385bec\")>,\n",
       " <selenium.webdriver.firefox.webelement.FirefoxWebElement (session=\"a475a031-b7dc-4c8e-ba15-21fd65e18ba2\", element=\"2ec13ba8-4b50-4942-ba58-11081aae052e\")>,\n",
       " <selenium.webdriver.firefox.webelement.FirefoxWebElement (session=\"a475a031-b7dc-4c8e-ba15-21fd65e18ba2\", element=\"eb559b9e-1c3f-4ae6-a3ec-e34e279a22c8\")>,\n",
       " <selenium.webdriver.firefox.webelement.FirefoxWebElement (session=\"a475a031-b7dc-4c8e-ba15-21fd65e18ba2\", element=\"1b1c9f18-5527-4bd3-b1b4-adf6c14e0013\")>,\n",
       " <selenium.webdriver.firefox.webelement.FirefoxWebElement (session=\"a475a031-b7dc-4c8e-ba15-21fd65e18ba2\", element=\"7caac3ef-c285-4a8e-bfc4-dd17605ea39d\")>,\n",
       " <selenium.webdriver.firefox.webelement.FirefoxWebElement (session=\"a475a031-b7dc-4c8e-ba15-21fd65e18ba2\", element=\"701af8e8-6eeb-45aa-8419-88cff712f919\")>,\n",
       " <selenium.webdriver.firefox.webelement.FirefoxWebElement (session=\"a475a031-b7dc-4c8e-ba15-21fd65e18ba2\", element=\"b3764d00-2d28-41cb-b407-a1e658236445\")>,\n",
       " <selenium.webdriver.firefox.webelement.FirefoxWebElement (session=\"a475a031-b7dc-4c8e-ba15-21fd65e18ba2\", element=\"f9c8a6cb-e075-4925-8686-ee462b0e756f\")>,\n",
       " <selenium.webdriver.firefox.webelement.FirefoxWebElement (session=\"a475a031-b7dc-4c8e-ba15-21fd65e18ba2\", element=\"8794bb60-6856-4677-85d4-11b201f3b78e\")>,\n",
       " <selenium.webdriver.firefox.webelement.FirefoxWebElement (session=\"a475a031-b7dc-4c8e-ba15-21fd65e18ba2\", element=\"cb88f5df-2adc-428b-b30b-58c1a5872768\")>,\n",
       " <selenium.webdriver.firefox.webelement.FirefoxWebElement (session=\"a475a031-b7dc-4c8e-ba15-21fd65e18ba2\", element=\"4182bed5-7c6f-43da-ad7e-354ec3d472b2\")>,\n",
       " <selenium.webdriver.firefox.webelement.FirefoxWebElement (session=\"a475a031-b7dc-4c8e-ba15-21fd65e18ba2\", element=\"cb59aeec-3a05-4cfe-8934-771bc3877612\")>,\n",
       " <selenium.webdriver.firefox.webelement.FirefoxWebElement (session=\"a475a031-b7dc-4c8e-ba15-21fd65e18ba2\", element=\"9c3e4e92-170e-48b1-849e-e4a02e77f6d0\")>,\n",
       " <selenium.webdriver.firefox.webelement.FirefoxWebElement (session=\"a475a031-b7dc-4c8e-ba15-21fd65e18ba2\", element=\"92b6a4d6-e489-4c47-b669-4305959a033a\")>,\n",
       " <selenium.webdriver.firefox.webelement.FirefoxWebElement (session=\"a475a031-b7dc-4c8e-ba15-21fd65e18ba2\", element=\"124a6157-74e7-4dc7-9544-b89828d95da2\")>,\n",
       " <selenium.webdriver.firefox.webelement.FirefoxWebElement (session=\"a475a031-b7dc-4c8e-ba15-21fd65e18ba2\", element=\"78538ead-b636-4246-a638-4519042e2d35\")>,\n",
       " <selenium.webdriver.firefox.webelement.FirefoxWebElement (session=\"a475a031-b7dc-4c8e-ba15-21fd65e18ba2\", element=\"f2ace991-22cc-4b85-8565-b53f2ea3670a\")>,\n",
       " <selenium.webdriver.firefox.webelement.FirefoxWebElement (session=\"a475a031-b7dc-4c8e-ba15-21fd65e18ba2\", element=\"002f4ce4-264f-4413-9166-fbd2294d0c24\")>]"
      ]
     },
     "execution_count": 23,
     "metadata": {},
     "output_type": "execute_result"
    }
   ],
   "source": [
    "#extracting the location tags.\n",
    "location_tags=driver.find_elements_by_xpath(\"//li[@class='fleft grey-text br2 placeHolderLi location']/span\")\n",
    "location_tags"
   ]
  },
  {
   "cell_type": "code",
   "execution_count": 24,
   "metadata": {
    "scrolled": false
   },
   "outputs": [
    {
     "data": {
      "text/plain": [
       "['Bangalore/Bengaluru',\n",
       " 'Bangalore/Bengaluru(Devalapur)',\n",
       " 'Bangalore/Bengaluru',\n",
       " 'Bangalore/Bengaluru',\n",
       " 'Bangalore/Bengaluru',\n",
       " 'Bangalore/Bengaluru',\n",
       " 'Bangalore/Bengaluru',\n",
       " 'Bangalore/Bengaluru',\n",
       " 'Bangalore/Bengaluru',\n",
       " 'Bangalore/Bengaluru(Ulsoor)',\n",
       " 'Bangalore/Bengaluru',\n",
       " 'Bangalore/Bengaluru',\n",
       " 'Bangalore/Bengaluru',\n",
       " 'Bangalore/Bengaluru',\n",
       " 'Bangalore/Bengaluru',\n",
       " 'Pune, Bangalore/Bengaluru',\n",
       " 'Bangalore/Bengaluru',\n",
       " 'Bangalore/Bengaluru, Mumbai (All Areas)',\n",
       " 'Bangalore/Bengaluru',\n",
       " 'Bangalore/Bengaluru']"
      ]
     },
     "execution_count": 24,
     "metadata": {},
     "output_type": "execute_result"
    }
   ],
   "source": [
    "for i in location_tags:\n",
    "    location=i.text\n",
    "    Job_location.append(location)\n",
    "Job_location"
   ]
  },
  {
   "cell_type": "code",
   "execution_count": 25,
   "metadata": {
    "scrolled": true
   },
   "outputs": [
    {
     "data": {
      "text/plain": [
       "[<selenium.webdriver.firefox.webelement.FirefoxWebElement (session=\"a475a031-b7dc-4c8e-ba15-21fd65e18ba2\", element=\"b70c08c4-fc0b-4314-bb7d-4cd509664300\")>,\n",
       " <selenium.webdriver.firefox.webelement.FirefoxWebElement (session=\"a475a031-b7dc-4c8e-ba15-21fd65e18ba2\", element=\"87056f30-a14c-4c7c-b62a-996b6be0ed79\")>,\n",
       " <selenium.webdriver.firefox.webelement.FirefoxWebElement (session=\"a475a031-b7dc-4c8e-ba15-21fd65e18ba2\", element=\"2a51f6d1-13fa-4c5f-a137-738c3837e57a\")>,\n",
       " <selenium.webdriver.firefox.webelement.FirefoxWebElement (session=\"a475a031-b7dc-4c8e-ba15-21fd65e18ba2\", element=\"1688e5e3-7a58-416e-a80b-0e67dfb48fe6\")>,\n",
       " <selenium.webdriver.firefox.webelement.FirefoxWebElement (session=\"a475a031-b7dc-4c8e-ba15-21fd65e18ba2\", element=\"3f4fb165-dba8-4c14-8a5d-e0a85d6116a1\")>,\n",
       " <selenium.webdriver.firefox.webelement.FirefoxWebElement (session=\"a475a031-b7dc-4c8e-ba15-21fd65e18ba2\", element=\"dc1ec833-58dc-4718-b30e-3bdf9275b853\")>,\n",
       " <selenium.webdriver.firefox.webelement.FirefoxWebElement (session=\"a475a031-b7dc-4c8e-ba15-21fd65e18ba2\", element=\"fbf311e0-0eb7-45d4-af22-008f9ff6b822\")>,\n",
       " <selenium.webdriver.firefox.webelement.FirefoxWebElement (session=\"a475a031-b7dc-4c8e-ba15-21fd65e18ba2\", element=\"467946f6-cd13-4f71-b1a9-f1c5bc10cf3f\")>,\n",
       " <selenium.webdriver.firefox.webelement.FirefoxWebElement (session=\"a475a031-b7dc-4c8e-ba15-21fd65e18ba2\", element=\"bdc6e924-a791-4f97-bf00-53649bf2815e\")>,\n",
       " <selenium.webdriver.firefox.webelement.FirefoxWebElement (session=\"a475a031-b7dc-4c8e-ba15-21fd65e18ba2\", element=\"cdc2bcb9-c29f-49ec-b816-2aaf3f3a773d\")>,\n",
       " <selenium.webdriver.firefox.webelement.FirefoxWebElement (session=\"a475a031-b7dc-4c8e-ba15-21fd65e18ba2\", element=\"42bddc00-5f6a-4f85-b1c7-cf8d7d2f92b1\")>,\n",
       " <selenium.webdriver.firefox.webelement.FirefoxWebElement (session=\"a475a031-b7dc-4c8e-ba15-21fd65e18ba2\", element=\"1e051e59-0826-4a2d-8eb9-c0b99f07b1ae\")>,\n",
       " <selenium.webdriver.firefox.webelement.FirefoxWebElement (session=\"a475a031-b7dc-4c8e-ba15-21fd65e18ba2\", element=\"ec753f28-22c9-408e-a14c-fa1949d3928f\")>,\n",
       " <selenium.webdriver.firefox.webelement.FirefoxWebElement (session=\"a475a031-b7dc-4c8e-ba15-21fd65e18ba2\", element=\"97c2e169-98e4-48fc-8241-4b3975a7f364\")>,\n",
       " <selenium.webdriver.firefox.webelement.FirefoxWebElement (session=\"a475a031-b7dc-4c8e-ba15-21fd65e18ba2\", element=\"83110945-4acf-465b-b3de-efb6e4aa1f8f\")>,\n",
       " <selenium.webdriver.firefox.webelement.FirefoxWebElement (session=\"a475a031-b7dc-4c8e-ba15-21fd65e18ba2\", element=\"04a090f2-ecfa-4d6e-a2d4-c69925591efc\")>,\n",
       " <selenium.webdriver.firefox.webelement.FirefoxWebElement (session=\"a475a031-b7dc-4c8e-ba15-21fd65e18ba2\", element=\"7042a79a-a82d-43ce-b03d-f3d8d7e3c334\")>,\n",
       " <selenium.webdriver.firefox.webelement.FirefoxWebElement (session=\"a475a031-b7dc-4c8e-ba15-21fd65e18ba2\", element=\"d667c128-243b-4b5c-b0c2-b64f820e16c3\")>,\n",
       " <selenium.webdriver.firefox.webelement.FirefoxWebElement (session=\"a475a031-b7dc-4c8e-ba15-21fd65e18ba2\", element=\"ee025227-7157-4520-ac4a-ec5c032ccf7e\")>,\n",
       " <selenium.webdriver.firefox.webelement.FirefoxWebElement (session=\"a475a031-b7dc-4c8e-ba15-21fd65e18ba2\", element=\"4873bdd6-c324-441d-b0dd-be882037722d\")>]"
      ]
     },
     "execution_count": 25,
     "metadata": {},
     "output_type": "execute_result"
    }
   ],
   "source": [
    "#extracting the comapany names.\n",
    "company_tags= driver.find_elements_by_xpath(\"//a[@class='subTitle ellipsis fleft']\")\n",
    "company_tags"
   ]
  },
  {
   "cell_type": "code",
   "execution_count": 26,
   "metadata": {
    "scrolled": true
   },
   "outputs": [
    {
     "data": {
      "text/plain": [
       "['RedLock, Inc',\n",
       " 'Super India Tech Mark',\n",
       " 'tech mahindra ltd',\n",
       " 'CONDUENT BUSINESS SERVICES INDIA LLP',\n",
       " 'GlaxoSmithKline Pharmaceuticals Limited',\n",
       " 'Myntra Designs Pvt. Ltd.',\n",
       " 'Myntra Designs Pvt. Ltd.',\n",
       " 'Myntra Designs Pvt. Ltd.',\n",
       " 'Myntra Designs Pvt. Ltd.',\n",
       " 'WEIWO Communication Pvt. Ltd.',\n",
       " 'Cerner',\n",
       " 'Cerner Corporation',\n",
       " 'ExecBoardinAsia',\n",
       " 'Flipkart Internet Private Limited',\n",
       " 'Philips India Limited',\n",
       " 'Capco Technologies Pvt Ltd',\n",
       " 'GENPACT India Private Limited',\n",
       " 'Happy Marketer Private Ltd',\n",
       " 'Myntra Designs Pvt. Ltd.',\n",
       " 'Myntra Designs Pvt. Ltd.']"
      ]
     },
     "execution_count": 26,
     "metadata": {},
     "output_type": "execute_result"
    }
   ],
   "source": [
    "for i in company_tags:\n",
    "    company=i.text\n",
    "    Comapany_name.append(company)\n",
    "Comapany_name"
   ]
  },
  {
   "cell_type": "code",
   "execution_count": 27,
   "metadata": {
    "scrolled": true
   },
   "outputs": [
    {
     "data": {
      "text/plain": [
       "[<selenium.webdriver.firefox.webelement.FirefoxWebElement (session=\"a475a031-b7dc-4c8e-ba15-21fd65e18ba2\", element=\"d929ef28-922d-4837-9421-ae36ef936b09\")>,\n",
       " <selenium.webdriver.firefox.webelement.FirefoxWebElement (session=\"a475a031-b7dc-4c8e-ba15-21fd65e18ba2\", element=\"64ece6ad-46ba-4be2-818f-8e766d4dca56\")>,\n",
       " <selenium.webdriver.firefox.webelement.FirefoxWebElement (session=\"a475a031-b7dc-4c8e-ba15-21fd65e18ba2\", element=\"04d92a2f-59cd-4b10-a516-797ff07e7729\")>,\n",
       " <selenium.webdriver.firefox.webelement.FirefoxWebElement (session=\"a475a031-b7dc-4c8e-ba15-21fd65e18ba2\", element=\"0035fdd1-f0ee-447c-8a10-126b0b02931e\")>,\n",
       " <selenium.webdriver.firefox.webelement.FirefoxWebElement (session=\"a475a031-b7dc-4c8e-ba15-21fd65e18ba2\", element=\"364dbfe2-6302-4796-80b8-87928468f020\")>,\n",
       " <selenium.webdriver.firefox.webelement.FirefoxWebElement (session=\"a475a031-b7dc-4c8e-ba15-21fd65e18ba2\", element=\"c17f35a5-80d5-4c55-bed9-d0a3d9c88be9\")>,\n",
       " <selenium.webdriver.firefox.webelement.FirefoxWebElement (session=\"a475a031-b7dc-4c8e-ba15-21fd65e18ba2\", element=\"ff13f4da-b249-43a8-a900-258f2849be1c\")>,\n",
       " <selenium.webdriver.firefox.webelement.FirefoxWebElement (session=\"a475a031-b7dc-4c8e-ba15-21fd65e18ba2\", element=\"bf53a430-e6cb-483d-9546-466ffc964791\")>,\n",
       " <selenium.webdriver.firefox.webelement.FirefoxWebElement (session=\"a475a031-b7dc-4c8e-ba15-21fd65e18ba2\", element=\"7c27a2f1-8af7-4fb9-b536-cd53d7313ba2\")>,\n",
       " <selenium.webdriver.firefox.webelement.FirefoxWebElement (session=\"a475a031-b7dc-4c8e-ba15-21fd65e18ba2\", element=\"19e6d346-4f7b-451e-94f3-1f4ef640a7e3\")>,\n",
       " <selenium.webdriver.firefox.webelement.FirefoxWebElement (session=\"a475a031-b7dc-4c8e-ba15-21fd65e18ba2\", element=\"da9cd06d-ec3f-4dbf-bd9a-0882d59e5a45\")>,\n",
       " <selenium.webdriver.firefox.webelement.FirefoxWebElement (session=\"a475a031-b7dc-4c8e-ba15-21fd65e18ba2\", element=\"7be3ec82-2c3d-4449-bfd0-727fdfb30adc\")>,\n",
       " <selenium.webdriver.firefox.webelement.FirefoxWebElement (session=\"a475a031-b7dc-4c8e-ba15-21fd65e18ba2\", element=\"d683df16-0db4-4493-8a36-e0e51a740707\")>,\n",
       " <selenium.webdriver.firefox.webelement.FirefoxWebElement (session=\"a475a031-b7dc-4c8e-ba15-21fd65e18ba2\", element=\"c1c531ff-d2b3-4aa5-85b5-b7ae067654e9\")>,\n",
       " <selenium.webdriver.firefox.webelement.FirefoxWebElement (session=\"a475a031-b7dc-4c8e-ba15-21fd65e18ba2\", element=\"7f4f62b6-ff97-4e10-b146-b860fc6a8a94\")>,\n",
       " <selenium.webdriver.firefox.webelement.FirefoxWebElement (session=\"a475a031-b7dc-4c8e-ba15-21fd65e18ba2\", element=\"541dbbd8-80e3-4b43-a893-cb1faee7eaeb\")>,\n",
       " <selenium.webdriver.firefox.webelement.FirefoxWebElement (session=\"a475a031-b7dc-4c8e-ba15-21fd65e18ba2\", element=\"b44177a9-b908-45c9-ad88-e1704560cc22\")>,\n",
       " <selenium.webdriver.firefox.webelement.FirefoxWebElement (session=\"a475a031-b7dc-4c8e-ba15-21fd65e18ba2\", element=\"f9c5a4df-c163-4ea6-b621-fef1dd1a5031\")>,\n",
       " <selenium.webdriver.firefox.webelement.FirefoxWebElement (session=\"a475a031-b7dc-4c8e-ba15-21fd65e18ba2\", element=\"292931ad-64f3-4937-b825-0a45000a931a\")>,\n",
       " <selenium.webdriver.firefox.webelement.FirefoxWebElement (session=\"a475a031-b7dc-4c8e-ba15-21fd65e18ba2\", element=\"e869945d-e704-4f64-9953-80a9af8d641e\")>]"
      ]
     },
     "execution_count": 27,
     "metadata": {},
     "output_type": "execute_result"
    }
   ],
   "source": [
    "#extracting the Experience tags\n",
    "exp_tags = driver.find_elements_by_xpath(\"//li[@class='fleft grey-text br2 placeHolderLi experience']/span\")\n",
    "exp_tags"
   ]
  },
  {
   "cell_type": "code",
   "execution_count": 28,
   "metadata": {
    "scrolled": true
   },
   "outputs": [
    {
     "data": {
      "text/plain": [
       "['0-0 Yrs',\n",
       " '0-2 Yrs',\n",
       " '4-8 Yrs',\n",
       " '1-2 Yrs',\n",
       " '2-7 Yrs',\n",
       " '3-6 Yrs',\n",
       " '3-8 Yrs',\n",
       " '4-8 Yrs',\n",
       " '4-8 Yrs',\n",
       " '5-8 Yrs',\n",
       " '3-5 Yrs',\n",
       " '4-9 Yrs',\n",
       " '11-15 Yrs',\n",
       " '1-5 Yrs',\n",
       " '5-10 Yrs',\n",
       " '4-9 Yrs',\n",
       " '0-4 Yrs',\n",
       " '1-3 Yrs',\n",
       " '2-5 Yrs',\n",
       " '3-5 Yrs']"
      ]
     },
     "execution_count": 28,
     "metadata": {},
     "output_type": "execute_result"
    }
   ],
   "source": [
    "for i in exp_tags:\n",
    "    exp=i.text\n",
    "    Experience_required.append(exp)\n",
    "Experience_required"
   ]
  },
  {
   "cell_type": "code",
   "execution_count": 29,
   "metadata": {},
   "outputs": [
    {
     "name": "stdout",
     "output_type": "stream",
     "text": [
      "20 20 20 20\n"
     ]
    }
   ],
   "source": [
    "#checking the length of the extracted lists.\n",
    "print(len(Experience_required),len(Comapany_name),len(Job_location),len(Job_title))"
   ]
  },
  {
   "cell_type": "code",
   "execution_count": 30,
   "metadata": {},
   "outputs": [],
   "source": [
    "#creating a data frame.\n",
    "Jobs_DataAnalyst=pd.DataFrame({})\n",
    "Jobs_DataAnalyst['Job_Title'] = Job_title[0:10]\n",
    "Jobs_DataAnalyst['Location'] = Job_location[0:10]\n",
    "Jobs_DataAnalyst['Company_Name'] = Comapany_name[0:10]\n",
    "Jobs_DataAnalyst['Experience_required'] = Experience_required[0:10]"
   ]
  },
  {
   "cell_type": "code",
   "execution_count": 31,
   "metadata": {},
   "outputs": [
    {
     "data": {
      "text/html": [
       "<div>\n",
       "<style scoped>\n",
       "    .dataframe tbody tr th:only-of-type {\n",
       "        vertical-align: middle;\n",
       "    }\n",
       "\n",
       "    .dataframe tbody tr th {\n",
       "        vertical-align: top;\n",
       "    }\n",
       "\n",
       "    .dataframe thead th {\n",
       "        text-align: right;\n",
       "    }\n",
       "</style>\n",
       "<table border=\"1\" class=\"dataframe\">\n",
       "  <thead>\n",
       "    <tr style=\"text-align: right;\">\n",
       "      <th></th>\n",
       "      <th>Job_Title</th>\n",
       "      <th>Location</th>\n",
       "      <th>Company_Name</th>\n",
       "      <th>Experience_required</th>\n",
       "    </tr>\n",
       "  </thead>\n",
       "  <tbody>\n",
       "    <tr>\n",
       "      <th>0</th>\n",
       "      <td>Data Analyst</td>\n",
       "      <td>Bangalore/Bengaluru</td>\n",
       "      <td>RedLock, Inc</td>\n",
       "      <td>0-0 Yrs</td>\n",
       "    </tr>\n",
       "    <tr>\n",
       "      <th>1</th>\n",
       "      <td>Data Analyst</td>\n",
       "      <td>Bangalore/Bengaluru(Devalapur)</td>\n",
       "      <td>Super India Tech Mark</td>\n",
       "      <td>0-2 Yrs</td>\n",
       "    </tr>\n",
       "    <tr>\n",
       "      <th>2</th>\n",
       "      <td>Data Analyst</td>\n",
       "      <td>Bangalore/Bengaluru</td>\n",
       "      <td>tech mahindra ltd</td>\n",
       "      <td>4-8 Yrs</td>\n",
       "    </tr>\n",
       "    <tr>\n",
       "      <th>3</th>\n",
       "      <td>Data Analyst</td>\n",
       "      <td>Bangalore/Bengaluru</td>\n",
       "      <td>CONDUENT BUSINESS SERVICES INDIA LLP</td>\n",
       "      <td>1-2 Yrs</td>\n",
       "    </tr>\n",
       "    <tr>\n",
       "      <th>4</th>\n",
       "      <td>Data Analyst</td>\n",
       "      <td>Bangalore/Bengaluru</td>\n",
       "      <td>GlaxoSmithKline Pharmaceuticals Limited</td>\n",
       "      <td>2-7 Yrs</td>\n",
       "    </tr>\n",
       "    <tr>\n",
       "      <th>5</th>\n",
       "      <td>Data Analyst</td>\n",
       "      <td>Bangalore/Bengaluru</td>\n",
       "      <td>Myntra Designs Pvt. Ltd.</td>\n",
       "      <td>3-6 Yrs</td>\n",
       "    </tr>\n",
       "    <tr>\n",
       "      <th>6</th>\n",
       "      <td>Data Analyst</td>\n",
       "      <td>Bangalore/Bengaluru</td>\n",
       "      <td>Myntra Designs Pvt. Ltd.</td>\n",
       "      <td>3-8 Yrs</td>\n",
       "    </tr>\n",
       "    <tr>\n",
       "      <th>7</th>\n",
       "      <td>Data Analyst</td>\n",
       "      <td>Bangalore/Bengaluru</td>\n",
       "      <td>Myntra Designs Pvt. Ltd.</td>\n",
       "      <td>4-8 Yrs</td>\n",
       "    </tr>\n",
       "    <tr>\n",
       "      <th>8</th>\n",
       "      <td>Data Analyst</td>\n",
       "      <td>Bangalore/Bengaluru</td>\n",
       "      <td>Myntra Designs Pvt. Ltd.</td>\n",
       "      <td>4-8 Yrs</td>\n",
       "    </tr>\n",
       "    <tr>\n",
       "      <th>9</th>\n",
       "      <td>Data Analyst</td>\n",
       "      <td>Bangalore/Bengaluru(Ulsoor)</td>\n",
       "      <td>WEIWO Communication Pvt. Ltd.</td>\n",
       "      <td>5-8 Yrs</td>\n",
       "    </tr>\n",
       "  </tbody>\n",
       "</table>\n",
       "</div>"
      ],
      "text/plain": [
       "      Job_Title                        Location  \\\n",
       "0  Data Analyst             Bangalore/Bengaluru   \n",
       "1  Data Analyst  Bangalore/Bengaluru(Devalapur)   \n",
       "2  Data Analyst             Bangalore/Bengaluru   \n",
       "3  Data Analyst             Bangalore/Bengaluru   \n",
       "4  Data Analyst             Bangalore/Bengaluru   \n",
       "5  Data Analyst             Bangalore/Bengaluru   \n",
       "6  Data Analyst             Bangalore/Bengaluru   \n",
       "7  Data Analyst             Bangalore/Bengaluru   \n",
       "8  Data Analyst             Bangalore/Bengaluru   \n",
       "9  Data Analyst     Bangalore/Bengaluru(Ulsoor)   \n",
       "\n",
       "                              Company_Name Experience_required  \n",
       "0                             RedLock, Inc             0-0 Yrs  \n",
       "1                    Super India Tech Mark             0-2 Yrs  \n",
       "2                        tech mahindra ltd             4-8 Yrs  \n",
       "3     CONDUENT BUSINESS SERVICES INDIA LLP             1-2 Yrs  \n",
       "4  GlaxoSmithKline Pharmaceuticals Limited             2-7 Yrs  \n",
       "5                 Myntra Designs Pvt. Ltd.             3-6 Yrs  \n",
       "6                 Myntra Designs Pvt. Ltd.             3-8 Yrs  \n",
       "7                 Myntra Designs Pvt. Ltd.             4-8 Yrs  \n",
       "8                 Myntra Designs Pvt. Ltd.             4-8 Yrs  \n",
       "9            WEIWO Communication Pvt. Ltd.             5-8 Yrs  "
      ]
     },
     "execution_count": 31,
     "metadata": {},
     "output_type": "execute_result"
    }
   ],
   "source": [
    "Jobs_DataAnalyst"
   ]
  },
  {
   "cell_type": "code",
   "execution_count": null,
   "metadata": {},
   "outputs": [],
   "source": []
  }
 ],
 "metadata": {
  "kernelspec": {
   "display_name": "Python 3",
   "language": "python",
   "name": "python3"
  },
  "language_info": {
   "codemirror_mode": {
    "name": "ipython",
    "version": 3
   },
   "file_extension": ".py",
   "mimetype": "text/x-python",
   "name": "python",
   "nbconvert_exporter": "python",
   "pygments_lexer": "ipython3",
   "version": "3.8.3"
  }
 },
 "nbformat": 4,
 "nbformat_minor": 4
}
