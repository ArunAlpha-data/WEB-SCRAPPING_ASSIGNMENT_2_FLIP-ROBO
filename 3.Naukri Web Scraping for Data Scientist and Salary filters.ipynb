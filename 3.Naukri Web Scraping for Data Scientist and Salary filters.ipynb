{
 "cells": [
  {
   "cell_type": "code",
   "execution_count": 1,
   "metadata": {},
   "outputs": [],
   "source": [
    "#importing required libraries.\n",
    "import pandas as pd\n",
    "import selenium\n",
    "from selenium import webdriver"
   ]
  },
  {
   "cell_type": "code",
   "execution_count": 2,
   "metadata": {},
   "outputs": [],
   "source": [
    "#connecting the web driver.\n",
    "driver = webdriver.Firefox(executable_path=r'C:\\Program Files (x86)\\geckodriver-v0.29.0-win64\\geckodriver.exe')"
   ]
  },
  {
   "cell_type": "code",
   "execution_count": 3,
   "metadata": {},
   "outputs": [],
   "source": [
    "driver.get('https://www.naukri.com/')"
   ]
  },
  {
   "cell_type": "code",
   "execution_count": 4,
   "metadata": {},
   "outputs": [],
   "source": [
    "#finding and filling the title and location of the required job using automation.\n",
    "search_job = driver.find_element_by_id('qsb-keyword-sugg')\n",
    "search_job.send_keys('Data Scientist')\n",
    "#finding and clicking the search button using automation.\n",
    "search_btn = driver.find_element_by_xpath(\"//div[@class='search-btn']\")\n",
    "search_btn.click()"
   ]
  },
  {
   "cell_type": "code",
   "execution_count": 5,
   "metadata": {},
   "outputs": [],
   "source": [
    "#finding and clicking the location filter using automation.\n",
    "Location = driver.find_elements_by_xpath(\"//div[@class='mt-8 chckBoxCont']\")[1]\n",
    "Location.click()"
   ]
  },
  {
   "cell_type": "code",
   "execution_count": 6,
   "metadata": {},
   "outputs": [],
   "source": [
    "#finding and clicking the salary filter using automation.\n",
    "salary=driver.find_element_by_xpath(\"//span[@class='ellipsis fleft' and contains(text(),'3-6 Lakhs')]\")\n",
    "salary.click()"
   ]
  },
  {
   "cell_type": "code",
   "execution_count": 7,
   "metadata": {},
   "outputs": [],
   "source": [
    "#creating the list.\n",
    "Job_title=[]\n",
    "Job_location=[]\n",
    "Comapany_name=[]\n",
    "Experience_required=[]"
   ]
  },
  {
   "cell_type": "code",
   "execution_count": 8,
   "metadata": {},
   "outputs": [
    {
     "data": {
      "text/plain": [
       "[<selenium.webdriver.firefox.webelement.FirefoxWebElement (session=\"a1375578-db52-47c5-ba8b-32a56dc2a26f\", element=\"45cfd60d-01be-47a8-9a08-d7404ba05b79\")>,\n",
       " <selenium.webdriver.firefox.webelement.FirefoxWebElement (session=\"a1375578-db52-47c5-ba8b-32a56dc2a26f\", element=\"2f21e3fa-a215-4404-bb7e-4ab1f5a36c55\")>,\n",
       " <selenium.webdriver.firefox.webelement.FirefoxWebElement (session=\"a1375578-db52-47c5-ba8b-32a56dc2a26f\", element=\"e44ab0db-9936-4a4f-9eb0-1b9f20820013\")>,\n",
       " <selenium.webdriver.firefox.webelement.FirefoxWebElement (session=\"a1375578-db52-47c5-ba8b-32a56dc2a26f\", element=\"2962b64e-6091-465e-98ca-c9e9d7681705\")>,\n",
       " <selenium.webdriver.firefox.webelement.FirefoxWebElement (session=\"a1375578-db52-47c5-ba8b-32a56dc2a26f\", element=\"f15ed3a0-a5ab-4819-83d8-2aab725eb3c4\")>,\n",
       " <selenium.webdriver.firefox.webelement.FirefoxWebElement (session=\"a1375578-db52-47c5-ba8b-32a56dc2a26f\", element=\"0fb66ca3-68e9-4f69-a369-de813c8a8037\")>,\n",
       " <selenium.webdriver.firefox.webelement.FirefoxWebElement (session=\"a1375578-db52-47c5-ba8b-32a56dc2a26f\", element=\"55987b2c-29ed-4d9c-a22b-da2439a70703\")>,\n",
       " <selenium.webdriver.firefox.webelement.FirefoxWebElement (session=\"a1375578-db52-47c5-ba8b-32a56dc2a26f\", element=\"e43b334c-453c-4d4c-adfd-eeb98332ec8f\")>,\n",
       " <selenium.webdriver.firefox.webelement.FirefoxWebElement (session=\"a1375578-db52-47c5-ba8b-32a56dc2a26f\", element=\"02244445-43c4-4c75-aad6-0f45ad45d4d3\")>,\n",
       " <selenium.webdriver.firefox.webelement.FirefoxWebElement (session=\"a1375578-db52-47c5-ba8b-32a56dc2a26f\", element=\"8ea5a0cd-bf23-4b33-9266-4d7a223c9ff5\")>,\n",
       " <selenium.webdriver.firefox.webelement.FirefoxWebElement (session=\"a1375578-db52-47c5-ba8b-32a56dc2a26f\", element=\"a1ccbc7f-6888-4dab-8769-0f6da7b637e0\")>,\n",
       " <selenium.webdriver.firefox.webelement.FirefoxWebElement (session=\"a1375578-db52-47c5-ba8b-32a56dc2a26f\", element=\"7c07534f-f297-4a77-8c70-d3f255e8a88f\")>,\n",
       " <selenium.webdriver.firefox.webelement.FirefoxWebElement (session=\"a1375578-db52-47c5-ba8b-32a56dc2a26f\", element=\"b7c1477a-97f8-4526-bbc1-2430aad4d3ab\")>,\n",
       " <selenium.webdriver.firefox.webelement.FirefoxWebElement (session=\"a1375578-db52-47c5-ba8b-32a56dc2a26f\", element=\"cb143cd6-a616-4908-9292-e4feb840566f\")>,\n",
       " <selenium.webdriver.firefox.webelement.FirefoxWebElement (session=\"a1375578-db52-47c5-ba8b-32a56dc2a26f\", element=\"ed8ec8ec-1ea6-4ee6-b508-896d91e0c3f3\")>,\n",
       " <selenium.webdriver.firefox.webelement.FirefoxWebElement (session=\"a1375578-db52-47c5-ba8b-32a56dc2a26f\", element=\"b0410ae0-f3b5-4618-b7f4-08f737269f45\")>,\n",
       " <selenium.webdriver.firefox.webelement.FirefoxWebElement (session=\"a1375578-db52-47c5-ba8b-32a56dc2a26f\", element=\"53bf9b07-301d-4e88-be5b-9d25c4016418\")>,\n",
       " <selenium.webdriver.firefox.webelement.FirefoxWebElement (session=\"a1375578-db52-47c5-ba8b-32a56dc2a26f\", element=\"b754cd48-60ed-4c6f-8cd9-d5375adebbec\")>,\n",
       " <selenium.webdriver.firefox.webelement.FirefoxWebElement (session=\"a1375578-db52-47c5-ba8b-32a56dc2a26f\", element=\"463f947e-bd21-4641-bd61-c4f8795fc2c2\")>,\n",
       " <selenium.webdriver.firefox.webelement.FirefoxWebElement (session=\"a1375578-db52-47c5-ba8b-32a56dc2a26f\", element=\"0f27c189-7ee2-4335-88d5-4b618f48b4ba\")>]"
      ]
     },
     "execution_count": 8,
     "metadata": {},
     "output_type": "execute_result"
    }
   ],
   "source": [
    "#extracting job title.\n",
    "title_tags = driver.find_elements_by_xpath(\"//a[@class='title fw500 ellipsis']\")\n",
    "title_tags"
   ]
  },
  {
   "cell_type": "code",
   "execution_count": 9,
   "metadata": {},
   "outputs": [
    {
     "data": {
      "text/plain": [
       "['Data Scientist - IBM Garage',\n",
       " 'Data Scientist/Data Analyst - Python/Machine Learning',\n",
       " 'Females Required- Data Scientist- Noida',\n",
       " 'Data Scientist',\n",
       " 'Data Scientist - Python & Machine Learning',\n",
       " 'Data Scientist - Python & Machine Learning',\n",
       " 'Data Scientist - Python / Machine Learning / Tableau / Power BI',\n",
       " 'Data Scientist - Python & Machine Learning',\n",
       " 'Required- Data Scientist (NLP)-Axis Bank - 6 months contract',\n",
       " 'Data Scientist - Python / Machine Learning / Tableau / Power BI',\n",
       " 'Data Scientist - Python & Machine Learning (ISO 20022)',\n",
       " 'GCP Presales AIML Architect & Data Scientist (Solution Expert / Archit',\n",
       " 'GCP Presales AIML Architect & Data Scientist (Solution Expert / Archit',\n",
       " 'Data Scientist',\n",
       " 'Data Scientist | Python | Machine Learning | Data Science Training',\n",
       " 'Data Scientist',\n",
       " 'Data Scientist',\n",
       " 'Data Scientist',\n",
       " 'Analyst - Data Science / Data Scientist | Client of Ruboid | Gurgaon',\n",
       " 'Data Scientist']"
      ]
     },
     "execution_count": 9,
     "metadata": {},
     "output_type": "execute_result"
    }
   ],
   "source": [
    "for i in title_tags:\n",
    "    title=i.text\n",
    "    Job_title.append(title)\n",
    "Job_title"
   ]
  },
  {
   "cell_type": "code",
   "execution_count": 10,
   "metadata": {},
   "outputs": [
    {
     "data": {
      "text/plain": [
       "[<selenium.webdriver.firefox.webelement.FirefoxWebElement (session=\"a1375578-db52-47c5-ba8b-32a56dc2a26f\", element=\"904c5187-3fa8-4bd9-95df-c88b966706c2\")>,\n",
       " <selenium.webdriver.firefox.webelement.FirefoxWebElement (session=\"a1375578-db52-47c5-ba8b-32a56dc2a26f\", element=\"739c1bb4-e2fc-4507-8137-822d7efcabfe\")>,\n",
       " <selenium.webdriver.firefox.webelement.FirefoxWebElement (session=\"a1375578-db52-47c5-ba8b-32a56dc2a26f\", element=\"cf1127f5-491c-409f-a682-969ab6c275e3\")>,\n",
       " <selenium.webdriver.firefox.webelement.FirefoxWebElement (session=\"a1375578-db52-47c5-ba8b-32a56dc2a26f\", element=\"c0208fe0-df7f-4e15-ae5a-9bc34af90217\")>,\n",
       " <selenium.webdriver.firefox.webelement.FirefoxWebElement (session=\"a1375578-db52-47c5-ba8b-32a56dc2a26f\", element=\"998d16f0-095e-436c-a7b5-1db517f873c6\")>,\n",
       " <selenium.webdriver.firefox.webelement.FirefoxWebElement (session=\"a1375578-db52-47c5-ba8b-32a56dc2a26f\", element=\"7af1af20-8122-4f2a-a2bc-96d9472fb5ff\")>,\n",
       " <selenium.webdriver.firefox.webelement.FirefoxWebElement (session=\"a1375578-db52-47c5-ba8b-32a56dc2a26f\", element=\"86bf35fc-d786-4ae2-b152-93ddf0e8960e\")>,\n",
       " <selenium.webdriver.firefox.webelement.FirefoxWebElement (session=\"a1375578-db52-47c5-ba8b-32a56dc2a26f\", element=\"0c29ef6e-264f-4cfd-b48a-bf763eef1ced\")>,\n",
       " <selenium.webdriver.firefox.webelement.FirefoxWebElement (session=\"a1375578-db52-47c5-ba8b-32a56dc2a26f\", element=\"afbb2316-ba47-4db0-b3ee-0e07e32b9cb2\")>,\n",
       " <selenium.webdriver.firefox.webelement.FirefoxWebElement (session=\"a1375578-db52-47c5-ba8b-32a56dc2a26f\", element=\"0f0536f3-62a3-4896-b3e0-f5ecd61c4cbc\")>,\n",
       " <selenium.webdriver.firefox.webelement.FirefoxWebElement (session=\"a1375578-db52-47c5-ba8b-32a56dc2a26f\", element=\"c0f29a70-2ab3-41f0-89eb-fdc82b9df97e\")>,\n",
       " <selenium.webdriver.firefox.webelement.FirefoxWebElement (session=\"a1375578-db52-47c5-ba8b-32a56dc2a26f\", element=\"bd71e355-9124-4194-b36f-906688b01c98\")>,\n",
       " <selenium.webdriver.firefox.webelement.FirefoxWebElement (session=\"a1375578-db52-47c5-ba8b-32a56dc2a26f\", element=\"324160fd-f46a-4a05-8163-b883ac22ef88\")>,\n",
       " <selenium.webdriver.firefox.webelement.FirefoxWebElement (session=\"a1375578-db52-47c5-ba8b-32a56dc2a26f\", element=\"5b983fde-c161-467e-b987-88bff2cdb790\")>,\n",
       " <selenium.webdriver.firefox.webelement.FirefoxWebElement (session=\"a1375578-db52-47c5-ba8b-32a56dc2a26f\", element=\"42a26d91-8cf0-4cc3-8076-f19bfb9119df\")>,\n",
       " <selenium.webdriver.firefox.webelement.FirefoxWebElement (session=\"a1375578-db52-47c5-ba8b-32a56dc2a26f\", element=\"32c76064-523a-4fe9-a311-73e21bbb813f\")>,\n",
       " <selenium.webdriver.firefox.webelement.FirefoxWebElement (session=\"a1375578-db52-47c5-ba8b-32a56dc2a26f\", element=\"9932527d-af81-47d5-8325-bc9fdf0ffce4\")>,\n",
       " <selenium.webdriver.firefox.webelement.FirefoxWebElement (session=\"a1375578-db52-47c5-ba8b-32a56dc2a26f\", element=\"0359dcd9-dc16-412e-b84d-03972211ff23\")>,\n",
       " <selenium.webdriver.firefox.webelement.FirefoxWebElement (session=\"a1375578-db52-47c5-ba8b-32a56dc2a26f\", element=\"8e5fd3cc-b3f9-430e-81b0-055596033b8c\")>,\n",
       " <selenium.webdriver.firefox.webelement.FirefoxWebElement (session=\"a1375578-db52-47c5-ba8b-32a56dc2a26f\", element=\"fe4c9080-07b2-4672-8ef2-e9d565151a58\")>]"
      ]
     },
     "execution_count": 10,
     "metadata": {},
     "output_type": "execute_result"
    }
   ],
   "source": [
    "#extracting the location tags.\n",
    "location_tags=driver.find_elements_by_xpath(\"//li[@class='fleft grey-text br2 placeHolderLi location']/span\")\n",
    "location_tags"
   ]
  },
  {
   "cell_type": "code",
   "execution_count": 11,
   "metadata": {},
   "outputs": [
    {
     "data": {
      "text/plain": [
       "['Noida, Hyderabad/Secunderabad, Bangalore/Bengaluru',\n",
       " 'Mumbai, Ghaziabad',\n",
       " 'Noida, Gurgaon/Gurugram, Delhi / NCR',\n",
       " 'Ghaziabad, Faridabad, Delhi / NCR',\n",
       " 'Hyderabad/Secunderabad, Pune, Bangalore/Bengaluru, Delhi / NCR, Mumbai (All Areas)',\n",
       " 'Hyderabad/Secunderabad, Pune, Chennai, Bangalore/Bengaluru, Delhi / NCR, Mumbai (All Areas)',\n",
       " 'Mumbai, Hyderabad/Secunderabad, Bangalore/Bengaluru, Delhi / NCR',\n",
       " 'Hyderabad/Secunderabad, Bangalore/Bengaluru, Delhi / NCR, Mumbai (All Areas)',\n",
       " 'Kolkata, New Delhi, Hyderabad/Secunderabad, Pune, Chennai, Bangalore/Bengaluru, Mumbai (All Areas)',\n",
       " 'Hyderabad/Secunderabad, Bangalore/Bengaluru, Delhi / NCR',\n",
       " 'Hyderabad/Secunderabad, Bangalore/Bengaluru, Delhi / NCR',\n",
       " 'Noida',\n",
       " 'Noida',\n",
       " 'Gurgaon/Gurugram',\n",
       " 'Noida(Sector-59 Noida)',\n",
       " 'Delhi / NCR',\n",
       " 'Delhi / NCR',\n",
       " 'Bharuch, Jaipur, Bhopal, Mumbai, Jhansi, Nagpur, Ghaziabad, Jaunpur, Kanpur, New Delhi, Lucknow, Agra, Gurgaon/Gurugram, Rajkot, Bangalore/Bengaluru',\n",
       " 'Gurgaon/Gurugram',\n",
       " 'Gurgaon/Gurugram, Bangalore/Bengaluru']"
      ]
     },
     "execution_count": 11,
     "metadata": {},
     "output_type": "execute_result"
    }
   ],
   "source": [
    "for i in location_tags:\n",
    "    location=i.text\n",
    "    Job_location.append(location)\n",
    "Job_location"
   ]
  },
  {
   "cell_type": "code",
   "execution_count": 12,
   "metadata": {},
   "outputs": [
    {
     "data": {
      "text/plain": [
       "[<selenium.webdriver.firefox.webelement.FirefoxWebElement (session=\"a1375578-db52-47c5-ba8b-32a56dc2a26f\", element=\"3ee4a7d7-d1d9-4807-bda5-1adec6e453bf\")>,\n",
       " <selenium.webdriver.firefox.webelement.FirefoxWebElement (session=\"a1375578-db52-47c5-ba8b-32a56dc2a26f\", element=\"cffe6295-2fcf-4ab8-8c58-7aaa8e154598\")>,\n",
       " <selenium.webdriver.firefox.webelement.FirefoxWebElement (session=\"a1375578-db52-47c5-ba8b-32a56dc2a26f\", element=\"8468d5c6-0f49-4ddc-ad00-d59d863f5004\")>,\n",
       " <selenium.webdriver.firefox.webelement.FirefoxWebElement (session=\"a1375578-db52-47c5-ba8b-32a56dc2a26f\", element=\"158aa855-dcd5-452b-ba0c-694c9addb11a\")>,\n",
       " <selenium.webdriver.firefox.webelement.FirefoxWebElement (session=\"a1375578-db52-47c5-ba8b-32a56dc2a26f\", element=\"2235ddd5-c3f8-4f93-a38c-7be7ee5c50c5\")>,\n",
       " <selenium.webdriver.firefox.webelement.FirefoxWebElement (session=\"a1375578-db52-47c5-ba8b-32a56dc2a26f\", element=\"d9cfd808-9c8b-4e5d-9fc5-96e041d46e12\")>,\n",
       " <selenium.webdriver.firefox.webelement.FirefoxWebElement (session=\"a1375578-db52-47c5-ba8b-32a56dc2a26f\", element=\"0a79f1a4-5d6d-4d7f-99e6-a97382aeafd8\")>,\n",
       " <selenium.webdriver.firefox.webelement.FirefoxWebElement (session=\"a1375578-db52-47c5-ba8b-32a56dc2a26f\", element=\"66a997d2-eb44-4688-8921-99384532438d\")>,\n",
       " <selenium.webdriver.firefox.webelement.FirefoxWebElement (session=\"a1375578-db52-47c5-ba8b-32a56dc2a26f\", element=\"1e24aeef-405d-4f92-a002-4ef968893869\")>,\n",
       " <selenium.webdriver.firefox.webelement.FirefoxWebElement (session=\"a1375578-db52-47c5-ba8b-32a56dc2a26f\", element=\"72b2726c-54b3-41fc-8e73-9ec2dca20ee3\")>,\n",
       " <selenium.webdriver.firefox.webelement.FirefoxWebElement (session=\"a1375578-db52-47c5-ba8b-32a56dc2a26f\", element=\"4a873bd9-aa4e-4967-8fdf-ed8f542d28f6\")>,\n",
       " <selenium.webdriver.firefox.webelement.FirefoxWebElement (session=\"a1375578-db52-47c5-ba8b-32a56dc2a26f\", element=\"906c6af8-0524-48b5-b06a-734672c2399a\")>,\n",
       " <selenium.webdriver.firefox.webelement.FirefoxWebElement (session=\"a1375578-db52-47c5-ba8b-32a56dc2a26f\", element=\"4c4176c0-a0b3-4272-b1f3-bb0809e6f90c\")>,\n",
       " <selenium.webdriver.firefox.webelement.FirefoxWebElement (session=\"a1375578-db52-47c5-ba8b-32a56dc2a26f\", element=\"cc0c27d1-dc5f-4d5f-82a1-e148ef60970f\")>,\n",
       " <selenium.webdriver.firefox.webelement.FirefoxWebElement (session=\"a1375578-db52-47c5-ba8b-32a56dc2a26f\", element=\"17845c5b-c5b9-4fe6-81fd-8e9248fa392a\")>,\n",
       " <selenium.webdriver.firefox.webelement.FirefoxWebElement (session=\"a1375578-db52-47c5-ba8b-32a56dc2a26f\", element=\"5f91a96f-0db4-4c9e-8822-f2e09244b1b9\")>,\n",
       " <selenium.webdriver.firefox.webelement.FirefoxWebElement (session=\"a1375578-db52-47c5-ba8b-32a56dc2a26f\", element=\"3f1929b3-4b1b-41af-b63a-154c6a3ee068\")>,\n",
       " <selenium.webdriver.firefox.webelement.FirefoxWebElement (session=\"a1375578-db52-47c5-ba8b-32a56dc2a26f\", element=\"73b46588-c02f-4e1f-8771-3647c1f85bfb\")>,\n",
       " <selenium.webdriver.firefox.webelement.FirefoxWebElement (session=\"a1375578-db52-47c5-ba8b-32a56dc2a26f\", element=\"bd71626a-6853-40be-a889-fd4aefb4cdf4\")>,\n",
       " <selenium.webdriver.firefox.webelement.FirefoxWebElement (session=\"a1375578-db52-47c5-ba8b-32a56dc2a26f\", element=\"b5ae97ac-5e38-4621-a908-19370fcb276f\")>]"
      ]
     },
     "execution_count": 12,
     "metadata": {},
     "output_type": "execute_result"
    }
   ],
   "source": [
    "#extracting the comapany names.\n",
    "company_tags= driver.find_elements_by_xpath(\"//a[@class='subTitle ellipsis fleft']\")\n",
    "company_tags"
   ]
  },
  {
   "cell_type": "code",
   "execution_count": 13,
   "metadata": {},
   "outputs": [
    {
     "data": {
      "text/plain": [
       "['IBM India Pvt. Limited',\n",
       " 'Change leaders',\n",
       " 'Randstad',\n",
       " 'Amity University',\n",
       " 'FUTURES AND CAREERS',\n",
       " 'FUTURES AND CAREERS',\n",
       " 'FUTURES AND CAREERS',\n",
       " 'FUTURES AND CAREERS',\n",
       " 'Axis Bank Limited',\n",
       " 'FUTURES AND CAREERS',\n",
       " 'FUTURES AND CAREERS',\n",
       " 'Lecan Solutions Pvt Ltd',\n",
       " 'Lecan Solutions Pvt Ltd',\n",
       " 'NatWest Group',\n",
       " 'Careerera',\n",
       " 'NatWest Group',\n",
       " 'NatWest Group',\n",
       " 'Country Veggie',\n",
       " 'RUBOID TECHNOVISION PRIVATE LIMITED',\n",
       " 'BlackBuck']"
      ]
     },
     "execution_count": 13,
     "metadata": {},
     "output_type": "execute_result"
    }
   ],
   "source": [
    "for i in company_tags:\n",
    "    company=i.text\n",
    "    Comapany_name.append(company)\n",
    "Comapany_name"
   ]
  },
  {
   "cell_type": "code",
   "execution_count": 14,
   "metadata": {},
   "outputs": [
    {
     "data": {
      "text/plain": [
       "[<selenium.webdriver.firefox.webelement.FirefoxWebElement (session=\"a1375578-db52-47c5-ba8b-32a56dc2a26f\", element=\"42bcc9e6-96b6-4db1-93ad-672a545fcefd\")>,\n",
       " <selenium.webdriver.firefox.webelement.FirefoxWebElement (session=\"a1375578-db52-47c5-ba8b-32a56dc2a26f\", element=\"3bc21e37-e706-454e-b742-97e381413d4f\")>,\n",
       " <selenium.webdriver.firefox.webelement.FirefoxWebElement (session=\"a1375578-db52-47c5-ba8b-32a56dc2a26f\", element=\"2e518817-bd56-49f2-842b-b3ad04a0ca92\")>,\n",
       " <selenium.webdriver.firefox.webelement.FirefoxWebElement (session=\"a1375578-db52-47c5-ba8b-32a56dc2a26f\", element=\"66e7fd99-67d8-4d92-b6cb-47ec845d2c0e\")>,\n",
       " <selenium.webdriver.firefox.webelement.FirefoxWebElement (session=\"a1375578-db52-47c5-ba8b-32a56dc2a26f\", element=\"e7855a52-c27f-4bf1-a67e-b3cc67b4a376\")>,\n",
       " <selenium.webdriver.firefox.webelement.FirefoxWebElement (session=\"a1375578-db52-47c5-ba8b-32a56dc2a26f\", element=\"7505e95d-7677-43c1-b9a3-d7b3556a3a35\")>,\n",
       " <selenium.webdriver.firefox.webelement.FirefoxWebElement (session=\"a1375578-db52-47c5-ba8b-32a56dc2a26f\", element=\"4a616f8a-c215-4f29-80e9-8d421ee2f4c0\")>,\n",
       " <selenium.webdriver.firefox.webelement.FirefoxWebElement (session=\"a1375578-db52-47c5-ba8b-32a56dc2a26f\", element=\"d847dc02-d73c-4291-851e-ec2078e95446\")>,\n",
       " <selenium.webdriver.firefox.webelement.FirefoxWebElement (session=\"a1375578-db52-47c5-ba8b-32a56dc2a26f\", element=\"b88129a2-2b87-46fd-91b0-13c258a5337c\")>,\n",
       " <selenium.webdriver.firefox.webelement.FirefoxWebElement (session=\"a1375578-db52-47c5-ba8b-32a56dc2a26f\", element=\"9fc612fb-ab15-436c-9e71-bfe98f9a4f11\")>,\n",
       " <selenium.webdriver.firefox.webelement.FirefoxWebElement (session=\"a1375578-db52-47c5-ba8b-32a56dc2a26f\", element=\"8d89d822-3ff1-4ff6-aa7c-acd7d32a484e\")>,\n",
       " <selenium.webdriver.firefox.webelement.FirefoxWebElement (session=\"a1375578-db52-47c5-ba8b-32a56dc2a26f\", element=\"8c47e623-b7fe-4536-94c7-627768d30571\")>,\n",
       " <selenium.webdriver.firefox.webelement.FirefoxWebElement (session=\"a1375578-db52-47c5-ba8b-32a56dc2a26f\", element=\"a1839719-78bb-4f55-9006-ce36f0841edb\")>,\n",
       " <selenium.webdriver.firefox.webelement.FirefoxWebElement (session=\"a1375578-db52-47c5-ba8b-32a56dc2a26f\", element=\"f2ab1b0e-3fca-4299-9cb9-7fe09a8dedd0\")>,\n",
       " <selenium.webdriver.firefox.webelement.FirefoxWebElement (session=\"a1375578-db52-47c5-ba8b-32a56dc2a26f\", element=\"305f34d0-fead-40a7-b3c3-2c9655b953fe\")>,\n",
       " <selenium.webdriver.firefox.webelement.FirefoxWebElement (session=\"a1375578-db52-47c5-ba8b-32a56dc2a26f\", element=\"d50962b3-52d4-4ba8-b5c7-479f21583ba5\")>,\n",
       " <selenium.webdriver.firefox.webelement.FirefoxWebElement (session=\"a1375578-db52-47c5-ba8b-32a56dc2a26f\", element=\"c00735bd-4be3-417d-bf74-214e143a0463\")>,\n",
       " <selenium.webdriver.firefox.webelement.FirefoxWebElement (session=\"a1375578-db52-47c5-ba8b-32a56dc2a26f\", element=\"af5632de-0d52-4bcf-b19c-2325471b2d54\")>,\n",
       " <selenium.webdriver.firefox.webelement.FirefoxWebElement (session=\"a1375578-db52-47c5-ba8b-32a56dc2a26f\", element=\"2f21e505-bded-4a18-a814-b15f01504fc5\")>,\n",
       " <selenium.webdriver.firefox.webelement.FirefoxWebElement (session=\"a1375578-db52-47c5-ba8b-32a56dc2a26f\", element=\"e59aeba8-5c41-46f9-b799-25ae4cfd7b73\")>]"
      ]
     },
     "execution_count": 14,
     "metadata": {},
     "output_type": "execute_result"
    }
   ],
   "source": [
    "#extracting the Experience tags\n",
    "exp_tags = driver.find_elements_by_xpath(\"//li[@class='fleft grey-text br2 placeHolderLi experience']/span\")\n",
    "exp_tags"
   ]
  },
  {
   "cell_type": "code",
   "execution_count": 15,
   "metadata": {},
   "outputs": [
    {
     "data": {
      "text/plain": [
       "['5-8 Yrs',\n",
       " '5-10 Yrs',\n",
       " '3-7 Yrs',\n",
       " '6-8 Yrs',\n",
       " '2-7 Yrs',\n",
       " '2-7 Yrs',\n",
       " '3-8 Yrs',\n",
       " '2-7 Yrs',\n",
       " '4-9 Yrs',\n",
       " '3-8 Yrs',\n",
       " '3-8 Yrs',\n",
       " '6-11 Yrs',\n",
       " '6-11 Yrs',\n",
       " '4-8 Yrs',\n",
       " '3-8 Yrs',\n",
       " '4-8 Yrs',\n",
       " '4-8 Yrs',\n",
       " '1-3 Yrs',\n",
       " '3-5 Yrs',\n",
       " '3-7 Yrs']"
      ]
     },
     "execution_count": 15,
     "metadata": {},
     "output_type": "execute_result"
    }
   ],
   "source": [
    "for i in exp_tags:\n",
    "    exp=i.text\n",
    "    Experience_required.append(exp)\n",
    "Experience_required"
   ]
  },
  {
   "cell_type": "code",
   "execution_count": 16,
   "metadata": {},
   "outputs": [
    {
     "name": "stdout",
     "output_type": "stream",
     "text": [
      "20 20 20 20\n"
     ]
    }
   ],
   "source": [
    "#checking the length of the extracted lists.\n",
    "print(len(Experience_required),len(Comapany_name),len(Job_location),len(Job_title))"
   ]
  },
  {
   "cell_type": "code",
   "execution_count": 17,
   "metadata": {},
   "outputs": [],
   "source": [
    "#creating a data frame.\n",
    "Data_Scientist=pd.DataFrame({})\n",
    "Data_Scientist['Job_Title'] = Job_title[0:10]\n",
    "Data_Scientist['Location'] = Job_location[0:10]\n",
    "Data_Scientist['Company_Name'] = Comapany_name[0:10]\n",
    "Data_Scientist['Experience_required'] = Experience_required[0:10]"
   ]
  },
  {
   "cell_type": "code",
   "execution_count": 18,
   "metadata": {},
   "outputs": [
    {
     "data": {
      "text/html": [
       "<div>\n",
       "<style scoped>\n",
       "    .dataframe tbody tr th:only-of-type {\n",
       "        vertical-align: middle;\n",
       "    }\n",
       "\n",
       "    .dataframe tbody tr th {\n",
       "        vertical-align: top;\n",
       "    }\n",
       "\n",
       "    .dataframe thead th {\n",
       "        text-align: right;\n",
       "    }\n",
       "</style>\n",
       "<table border=\"1\" class=\"dataframe\">\n",
       "  <thead>\n",
       "    <tr style=\"text-align: right;\">\n",
       "      <th></th>\n",
       "      <th>Job_Title</th>\n",
       "      <th>Location</th>\n",
       "      <th>Company_Name</th>\n",
       "      <th>Experience_required</th>\n",
       "    </tr>\n",
       "  </thead>\n",
       "  <tbody>\n",
       "    <tr>\n",
       "      <th>0</th>\n",
       "      <td>Data Scientist - IBM Garage</td>\n",
       "      <td>Noida, Hyderabad/Secunderabad, Bangalore/Benga...</td>\n",
       "      <td>IBM India Pvt. Limited</td>\n",
       "      <td>5-8 Yrs</td>\n",
       "    </tr>\n",
       "    <tr>\n",
       "      <th>1</th>\n",
       "      <td>Data Scientist/Data Analyst - Python/Machine L...</td>\n",
       "      <td>Mumbai, Ghaziabad</td>\n",
       "      <td>Change leaders</td>\n",
       "      <td>5-10 Yrs</td>\n",
       "    </tr>\n",
       "    <tr>\n",
       "      <th>2</th>\n",
       "      <td>Females Required- Data Scientist- Noida</td>\n",
       "      <td>Noida, Gurgaon/Gurugram, Delhi / NCR</td>\n",
       "      <td>Randstad</td>\n",
       "      <td>3-7 Yrs</td>\n",
       "    </tr>\n",
       "    <tr>\n",
       "      <th>3</th>\n",
       "      <td>Data Scientist</td>\n",
       "      <td>Ghaziabad, Faridabad, Delhi / NCR</td>\n",
       "      <td>Amity University</td>\n",
       "      <td>6-8 Yrs</td>\n",
       "    </tr>\n",
       "    <tr>\n",
       "      <th>4</th>\n",
       "      <td>Data Scientist - Python &amp; Machine Learning</td>\n",
       "      <td>Hyderabad/Secunderabad, Pune, Bangalore/Bengal...</td>\n",
       "      <td>FUTURES AND CAREERS</td>\n",
       "      <td>2-7 Yrs</td>\n",
       "    </tr>\n",
       "    <tr>\n",
       "      <th>5</th>\n",
       "      <td>Data Scientist - Python &amp; Machine Learning</td>\n",
       "      <td>Hyderabad/Secunderabad, Pune, Chennai, Bangalo...</td>\n",
       "      <td>FUTURES AND CAREERS</td>\n",
       "      <td>2-7 Yrs</td>\n",
       "    </tr>\n",
       "    <tr>\n",
       "      <th>6</th>\n",
       "      <td>Data Scientist - Python / Machine Learning / T...</td>\n",
       "      <td>Mumbai, Hyderabad/Secunderabad, Bangalore/Beng...</td>\n",
       "      <td>FUTURES AND CAREERS</td>\n",
       "      <td>3-8 Yrs</td>\n",
       "    </tr>\n",
       "    <tr>\n",
       "      <th>7</th>\n",
       "      <td>Data Scientist - Python &amp; Machine Learning</td>\n",
       "      <td>Hyderabad/Secunderabad, Bangalore/Bengaluru, D...</td>\n",
       "      <td>FUTURES AND CAREERS</td>\n",
       "      <td>2-7 Yrs</td>\n",
       "    </tr>\n",
       "    <tr>\n",
       "      <th>8</th>\n",
       "      <td>Required- Data Scientist (NLP)-Axis Bank - 6 m...</td>\n",
       "      <td>Kolkata, New Delhi, Hyderabad/Secunderabad, Pu...</td>\n",
       "      <td>Axis Bank Limited</td>\n",
       "      <td>4-9 Yrs</td>\n",
       "    </tr>\n",
       "    <tr>\n",
       "      <th>9</th>\n",
       "      <td>Data Scientist - Python / Machine Learning / T...</td>\n",
       "      <td>Hyderabad/Secunderabad, Bangalore/Bengaluru, D...</td>\n",
       "      <td>FUTURES AND CAREERS</td>\n",
       "      <td>3-8 Yrs</td>\n",
       "    </tr>\n",
       "  </tbody>\n",
       "</table>\n",
       "</div>"
      ],
      "text/plain": [
       "                                           Job_Title  \\\n",
       "0                        Data Scientist - IBM Garage   \n",
       "1  Data Scientist/Data Analyst - Python/Machine L...   \n",
       "2            Females Required- Data Scientist- Noida   \n",
       "3                                     Data Scientist   \n",
       "4         Data Scientist - Python & Machine Learning   \n",
       "5         Data Scientist - Python & Machine Learning   \n",
       "6  Data Scientist - Python / Machine Learning / T...   \n",
       "7         Data Scientist - Python & Machine Learning   \n",
       "8  Required- Data Scientist (NLP)-Axis Bank - 6 m...   \n",
       "9  Data Scientist - Python / Machine Learning / T...   \n",
       "\n",
       "                                            Location            Company_Name  \\\n",
       "0  Noida, Hyderabad/Secunderabad, Bangalore/Benga...  IBM India Pvt. Limited   \n",
       "1                                  Mumbai, Ghaziabad          Change leaders   \n",
       "2               Noida, Gurgaon/Gurugram, Delhi / NCR                Randstad   \n",
       "3                  Ghaziabad, Faridabad, Delhi / NCR        Amity University   \n",
       "4  Hyderabad/Secunderabad, Pune, Bangalore/Bengal...     FUTURES AND CAREERS   \n",
       "5  Hyderabad/Secunderabad, Pune, Chennai, Bangalo...     FUTURES AND CAREERS   \n",
       "6  Mumbai, Hyderabad/Secunderabad, Bangalore/Beng...     FUTURES AND CAREERS   \n",
       "7  Hyderabad/Secunderabad, Bangalore/Bengaluru, D...     FUTURES AND CAREERS   \n",
       "8  Kolkata, New Delhi, Hyderabad/Secunderabad, Pu...       Axis Bank Limited   \n",
       "9  Hyderabad/Secunderabad, Bangalore/Bengaluru, D...     FUTURES AND CAREERS   \n",
       "\n",
       "  Experience_required  \n",
       "0             5-8 Yrs  \n",
       "1            5-10 Yrs  \n",
       "2             3-7 Yrs  \n",
       "3             6-8 Yrs  \n",
       "4             2-7 Yrs  \n",
       "5             2-7 Yrs  \n",
       "6             3-8 Yrs  \n",
       "7             2-7 Yrs  \n",
       "8             4-9 Yrs  \n",
       "9             3-8 Yrs  "
      ]
     },
     "execution_count": 18,
     "metadata": {},
     "output_type": "execute_result"
    }
   ],
   "source": [
    "Data_Scientist"
   ]
  },
  {
   "cell_type": "code",
   "execution_count": null,
   "metadata": {},
   "outputs": [],
   "source": []
  }
 ],
 "metadata": {
  "kernelspec": {
   "display_name": "Python 3",
   "language": "python",
   "name": "python3"
  },
  "language_info": {
   "codemirror_mode": {
    "name": "ipython",
    "version": 3
   },
   "file_extension": ".py",
   "mimetype": "text/x-python",
   "name": "python",
   "nbconvert_exporter": "python",
   "pygments_lexer": "ipython3",
   "version": "3.8.3"
  }
 },
 "nbformat": 4,
 "nbformat_minor": 4
}
