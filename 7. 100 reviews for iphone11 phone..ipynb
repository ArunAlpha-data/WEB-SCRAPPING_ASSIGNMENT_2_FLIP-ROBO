{
 "cells": [
  {
   "cell_type": "markdown",
   "metadata": {},
   "source": [
    "# OBJECTIIVE :\n",
    "\n",
    "     To Scrape 100 reviews data from flipkart.com for iphone11 phone."
   ]
  },
  {
   "cell_type": "code",
   "execution_count": 1,
   "metadata": {},
   "outputs": [],
   "source": [
    "# importing required libraries.\n",
    "import pandas as pd\n",
    "import selenium\n",
    "from selenium import webdriver"
   ]
  },
  {
   "cell_type": "code",
   "execution_count": 2,
   "metadata": {},
   "outputs": [],
   "source": [
    "#connecting the web driver.\n",
    "driver=webdriver.Chrome(r'C:\\Program Files (x86)\\chromedriver_win32\\chromedriver.exe')"
   ]
  },
  {
   "cell_type": "code",
   "execution_count": 3,
   "metadata": {},
   "outputs": [],
   "source": [
    "driver.get('https://www.flipkart.com/apple-iphone-11-black-64-gb-includes-earpods-power-adapter/p/itm0f37c2240b217?pid=MOBFKCTSVZAXUHGR&lid=LSTMOBFKCTSVZAXUHGREPBFGI&marketplace')"
   ]
  },
  {
   "cell_type": "code",
   "execution_count": 4,
   "metadata": {},
   "outputs": [],
   "source": [
    "#clicking the all-review\n",
    "all_review=driver.find_element_by_xpath(\"//div[@class='_3UAT2v _16PBlm']\")\n",
    "all_review.click()"
   ]
  },
  {
   "cell_type": "code",
   "execution_count": 5,
   "metadata": {},
   "outputs": [],
   "source": [
    "#creating the list\n",
    "Rating=[]\n",
    "Review_summary=[]\n",
    "Full_review=[]"
   ]
  },
  {
   "cell_type": "code",
   "execution_count": 10,
   "metadata": {},
   "outputs": [
    {
     "data": {
      "text/plain": [
       "['5', '5', '5', '5', '5', '5', '5', '5', '5', '5']"
      ]
     },
     "execution_count": 10,
     "metadata": {},
     "output_type": "execute_result"
    }
   ],
   "source": [
    "#fetching the rating,review summary and full review from page 1 and checking the output\n",
    "Rating_tag1=driver.find_elements_by_xpath(\"//div[@class='_3LWZlK _1BLPMq']\")\n",
    "Rating_1=[]\n",
    "for i in Rating_tag1:\n",
    "    Ratingtag1=i.text\n",
    "    Rating_1.append(Ratingtag1)\n",
    "Rating_1"
   ]
  },
  {
   "cell_type": "code",
   "execution_count": 11,
   "metadata": {},
   "outputs": [
    {
     "data": {
      "text/plain": [
       "['Brilliant',\n",
       " 'Perfect product!',\n",
       " 'Worth every penny',\n",
       " 'Great product',\n",
       " 'Highly recommended',\n",
       " 'Perfect product!',\n",
       " 'Perfect product!',\n",
       " 'Wonderful',\n",
       " 'Fabulous!',\n",
       " 'Worth every penny']"
      ]
     },
     "execution_count": 11,
     "metadata": {},
     "output_type": "execute_result"
    }
   ],
   "source": [
    "Review_summary_tag1=driver.find_elements_by_xpath(\"//p[@class='_2-N8zT']\")\n",
    "Review_summary_1=[]\n",
    "for i in Review_summary_tag1:\n",
    "    Reviewsummary1=i.text\n",
    "    Review_summary_1.append(Reviewsummary1)\n",
    "Review_summary_1"
   ]
  },
  {
   "cell_type": "code",
   "execution_count": 12,
   "metadata": {},
   "outputs": [
    {
     "data": {
      "text/plain": [
       "['The Best Phone for the Money\\n\\nThe iPhone 11 offers superb cameras, a more durable design and excellent battery life for an affordable price.\\n\\nCompelling ultra-wide camera\\nNew Night mode is excellent\\nLong battery life',\n",
       " 'Amazing phone with great cameras and better battery which gives you the best performance. I just love the camera .',\n",
       " 'Previously I was using one plus 3t it was a great phone\\nAnd then I decided to upgrade I am stuck between Samsung s10 plus or iPhone 11\\nI have seen the specs and everything were good except the display it’s somewhere between 720-1080 and it’s not even an amoled it’s an LCD display\\nBut I decided to go with iPhone because I have never used an IOS device I have Been an android user from the past 9 years I ordered IPhone 11 (128gb) product red\\nMy experience after using 3 weeks\\n1. The delivery ...\\nREAD MORE',\n",
       " 'Amazing Powerful and Durable Gadget.\\n\\nI’m am very happy with the camera picture quality, Amazing face id unlocked in dark room, Strong battery with perfect screen size as you can carry easily in pocket. This is my third iPhone.\\n\\nI shifted from android Samsung Note series to iPhone because of the strong build quality and peace of mind for next 3-4 years.\\n\\nDon’t think to much just go for it and I suggest you to go for minimum 128gb variant or more 256gb.\\n\\nI’ve attached my puppy pics and no fi...\\nREAD MORE',\n",
       " 'iphone 11 is a very good phone to buy only if you can compromise for the display. The display on this is device is pretty good but you can get other options with better displays in this price segment.\\nIf you can survive with an HD+ LCD panel with thicker bezels and a notch up top then this is a very good phone for you.\\nCameras are awesome, battery backup excellent, great performance and a decent premium look. Good job Apple !',\n",
       " 'It’s a must buy who is looking for an upgrade from previous generation of iPhones. If you are using XR then still you can hold on for sometime and upgrade to 2020 model else this phone is a must buy . Camera quality is amazing and wide angle is something to count upon. Performance wise it’s amazing and feels premium while holding in hand. So a big YES for this device. Go for 128 GB variant as the 4K videos will occupy lots of space and the storage can get over very quickly. Try to buy it with...\\nREAD MORE',\n",
       " 'Value for money❤️❤️\\nIts awesome mobile phone in the world ...\\nDisplay was very good and bright ..\\nTrust me freinds you r never regret after Buying..\\nJust go for it....\\nI love this phone and i switch to iphone x to 11',\n",
       " '*Review after 10 months of usage*\\nDoesn\\'t seem bulky with decent touch and camera. The \"standard maintained\" quality of IPhone. Go for it, if your budget is not more enough for pro models. It\\'s a value for money among the 11 series Stereo speakers are so good, you will love the stereo sound. Battery backup is not decent but still better than Iphone 7 and 8.Processor is fast, the phone doesn\\'t lag at all even with heavy games, waterproof, faster face id and with no fingerprint scanners. The ca...\\nREAD MORE',\n",
       " 'This is my first iOS phone. I am very happy with this product. Very much satisfied with this. I love this phone.',\n",
       " 'Best budget Iphone till date ❤️ go for it guys without second thought. Let me explain you guys about Camera, Display, battery, and performance.\\n\\nCamera: at this price range there is no comparison of camera, you’ll love the picture quality as well as video quality. I am a Vlogger I wanted an iPhone with 4k video by front camera and I got this phone and I am more than happy 😃\\n\\nBattery: I use this phone roughly as I am active social media person and I have a youtube channel. so the battery ba...\\nREAD MORE']"
      ]
     },
     "execution_count": 12,
     "metadata": {},
     "output_type": "execute_result"
    }
   ],
   "source": [
    "Full_review_tag1=driver.find_elements_by_xpath(\"//div[@class='t-ZTKy']\")\n",
    "Full_review_1=[]\n",
    "for i in Full_review_tag1:\n",
    "    Fullreview1=i.text\n",
    "    Full_review_1.append(Fullreview1)\n",
    "Full_review_1"
   ]
  },
  {
   "cell_type": "code",
   "execution_count": 13,
   "metadata": {},
   "outputs": [],
   "source": [
    "#clicking on the next page no.2\n",
    "Next_page2=driver.find_element_by_xpath(\"//a [@href='/apple-iphone-11-black-64-gb-includes-earpods-power-adapter/product-reviews/itm0f37c2240b217?pid=MOBFKCTSVZAXUHGR&lid=LSTMOBFKCTSVZAXUHGREPBFGI&marketplace=FLIPKART&page=2']\")\n",
    "Next_page2.click()"
   ]
  },
  {
   "cell_type": "code",
   "execution_count": 15,
   "metadata": {},
   "outputs": [],
   "source": [
    "#fetching the rating,review summary and full review from page 2\n",
    "Rating_tag2=driver.find_elements_by_xpath(\"//div[@class='_3LWZlK _1BLPMq']\")\n",
    "Rating_2=[]\n",
    "for i in Rating_tag2:\n",
    "    Ratingtag2=i.text\n",
    "    Rating_2.append(Ratingtag2)\n",
    "\n",
    "Review_summary_tag2=driver.find_elements_by_xpath(\"//p[@class='_2-N8zT']\")\n",
    "Review_summary_2=[]\n",
    "for i in Review_summary_tag2:\n",
    "    Reviewsummary2=i.text\n",
    "    Review_summary_2.append(Reviewsummary2)\n",
    "\n",
    "Full_review_tag2=driver.find_elements_by_xpath(\"//div[@class='t-ZTKy']\")\n",
    "Full_review_2=[]\n",
    "for i in Full_review_tag2:\n",
    "    Fullreview2=i.text\n",
    "    Full_review_2.append(Fullreview2)"
   ]
  },
  {
   "cell_type": "code",
   "execution_count": 16,
   "metadata": {},
   "outputs": [],
   "source": [
    "#clicking on the next page no.3\n",
    "Next_page2=driver.find_element_by_xpath(\"//a [@href='/apple-iphone-11-black-64-gb-includes-earpods-power-adapter/product-reviews/itm0f37c2240b217?pid=MOBFKCTSVZAXUHGR&lid=LSTMOBFKCTSVZAXUHGREPBFGI&marketplace=FLIPKART&page=3']\")\n",
    "Next_page2.click()"
   ]
  },
  {
   "cell_type": "code",
   "execution_count": 37,
   "metadata": {},
   "outputs": [],
   "source": [
    "#fetching the rating,review summary and full review from page 3\n",
    "Rating_tag3a=driver.find_elements_by_xpath(\"//div[@class='_3LWZlK _1BLPMq']\")\n",
    "Rating_3a=[]\n",
    "for i in Rating_tag3a:\n",
    "    Ratingtag3a=i.text\n",
    "    Rating_3a.append(Ratingtag3a)\n",
    "\n",
    "Review_summary_tag3=driver.find_elements_by_xpath(\"//p[@class='_2-N8zT']\")\n",
    "Review_summary_3=[]\n",
    "for i in Review_summary_tag3:\n",
    "    Reviewsummary3=i.text\n",
    "    Review_summary_3.append(Reviewsummary3)\n",
    "\n",
    "Full_review_tag3=driver.find_elements_by_xpath(\"//div[@class='t-ZTKy']\")\n",
    "Full_review_3=[]\n",
    "for i in Full_review_tag3:\n",
    "    Fullreview3=i.text\n",
    "    Full_review_3.append(Fullreview3)"
   ]
  },
  {
   "cell_type": "code",
   "execution_count": 38,
   "metadata": {},
   "outputs": [
    {
     "name": "stdout",
     "output_type": "stream",
     "text": [
      "9\n"
     ]
    }
   ],
   "source": [
    "print(len(Rating_3a))"
   ]
  },
  {
   "cell_type": "code",
   "execution_count": 46,
   "metadata": {},
   "outputs": [
    {
     "data": {
      "text/plain": [
       "['5', '5', '5', '5', '4']"
      ]
     },
     "execution_count": 46,
     "metadata": {},
     "output_type": "execute_result"
    }
   ],
   "source": [
    "Rating_3a1=Rating_3a[0:5]\n",
    "Rating_3a1"
   ]
  },
  {
   "cell_type": "code",
   "execution_count": 48,
   "metadata": {},
   "outputs": [
    {
     "data": {
      "text/plain": [
       "['5', '5', '5', '5']"
      ]
     },
     "execution_count": 48,
     "metadata": {},
     "output_type": "execute_result"
    }
   ],
   "source": [
    "Rating_3a2=Rating_3a[5:9]\n",
    "Rating_3a2"
   ]
  },
  {
   "cell_type": "markdown",
   "metadata": {},
   "source": [
    "1.From the above we can see that we are missing a value. \n",
    "  which means the code did not fetch on of the rating input. \n",
    "  Thus we will check the page 3 for any change of xpath.\n",
    "\n",
    "2.On checking the rating values we could see that one of the arting tag has a different class. \n",
    "  So we will now extract the data from that class and then we will add it to the existing list."
   ]
  },
  {
   "cell_type": "code",
   "execution_count": 39,
   "metadata": {},
   "outputs": [],
   "source": [
    "Rating_tag3b=driver.find_elements_by_xpath(\"//div[@class='_3LWZlK _1rdVr6 _1BLPMq']\")\n",
    "Rating_3b=[]\n",
    "for i in Rating_tag3b:\n",
    "    Ratingtag3b=i.text\n",
    "    Rating_3b.append(Ratingtag3b)"
   ]
  },
  {
   "cell_type": "code",
   "execution_count": 40,
   "metadata": {},
   "outputs": [
    {
     "name": "stdout",
     "output_type": "stream",
     "text": [
      "1\n"
     ]
    }
   ],
   "source": [
    "print(len(Rating_3b))"
   ]
  },
  {
   "cell_type": "code",
   "execution_count": 49,
   "metadata": {},
   "outputs": [
    {
     "data": {
      "text/plain": [
       "['5', '5', '5', '5', '4', '1', '5', '5', '5', '5']"
      ]
     },
     "execution_count": 49,
     "metadata": {},
     "output_type": "execute_result"
    }
   ],
   "source": [
    "Rating_3=Rating_3a1+Rating_3b+Rating_3a2\n",
    "Rating_3"
   ]
  },
  {
   "cell_type": "markdown",
   "metadata": {},
   "source": [
    "From the above we cann see that the Rating tag is placed exactly in its place."
   ]
  },
  {
   "cell_type": "code",
   "execution_count": 50,
   "metadata": {},
   "outputs": [
    {
     "name": "stdout",
     "output_type": "stream",
     "text": [
      "10\n"
     ]
    }
   ],
   "source": [
    "print(len(Rating_3))"
   ]
  },
  {
   "cell_type": "code",
   "execution_count": 18,
   "metadata": {},
   "outputs": [],
   "source": [
    "#clicking on the next page no.4\n",
    "Next_page2=driver.find_element_by_xpath(\"//a [@href='/apple-iphone-11-black-64-gb-includes-earpods-power-adapter/product-reviews/itm0f37c2240b217?pid=MOBFKCTSVZAXUHGR&lid=LSTMOBFKCTSVZAXUHGREPBFGI&marketplace=FLIPKART&page=4']\")\n",
    "Next_page2.click()"
   ]
  },
  {
   "cell_type": "code",
   "execution_count": 19,
   "metadata": {},
   "outputs": [],
   "source": [
    "#fetching the rating,review summary and full review from page 4\n",
    "Rating_tag4=driver.find_elements_by_xpath(\"//div[@class='_3LWZlK _1BLPMq']\")\n",
    "Rating_4=[]\n",
    "for i in Rating_tag4:\n",
    "    Ratingtag4=i.text\n",
    "    Rating_4.append(Ratingtag4)\n",
    "\n",
    "Review_summary_tag4=driver.find_elements_by_xpath(\"//p[@class='_2-N8zT']\")\n",
    "Review_summary_4=[]\n",
    "for i in Review_summary_tag4:\n",
    "    Reviewsummary4=i.text\n",
    "    Review_summary_4.append(Reviewsummary4)\n",
    "\n",
    "Full_review_tag4=driver.find_elements_by_xpath(\"//div[@class='t-ZTKy']\")\n",
    "Full_review_4=[]\n",
    "for i in Full_review_tag4:\n",
    "    Fullreview4=i.text\n",
    "    Full_review_4.append(Fullreview4)"
   ]
  },
  {
   "cell_type": "code",
   "execution_count": 20,
   "metadata": {},
   "outputs": [],
   "source": [
    "#clicking on the next page no.5\n",
    "Next_page2=driver.find_element_by_xpath(\"//a [@href='/apple-iphone-11-black-64-gb-includes-earpods-power-adapter/product-reviews/itm0f37c2240b217?pid=MOBFKCTSVZAXUHGR&lid=LSTMOBFKCTSVZAXUHGREPBFGI&marketplace=FLIPKART&page=5']\")\n",
    "Next_page2.click()"
   ]
  },
  {
   "cell_type": "code",
   "execution_count": 21,
   "metadata": {},
   "outputs": [],
   "source": [
    "#fetching the rating,review summary and full review from page 5\n",
    "Rating_tag5=driver.find_elements_by_xpath(\"//div[@class='_3LWZlK _1BLPMq']\")\n",
    "Rating_5=[]\n",
    "for i in Rating_tag5:\n",
    "    Ratingtag5=i.text\n",
    "    Rating_5.append(Ratingtag5)\n",
    "\n",
    "Review_summary_tag5=driver.find_elements_by_xpath(\"//p[@class='_2-N8zT']\")\n",
    "Review_summary_5=[]\n",
    "for i in Review_summary_tag5:\n",
    "    Reviewsummary5=i.text\n",
    "    Review_summary_5.append(Reviewsummary5)\n",
    "\n",
    "Full_review_tag5=driver.find_elements_by_xpath(\"//div[@class='t-ZTKy']\")\n",
    "Full_review_5=[]\n",
    "for i in Full_review_tag5:\n",
    "    Fullreview5=i.text\n",
    "    Full_review_5.append(Fullreview5)"
   ]
  },
  {
   "cell_type": "code",
   "execution_count": 22,
   "metadata": {},
   "outputs": [],
   "source": [
    "#clicking on the next page no.6\n",
    "Next_page2=driver.find_element_by_xpath(\"//a [@href='/apple-iphone-11-black-64-gb-includes-earpods-power-adapter/product-reviews/itm0f37c2240b217?pid=MOBFKCTSVZAXUHGR&lid=LSTMOBFKCTSVZAXUHGREPBFGI&marketplace=FLIPKART&page=6']\")\n",
    "Next_page2.click()"
   ]
  },
  {
   "cell_type": "code",
   "execution_count": 23,
   "metadata": {},
   "outputs": [],
   "source": [
    "#fetching the rating,review summary and full review from page 6\n",
    "Rating_tag6=driver.find_elements_by_xpath(\"//div[@class='_3LWZlK _1BLPMq']\")\n",
    "Rating_6=[]\n",
    "for i in Rating_tag6:\n",
    "    Ratingtag6=i.text\n",
    "    Rating_6.append(Ratingtag6)\n",
    "\n",
    "Review_summary_tag6=driver.find_elements_by_xpath(\"//p[@class='_2-N8zT']\")\n",
    "Review_summary_6=[]\n",
    "for i in Review_summary_tag6:\n",
    "    Reviewsummary6=i.text\n",
    "    Review_summary_6.append(Reviewsummary6)\n",
    "\n",
    "Full_review_tag6=driver.find_elements_by_xpath(\"//div[@class='t-ZTKy']\")\n",
    "Full_review_6=[]\n",
    "for i in Full_review_tag6:\n",
    "    Fullreview6=i.text\n",
    "    Full_review_6.append(Fullreview6)"
   ]
  },
  {
   "cell_type": "code",
   "execution_count": 25,
   "metadata": {},
   "outputs": [],
   "source": [
    "#clicking on the next page no.7\n",
    "Next_page2=driver.find_element_by_xpath(\"//a [@href='/apple-iphone-11-black-64-gb-includes-earpods-power-adapter/product-reviews/itm0f37c2240b217?pid=MOBFKCTSVZAXUHGR&lid=LSTMOBFKCTSVZAXUHGREPBFGI&marketplace=FLIPKART&page=7']\")\n",
    "Next_page2.click()"
   ]
  },
  {
   "cell_type": "code",
   "execution_count": 26,
   "metadata": {},
   "outputs": [],
   "source": [
    "#fetching the rating,review summary and full review from page 7\n",
    "Rating_tag7=driver.find_elements_by_xpath(\"//div[@class='_3LWZlK _1BLPMq']\")\n",
    "Rating_7=[]\n",
    "for i in Rating_tag7:\n",
    "    Ratingtag7=i.text\n",
    "    Rating_7.append(Ratingtag7)\n",
    "\n",
    "Review_summary_tag7=driver.find_elements_by_xpath(\"//p[@class='_2-N8zT']\")\n",
    "Review_summary_7=[]\n",
    "for i in Review_summary_tag7:\n",
    "    Reviewsummary7=i.text\n",
    "    Review_summary_7.append(Reviewsummary7)\n",
    "\n",
    "Full_review_tag7=driver.find_elements_by_xpath(\"//div[@class='t-ZTKy']\")\n",
    "Full_review_7=[]\n",
    "for i in Full_review_tag7:\n",
    "    Fullreview7=i.text\n",
    "    Full_review_7.append(Fullreview7)"
   ]
  },
  {
   "cell_type": "code",
   "execution_count": 27,
   "metadata": {},
   "outputs": [],
   "source": [
    "#clicking on the next page no.8\n",
    "Next_page2=driver.find_element_by_xpath(\"//a [@href='/apple-iphone-11-black-64-gb-includes-earpods-power-adapter/product-reviews/itm0f37c2240b217?pid=MOBFKCTSVZAXUHGR&lid=LSTMOBFKCTSVZAXUHGREPBFGI&marketplace=FLIPKART&page=8']\")\n",
    "Next_page2.click()"
   ]
  },
  {
   "cell_type": "code",
   "execution_count": 28,
   "metadata": {},
   "outputs": [],
   "source": [
    "#fetching the rating,review summary and full review from page 8\n",
    "Rating_tag8=driver.find_elements_by_xpath(\"//div[@class='_3LWZlK _1BLPMq']\")\n",
    "Rating_8=[]\n",
    "for i in Rating_tag8:\n",
    "    Ratingtag8=i.text\n",
    "    Rating_8.append(Ratingtag8)\n",
    "\n",
    "Review_summary_tag8=driver.find_elements_by_xpath(\"//p[@class='_2-N8zT']\")\n",
    "Review_summary_8=[]\n",
    "for i in Review_summary_tag8:\n",
    "    Reviewsummary8=i.text\n",
    "    Review_summary_8.append(Reviewsummary8)\n",
    "\n",
    "Full_review_tag8=driver.find_elements_by_xpath(\"//div[@class='t-ZTKy']\")\n",
    "Full_review_8=[]\n",
    "for i in Full_review_tag8:\n",
    "    Fullreview8=i.text\n",
    "    Full_review_8.append(Fullreview8)"
   ]
  },
  {
   "cell_type": "code",
   "execution_count": 29,
   "metadata": {},
   "outputs": [],
   "source": [
    "#clicking on the next page no.9\n",
    "Next_page2=driver.find_element_by_xpath(\"//a [@href='/apple-iphone-11-black-64-gb-includes-earpods-power-adapter/product-reviews/itm0f37c2240b217?pid=MOBFKCTSVZAXUHGR&lid=LSTMOBFKCTSVZAXUHGREPBFGI&marketplace=FLIPKART&page=9']\")\n",
    "Next_page2.click()"
   ]
  },
  {
   "cell_type": "code",
   "execution_count": 30,
   "metadata": {},
   "outputs": [],
   "source": [
    "#fetching the rating,review summary and full review from page 9\n",
    "Rating_tag9=driver.find_elements_by_xpath(\"//div[@class='_3LWZlK _1BLPMq']\")\n",
    "Rating_9=[]\n",
    "for i in Rating_tag9:\n",
    "    Ratingtag9=i.text\n",
    "    Rating_9.append(Ratingtag9)\n",
    "\n",
    "Review_summary_tag9=driver.find_elements_by_xpath(\"//p[@class='_2-N8zT']\")\n",
    "Review_summary_9=[]\n",
    "for i in Review_summary_tag9:\n",
    "    Reviewsummary9=i.text\n",
    "    Review_summary_9.append(Reviewsummary9)\n",
    "\n",
    "Full_review_tag9=driver.find_elements_by_xpath(\"//div[@class='t-ZTKy']\")\n",
    "Full_review_9=[]\n",
    "for i in Full_review_tag9:\n",
    "    Fullreview9=i.text\n",
    "    Full_review_9.append(Fullreview9)"
   ]
  },
  {
   "cell_type": "code",
   "execution_count": 31,
   "metadata": {},
   "outputs": [],
   "source": [
    "#clicking on the next page no.10\n",
    "Next_page2=driver.find_element_by_xpath(\"//a [@href='/apple-iphone-11-black-64-gb-includes-earpods-power-adapter/product-reviews/itm0f37c2240b217?pid=MOBFKCTSVZAXUHGR&lid=LSTMOBFKCTSVZAXUHGREPBFGI&marketplace=FLIPKART&page=10']\")\n",
    "Next_page2.click()"
   ]
  },
  {
   "cell_type": "code",
   "execution_count": 32,
   "metadata": {},
   "outputs": [],
   "source": [
    "#fetching the rating,review summary and full review from page 10\n",
    "Rating_tag10=driver.find_elements_by_xpath(\"//div[@class='_3LWZlK _1BLPMq']\")\n",
    "Rating_10=[]\n",
    "for i in Rating_tag10:\n",
    "    Ratingtag10=i.text\n",
    "    Rating_10.append(Ratingtag10)\n",
    "\n",
    "Review_summary_tag10=driver.find_elements_by_xpath(\"//p[@class='_2-N8zT']\")\n",
    "Review_summary_10=[]\n",
    "for i in Review_summary_tag10:\n",
    "    Reviewsummary10=i.text\n",
    "    Review_summary_10.append(Reviewsummary10)\n",
    "\n",
    "Full_review_tag10=driver.find_elements_by_xpath(\"//div[@class='t-ZTKy']\")\n",
    "Full_review_10=[]\n",
    "for i in Full_review_tag10:\n",
    "    Fullreview10=i.text\n",
    "    Full_review_10.append(Fullreview10)"
   ]
  },
  {
   "cell_type": "code",
   "execution_count": 51,
   "metadata": {},
   "outputs": [],
   "source": [
    "Rating0=Rating_1+Rating_2+Rating_3+Rating_4+Rating_5+Rating_6+Rating_7+Rating_8+Rating_9+Rating_10\n",
    "Review_summary0=Review_summary_1+Review_summary_2+Review_summary_3+Review_summary_4+Review_summary_5+Review_summary_6+Review_summary_7+Review_summary_8+Review_summary_9+Review_summary_10\n",
    "Full_review0=Full_review_1+Full_review_2+Full_review_3+Full_review_4+Full_review_5+Full_review_6+Full_review_7+Full_review_8+Full_review_9+Full_review_10"
   ]
  },
  {
   "cell_type": "code",
   "execution_count": 52,
   "metadata": {},
   "outputs": [
    {
     "name": "stdout",
     "output_type": "stream",
     "text": [
      "100 100 100\n"
     ]
    }
   ],
   "source": [
    "print(len(Rating0),len(Review_summary0),len(Full_review0))"
   ]
  },
  {
   "cell_type": "code",
   "execution_count": 53,
   "metadata": {},
   "outputs": [],
   "source": [
    "#creating a data frame.\n",
    "Reviews_for_iphone11=pd.DataFrame({})\n",
    "Reviews_for_iphone11['Rating'] = Rating0[0:100]\n",
    "Reviews_for_iphone11['Review_summary'] = Review_summary0[0:100]\n",
    "Reviews_for_iphone11['Full_review'] = Full_review0[0:100]"
   ]
  },
  {
   "cell_type": "code",
   "execution_count": 54,
   "metadata": {},
   "outputs": [
    {
     "data": {
      "text/html": [
       "<div>\n",
       "<style scoped>\n",
       "    .dataframe tbody tr th:only-of-type {\n",
       "        vertical-align: middle;\n",
       "    }\n",
       "\n",
       "    .dataframe tbody tr th {\n",
       "        vertical-align: top;\n",
       "    }\n",
       "\n",
       "    .dataframe thead th {\n",
       "        text-align: right;\n",
       "    }\n",
       "</style>\n",
       "<table border=\"1\" class=\"dataframe\">\n",
       "  <thead>\n",
       "    <tr style=\"text-align: right;\">\n",
       "      <th></th>\n",
       "      <th>Rating</th>\n",
       "      <th>Review_summary</th>\n",
       "      <th>Full_review</th>\n",
       "    </tr>\n",
       "  </thead>\n",
       "  <tbody>\n",
       "    <tr>\n",
       "      <th>0</th>\n",
       "      <td>5</td>\n",
       "      <td>Brilliant</td>\n",
       "      <td>The Best Phone for the Money\\n\\nThe iPhone 11 ...</td>\n",
       "    </tr>\n",
       "    <tr>\n",
       "      <th>1</th>\n",
       "      <td>5</td>\n",
       "      <td>Perfect product!</td>\n",
       "      <td>Amazing phone with great cameras and better ba...</td>\n",
       "    </tr>\n",
       "    <tr>\n",
       "      <th>2</th>\n",
       "      <td>5</td>\n",
       "      <td>Worth every penny</td>\n",
       "      <td>Previously I was using one plus 3t it was a gr...</td>\n",
       "    </tr>\n",
       "    <tr>\n",
       "      <th>3</th>\n",
       "      <td>5</td>\n",
       "      <td>Great product</td>\n",
       "      <td>Amazing Powerful and Durable Gadget.\\n\\nI’m am...</td>\n",
       "    </tr>\n",
       "    <tr>\n",
       "      <th>4</th>\n",
       "      <td>5</td>\n",
       "      <td>Highly recommended</td>\n",
       "      <td>iphone 11 is a very good phone to buy only if ...</td>\n",
       "    </tr>\n",
       "    <tr>\n",
       "      <th>...</th>\n",
       "      <td>...</td>\n",
       "      <td>...</td>\n",
       "      <td>...</td>\n",
       "    </tr>\n",
       "    <tr>\n",
       "      <th>95</th>\n",
       "      <td>5</td>\n",
       "      <td>Fabulous!</td>\n",
       "      <td>Everything is perfect pictures come out so cle...</td>\n",
       "    </tr>\n",
       "    <tr>\n",
       "      <th>96</th>\n",
       "      <td>5</td>\n",
       "      <td>Wonderful</td>\n",
       "      <td>Nice value for money good and best price I pho...</td>\n",
       "    </tr>\n",
       "    <tr>\n",
       "      <th>97</th>\n",
       "      <td>5</td>\n",
       "      <td>Terrific</td>\n",
       "      <td>I got this beast today. And I must say the pic...</td>\n",
       "    </tr>\n",
       "    <tr>\n",
       "      <th>98</th>\n",
       "      <td>5</td>\n",
       "      <td>Worth every penny</td>\n",
       "      <td>iPhone is delivered on time. Display is great ...</td>\n",
       "    </tr>\n",
       "    <tr>\n",
       "      <th>99</th>\n",
       "      <td>5</td>\n",
       "      <td>Must buy!</td>\n",
       "      <td>I will just say its an awesome phone. Starting...</td>\n",
       "    </tr>\n",
       "  </tbody>\n",
       "</table>\n",
       "<p>100 rows × 3 columns</p>\n",
       "</div>"
      ],
      "text/plain": [
       "   Rating      Review_summary  \\\n",
       "0       5           Brilliant   \n",
       "1       5    Perfect product!   \n",
       "2       5   Worth every penny   \n",
       "3       5       Great product   \n",
       "4       5  Highly recommended   \n",
       "..    ...                 ...   \n",
       "95      5           Fabulous!   \n",
       "96      5           Wonderful   \n",
       "97      5            Terrific   \n",
       "98      5   Worth every penny   \n",
       "99      5           Must buy!   \n",
       "\n",
       "                                          Full_review  \n",
       "0   The Best Phone for the Money\\n\\nThe iPhone 11 ...  \n",
       "1   Amazing phone with great cameras and better ba...  \n",
       "2   Previously I was using one plus 3t it was a gr...  \n",
       "3   Amazing Powerful and Durable Gadget.\\n\\nI’m am...  \n",
       "4   iphone 11 is a very good phone to buy only if ...  \n",
       "..                                                ...  \n",
       "95  Everything is perfect pictures come out so cle...  \n",
       "96  Nice value for money good and best price I pho...  \n",
       "97  I got this beast today. And I must say the pic...  \n",
       "98  iPhone is delivered on time. Display is great ...  \n",
       "99  I will just say its an awesome phone. Starting...  \n",
       "\n",
       "[100 rows x 3 columns]"
      ]
     },
     "execution_count": 54,
     "metadata": {},
     "output_type": "execute_result"
    }
   ],
   "source": [
    "Reviews_for_iphone11"
   ]
  },
  {
   "cell_type": "code",
   "execution_count": null,
   "metadata": {},
   "outputs": [],
   "source": []
  }
 ],
 "metadata": {
  "kernelspec": {
   "display_name": "Python 3",
   "language": "python",
   "name": "python3"
  },
  "language_info": {
   "codemirror_mode": {
    "name": "ipython",
    "version": 3
   },
   "file_extension": ".py",
   "mimetype": "text/x-python",
   "name": "python",
   "nbconvert_exporter": "python",
   "pygments_lexer": "ipython3",
   "version": "3.8.3"
  }
 },
 "nbformat": 4,
 "nbformat_minor": 4
}
