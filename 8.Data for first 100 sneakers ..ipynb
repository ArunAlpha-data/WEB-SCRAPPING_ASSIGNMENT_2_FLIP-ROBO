{
 "cells": [
  {
   "cell_type": "markdown",
   "metadata": {},
   "source": [
    "# OBJECTIVE :\n",
    "    \n",
    "    \n",
    "       To Scrape data for first 100 sneakers you find when you visit flipkart.com and search for “sneakers” in the search field."
   ]
  },
  {
   "cell_type": "code",
   "execution_count": 1,
   "metadata": {},
   "outputs": [],
   "source": [
    "# importing required libraries.\n",
    "import pandas as pd\n",
    "import selenium\n",
    "from selenium import webdriver"
   ]
  },
  {
   "cell_type": "code",
   "execution_count": 2,
   "metadata": {},
   "outputs": [],
   "source": [
    "#connecting the web driver.\n",
    "driver=webdriver.Chrome(r'C:\\Program Files (x86)\\chromedriver_win32\\chromedriver.exe')"
   ]
  },
  {
   "cell_type": "code",
   "execution_count": 4,
   "metadata": {},
   "outputs": [],
   "source": [
    "driver.get('https://www.flipkart.com')"
   ]
  },
  {
   "cell_type": "code",
   "execution_count": 5,
   "metadata": {},
   "outputs": [],
   "source": [
    "#Closing the popup \n",
    "popup_close=driver.find_element_by_xpath(\"//button[@class='_2KpZ6l _2doB4z']\")\n",
    "popup_close.click()"
   ]
  },
  {
   "cell_type": "code",
   "execution_count": 6,
   "metadata": {},
   "outputs": [],
   "source": [
    "#finding and filling the product and searching using automation.\n",
    "search_product = driver.find_element_by_xpath(\"//input[@class='_3704LK']\")\n",
    "search_product.send_keys('sneakers')"
   ]
  },
  {
   "cell_type": "code",
   "execution_count": 7,
   "metadata": {},
   "outputs": [],
   "source": [
    "search_button=driver.find_element_by_xpath(\"//button[@class='L0Z3Pu']\")\n",
    "search_button.click()"
   ]
  },
  {
   "cell_type": "code",
   "execution_count": 8,
   "metadata": {},
   "outputs": [],
   "source": [
    "#creating the list\n",
    "Brand=[]\n",
    "Product_Discription=[]\n",
    "Price=[]\n",
    "Discount=[]"
   ]
  },
  {
   "cell_type": "code",
   "execution_count": 10,
   "metadata": {},
   "outputs": [],
   "source": [
    "#fetching the BRAND,Product_Discription,Price and Discount from page 1 and checking the output\n",
    "Brand_tag1=driver.find_elements_by_xpath(\"//div[@class='_2WkVRV']\")\n",
    "Brand_1=[]\n",
    "for i in Brand_tag1:\n",
    "    brandtag1=i.text\n",
    "    Brand_1.append(brandtag1)\n",
    "\n",
    "Prod_dis1=driver.find_elements_by_xpath(\"//a[@class='IRpwTa']\")\n",
    "Prod_dis_1=[]\n",
    "for i in Prod_dis1:\n",
    "    Proddis=i.text\n",
    "    Prod_dis_1.append(Proddis)\n",
    "\n",
    "Price1=driver.find_elements_by_xpath(\"//div[@class='_30jeq3']\")\n",
    "Price_1=[]\n",
    "for i in Price1:\n",
    "    Prices1=i.text\n",
    "    Price_1.append(Prices1)\n",
    "\n",
    "Dis1=driver.find_elements_by_xpath(\"//div[@class='_3Ay6Sb']\")\n",
    "Dis_1=[]\n",
    "for i in Dis1:\n",
    "    disc1=i.text\n",
    "    Dis_1.append(disc1)"
   ]
  },
  {
   "cell_type": "code",
   "execution_count": 12,
   "metadata": {},
   "outputs": [],
   "source": [
    "#clicking on the next page no.2\n",
    "Next_page2=driver.find_element_by_xpath(\"//a [@href='/search?q=sneakers&otracker=search&otracker1=search&marketplace=FLIPKART&as-show=on&as=off&page=2']\")\n",
    "Next_page2.click()"
   ]
  },
  {
   "cell_type": "code",
   "execution_count": 15,
   "metadata": {},
   "outputs": [],
   "source": [
    "#fetching the BRAND,Product_Discription,Price and Discount from page 2 \n",
    "Brand_tag2=driver.find_elements_by_xpath(\"//div[@class='_2WkVRV']\")\n",
    "Brand_2=[]\n",
    "for i in Brand_tag2:\n",
    "    brandtag2=i.text\n",
    "    Brand_2.append(brandtag2)\n",
    "\n",
    "Prod_dis2=driver.find_elements_by_xpath(\"//a[@class='IRpwTa']\")\n",
    "Prod_dis_2=[]\n",
    "for i in Prod_dis2:\n",
    "    Proddis2=i.text\n",
    "    Prod_dis_2.append(Proddis2)\n",
    "\n",
    "Price2=driver.find_elements_by_xpath(\"//div[@class='_30jeq3']\")\n",
    "Price_2=[]\n",
    "for i in Price2:\n",
    "    Prices2=i.text\n",
    "    Price_2.append(Prices2)\n",
    "\n",
    "Dis2=driver.find_elements_by_xpath(\"//div[@class='_3Ay6Sb']\")\n",
    "Dis_2=[]\n",
    "for i in Dis2:\n",
    "    disc2=i.text\n",
    "    Dis_2.append(disc2)"
   ]
  },
  {
   "cell_type": "code",
   "execution_count": 14,
   "metadata": {},
   "outputs": [],
   "source": [
    "#clicking on the next page no.3\n",
    "Next_page2=driver.find_element_by_xpath(\"//a [@href='/search?q=sneakers&otracker=search&otracker1=search&marketplace=FLIPKART&as-show=on&as=off&page=3']\")\n",
    "Next_page2.click()"
   ]
  },
  {
   "cell_type": "code",
   "execution_count": 16,
   "metadata": {},
   "outputs": [],
   "source": [
    "#fetching the BRAND,Product_Discription,Price and Discount from page 3 \n",
    "Brand_tag3=driver.find_elements_by_xpath(\"//div[@class='_2WkVRV']\")\n",
    "Brand_3=[]\n",
    "for i in Brand_tag3:\n",
    "    brandtag3=i.text\n",
    "    Brand_3.append(brandtag3)\n",
    "\n",
    "Prod_dis3=driver.find_elements_by_xpath(\"//a[@class='IRpwTa']\")\n",
    "Prod_dis_3=[]\n",
    "for i in Prod_dis3:\n",
    "    Proddis3=i.text\n",
    "    Prod_dis_3.append(Proddis3)\n",
    "\n",
    "Price3=driver.find_elements_by_xpath(\"//div[@class='_30jeq3']\")\n",
    "Price_3=[]\n",
    "for i in Price3:\n",
    "    Prices3=i.text\n",
    "    Price_3.append(Prices3)\n",
    "\n",
    "Dis3=driver.find_elements_by_xpath(\"//div[@class='_3Ay6Sb']\")\n",
    "Dis_3=[]\n",
    "for i in Dis3:\n",
    "    disc3=i.text\n",
    "    Dis_3.append(disc3)"
   ]
  },
  {
   "cell_type": "code",
   "execution_count": 24,
   "metadata": {},
   "outputs": [],
   "source": [
    "#clicking on the next page no.4\n",
    "Next_page2=driver.find_element_by_xpath(\"//a [@href='/search?q=sneakers&otracker=search&otracker1=search&marketplace=FLIPKART&as-show=on&as=off&page=4']\")\n",
    "Next_page2.click()"
   ]
  },
  {
   "cell_type": "code",
   "execution_count": 25,
   "metadata": {},
   "outputs": [],
   "source": [
    "#fetching the BRAND,Product_Discription,Price and Discount from page 4 \n",
    "Brand_tag4=driver.find_elements_by_xpath(\"//div[@class='_2WkVRV']\")\n",
    "Brand_4=[]\n",
    "for i in Brand_tag4:\n",
    "    brandtag4=i.text\n",
    "    Brand_4.append(brandtag4)\n",
    "\n",
    "Prod_dis4=driver.find_elements_by_xpath(\"//a[@class='IRpwTa']\")\n",
    "Prod_dis_4=[]\n",
    "for i in Prod_dis4:\n",
    "    Proddis4=i.text\n",
    "    Prod_dis_4.append(Proddis4)\n",
    "\n",
    "Price4=driver.find_elements_by_xpath(\"//div[@class='_30jeq3']\")\n",
    "Price_4=[]\n",
    "for i in Price4:\n",
    "    Prices4=i.text\n",
    "    Price_4.append(Prices4)\n",
    "\n",
    "Dis4=driver.find_elements_by_xpath(\"//div[@class='_3Ay6Sb']\")\n",
    "Dis_4=[]\n",
    "for i in Dis4:\n",
    "    disc4=i.text\n",
    "    Dis_4.append(disc4)"
   ]
  },
  {
   "cell_type": "code",
   "execution_count": 26,
   "metadata": {},
   "outputs": [],
   "source": [
    "Brand=Brand_1+Brand_2+Brand_3+Brand_4\n",
    "Product_Discription=Prod_dis_1+Prod_dis_2+Prod_dis_3+Prod_dis_4\n",
    "Price=Price_1+Price_2+Price_3+Price_4\n",
    "Discount=Dis_1+Dis_2+Dis_3+Dis_4"
   ]
  },
  {
   "cell_type": "code",
   "execution_count": 27,
   "metadata": {},
   "outputs": [],
   "source": [
    "#creating a data frame.\n",
    "Data_sneakers=pd.DataFrame({})\n",
    "Data_sneakers['Brand'] = Brand[0:100]\n",
    "Data_sneakers['Product_Discription'] = Product_Discription[0:100]\n",
    "Data_sneakers['Price'] = Price[0:100]\n",
    "Data_sneakers['Discount'] = Discount[0:100]"
   ]
  },
  {
   "cell_type": "code",
   "execution_count": 28,
   "metadata": {},
   "outputs": [
    {
     "data": {
      "text/html": [
       "<div>\n",
       "<style scoped>\n",
       "    .dataframe tbody tr th:only-of-type {\n",
       "        vertical-align: middle;\n",
       "    }\n",
       "\n",
       "    .dataframe tbody tr th {\n",
       "        vertical-align: top;\n",
       "    }\n",
       "\n",
       "    .dataframe thead th {\n",
       "        text-align: right;\n",
       "    }\n",
       "</style>\n",
       "<table border=\"1\" class=\"dataframe\">\n",
       "  <thead>\n",
       "    <tr style=\"text-align: right;\">\n",
       "      <th></th>\n",
       "      <th>Brand</th>\n",
       "      <th>Product_Discription</th>\n",
       "      <th>Price</th>\n",
       "      <th>Discount</th>\n",
       "    </tr>\n",
       "  </thead>\n",
       "  <tbody>\n",
       "    <tr>\n",
       "      <th>0</th>\n",
       "      <td>French Connection</td>\n",
       "      <td>Sneakers For Men</td>\n",
       "      <td>₹680</td>\n",
       "      <td>65% off</td>\n",
       "    </tr>\n",
       "    <tr>\n",
       "      <th>1</th>\n",
       "      <td>Chevit</td>\n",
       "      <td>Men's Combo Pack of 02 Shoes for Men Casual Sn...</td>\n",
       "      <td>₹420</td>\n",
       "      <td>57% off</td>\n",
       "    </tr>\n",
       "    <tr>\n",
       "      <th>2</th>\n",
       "      <td>Chevit</td>\n",
       "      <td>Perfect &amp; Affordable Combo Pack of 02 Pairs Sn...</td>\n",
       "      <td>₹499</td>\n",
       "      <td>72% off</td>\n",
       "    </tr>\n",
       "    <tr>\n",
       "      <th>3</th>\n",
       "      <td>Robbie jones</td>\n",
       "      <td>Casual Sneakers Shoes For Men Sneakers For Men</td>\n",
       "      <td>₹379</td>\n",
       "      <td>62% off</td>\n",
       "    </tr>\n",
       "    <tr>\n",
       "      <th>4</th>\n",
       "      <td>Chevit</td>\n",
       "      <td>Super &amp; Trendy Men's Pack of 02 Pair Shoes for...</td>\n",
       "      <td>₹420</td>\n",
       "      <td>78% off</td>\n",
       "    </tr>\n",
       "    <tr>\n",
       "      <th>...</th>\n",
       "      <td>...</td>\n",
       "      <td>...</td>\n",
       "      <td>...</td>\n",
       "      <td>...</td>\n",
       "    </tr>\n",
       "    <tr>\n",
       "      <th>95</th>\n",
       "      <td>\"trend\"</td>\n",
       "      <td>Sneakers For Men</td>\n",
       "      <td>₹449</td>\n",
       "      <td>28% off</td>\n",
       "    </tr>\n",
       "    <tr>\n",
       "      <th>96</th>\n",
       "      <td>SPARX</td>\n",
       "      <td>Sneakers For Men</td>\n",
       "      <td>₹965</td>\n",
       "      <td>67% off</td>\n",
       "    </tr>\n",
       "    <tr>\n",
       "      <th>97</th>\n",
       "      <td>Chevit</td>\n",
       "      <td>Casual Sneaker Sneakers For Men</td>\n",
       "      <td>₹799</td>\n",
       "      <td>71% off</td>\n",
       "    </tr>\n",
       "    <tr>\n",
       "      <th>98</th>\n",
       "      <td>Jokatoo</td>\n",
       "      <td>Combo Pack of 2 Latest Collection Stylish Casu...</td>\n",
       "      <td>₹432</td>\n",
       "      <td>60% off</td>\n",
       "    </tr>\n",
       "    <tr>\n",
       "      <th>99</th>\n",
       "      <td>VORII</td>\n",
       "      <td>Lightweight Combo Pack of 02 Trendy Sneakers C...</td>\n",
       "      <td>₹399</td>\n",
       "      <td>60% off</td>\n",
       "    </tr>\n",
       "  </tbody>\n",
       "</table>\n",
       "<p>100 rows × 4 columns</p>\n",
       "</div>"
      ],
      "text/plain": [
       "                Brand                                Product_Discription  \\\n",
       "0   French Connection                                   Sneakers For Men   \n",
       "1              Chevit  Men's Combo Pack of 02 Shoes for Men Casual Sn...   \n",
       "2              Chevit  Perfect & Affordable Combo Pack of 02 Pairs Sn...   \n",
       "3        Robbie jones     Casual Sneakers Shoes For Men Sneakers For Men   \n",
       "4              Chevit  Super & Trendy Men's Pack of 02 Pair Shoes for...   \n",
       "..                ...                                                ...   \n",
       "95            \"trend\"                                   Sneakers For Men   \n",
       "96              SPARX                                   Sneakers For Men   \n",
       "97             Chevit                    Casual Sneaker Sneakers For Men   \n",
       "98            Jokatoo  Combo Pack of 2 Latest Collection Stylish Casu...   \n",
       "99              VORII  Lightweight Combo Pack of 02 Trendy Sneakers C...   \n",
       "\n",
       "   Price Discount  \n",
       "0   ₹680  65% off  \n",
       "1   ₹420  57% off  \n",
       "2   ₹499  72% off  \n",
       "3   ₹379  62% off  \n",
       "4   ₹420  78% off  \n",
       "..   ...      ...  \n",
       "95  ₹449  28% off  \n",
       "96  ₹965  67% off  \n",
       "97  ₹799  71% off  \n",
       "98  ₹432  60% off  \n",
       "99  ₹399  60% off  \n",
       "\n",
       "[100 rows x 4 columns]"
      ]
     },
     "execution_count": 28,
     "metadata": {},
     "output_type": "execute_result"
    }
   ],
   "source": [
    "Data_sneakers"
   ]
  },
  {
   "cell_type": "code",
   "execution_count": null,
   "metadata": {},
   "outputs": [],
   "source": []
  }
 ],
 "metadata": {
  "kernelspec": {
   "display_name": "Python 3",
   "language": "python",
   "name": "python3"
  },
  "language_info": {
   "codemirror_mode": {
    "name": "ipython",
    "version": 3
   },
   "file_extension": ".py",
   "mimetype": "text/x-python",
   "name": "python",
   "nbconvert_exporter": "python",
   "pygments_lexer": "ipython3",
   "version": "3.8.3"
  }
 },
 "nbformat": 4,
 "nbformat_minor": 4
}
