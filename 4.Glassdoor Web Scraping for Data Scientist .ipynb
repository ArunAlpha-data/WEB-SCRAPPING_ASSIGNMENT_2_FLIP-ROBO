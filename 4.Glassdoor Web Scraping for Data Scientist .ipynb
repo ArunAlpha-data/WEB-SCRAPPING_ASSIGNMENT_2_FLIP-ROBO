{
 "cells": [
  {
   "cell_type": "code",
   "execution_count": 1,
   "metadata": {},
   "outputs": [],
   "source": [
    "#importing required libraries.\n",
    "import pandas as pd\n",
    "import selenium\n",
    "from selenium import webdriver"
   ]
  },
  {
   "cell_type": "code",
   "execution_count": 2,
   "metadata": {},
   "outputs": [],
   "source": [
    "#connecting the web driver.\n",
    "driver = webdriver.Firefox(executable_path=r'C:\\Program Files (x86)\\geckodriver-v0.29.0-win64\\geckodriver.exe')"
   ]
  },
  {
   "cell_type": "code",
   "execution_count": 3,
   "metadata": {},
   "outputs": [],
   "source": [
    "driver.get('https://www.glassdoor.co.in/sitedirectory/title-jobs.htm')"
   ]
  },
  {
   "cell_type": "code",
   "execution_count": 4,
   "metadata": {},
   "outputs": [],
   "source": [
    "#finding and filling the title and location of the required job using automation.\n",
    "search_job = driver.find_element_by_id('sc.keyword')\n",
    "search_job.send_keys('Data Scientist')\n",
    "search_loc = driver.find_element_by_id('sc.location')\n",
    "search_loc.send_keys('Noida')\n",
    "#finding and clicking the search button using automation.\n",
    "search_btn = driver.find_element_by_id('HeroSearchButton')\n",
    "search_btn.click()"
   ]
  },
  {
   "cell_type": "code",
   "execution_count": 5,
   "metadata": {},
   "outputs": [],
   "source": [
    "#creating the list.\n",
    "Comapany_name=[]\n",
    "No_of_days_ago=[]\n",
    "Rating=[]"
   ]
  },
  {
   "cell_type": "code",
   "execution_count": 12,
   "metadata": {},
   "outputs": [
    {
     "data": {
      "text/plain": [
       "[<selenium.webdriver.firefox.webelement.FirefoxWebElement (session=\"1e75a7b3-4c63-4e0c-b56b-7c3562f39a8b\", element=\"43a7898e-741e-4d26-a220-cdd32b1570c5\")>,\n",
       " <selenium.webdriver.firefox.webelement.FirefoxWebElement (session=\"1e75a7b3-4c63-4e0c-b56b-7c3562f39a8b\", element=\"1be16c98-f1be-43fc-8fa8-75ad7b616b58\")>,\n",
       " <selenium.webdriver.firefox.webelement.FirefoxWebElement (session=\"1e75a7b3-4c63-4e0c-b56b-7c3562f39a8b\", element=\"5bb556d2-3715-4cda-9a13-4f2908748f81\")>,\n",
       " <selenium.webdriver.firefox.webelement.FirefoxWebElement (session=\"1e75a7b3-4c63-4e0c-b56b-7c3562f39a8b\", element=\"90f2196c-e905-477e-8853-dc78ede01781\")>,\n",
       " <selenium.webdriver.firefox.webelement.FirefoxWebElement (session=\"1e75a7b3-4c63-4e0c-b56b-7c3562f39a8b\", element=\"9b2288fe-f0d1-486b-a20c-65b749613cc9\")>,\n",
       " <selenium.webdriver.firefox.webelement.FirefoxWebElement (session=\"1e75a7b3-4c63-4e0c-b56b-7c3562f39a8b\", element=\"6a7d1839-2f00-4214-aed5-db47d549904f\")>,\n",
       " <selenium.webdriver.firefox.webelement.FirefoxWebElement (session=\"1e75a7b3-4c63-4e0c-b56b-7c3562f39a8b\", element=\"80ca3fb6-2334-44c5-bf77-203403eade58\")>,\n",
       " <selenium.webdriver.firefox.webelement.FirefoxWebElement (session=\"1e75a7b3-4c63-4e0c-b56b-7c3562f39a8b\", element=\"f1f7896b-397c-474c-bc56-2e5f88df0661\")>,\n",
       " <selenium.webdriver.firefox.webelement.FirefoxWebElement (session=\"1e75a7b3-4c63-4e0c-b56b-7c3562f39a8b\", element=\"85438329-df90-4d55-ac3c-52c3857a6651\")>,\n",
       " <selenium.webdriver.firefox.webelement.FirefoxWebElement (session=\"1e75a7b3-4c63-4e0c-b56b-7c3562f39a8b\", element=\"098f3fc4-f1b9-490c-b530-7c3ba4c023bf\")>,\n",
       " <selenium.webdriver.firefox.webelement.FirefoxWebElement (session=\"1e75a7b3-4c63-4e0c-b56b-7c3562f39a8b\", element=\"1d058be4-50f2-4e88-a162-f9b5d84ddd9f\")>,\n",
       " <selenium.webdriver.firefox.webelement.FirefoxWebElement (session=\"1e75a7b3-4c63-4e0c-b56b-7c3562f39a8b\", element=\"471b86db-7928-4772-887f-50f5deaaed30\")>,\n",
       " <selenium.webdriver.firefox.webelement.FirefoxWebElement (session=\"1e75a7b3-4c63-4e0c-b56b-7c3562f39a8b\", element=\"538cf5c6-ae27-4398-956b-2a775d6b4da7\")>,\n",
       " <selenium.webdriver.firefox.webelement.FirefoxWebElement (session=\"1e75a7b3-4c63-4e0c-b56b-7c3562f39a8b\", element=\"d16c75aa-d3e0-4d72-9368-62fb6bc7a6ab\")>,\n",
       " <selenium.webdriver.firefox.webelement.FirefoxWebElement (session=\"1e75a7b3-4c63-4e0c-b56b-7c3562f39a8b\", element=\"fb32957f-e363-4013-aaa5-2c99199bce27\")>,\n",
       " <selenium.webdriver.firefox.webelement.FirefoxWebElement (session=\"1e75a7b3-4c63-4e0c-b56b-7c3562f39a8b\", element=\"35306869-4ea0-47fe-8f13-5863ff3ddf0f\")>,\n",
       " <selenium.webdriver.firefox.webelement.FirefoxWebElement (session=\"1e75a7b3-4c63-4e0c-b56b-7c3562f39a8b\", element=\"f6d7a0d4-aa1f-44b3-bc3f-12ed6b8be187\")>,\n",
       " <selenium.webdriver.firefox.webelement.FirefoxWebElement (session=\"1e75a7b3-4c63-4e0c-b56b-7c3562f39a8b\", element=\"310edd71-ccd3-4b17-ac7e-5b82c649362b\")>,\n",
       " <selenium.webdriver.firefox.webelement.FirefoxWebElement (session=\"1e75a7b3-4c63-4e0c-b56b-7c3562f39a8b\", element=\"f173341d-8ff5-47c0-bcff-9095b59b0f27\")>,\n",
       " <selenium.webdriver.firefox.webelement.FirefoxWebElement (session=\"1e75a7b3-4c63-4e0c-b56b-7c3562f39a8b\", element=\"1c21d2db-4e7a-4158-88c5-015eaa6fb12d\")>,\n",
       " <selenium.webdriver.firefox.webelement.FirefoxWebElement (session=\"1e75a7b3-4c63-4e0c-b56b-7c3562f39a8b\", element=\"834974a6-e263-4a25-9f41-1792c1ab2166\")>,\n",
       " <selenium.webdriver.firefox.webelement.FirefoxWebElement (session=\"1e75a7b3-4c63-4e0c-b56b-7c3562f39a8b\", element=\"b3b1cb62-a8ad-4d34-b0ec-a4ffc8bbd31c\")>,\n",
       " <selenium.webdriver.firefox.webelement.FirefoxWebElement (session=\"1e75a7b3-4c63-4e0c-b56b-7c3562f39a8b\", element=\"b15ef606-d86e-4e73-9092-043227bfe329\")>,\n",
       " <selenium.webdriver.firefox.webelement.FirefoxWebElement (session=\"1e75a7b3-4c63-4e0c-b56b-7c3562f39a8b\", element=\"7daeaab6-9b0d-43c4-8043-e7d957261712\")>,\n",
       " <selenium.webdriver.firefox.webelement.FirefoxWebElement (session=\"1e75a7b3-4c63-4e0c-b56b-7c3562f39a8b\", element=\"73e63ac7-1791-4e68-b3e2-e29804c4feec\")>,\n",
       " <selenium.webdriver.firefox.webelement.FirefoxWebElement (session=\"1e75a7b3-4c63-4e0c-b56b-7c3562f39a8b\", element=\"cd17bb39-628d-4f8e-94fb-1636752abfe7\")>,\n",
       " <selenium.webdriver.firefox.webelement.FirefoxWebElement (session=\"1e75a7b3-4c63-4e0c-b56b-7c3562f39a8b\", element=\"3f00e674-b80a-40a7-9b69-621abea3b975\")>,\n",
       " <selenium.webdriver.firefox.webelement.FirefoxWebElement (session=\"1e75a7b3-4c63-4e0c-b56b-7c3562f39a8b\", element=\"d98b33c6-0641-44be-b543-ecc69bbcf5db\")>,\n",
       " <selenium.webdriver.firefox.webelement.FirefoxWebElement (session=\"1e75a7b3-4c63-4e0c-b56b-7c3562f39a8b\", element=\"1bd1a72f-ac6a-4e95-8831-85cdb848ac79\")>,\n",
       " <selenium.webdriver.firefox.webelement.FirefoxWebElement (session=\"1e75a7b3-4c63-4e0c-b56b-7c3562f39a8b\", element=\"022de57a-eecc-4b5c-87f5-8e262a979242\")>,\n",
       " <selenium.webdriver.firefox.webelement.FirefoxWebElement (session=\"1e75a7b3-4c63-4e0c-b56b-7c3562f39a8b\", element=\"f589b88b-772a-411e-8504-d3dd992e5ff0\")>,\n",
       " <selenium.webdriver.firefox.webelement.FirefoxWebElement (session=\"1e75a7b3-4c63-4e0c-b56b-7c3562f39a8b\", element=\"eb9756ee-2c5a-4490-b334-29002f81f374\")>]"
      ]
     },
     "execution_count": 12,
     "metadata": {},
     "output_type": "execute_result"
    }
   ],
   "source": [
    "#extracting the comapany names.\n",
    "company_tags= driver.find_elements_by_xpath(\"//a[@class=' css-l2wjgv e1n63ojh0 jobLink']\")\n",
    "company_tags"
   ]
  },
  {
   "cell_type": "code",
   "execution_count": 13,
   "metadata": {},
   "outputs": [
    {
     "data": {
      "text/plain": [
       "['BlackRock',\n",
       " 'BlackRock',\n",
       " 'Adobe',\n",
       " 'Techlive',\n",
       " 'abc consultants',\n",
       " 'Priority Vendor',\n",
       " 'Biz2Credit Inc',\n",
       " 'Healtheoz India',\n",
       " 'Srijan Technologies Pvt Ltd',\n",
       " 'Gauge Data Solutions',\n",
       " 'WishFin',\n",
       " 'Salasar New Age Technologies',\n",
       " 'Team Computers',\n",
       " 'Ciena',\n",
       " 'SearchUrCollege',\n",
       " 'xtLytics',\n",
       " 'MasterCard',\n",
       " 'Axslogic',\n",
       " 'Vivek Manthan Foundation',\n",
       " 'NatWest Group',\n",
       " 'JLL',\n",
       " 'Salasar New Age Technologies',\n",
       " 'RTEX HR Services Pvt. Ltd',\n",
       " 'Boston Consulting Group',\n",
       " 'ESRI, Inc.',\n",
       " 'Great Learning',\n",
       " 'Mahajan Imaging',\n",
       " 'Profisor Services',\n",
       " 'Ank Aha',\n",
       " 'Diverse Lynx India',\n",
       " 'Analytics Vidhya',\n",
       " 'American Express Global Business Travel']"
      ]
     },
     "execution_count": 13,
     "metadata": {},
     "output_type": "execute_result"
    }
   ],
   "source": [
    "for i in company_tags:\n",
    "    company=i.text\n",
    "    Comapany_name.append(company)\n",
    "Comapany_name"
   ]
  },
  {
   "cell_type": "code",
   "execution_count": 14,
   "metadata": {},
   "outputs": [
    {
     "data": {
      "text/plain": [
       "[<selenium.webdriver.firefox.webelement.FirefoxWebElement (session=\"1e75a7b3-4c63-4e0c-b56b-7c3562f39a8b\", element=\"67e2b6c5-c777-43a2-9ead-53a16a6adca5\")>,\n",
       " <selenium.webdriver.firefox.webelement.FirefoxWebElement (session=\"1e75a7b3-4c63-4e0c-b56b-7c3562f39a8b\", element=\"c6bc45a0-7c5b-48ba-b64d-996c6e876dd9\")>,\n",
       " <selenium.webdriver.firefox.webelement.FirefoxWebElement (session=\"1e75a7b3-4c63-4e0c-b56b-7c3562f39a8b\", element=\"86f8352d-1506-4123-909a-b022a07f6e6d\")>,\n",
       " <selenium.webdriver.firefox.webelement.FirefoxWebElement (session=\"1e75a7b3-4c63-4e0c-b56b-7c3562f39a8b\", element=\"d012f7f3-54a5-4454-b63e-32471bf969b4\")>,\n",
       " <selenium.webdriver.firefox.webelement.FirefoxWebElement (session=\"1e75a7b3-4c63-4e0c-b56b-7c3562f39a8b\", element=\"5fb3ee10-8ff0-498e-9dc0-026a5c33e8f7\")>,\n",
       " <selenium.webdriver.firefox.webelement.FirefoxWebElement (session=\"1e75a7b3-4c63-4e0c-b56b-7c3562f39a8b\", element=\"d0dfbd57-b3c9-4cdf-a182-9ceb6bd6de4b\")>,\n",
       " <selenium.webdriver.firefox.webelement.FirefoxWebElement (session=\"1e75a7b3-4c63-4e0c-b56b-7c3562f39a8b\", element=\"982074e6-535c-470b-8d7a-0541d60a4194\")>,\n",
       " <selenium.webdriver.firefox.webelement.FirefoxWebElement (session=\"1e75a7b3-4c63-4e0c-b56b-7c3562f39a8b\", element=\"5d100df1-829c-40c4-9427-1ddd5cf8d6a0\")>,\n",
       " <selenium.webdriver.firefox.webelement.FirefoxWebElement (session=\"1e75a7b3-4c63-4e0c-b56b-7c3562f39a8b\", element=\"7201b117-7c72-4d16-bdb4-467e41cda06d\")>,\n",
       " <selenium.webdriver.firefox.webelement.FirefoxWebElement (session=\"1e75a7b3-4c63-4e0c-b56b-7c3562f39a8b\", element=\"5400aa44-5fdd-4d8d-bfc3-3e8ebf432bd9\")>,\n",
       " <selenium.webdriver.firefox.webelement.FirefoxWebElement (session=\"1e75a7b3-4c63-4e0c-b56b-7c3562f39a8b\", element=\"2b4be415-9983-427c-af37-8dd3013c2aa5\")>,\n",
       " <selenium.webdriver.firefox.webelement.FirefoxWebElement (session=\"1e75a7b3-4c63-4e0c-b56b-7c3562f39a8b\", element=\"3b6ba6ff-3616-4f5e-9af2-ed7b56ea2169\")>,\n",
       " <selenium.webdriver.firefox.webelement.FirefoxWebElement (session=\"1e75a7b3-4c63-4e0c-b56b-7c3562f39a8b\", element=\"e9b69878-af2b-4a5f-8d65-24c666ed538a\")>,\n",
       " <selenium.webdriver.firefox.webelement.FirefoxWebElement (session=\"1e75a7b3-4c63-4e0c-b56b-7c3562f39a8b\", element=\"d46b9e2d-b5b8-4dee-83d5-bbd3f62765c3\")>,\n",
       " <selenium.webdriver.firefox.webelement.FirefoxWebElement (session=\"1e75a7b3-4c63-4e0c-b56b-7c3562f39a8b\", element=\"8bf6ae69-4007-400b-b998-c72875221a66\")>,\n",
       " <selenium.webdriver.firefox.webelement.FirefoxWebElement (session=\"1e75a7b3-4c63-4e0c-b56b-7c3562f39a8b\", element=\"d0adf3fb-4966-416c-962d-c4e8053c5c3a\")>,\n",
       " <selenium.webdriver.firefox.webelement.FirefoxWebElement (session=\"1e75a7b3-4c63-4e0c-b56b-7c3562f39a8b\", element=\"55bbb4fe-dfbf-4b14-8493-fbc0958591c7\")>,\n",
       " <selenium.webdriver.firefox.webelement.FirefoxWebElement (session=\"1e75a7b3-4c63-4e0c-b56b-7c3562f39a8b\", element=\"b49e7fbb-1f82-4659-9b28-0796c57c4d16\")>,\n",
       " <selenium.webdriver.firefox.webelement.FirefoxWebElement (session=\"1e75a7b3-4c63-4e0c-b56b-7c3562f39a8b\", element=\"4441eb1a-6649-400c-819b-8bd09076d19c\")>,\n",
       " <selenium.webdriver.firefox.webelement.FirefoxWebElement (session=\"1e75a7b3-4c63-4e0c-b56b-7c3562f39a8b\", element=\"f960736f-87dc-40fe-aa35-228d7753db11\")>,\n",
       " <selenium.webdriver.firefox.webelement.FirefoxWebElement (session=\"1e75a7b3-4c63-4e0c-b56b-7c3562f39a8b\", element=\"76fca92b-5777-494c-9863-80211d9d1df2\")>,\n",
       " <selenium.webdriver.firefox.webelement.FirefoxWebElement (session=\"1e75a7b3-4c63-4e0c-b56b-7c3562f39a8b\", element=\"ea499e56-1760-4161-ac8e-4efd9f135568\")>,\n",
       " <selenium.webdriver.firefox.webelement.FirefoxWebElement (session=\"1e75a7b3-4c63-4e0c-b56b-7c3562f39a8b\", element=\"9ad880d1-5d36-4376-918d-3f2e098e65cb\")>,\n",
       " <selenium.webdriver.firefox.webelement.FirefoxWebElement (session=\"1e75a7b3-4c63-4e0c-b56b-7c3562f39a8b\", element=\"7442e7ed-bdf7-4f4f-b652-3fe3854d0a80\")>,\n",
       " <selenium.webdriver.firefox.webelement.FirefoxWebElement (session=\"1e75a7b3-4c63-4e0c-b56b-7c3562f39a8b\", element=\"4d6cfebf-9b3a-4e74-9013-eec93cff18c3\")>,\n",
       " <selenium.webdriver.firefox.webelement.FirefoxWebElement (session=\"1e75a7b3-4c63-4e0c-b56b-7c3562f39a8b\", element=\"c92d846b-6997-4792-84b1-fd286b723aaa\")>,\n",
       " <selenium.webdriver.firefox.webelement.FirefoxWebElement (session=\"1e75a7b3-4c63-4e0c-b56b-7c3562f39a8b\", element=\"253252ee-7eff-44f2-86d0-1341724e736b\")>,\n",
       " <selenium.webdriver.firefox.webelement.FirefoxWebElement (session=\"1e75a7b3-4c63-4e0c-b56b-7c3562f39a8b\", element=\"7552b1c5-e71e-4eb3-bf05-88e94c033b83\")>,\n",
       " <selenium.webdriver.firefox.webelement.FirefoxWebElement (session=\"1e75a7b3-4c63-4e0c-b56b-7c3562f39a8b\", element=\"8ea4b083-0d80-4acf-b6d9-598741578211\")>,\n",
       " <selenium.webdriver.firefox.webelement.FirefoxWebElement (session=\"1e75a7b3-4c63-4e0c-b56b-7c3562f39a8b\", element=\"51f79652-410f-400a-a511-0e8e4ac9a21f\")>,\n",
       " <selenium.webdriver.firefox.webelement.FirefoxWebElement (session=\"1e75a7b3-4c63-4e0c-b56b-7c3562f39a8b\", element=\"efdeebfe-8ff3-4b13-8d76-1f856ecef205\")>,\n",
       " <selenium.webdriver.firefox.webelement.FirefoxWebElement (session=\"1e75a7b3-4c63-4e0c-b56b-7c3562f39a8b\", element=\"69ba0c0b-fed4-4ef3-b31b-a9dc719886dc\")>]"
      ]
     },
     "execution_count": 14,
     "metadata": {},
     "output_type": "execute_result"
    }
   ],
   "source": [
    "#extracting the No_of_days_ago.\n",
    "days= driver.find_elements_by_xpath(\"//div[@class='d-flex align-items-end pl-std css-mi55ob']\")\n",
    "days"
   ]
  },
  {
   "cell_type": "code",
   "execution_count": 15,
   "metadata": {},
   "outputs": [
    {
     "data": {
      "text/plain": [
       "['18d',\n",
       " '18d',\n",
       " '6d',\n",
       " '6d',\n",
       " '24h',\n",
       " '27d',\n",
       " '8d',\n",
       " '27d',\n",
       " '4d',\n",
       " '27d',\n",
       " '10d',\n",
       " '12d',\n",
       " '15d',\n",
       " '6d',\n",
       " '27d',\n",
       " '14d',\n",
       " '2d',\n",
       " '25d',\n",
       " '22d',\n",
       " '16d',\n",
       " '1d',\n",
       " '12d',\n",
       " '2d',\n",
       " '14d',\n",
       " '5d',\n",
       " '27d',\n",
       " '27d',\n",
       " '27d',\n",
       " '27d',\n",
       " '14d',\n",
       " '27d',\n",
       " '6d']"
      ]
     },
     "execution_count": 15,
     "metadata": {},
     "output_type": "execute_result"
    }
   ],
   "source": [
    "for i in days:\n",
    "    day=i.text\n",
    "    No_of_days_ago.append(day)\n",
    "No_of_days_ago"
   ]
  },
  {
   "cell_type": "code",
   "execution_count": 17,
   "metadata": {},
   "outputs": [
    {
     "data": {
      "text/plain": [
       "[<selenium.webdriver.firefox.webelement.FirefoxWebElement (session=\"1e75a7b3-4c63-4e0c-b56b-7c3562f39a8b\", element=\"c1697226-4662-4c0d-ad1d-d19ea008900d\")>,\n",
       " <selenium.webdriver.firefox.webelement.FirefoxWebElement (session=\"1e75a7b3-4c63-4e0c-b56b-7c3562f39a8b\", element=\"ecc6ac1b-a8c6-4fe1-b242-0fb3f7e45b83\")>,\n",
       " <selenium.webdriver.firefox.webelement.FirefoxWebElement (session=\"1e75a7b3-4c63-4e0c-b56b-7c3562f39a8b\", element=\"14c9d1d8-26a8-4455-9a3b-fca7e126b7ed\")>,\n",
       " <selenium.webdriver.firefox.webelement.FirefoxWebElement (session=\"1e75a7b3-4c63-4e0c-b56b-7c3562f39a8b\", element=\"81189fb1-6592-4abe-91b9-a59f8568b218\")>,\n",
       " <selenium.webdriver.firefox.webelement.FirefoxWebElement (session=\"1e75a7b3-4c63-4e0c-b56b-7c3562f39a8b\", element=\"37a837ca-24ad-4a39-9181-915980bd01ef\")>,\n",
       " <selenium.webdriver.firefox.webelement.FirefoxWebElement (session=\"1e75a7b3-4c63-4e0c-b56b-7c3562f39a8b\", element=\"dc8840c6-e44c-4ce9-9616-3280aa17ace7\")>,\n",
       " <selenium.webdriver.firefox.webelement.FirefoxWebElement (session=\"1e75a7b3-4c63-4e0c-b56b-7c3562f39a8b\", element=\"6646589b-01af-4bc7-a03d-f232f3a0e238\")>,\n",
       " <selenium.webdriver.firefox.webelement.FirefoxWebElement (session=\"1e75a7b3-4c63-4e0c-b56b-7c3562f39a8b\", element=\"cbf29552-e909-41bd-b71d-ade19bca9f0e\")>,\n",
       " <selenium.webdriver.firefox.webelement.FirefoxWebElement (session=\"1e75a7b3-4c63-4e0c-b56b-7c3562f39a8b\", element=\"15272bcd-b859-4a9a-a282-3afd5f3b953c\")>,\n",
       " <selenium.webdriver.firefox.webelement.FirefoxWebElement (session=\"1e75a7b3-4c63-4e0c-b56b-7c3562f39a8b\", element=\"6b5a441b-ec4f-4332-8d0c-30a3842389f4\")>,\n",
       " <selenium.webdriver.firefox.webelement.FirefoxWebElement (session=\"1e75a7b3-4c63-4e0c-b56b-7c3562f39a8b\", element=\"80674396-3381-4118-99af-f39b98886f0e\")>,\n",
       " <selenium.webdriver.firefox.webelement.FirefoxWebElement (session=\"1e75a7b3-4c63-4e0c-b56b-7c3562f39a8b\", element=\"e4c8b3a8-4e2f-4e8a-9431-1e7c8667d49d\")>,\n",
       " <selenium.webdriver.firefox.webelement.FirefoxWebElement (session=\"1e75a7b3-4c63-4e0c-b56b-7c3562f39a8b\", element=\"4d6e1724-f375-414c-981a-f41715d641e8\")>,\n",
       " <selenium.webdriver.firefox.webelement.FirefoxWebElement (session=\"1e75a7b3-4c63-4e0c-b56b-7c3562f39a8b\", element=\"14a850a3-a59d-4bcb-82ca-e78cb7c5db37\")>,\n",
       " <selenium.webdriver.firefox.webelement.FirefoxWebElement (session=\"1e75a7b3-4c63-4e0c-b56b-7c3562f39a8b\", element=\"6c4987a6-ec4f-4a30-8254-db8b0c407933\")>,\n",
       " <selenium.webdriver.firefox.webelement.FirefoxWebElement (session=\"1e75a7b3-4c63-4e0c-b56b-7c3562f39a8b\", element=\"af5c4317-5477-4615-9958-adadca66fef0\")>,\n",
       " <selenium.webdriver.firefox.webelement.FirefoxWebElement (session=\"1e75a7b3-4c63-4e0c-b56b-7c3562f39a8b\", element=\"11bc0d4b-7d15-47be-a2ba-b1bc5b65f646\")>,\n",
       " <selenium.webdriver.firefox.webelement.FirefoxWebElement (session=\"1e75a7b3-4c63-4e0c-b56b-7c3562f39a8b\", element=\"9b180437-c285-404b-b415-dd8c423a4b8b\")>,\n",
       " <selenium.webdriver.firefox.webelement.FirefoxWebElement (session=\"1e75a7b3-4c63-4e0c-b56b-7c3562f39a8b\", element=\"12452634-7c98-416a-95b9-5f6d95839ccf\")>,\n",
       " <selenium.webdriver.firefox.webelement.FirefoxWebElement (session=\"1e75a7b3-4c63-4e0c-b56b-7c3562f39a8b\", element=\"a79e8ad6-79ac-4d06-a93f-449aca8e9240\")>,\n",
       " <selenium.webdriver.firefox.webelement.FirefoxWebElement (session=\"1e75a7b3-4c63-4e0c-b56b-7c3562f39a8b\", element=\"479e983e-024c-4a31-b842-7aaeab5405e0\")>,\n",
       " <selenium.webdriver.firefox.webelement.FirefoxWebElement (session=\"1e75a7b3-4c63-4e0c-b56b-7c3562f39a8b\", element=\"11bee430-2173-498d-a5e6-5084b7ced0fe\")>,\n",
       " <selenium.webdriver.firefox.webelement.FirefoxWebElement (session=\"1e75a7b3-4c63-4e0c-b56b-7c3562f39a8b\", element=\"a90de13e-e869-4a9f-a5cd-17eb96cc3744\")>,\n",
       " <selenium.webdriver.firefox.webelement.FirefoxWebElement (session=\"1e75a7b3-4c63-4e0c-b56b-7c3562f39a8b\", element=\"79def28e-cf58-452f-bb86-7d8137791dd9\")>,\n",
       " <selenium.webdriver.firefox.webelement.FirefoxWebElement (session=\"1e75a7b3-4c63-4e0c-b56b-7c3562f39a8b\", element=\"2e4e5f62-d5f4-4051-8e7a-59134dfebc1c\")>,\n",
       " <selenium.webdriver.firefox.webelement.FirefoxWebElement (session=\"1e75a7b3-4c63-4e0c-b56b-7c3562f39a8b\", element=\"9926fbe4-26f2-4a29-888c-43606e47fa21\")>,\n",
       " <selenium.webdriver.firefox.webelement.FirefoxWebElement (session=\"1e75a7b3-4c63-4e0c-b56b-7c3562f39a8b\", element=\"8a67f00d-f447-4662-9cb3-11b643b56098\")>]"
      ]
     },
     "execution_count": 17,
     "metadata": {},
     "output_type": "execute_result"
    }
   ],
   "source": [
    "#extracting the Rating.\n",
    "rating= driver.find_elements_by_xpath(\"//span[@class='css-19pjha7 e1cjmv6j1']\")\n",
    "rating"
   ]
  },
  {
   "cell_type": "code",
   "execution_count": 18,
   "metadata": {},
   "outputs": [
    {
     "data": {
      "text/plain": [
       "['4.0',\n",
       " '4.0',\n",
       " '4.4',\n",
       " '5.0',\n",
       " '4.2',\n",
       " '3.7',\n",
       " '3.8',\n",
       " '4.8',\n",
       " '3.9',\n",
       " '3.1',\n",
       " '3.8',\n",
       " '4.2',\n",
       " '4.3',\n",
       " '3.0',\n",
       " '4.3',\n",
       " '4.3',\n",
       " '3.9',\n",
       " '4.0',\n",
       " '4.0',\n",
       " '3.9',\n",
       " '4.3',\n",
       " '4.0',\n",
       " '4.5',\n",
       " '4.0',\n",
       " '3.7',\n",
       " '4.1',\n",
       " '3.9']"
      ]
     },
     "execution_count": 18,
     "metadata": {},
     "output_type": "execute_result"
    }
   ],
   "source": [
    "for i in rating:\n",
    "    rate=i.text\n",
    "    Rating.append(rate)\n",
    "Rating"
   ]
  },
  {
   "cell_type": "code",
   "execution_count": 22,
   "metadata": {},
   "outputs": [],
   "source": [
    "#creating a data frame.\n",
    "Data_Scientist=pd.DataFrame({})\n",
    "Data_Scientist['Comapany_name'] = Comapany_name[0:10]\n",
    "Data_Scientist['Rating'] = Rating[0:10]\n",
    "Data_Scientist['No_of_days_ago'] = No_of_days_ago[0:10]"
   ]
  },
  {
   "cell_type": "code",
   "execution_count": 23,
   "metadata": {},
   "outputs": [
    {
     "data": {
      "text/html": [
       "<div>\n",
       "<style scoped>\n",
       "    .dataframe tbody tr th:only-of-type {\n",
       "        vertical-align: middle;\n",
       "    }\n",
       "\n",
       "    .dataframe tbody tr th {\n",
       "        vertical-align: top;\n",
       "    }\n",
       "\n",
       "    .dataframe thead th {\n",
       "        text-align: right;\n",
       "    }\n",
       "</style>\n",
       "<table border=\"1\" class=\"dataframe\">\n",
       "  <thead>\n",
       "    <tr style=\"text-align: right;\">\n",
       "      <th></th>\n",
       "      <th>Comapany_name</th>\n",
       "      <th>Rating</th>\n",
       "      <th>No_of_days_ago</th>\n",
       "    </tr>\n",
       "  </thead>\n",
       "  <tbody>\n",
       "    <tr>\n",
       "      <th>0</th>\n",
       "      <td>BlackRock</td>\n",
       "      <td>4.0</td>\n",
       "      <td>18d</td>\n",
       "    </tr>\n",
       "    <tr>\n",
       "      <th>1</th>\n",
       "      <td>BlackRock</td>\n",
       "      <td>4.0</td>\n",
       "      <td>18d</td>\n",
       "    </tr>\n",
       "    <tr>\n",
       "      <th>2</th>\n",
       "      <td>Adobe</td>\n",
       "      <td>4.4</td>\n",
       "      <td>6d</td>\n",
       "    </tr>\n",
       "    <tr>\n",
       "      <th>3</th>\n",
       "      <td>Techlive</td>\n",
       "      <td>5.0</td>\n",
       "      <td>6d</td>\n",
       "    </tr>\n",
       "    <tr>\n",
       "      <th>4</th>\n",
       "      <td>abc consultants</td>\n",
       "      <td>4.2</td>\n",
       "      <td>24h</td>\n",
       "    </tr>\n",
       "    <tr>\n",
       "      <th>5</th>\n",
       "      <td>Priority Vendor</td>\n",
       "      <td>3.7</td>\n",
       "      <td>27d</td>\n",
       "    </tr>\n",
       "    <tr>\n",
       "      <th>6</th>\n",
       "      <td>Biz2Credit Inc</td>\n",
       "      <td>3.8</td>\n",
       "      <td>8d</td>\n",
       "    </tr>\n",
       "    <tr>\n",
       "      <th>7</th>\n",
       "      <td>Healtheoz India</td>\n",
       "      <td>4.8</td>\n",
       "      <td>27d</td>\n",
       "    </tr>\n",
       "    <tr>\n",
       "      <th>8</th>\n",
       "      <td>Srijan Technologies Pvt Ltd</td>\n",
       "      <td>3.9</td>\n",
       "      <td>4d</td>\n",
       "    </tr>\n",
       "    <tr>\n",
       "      <th>9</th>\n",
       "      <td>Gauge Data Solutions</td>\n",
       "      <td>3.1</td>\n",
       "      <td>27d</td>\n",
       "    </tr>\n",
       "  </tbody>\n",
       "</table>\n",
       "</div>"
      ],
      "text/plain": [
       "                 Comapany_name Rating No_of_days_ago\n",
       "0                    BlackRock    4.0            18d\n",
       "1                    BlackRock    4.0            18d\n",
       "2                        Adobe    4.4             6d\n",
       "3                     Techlive    5.0             6d\n",
       "4              abc consultants    4.2            24h\n",
       "5              Priority Vendor    3.7            27d\n",
       "6               Biz2Credit Inc    3.8             8d\n",
       "7              Healtheoz India    4.8            27d\n",
       "8  Srijan Technologies Pvt Ltd    3.9             4d\n",
       "9         Gauge Data Solutions    3.1            27d"
      ]
     },
     "execution_count": 23,
     "metadata": {},
     "output_type": "execute_result"
    }
   ],
   "source": [
    "Data_Scientist"
   ]
  },
  {
   "cell_type": "code",
   "execution_count": null,
   "metadata": {},
   "outputs": [],
   "source": []
  }
 ],
 "metadata": {
  "kernelspec": {
   "display_name": "Python 3",
   "language": "python",
   "name": "python3"
  },
  "language_info": {
   "codemirror_mode": {
    "name": "ipython",
    "version": 3
   },
   "file_extension": ".py",
   "mimetype": "text/x-python",
   "name": "python",
   "nbconvert_exporter": "python",
   "pygments_lexer": "ipython3",
   "version": "3.8.3"
  }
 },
 "nbformat": 4,
 "nbformat_minor": 4
}
